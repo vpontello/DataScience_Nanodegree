{
 "cells": [
  {
   "cell_type": "markdown",
   "metadata": {},
   "source": [
    "# Practical Statistics\n",
    "\n",
    "## Data Definition\n",
    "> Distinct pieces of information\n",
    "\n",
    "## Data Types\n",
    "Quantitative and Categorical.\n",
    "* **Quantitative** data takes on numeric values that allow us to perform mathematical operations (like the number of dogs).\n",
    "* **Categorical** are used to label a group or set of items (like dog breeds - Collies, Labs, Poodles, etc.).\n",
    "\n",
    "### Categorical Ordinal vs. Categorical Nominal\n",
    "We can divide categorical data further into two types: **Ordinal** and **Nominal**.\n",
    "* **Categorical Ordinal** data take on a ranked ordering (like a ranked interaction on a scale from `Very Poor` to `Very Good` with the dogs).\n",
    "* **Categorical Nominal** data do not have an order or ranking (like the breeds of the dog).\n",
    "\n",
    "### Quantitative Continuous vs. Discrete\n",
    "We can think of quantitative data as being either continuous or discrete.\n",
    "\n",
    "* **Continuous** data can be split into smaller and smaller units, and still a smaller unit exists. An example of this is the age of the dog - we can measure the units of the age in years, months, days, hours, seconds, but there are still smaller units that could be associated with the age.\n",
    "\n",
    "* **Discrete** data only takes on countable values. The number of dogs we interact with is an example of a discrete data type.\n",
    "\n",
    "![data_types](images/data_types.PNG)\n",
    "\n",
    "### Another Look\n",
    "To break down our data types, there are two main blocks:\n",
    "\n",
    "### Quantitative and Categorical\n",
    "\n",
    "**Quantitative** can be further divided into `Continuous` or `Discrete`.<br>\n",
    "\n",
    "**Categorical** data can be divided into `Ordinal` or `Nominal`.\n",
    "\n",
    "#### Quantitative vs. Categorical\n",
    "Some of these can be a bit tricky - notice even though zip codes are a number, they aren’t really a quantitative variable. If we add two zip codes together, we do not obtain any useful information from this new value. Therefore, this is a categorical variable.<br>\n",
    "\n",
    "**Height**, **Age**, the **Number of Pages** in a Book and **Annual Income** all take on values that we can add, subtract and perform other operations with to gain useful insight. Hence, these are `quantitative`.<br>\n",
    "\n",
    "**Gender**, **Letter Grade**, **Breakfast Type**, **Marital Status**, and **Zip Code** can be thought of as labels for a group of items or individuals. Hence, these are `categorical`.\n",
    "\n",
    "#### Continuous vs. Discrete\n",
    "To consider if we have continuous or discrete data, we should see if we can split our data into smaller and smaller units. Consider time - we could measure an event in years, months, days, hours, minutes, or seconds, and even at seconds we know there are smaller units we could measure time in. Therefore, we know this data type is continuous. **Height**, **age**, and **income** are all examples of `continuous data`. Alternatively, the **number of pages** in a book, **dogs I count** outside a coffee shop, or **trees in a yard** are `discrete data`. We would not want to split our dogs in half.\n",
    "\n",
    "#### Ordinal vs. Nominal\n",
    "In looking at categorical variables, we found **Gender**, **Marital Status**, **Zip Code** and your **Breakfast items** are `nominal variables` where there is no order ranking associated with this type of data. Whether you ate cereal, toast, eggs, or only coffee for breakfast; there is no rank ordering associated with your breakfast.<br>\n",
    "\n",
    "Alternatively, the **Letter Grade** or **Survey Ratings** have a rank ordering associated with it, as `ordinal data`. If you receive an A, this is higher than an A-. An A- is ranked higher than a B+, and so on... Ordinal variables frequently occur on rating scales from very poor to very good. In many cases we turn these ordinal variables into numbers, as we can more easily analyze them, but more on this later!"
   ]
  },
  {
   "cell_type": "markdown",
   "metadata": {},
   "source": [
    "## Analyzing Quantitative Data\n",
    "\n",
    "There are four main aspects to analyzing **Quantitative** data.\n",
    "\n",
    "1. Measures of `Center`\n",
    "2. Measures of `Spread`\n",
    "3. The `Shape` of the data.\n",
    "4. `Outliers`\n",
    "\n",
    "> Analyzing **categorical data** has fewer parts to consider. Categorical data is analyzed usually be \n",
    "> 1. looking at the counts \n",
    "> 2. or proportion of individuals that fall into each group. \n",
    "> \n",
    ">For example if we were looking at the breeds of the dogs, we would care about how many dogs are of each breed, or what proportion of dogs are of each breed type.\n",
    "\n",
    "### Measures of Center\n",
    "Gives us an idea of an average element. There are three measures of center:\n",
    "1. `Mean`\n",
    "2. `Median`\n",
    "3. `Mode`\n",
    "\n",
    "#### The Mean\n",
    "The mean is often called the **average** or the **expected value** in mathematics. \n",
    "> We calculate the mean by adding all of our values together, and dividing by the number of values in our dataset.\n",
    "\n",
    "#### The Median\n",
    "The `median` splits our data so that **50% of our values are lower and 50% are higher**. We found in this video that how we calculate the median depends on if we have an even number of observations or an odd number of observations.<br>\n",
    "\n",
    "In order to compute the median we MUST sort our values first.\n",
    "\n",
    "> **For odd values**: If we have an odd number of observations, the median is simply the number in the direct middle.\n",
    "\n",
    "> **For even values**: If we have an even number of observations, the median is the average of the two values in the middle.\n",
    "\n",
    "Whether we use the `mean` or `median` to describe a dataset is largely dependent on the **shape** of our dataset and if there are any **outliers**.\n",
    "\n",
    "#### The Mode\n",
    "The mode is the most frequently observed value in our dataset.<br>\n",
    "\n",
    "> There might be multiple modes for a particular dataset, or no mode at all.\n",
    "\n",
    "* **No Mode**: If all observations in our dataset are observed with the same frequency, there is no mode. If we have the dataset:\n",
    "```\n",
    "1, 1, 2, 2, 3, 3, 4, 4\n",
    "```\n",
    "There is no mode, because all observations occur the same number of times.\n",
    "\n",
    "* **Many Modes**: If two (or more) numbers share the maximum value, then there is more than one mode. If we have the dataset:\n",
    "```\n",
    "1, 2, 3, 3, 3, 4, 5, 6, 6, 6, 7, 8, 9\n",
    "```\n",
    "There are two modes 3 and 6, because these values share the maximum frequencies at 3 times, while all other values only appear once.\n",
    "\n",
    "### Notation Capital vs. Lower case letters for variables\n",
    "**Random variables** are represented by `capital letters`. Once we observe an outcome of these random variables, we notate it as a lower case of the same letter. Like follows:\n",
    "\n",
    "`X` (capital) is the whole set of the amount of time individuals spend on the website, like: \n",
    "```\n",
    "[x1, x2, x3, x4, x5, ... , xn]\n",
    "```\n",
    "and `x` (lower) represents a single observation.<br>\n",
    "\n",
    "As a quick recap, **capital letters** signify **random variables**. When we look at **individual instances** of a particular random variable, we identify these as **lowercase letters** with subscripts attach themselves to each specific observation.\n",
    "\n",
    "![notation](images/notation.PNG)"
   ]
  },
  {
   "cell_type": "markdown",
   "metadata": {},
   "source": [
    "### Measures of Spread\n",
    "> Gives us an idea of how the elements differ and how far are points from one another.\n",
    "\n",
    "Measures of Spread are used to provide us an idea of how spread out our data are from one another. Common measures of spread include:\n",
    "\n",
    "1. **Range**\n",
    "2. **Interquartile Range (IQR)**\n",
    "3. **Standard Deviation**\n",
    "4. **Variance**\n",
    "\n",
    "#### Histograms\n",
    "Through Histograms we can understand better how the data behaves and we can have more information than the center values as the following image about the number of dogs saw shows. Both of them have about the same Mean, Median and Mode, but on the weekends there is a higher probability to find more dogs than on weekdays, and it also more likely to see less dogs than the average number on weekends compared to weekdays. Those are example of insights a histogram shows.\n",
    "![histogram](images/histogram.png) \n",
    "\n",
    "##### Quick notes\n",
    "* Pay attention to the scale of histograms when comparing them.\n",
    "* The median is the middle number and is not affected by outliers.\n",
    "* The average factors in all the numbers so outliers will bring the average towards them.\n",
    "* Left Skewed is when the graphs start with a low frequency and then slopes up. Right Skewed is when the graph starts with a high frequency and slopes down.\n",
    "\n",
    "#### Calculating the 5 Number Summary\n",
    "The five number summary consist of 5 values:\n",
    "\n",
    "1. **Minimum**: The smallest number in the dataset.\n",
    "2. **Q1**: The value such that 25% of the data fall below.\n",
    "3. **Q2**: The value such that 50% of the data fall below.\n",
    "4. **Q3**: The value such that 75% of the data fall below.\n",
    "5. **Maximum**: The largest value in the dataset.\n",
    "\n",
    "Calculating each of these values was essentially just finding the median of a bunch of different datasets.\n",
    "\n",
    "#### Range and IQR (Interquartile range)\n",
    "* The `range` is then calculated as the difference between the `maximum` and the `minimum`.\n",
    "* The `interquartile range` is calculated as the difference between `Q3` and `Q1`\n",
    "\n",
    "#### Boxplot\n",
    "Idea behind the boxplot. They are useful for quickly comparing the spread of two datasets\n",
    "\n",
    "![boxplot](images/boxplot.png)\n",
    "\n",
    "#### Standard Deviation and Variance\n",
    "The `standard deviation` is one of the most common measures for talking about the spread of data. It is defined as **the average distance of each observation from the mean**.\n",
    "\n",
    "#### Recap\n",
    "\n",
    "For datasets that are **not symmetric**, the five number summary and a corresponding box plot are a great way to get started with understanding the spread of your data. **Although I still prefer a histogram in most cases, box plots can be easier to compare two or more groups**. You will see this in the quizzes towards the end of this lesson.<br>\n",
    "\n",
    "The variance is the **average squared difference of each observation from the mean**.\n",
    "\n",
    "#### Important Final Points\n",
    "1. The `variance` is used to compare the spread of two different groups. A set of data with higher variance is more spread out than a dataset with lower variance. Be careful though, there might just be an **outlier (or outliers) that is increasing the variance**, when most of the data are actually very close.\n",
    "2. When comparing the spread between two datasets, the **units of each must be the same**.\n",
    "3. When data are related to money or the economy, higher variance (or standard deviation) is associated with higher risk.\n",
    "4. The standard deviation is used more often in practice than the variance, because it shares the units of the original dataset.\n",
    "\n"
   ]
  },
  {
   "cell_type": "markdown",
   "metadata": {},
   "source": [
    "### Shape\n",
    "\n",
    "![normal](images/normal.png)\n",
    "\n",
    "![right](images/skew_right.png)\n",
    "\n",
    "![left](images/skew_left.png)\n",
    "\n",
    "### Outliers\n",
    "We learned that `outliers` are points that fall very far from the rest of our data points. \n",
    "\n",
    "> This influences measures like the mean and standard deviation much more than measures associated with the five number summary.\n",
    "\n",
    "#### How to deal with Outliers\n",
    "1. Noting they exist and the impact on summary statistics.\n",
    "2. If typo - remove or fix\n",
    "3. Understanding why they exist, and the impact on questions we are trying to answer about our data.\n",
    "4. Reporting the 5 number summary values is often a better indication than measures like the mean and standard deviation when we have outliers.\n",
    "5. Be careful in reporting. Know how to ask the right questions.\n",
    "\n",
    "#### Outliers Advice\n",
    "Below are my guidelines for working with any column (random variable) in your dataset.\n",
    "\n",
    "1. Plot your data to identify if you have outliers.\n",
    "2. Handle outliers accordingly via the methods above.\n",
    "3. If no outliers and your data follow a normal distribution - use the mean and standard deviation to describe your dataset, and report that the data are normally distributed.\n",
    "4. If you have skewed data or outliers, use the five number summary to summarize your data and report the outliers.\n",
    "\n",
    "If you aren't sure if your data are normally distributed, there are plots called normal quantile plots and statistical methods like the [Kolmogorov-Smirnov](https://en.wikipedia.org/wiki/Kolmogorov%E2%80%93Smirnov_test) test that are aimed to help you understand whether or not your data are normally distributed."
   ]
  },
  {
   "cell_type": "markdown",
   "metadata": {},
   "source": [
    "## Simpsons Paradox\n",
    "It is so easy to get caught up in looking at full aggregates of your data. Depending on how the data is aggregated we can be led to different conclusions, so it is very important to look to the data form multiple perspectives to avoid false conclusions.\n"
   ]
  },
  {
   "cell_type": "code",
   "execution_count": 19,
   "metadata": {},
   "outputs": [],
   "source": [
    "import pandas as pd\n",
    "import numpy as np"
   ]
  },
  {
   "cell_type": "code",
   "execution_count": 38,
   "metadata": {},
   "outputs": [
    {
     "data": {
      "text/html": [
       "<div>\n",
       "<style scoped>\n",
       "    .dataframe tbody tr th:only-of-type {\n",
       "        vertical-align: middle;\n",
       "    }\n",
       "\n",
       "    .dataframe tbody tr th {\n",
       "        vertical-align: top;\n",
       "    }\n",
       "\n",
       "    .dataframe thead th {\n",
       "        text-align: right;\n",
       "    }\n",
       "</style>\n",
       "<table border=\"1\" class=\"dataframe\">\n",
       "  <thead>\n",
       "    <tr style=\"text-align: right;\">\n",
       "      <th></th>\n",
       "      <th>student_id</th>\n",
       "      <th>gender</th>\n",
       "      <th>major</th>\n",
       "      <th>admitted</th>\n",
       "    </tr>\n",
       "  </thead>\n",
       "  <tbody>\n",
       "    <tr>\n",
       "      <th>0</th>\n",
       "      <td>35377</td>\n",
       "      <td>female</td>\n",
       "      <td>Chemistry</td>\n",
       "      <td>False</td>\n",
       "    </tr>\n",
       "    <tr>\n",
       "      <th>1</th>\n",
       "      <td>56105</td>\n",
       "      <td>male</td>\n",
       "      <td>Physics</td>\n",
       "      <td>True</td>\n",
       "    </tr>\n",
       "    <tr>\n",
       "      <th>2</th>\n",
       "      <td>31441</td>\n",
       "      <td>female</td>\n",
       "      <td>Chemistry</td>\n",
       "      <td>False</td>\n",
       "    </tr>\n",
       "    <tr>\n",
       "      <th>3</th>\n",
       "      <td>51765</td>\n",
       "      <td>male</td>\n",
       "      <td>Physics</td>\n",
       "      <td>True</td>\n",
       "    </tr>\n",
       "    <tr>\n",
       "      <th>4</th>\n",
       "      <td>53714</td>\n",
       "      <td>female</td>\n",
       "      <td>Physics</td>\n",
       "      <td>True</td>\n",
       "    </tr>\n",
       "  </tbody>\n",
       "</table>\n",
       "</div>"
      ],
      "text/plain": [
       "   student_id  gender      major  admitted\n",
       "0       35377  female  Chemistry     False\n",
       "1       56105    male    Physics      True\n",
       "2       31441  female  Chemistry     False\n",
       "3       51765    male    Physics      True\n",
       "4       53714  female    Physics      True"
      ]
     },
     "execution_count": 38,
     "metadata": {},
     "output_type": "execute_result"
    }
   ],
   "source": [
    "# Load and view first few lines of dataset\n",
    "df = pd.read_csv('data/admission_data.csv')\n",
    "df.head()"
   ]
  },
  {
   "cell_type": "code",
   "execution_count": 72,
   "metadata": {},
   "outputs": [
    {
     "data": {
      "text/plain": [
       "female    0.514\n",
       "male      0.486\n",
       "Name: gender, dtype: float64"
      ]
     },
     "execution_count": 72,
     "metadata": {},
     "output_type": "execute_result"
    }
   ],
   "source": [
    "df['gender'].value_counts()/len(df)"
   ]
  },
  {
   "cell_type": "code",
   "execution_count": 40,
   "metadata": {},
   "outputs": [],
   "source": [
    "df[['male', 'female']] = pd.get_dummies(df['gender'])"
   ]
  },
  {
   "cell_type": "code",
   "execution_count": 43,
   "metadata": {},
   "outputs": [
    {
     "data": {
      "text/html": [
       "<div>\n",
       "<style scoped>\n",
       "    .dataframe tbody tr th:only-of-type {\n",
       "        vertical-align: middle;\n",
       "    }\n",
       "\n",
       "    .dataframe tbody tr th {\n",
       "        vertical-align: top;\n",
       "    }\n",
       "\n",
       "    .dataframe thead th {\n",
       "        text-align: right;\n",
       "    }\n",
       "</style>\n",
       "<table border=\"1\" class=\"dataframe\">\n",
       "  <thead>\n",
       "    <tr style=\"text-align: right;\">\n",
       "      <th></th>\n",
       "      <th>student_id</th>\n",
       "      <th>gender</th>\n",
       "      <th>major</th>\n",
       "      <th>admitted</th>\n",
       "      <th>male</th>\n",
       "      <th>female</th>\n",
       "    </tr>\n",
       "  </thead>\n",
       "  <tbody>\n",
       "    <tr>\n",
       "      <th>0</th>\n",
       "      <td>35377</td>\n",
       "      <td>female</td>\n",
       "      <td>Chemistry</td>\n",
       "      <td>False</td>\n",
       "      <td>1</td>\n",
       "      <td>0</td>\n",
       "    </tr>\n",
       "    <tr>\n",
       "      <th>1</th>\n",
       "      <td>56105</td>\n",
       "      <td>male</td>\n",
       "      <td>Physics</td>\n",
       "      <td>True</td>\n",
       "      <td>0</td>\n",
       "      <td>1</td>\n",
       "    </tr>\n",
       "    <tr>\n",
       "      <th>2</th>\n",
       "      <td>31441</td>\n",
       "      <td>female</td>\n",
       "      <td>Chemistry</td>\n",
       "      <td>False</td>\n",
       "      <td>1</td>\n",
       "      <td>0</td>\n",
       "    </tr>\n",
       "    <tr>\n",
       "      <th>3</th>\n",
       "      <td>51765</td>\n",
       "      <td>male</td>\n",
       "      <td>Physics</td>\n",
       "      <td>True</td>\n",
       "      <td>0</td>\n",
       "      <td>1</td>\n",
       "    </tr>\n",
       "    <tr>\n",
       "      <th>4</th>\n",
       "      <td>53714</td>\n",
       "      <td>female</td>\n",
       "      <td>Physics</td>\n",
       "      <td>True</td>\n",
       "      <td>1</td>\n",
       "      <td>0</td>\n",
       "    </tr>\n",
       "  </tbody>\n",
       "</table>\n",
       "</div>"
      ],
      "text/plain": [
       "   student_id  gender      major  admitted  male  female\n",
       "0       35377  female  Chemistry     False     1       0\n",
       "1       56105    male    Physics      True     0       1\n",
       "2       31441  female  Chemistry     False     1       0\n",
       "3       51765    male    Physics      True     0       1\n",
       "4       53714  female    Physics      True     1       0"
      ]
     },
     "execution_count": 43,
     "metadata": {},
     "output_type": "execute_result"
    }
   ],
   "source": [
    "df.head()"
   ]
  },
  {
   "cell_type": "code",
   "execution_count": 84,
   "metadata": {},
   "outputs": [],
   "source": [
    "df_agg = df.groupby(['major','gender']).agg({'gender':'count',\n",
    "                                             'admitted':['sum','mean']}).rename(columns={'gender':'candidates'}) \n",
    "col_names = []\n",
    "for cols in df_agg.columns:\n",
    "    new_col = '_'.join(cols)\n",
    "    col_names.append(new_col)\n",
    "# rename columns\n",
    "df_agg.columns = col_names\n",
    "\n",
    "df_agg['acceptance_rate'] = df_agg['admitted_sum'] / df_agg['candidates_count']         "
   ]
  },
  {
   "cell_type": "code",
   "execution_count": 85,
   "metadata": {},
   "outputs": [
    {
     "data": {
      "text/html": [
       "<div>\n",
       "<style scoped>\n",
       "    .dataframe tbody tr th:only-of-type {\n",
       "        vertical-align: middle;\n",
       "    }\n",
       "\n",
       "    .dataframe tbody tr th {\n",
       "        vertical-align: top;\n",
       "    }\n",
       "\n",
       "    .dataframe thead th {\n",
       "        text-align: right;\n",
       "    }\n",
       "</style>\n",
       "<table border=\"1\" class=\"dataframe\">\n",
       "  <thead>\n",
       "    <tr style=\"text-align: right;\">\n",
       "      <th></th>\n",
       "      <th></th>\n",
       "      <th>candidates_count</th>\n",
       "      <th>admitted_sum</th>\n",
       "      <th>admitted_mean</th>\n",
       "      <th>acceptance_rate</th>\n",
       "    </tr>\n",
       "    <tr>\n",
       "      <th>major</th>\n",
       "      <th>gender</th>\n",
       "      <th></th>\n",
       "      <th></th>\n",
       "      <th></th>\n",
       "      <th></th>\n",
       "    </tr>\n",
       "  </thead>\n",
       "  <tbody>\n",
       "    <tr>\n",
       "      <th rowspan=\"2\" valign=\"top\">Chemistry</th>\n",
       "      <th>female</th>\n",
       "      <td>226</td>\n",
       "      <td>51.0</td>\n",
       "      <td>0.225664</td>\n",
       "      <td>0.225664</td>\n",
       "    </tr>\n",
       "    <tr>\n",
       "      <th>male</th>\n",
       "      <td>18</td>\n",
       "      <td>2.0</td>\n",
       "      <td>0.111111</td>\n",
       "      <td>0.111111</td>\n",
       "    </tr>\n",
       "    <tr>\n",
       "      <th rowspan=\"2\" valign=\"top\">Physics</th>\n",
       "      <th>female</th>\n",
       "      <td>31</td>\n",
       "      <td>23.0</td>\n",
       "      <td>0.741935</td>\n",
       "      <td>0.741935</td>\n",
       "    </tr>\n",
       "    <tr>\n",
       "      <th>male</th>\n",
       "      <td>225</td>\n",
       "      <td>116.0</td>\n",
       "      <td>0.515556</td>\n",
       "      <td>0.515556</td>\n",
       "    </tr>\n",
       "  </tbody>\n",
       "</table>\n",
       "</div>"
      ],
      "text/plain": [
       "                  candidates_count  admitted_sum  admitted_mean  \\\n",
       "major     gender                                                  \n",
       "Chemistry female               226          51.0       0.225664   \n",
       "          male                  18           2.0       0.111111   \n",
       "Physics   female                31          23.0       0.741935   \n",
       "          male                 225         116.0       0.515556   \n",
       "\n",
       "                  acceptance_rate  \n",
       "major     gender                   \n",
       "Chemistry female         0.225664  \n",
       "          male           0.111111  \n",
       "Physics   female         0.741935  \n",
       "          male           0.515556  "
      ]
     },
     "execution_count": 85,
     "metadata": {},
     "output_type": "execute_result"
    }
   ],
   "source": [
    "df_agg.head()"
   ]
  },
  {
   "cell_type": "code",
   "execution_count": 69,
   "metadata": {},
   "outputs": [],
   "source": [
    "df_agg_1 = df.groupby(['gender']).agg({'gender':'count',\n",
    "                                             'admitted':'sum'}).rename(columns={'gender':'candidates'})     \n",
    "df_agg_1['acceptance_rate'] = df_agg_1['admitted'] / df_agg_1['candidates'] \n"
   ]
  },
  {
   "cell_type": "code",
   "execution_count": 92,
   "metadata": {},
   "outputs": [
    {
     "data": {
      "text/html": [
       "<div>\n",
       "<style scoped>\n",
       "    .dataframe tbody tr th:only-of-type {\n",
       "        vertical-align: middle;\n",
       "    }\n",
       "\n",
       "    .dataframe tbody tr th {\n",
       "        vertical-align: top;\n",
       "    }\n",
       "\n",
       "    .dataframe thead th {\n",
       "        text-align: right;\n",
       "    }\n",
       "</style>\n",
       "<table border=\"1\" class=\"dataframe\">\n",
       "  <thead>\n",
       "    <tr style=\"text-align: right;\">\n",
       "      <th></th>\n",
       "      <th>candidates</th>\n",
       "      <th>admitted</th>\n",
       "      <th>acceptance_rate</th>\n",
       "    </tr>\n",
       "    <tr>\n",
       "      <th>gender</th>\n",
       "      <th></th>\n",
       "      <th></th>\n",
       "      <th></th>\n",
       "    </tr>\n",
       "  </thead>\n",
       "  <tbody>\n",
       "    <tr>\n",
       "      <th>female</th>\n",
       "      <td>257</td>\n",
       "      <td>74.0</td>\n",
       "      <td>0.287938</td>\n",
       "    </tr>\n",
       "    <tr>\n",
       "      <th>male</th>\n",
       "      <td>243</td>\n",
       "      <td>118.0</td>\n",
       "      <td>0.485597</td>\n",
       "    </tr>\n",
       "  </tbody>\n",
       "</table>\n",
       "</div>"
      ],
      "text/plain": [
       "        candidates  admitted  acceptance_rate\n",
       "gender                                       \n",
       "female         257      74.0         0.287938\n",
       "male           243     118.0         0.485597"
      ]
     },
     "execution_count": 92,
     "metadata": {},
     "output_type": "execute_result"
    }
   ],
   "source": [
    "df_agg_1.head()"
   ]
  },
  {
   "cell_type": "code",
   "execution_count": null,
   "metadata": {},
   "outputs": [],
   "source": []
  },
  {
   "cell_type": "markdown",
   "metadata": {},
   "source": [
    "## Probability\n",
    "\n",
    "![proba](images/probability_statistics.PNG)\n",
    "\n",
    "We can get two generic rules from this:\n",
    "\n",
    "* The probability of any event must be between 0 and 1, inclusive.\n",
    "\n",
    "* The probability of the complement event is 1 minus the probability of an event. That is the probability of all other possible events is 1 minus the probability an event itself. Therefore, the sum of all possible events is equal to 1.\n",
    "\n",
    "* If our events are independent, then the probability of the string of possible events is the product of those events. That is the probability of one event AND the next AND the next event, is the product of those events."
   ]
  },
  {
   "cell_type": "markdown",
   "metadata": {},
   "source": [
    "## Binomial Distribution"
   ]
  },
  {
   "cell_type": "markdown",
   "metadata": {},
   "source": [
    "The **Binomial Distribution** helps us determine the probability of a string of independent 'coin flip like events'.<br>\n",
    "\n",
    "The [probability mass function](https://en.wikipedia.org/wiki/Probability_mass_function) associated with the binomial distribution is of the following form:\n",
    "\n",
    "![binomial_formula](images/binomial_formula.PNG)\n",
    "\n",
    "where **n** is the number of events, **x** is the number of \"successes\", and **p** is the probability of \"success\".<br>\n",
    "\n",
    "We can now use this distribution to determine the probability of things like:\n",
    "\n",
    "* The probability of 3 heads occurring in 10 flips.\n",
    "* The probability of observing 8 or more heads occurring in 10 flips.\n",
    "* The probability of not observing any heads in 20 flips."
   ]
  },
  {
   "cell_type": "markdown",
   "metadata": {},
   "source": [
    "## Conditional Probability\n",
    "In this lesson you learned about conditional probability. Often events are not independent like with coin flips and dice rolling. Instead, the outcome of one event depends on an earlier event.<br>\n",
    "\n",
    "For example, the probability of obtaining a positive test result is dependent on whether or not you have a particular condition. If you have a condition, it is more likely that a test result is positive. We can formulate conditional probabilities for any two events in the following way:\n",
    "\n",
    "![conditional_probability](images/conditional_probability.png)"
   ]
  },
  {
   "cell_type": "markdown",
   "metadata": {},
   "source": [
    "### Practical probabilty with python\n",
    "\n",
    "#### Simulating coin flips"
   ]
  },
  {
   "cell_type": "code",
   "execution_count": 34,
   "metadata": {},
   "outputs": [],
   "source": [
    "import pandas as pd\n",
    "import numpy as np\n",
    "import matplotlib.pyplot as plt\n",
    "import seaborn as sns"
   ]
  },
  {
   "cell_type": "code",
   "execution_count": 95,
   "metadata": {},
   "outputs": [
    {
     "data": {
      "text/plain": [
       "0.4978"
      ]
     },
     "execution_count": 95,
     "metadata": {},
     "output_type": "execute_result"
    }
   ],
   "source": [
    "# fair coin P(0)=0.5 and P(1)=0.5\n",
    "np.random.randint(2, size=10000).mean()   "
   ]
  },
  {
   "cell_type": "code",
   "execution_count": 99,
   "metadata": {},
   "outputs": [
    {
     "data": {
      "text/plain": [
       "0.2058"
      ]
     },
     "execution_count": 99,
     "metadata": {},
     "output_type": "execute_result"
    }
   ],
   "source": [
    "# biased coin P(0)=0.8 and P(1)=0.2\n",
    "np.random.choice([0,1], size=10000, p=[0.8, 0.2]).mean()"
   ]
  },
  {
   "cell_type": "markdown",
   "metadata": {},
   "source": [
    "##### Two fair coin flips produce exactly two heads"
   ]
  },
  {
   "cell_type": "code",
   "execution_count": 3,
   "metadata": {},
   "outputs": [
    {
     "data": {
      "text/plain": [
       "0.250328"
      ]
     },
     "execution_count": 3,
     "metadata": {},
     "output_type": "execute_result"
    }
   ],
   "source": [
    "# simulate 1 million tests of two fair coin flips\n",
    "tests = np.random.randint(2, size=(int(1e6), 2))\n",
    "\n",
    "# sums of all tests\n",
    "test_sums = tests.sum(axis=1)\n",
    "\n",
    "# proportion of tests that produced exactly two heads\n",
    "(test_sums == 0).mean()"
   ]
  },
  {
   "cell_type": "markdown",
   "metadata": {},
   "source": [
    "##### Three fair coin flips produce exactly one head"
   ]
  },
  {
   "cell_type": "code",
   "execution_count": 16,
   "metadata": {},
   "outputs": [
    {
     "data": {
      "text/plain": [
       "0.37535"
      ]
     },
     "execution_count": 16,
     "metadata": {},
     "output_type": "execute_result"
    }
   ],
   "source": [
    "# simulate 1 million tests of three fair coin flips\n",
    "tests = np.random.randint(2, size=[int(1e6), 3])\n",
    "\n",
    "# sums of all tests\n",
    "test_sums = tests.sum(axis=1)\n",
    "\n",
    "# proportion of tests that produced exactly one head\n",
    "(test_sums == 2).mean()"
   ]
  },
  {
   "cell_type": "markdown",
   "metadata": {},
   "source": [
    "##### Three biased coin flips with P(H) = 0.6 produce exactly one head"
   ]
  },
  {
   "cell_type": "code",
   "execution_count": 15,
   "metadata": {},
   "outputs": [
    {
     "data": {
      "text/plain": [
       "0.287674"
      ]
     },
     "execution_count": 15,
     "metadata": {},
     "output_type": "execute_result"
    }
   ],
   "source": [
    "# simulate 1 million tests of three biased coin flips\n",
    "# hint: use np.random.choice()\n",
    "tests = np.random.choice([0,1], size=[int(1e6),3], p=[0.6, 0.4])\n",
    "\n",
    "# sums of all tests\n",
    "test_sums = tests.sum(axis=1)\n",
    "\n",
    "# proportion of tests that produced exactly one head\n",
    "(test_sums == 2).mean()"
   ]
  },
  {
   "cell_type": "markdown",
   "metadata": {},
   "source": [
    "##### A die rolls an even number"
   ]
  },
  {
   "cell_type": "code",
   "execution_count": 12,
   "metadata": {},
   "outputs": [
    {
     "data": {
      "text/plain": [
       "0.499841"
      ]
     },
     "execution_count": 12,
     "metadata": {},
     "output_type": "execute_result"
    }
   ],
   "source": [
    "# simulate 1 million tests of one die roll\n",
    "tests = np.random.choice([1,2,3,4,5,6], size=int(1e6))\n",
    "\n",
    "# proportion of tests that produced an even number\n",
    "(tests%2==0).mean()"
   ]
  },
  {
   "cell_type": "markdown",
   "metadata": {},
   "source": [
    "##### Two dice roll a double"
   ]
  },
  {
   "cell_type": "code",
   "execution_count": 14,
   "metadata": {},
   "outputs": [
    {
     "data": {
      "text/plain": [
       "0.167164"
      ]
     },
     "execution_count": 14,
     "metadata": {},
     "output_type": "execute_result"
    }
   ],
   "source": [
    "# simulate the first million die rolls\n",
    "tests = np.random.choice([1,2,3,4,5,6], size=int(1e6))\n",
    "\n",
    "# simulate the second million die rolls\n",
    "second = np.random.choice([1,2,3,4,5,6], size=int(1e6))\n",
    "\n",
    "# proportion of tests where the 1st and 2nd die rolled the same number\n",
    "(tests == second).mean()"
   ]
  },
  {
   "cell_type": "markdown",
   "metadata": {},
   "source": [
    "#### Binomial distributions\n",
    "##### Simulation of 10.000 throws of a fair coin"
   ]
  },
  {
   "cell_type": "code",
   "execution_count": 30,
   "metadata": {},
   "outputs": [],
   "source": [
    "tests = np.random.binomial(n=10, p=0.5, size=int(10000))"
   ]
  },
  {
   "cell_type": "code",
   "execution_count": 32,
   "metadata": {},
   "outputs": [
    {
     "data": {
      "text/plain": [
       "5.0057"
      ]
     },
     "execution_count": 32,
     "metadata": {},
     "output_type": "execute_result"
    }
   ],
   "source": [
    "# number of heads outcome\n",
    "tests.mean()"
   ]
  },
  {
   "cell_type": "code",
   "execution_count": 33,
   "metadata": {},
   "outputs": [
    {
     "data": {
      "text/plain": [
       "(array([  15.,  106.,  448., 1099., 2051., 2495., 2082., 1161.,  439.,\n",
       "         104.]),\n",
       " array([ 0.,  1.,  2.,  3.,  4.,  5.,  6.,  7.,  8.,  9., 10.]),\n",
       " <BarContainer object of 10 artists>)"
      ]
     },
     "execution_count": 33,
     "metadata": {},
     "output_type": "execute_result"
    },
    {
     "data": {
      "image/png": "[encoded data removed]",
      "text/plain": [
       "<Figure size 432x288 with 1 Axes>"
      ]
     },
     "metadata": {
      "needs_background": "light"
     },
     "output_type": "display_data"
    }
   ],
   "source": [
    "plt.hist(tests)"
   ]
  },
  {
   "cell_type": "markdown",
   "metadata": {},
   "source": [
    "##### A fair coin flip produces heads"
   ]
  },
  {
   "cell_type": "code",
   "execution_count": 34,
   "metadata": {},
   "outputs": [
    {
     "data": {
      "text/plain": [
       "0.499375"
      ]
     },
     "execution_count": 34,
     "metadata": {},
     "output_type": "execute_result"
    }
   ],
   "source": [
    "# simulate 1 million tests of one fair coin flip\n",
    "# remember, the output of these tests are the # successes, or # heads\n",
    "tests = np.random.binomial(1, 0.5, int(1e6))\n",
    "\n",
    "# proportion of tests that produced heads\n",
    "(tests == 1).mean()"
   ]
  },
  {
   "cell_type": "markdown",
   "metadata": {},
   "source": [
    "##### Five fair coin flips produce exactly one head"
   ]
  },
  {
   "cell_type": "code",
   "execution_count": 37,
   "metadata": {},
   "outputs": [
    {
     "data": {
      "text/plain": [
       "0.156092"
      ]
     },
     "execution_count": 37,
     "metadata": {},
     "output_type": "execute_result"
    }
   ],
   "source": [
    "# simulate 1 million tests of five fair coin flips\n",
    "tests = np.random.binomial(5, 0.5, size=int(1e6))\n",
    "\n",
    "# proportion of tests that produced 1 head\n",
    "(tests == 1).mean()"
   ]
  },
  {
   "cell_type": "code",
   "execution_count": 45,
   "metadata": {},
   "outputs": [
    {
     "data": {
      "text/plain": [
       "0.15625"
      ]
     },
     "execution_count": 45,
     "metadata": {},
     "output_type": "execute_result"
    }
   ],
   "source": [
    "5*0.5**5"
   ]
  },
  {
   "cell_type": "markdown",
   "metadata": {},
   "source": [
    "##### Ten fair coin flips produce exactly four heads"
   ]
  },
  {
   "cell_type": "code",
   "execution_count": 42,
   "metadata": {},
   "outputs": [
    {
     "data": {
      "text/plain": [
       "0.204855"
      ]
     },
     "execution_count": 42,
     "metadata": {},
     "output_type": "execute_result"
    }
   ],
   "source": [
    "# simulate 1 million tests of ten fair coin flips\n",
    "tests = np.random.binomial(10, 0.5, size=int(1e6))\n",
    "\n",
    "# proportion of tests that produced 4 heads\n",
    "(tests == 4).mean()"
   ]
  },
  {
   "cell_type": "code",
   "execution_count": 44,
   "metadata": {},
   "outputs": [
    {
     "data": {
      "text/plain": [
       "0.205078125"
      ]
     },
     "execution_count": 44,
     "metadata": {},
     "output_type": "execute_result"
    }
   ],
   "source": [
    "(70*9/3)*(0.5**10)"
   ]
  },
  {
   "cell_type": "markdown",
   "metadata": {},
   "source": [
    "##### Five biased coin flips with P(H) = 0.8 produce exactly five heads"
   ]
  },
  {
   "cell_type": "code",
   "execution_count": 46,
   "metadata": {},
   "outputs": [
    {
     "data": {
      "text/plain": [
       "0.328231"
      ]
     },
     "execution_count": 46,
     "metadata": {},
     "output_type": "execute_result"
    }
   ],
   "source": [
    "# simulate 1 million tests of five biased coin flips\n",
    "tests = np.random.binomial(5, 0.8, size=int(1e6))\n",
    "\n",
    "# proportion of tests that produced 5 heads\n",
    "(tests == 5).mean()"
   ]
  },
  {
   "cell_type": "code",
   "execution_count": 47,
   "metadata": {},
   "outputs": [
    {
     "data": {
      "text/plain": [
       "0.3276800000000001"
      ]
     },
     "execution_count": 47,
     "metadata": {},
     "output_type": "execute_result"
    }
   ],
   "source": [
    "0.8**5"
   ]
  },
  {
   "cell_type": "markdown",
   "metadata": {},
   "source": [
    "##### Ten biased coin flips with P(H) = 0.15 produce at least 3 heads"
   ]
  },
  {
   "cell_type": "code",
   "execution_count": 59,
   "metadata": {},
   "outputs": [
    {
     "data": {
      "text/plain": [
       "0.180066"
      ]
     },
     "execution_count": 59,
     "metadata": {},
     "output_type": "execute_result"
    }
   ],
   "source": [
    "# simulate 1 million tests of ten biased coin flips\n",
    "tests = np.random.binomial(10, 0.15, size=int(1e6))\n",
    "\n",
    "# proportion of tests that produced at least 3 heads\n",
    "(tests >= 3).mean()"
   ]
  },
  {
   "cell_type": "code",
   "execution_count": 69,
   "metadata": {},
   "outputs": [
    {
     "data": {
      "text/plain": [
       "0.17980351963242214"
      ]
     },
     "execution_count": 69,
     "metadata": {},
     "output_type": "execute_result"
    }
   ],
   "source": [
    "1 - (np.math.factorial(10)/np.math.factorial(8)/np.math.factorial(2)*0.15**2*0.85**8 + \\\n",
    "np.math.factorial(10)/np.math.factorial(9)/np.math.factorial(1)*0.15**1*0.85**9 + \\\n",
    "0.15**0*0.85**10)       "
   ]
  },
  {
   "cell_type": "markdown",
   "metadata": {},
   "source": [
    "#### Excercise: Cancer Test Results"
   ]
  },
  {
   "cell_type": "code",
   "execution_count": 4,
   "metadata": {},
   "outputs": [],
   "source": [
    "df = pd.read_csv('data/cancer_test_data.csv')"
   ]
  },
  {
   "cell_type": "code",
   "execution_count": 5,
   "metadata": {},
   "outputs": [
    {
     "data": {
      "text/html": [
       "<div>\n",
       "<style scoped>\n",
       "    .dataframe tbody tr th:only-of-type {\n",
       "        vertical-align: middle;\n",
       "    }\n",
       "\n",
       "    .dataframe tbody tr th {\n",
       "        vertical-align: top;\n",
       "    }\n",
       "\n",
       "    .dataframe thead th {\n",
       "        text-align: right;\n",
       "    }\n",
       "</style>\n",
       "<table border=\"1\" class=\"dataframe\">\n",
       "  <thead>\n",
       "    <tr style=\"text-align: right;\">\n",
       "      <th></th>\n",
       "      <th>patient_id</th>\n",
       "      <th>test_result</th>\n",
       "      <th>has_cancer</th>\n",
       "    </tr>\n",
       "  </thead>\n",
       "  <tbody>\n",
       "    <tr>\n",
       "      <th>0</th>\n",
       "      <td>79452</td>\n",
       "      <td>Negative</td>\n",
       "      <td>False</td>\n",
       "    </tr>\n",
       "    <tr>\n",
       "      <th>1</th>\n",
       "      <td>81667</td>\n",
       "      <td>Positive</td>\n",
       "      <td>True</td>\n",
       "    </tr>\n",
       "    <tr>\n",
       "      <th>2</th>\n",
       "      <td>76297</td>\n",
       "      <td>Negative</td>\n",
       "      <td>False</td>\n",
       "    </tr>\n",
       "    <tr>\n",
       "      <th>3</th>\n",
       "      <td>36593</td>\n",
       "      <td>Negative</td>\n",
       "      <td>False</td>\n",
       "    </tr>\n",
       "    <tr>\n",
       "      <th>4</th>\n",
       "      <td>53717</td>\n",
       "      <td>Negative</td>\n",
       "      <td>False</td>\n",
       "    </tr>\n",
       "  </tbody>\n",
       "</table>\n",
       "</div>"
      ],
      "text/plain": [
       "   patient_id test_result  has_cancer\n",
       "0       79452    Negative       False\n",
       "1       81667    Positive        True\n",
       "2       76297    Negative       False\n",
       "3       36593    Negative       False\n",
       "4       53717    Negative       False"
      ]
     },
     "execution_count": 5,
     "metadata": {},
     "output_type": "execute_result"
    }
   ],
   "source": [
    "df.head()"
   ]
  },
  {
   "cell_type": "code",
   "execution_count": 6,
   "metadata": {},
   "outputs": [
    {
     "data": {
      "text/html": [
       "<div>\n",
       "<style scoped>\n",
       "    .dataframe tbody tr th:only-of-type {\n",
       "        vertical-align: middle;\n",
       "    }\n",
       "\n",
       "    .dataframe tbody tr th {\n",
       "        vertical-align: top;\n",
       "    }\n",
       "\n",
       "    .dataframe thead th {\n",
       "        text-align: right;\n",
       "    }\n",
       "</style>\n",
       "<table border=\"1\" class=\"dataframe\">\n",
       "  <thead>\n",
       "    <tr style=\"text-align: right;\">\n",
       "      <th></th>\n",
       "      <th>patient_id</th>\n",
       "    </tr>\n",
       "  </thead>\n",
       "  <tbody>\n",
       "    <tr>\n",
       "      <th>count</th>\n",
       "      <td>2914.000000</td>\n",
       "    </tr>\n",
       "    <tr>\n",
       "      <th>mean</th>\n",
       "      <td>56196.837337</td>\n",
       "    </tr>\n",
       "    <tr>\n",
       "      <th>std</th>\n",
       "      <td>15341.382912</td>\n",
       "    </tr>\n",
       "    <tr>\n",
       "      <th>min</th>\n",
       "      <td>29304.000000</td>\n",
       "    </tr>\n",
       "    <tr>\n",
       "      <th>25%</th>\n",
       "      <td>42873.000000</td>\n",
       "    </tr>\n",
       "    <tr>\n",
       "      <th>50%</th>\n",
       "      <td>55957.500000</td>\n",
       "    </tr>\n",
       "    <tr>\n",
       "      <th>75%</th>\n",
       "      <td>69730.500000</td>\n",
       "    </tr>\n",
       "    <tr>\n",
       "      <th>max</th>\n",
       "      <td>82300.000000</td>\n",
       "    </tr>\n",
       "  </tbody>\n",
       "</table>\n",
       "</div>"
      ],
      "text/plain": [
       "         patient_id\n",
       "count   2914.000000\n",
       "mean   56196.837337\n",
       "std    15341.382912\n",
       "min    29304.000000\n",
       "25%    42873.000000\n",
       "50%    55957.500000\n",
       "75%    69730.500000\n",
       "max    82300.000000"
      ]
     },
     "execution_count": 6,
     "metadata": {},
     "output_type": "execute_result"
    }
   ],
   "source": [
    "df.describe()"
   ]
  },
  {
   "cell_type": "code",
   "execution_count": 7,
   "metadata": {},
   "outputs": [
    {
     "data": {
      "text/plain": [
       "False    2608\n",
       "True      306\n",
       "Name: has_cancer, dtype: int64"
      ]
     },
     "execution_count": 7,
     "metadata": {},
     "output_type": "execute_result"
    }
   ],
   "source": [
    "df['has_cancer'].value_counts()"
   ]
  },
  {
   "cell_type": "code",
   "execution_count": 8,
   "metadata": {},
   "outputs": [
    {
     "data": {
      "text/plain": [
       "False    0.89499\n",
       "True     0.10501\n",
       "Name: has_cancer, dtype: float64"
      ]
     },
     "execution_count": 8,
     "metadata": {},
     "output_type": "execute_result"
    }
   ],
   "source": [
    "df['has_cancer'].value_counts()/len(df)"
   ]
  },
  {
   "cell_type": "code",
   "execution_count": 9,
   "metadata": {},
   "outputs": [
    {
     "data": {
      "text/plain": [
       "Negative    2106\n",
       "Positive     808\n",
       "Name: test_result, dtype: int64"
      ]
     },
     "execution_count": 9,
     "metadata": {},
     "output_type": "execute_result"
    }
   ],
   "source": [
    "df['test_result'].value_counts()"
   ]
  },
  {
   "cell_type": "code",
   "execution_count": 10,
   "metadata": {},
   "outputs": [
    {
     "data": {
      "text/plain": [
       "Negative    0.722718\n",
       "Positive    0.277282\n",
       "Name: test_result, dtype: float64"
      ]
     },
     "execution_count": 10,
     "metadata": {},
     "output_type": "execute_result"
    }
   ],
   "source": [
    "df['test_result'].value_counts()/len(df)"
   ]
  },
  {
   "cell_type": "code",
   "execution_count": 19,
   "metadata": {},
   "outputs": [
    {
     "data": {
      "text/plain": [
       "0.9052287581699346"
      ]
     },
     "execution_count": 19,
     "metadata": {},
     "output_type": "execute_result"
    }
   ],
   "source": [
    "# What proportion of patients with cancer test positive?\n",
    "df.query('test_result==\"Positive\" and has_cancer==True').shape[0]/df.query('has_cancer==True').shape[0]"
   ]
  },
  {
   "cell_type": "code",
   "execution_count": 20,
   "metadata": {},
   "outputs": [
    {
     "data": {
      "text/plain": [
       "0.09477124183006536"
      ]
     },
     "execution_count": 20,
     "metadata": {},
     "output_type": "execute_result"
    }
   ],
   "source": [
    "# What proportion of patients with cancer test negative?\n",
    "df.query('test_result==\"Negative\" and has_cancer==True').shape[0]/df.query('has_cancer==True').shape[0]"
   ]
  },
  {
   "cell_type": "code",
   "execution_count": 21,
   "metadata": {},
   "outputs": [
    {
     "data": {
      "text/plain": [
       "0.2036042944785276"
      ]
     },
     "execution_count": 21,
     "metadata": {},
     "output_type": "execute_result"
    }
   ],
   "source": [
    "# What proportion of patients without cancer test positive?\n",
    "df.query('test_result==\"Positive\" and has_cancer==False').shape[0]/df.query('has_cancer==False').shape[0]"
   ]
  },
  {
   "cell_type": "code",
   "execution_count": 22,
   "metadata": {},
   "outputs": [
    {
     "data": {
      "text/plain": [
       "0.7963957055214724"
      ]
     },
     "execution_count": 22,
     "metadata": {},
     "output_type": "execute_result"
    }
   ],
   "source": [
    "# What proportion of patients without cancer test negative?\n",
    "df.query('test_result==\"Negative\" and has_cancer==False').shape[0]/df.query('has_cancer==False').shape[0]"
   ]
  },
  {
   "cell_type": "markdown",
   "metadata": {},
   "source": [
    "![cancer_exercise](images/conditional_probability_cancer_exercise.PNG)"
   ]
  },
  {
   "cell_type": "code",
   "execution_count": 27,
   "metadata": {},
   "outputs": [],
   "source": [
    "# What proportion of patients with cancer\n",
    "has_cancer = df.query('has_cancer==True').shape[0]/df.shape[0]\n",
    "# What proportion of patients without cancer\n",
    "has_no_cancer = df.query('has_cancer==False').shape[0]/df.shape[0]\n",
    "# What proportion of patients with cancer test positive?\n",
    "has_cancer_pos = df.query('test_result==\"Positive\" and has_cancer==True').shape[0]/df.query('has_cancer==True').shape[0]\n",
    "# What proportion of patients with cancer test negative?\n",
    "has_cancer_neg = df.query('test_result==\"Negative\" and has_cancer==True').shape[0]/df.query('has_cancer==True').shape[0]\n",
    "# What proportion of patients without cancer test positive?\n",
    "has_no_cancer_pos = df.query('test_result==\"Positive\" and has_cancer==False').shape[0]/df.query('has_cancer==False').shape[0]\n",
    "# What proportion of patients without cancer test negative?\n",
    "has_no_cancer_neg = df.query('test_result==\"Negative\" and has_cancer==False').shape[0]/df.query('has_cancer==False').shape[0]"
   ]
  },
  {
   "cell_type": "code",
   "execution_count": 37,
   "metadata": {},
   "outputs": [],
   "source": [
    "def cancer_given_positive(has_cancer_pos, has_cancer, has_no_cancer_pos, has_no_cancer):\n",
    "    '''\n",
    "    P(cancer|positive)\n",
    "    '''\n",
    "    result = has_cancer_pos*has_cancer/(has_cancer_pos*has_cancer + has_no_cancer_pos*has_no_cancer)\n",
    "    return result"
   ]
  },
  {
   "cell_type": "code",
   "execution_count": 28,
   "metadata": {},
   "outputs": [
    {
     "data": {
      "text/plain": [
       "0.34282178217821785"
      ]
     },
     "execution_count": 28,
     "metadata": {},
     "output_type": "execute_result"
    }
   ],
   "source": [
    "# P(cancer|positive)\n",
    "cancer_given_positive(has_cancer_pos, has_cancer, has_no_cancer_pos, has_no_cancer)"
   ]
  },
  {
   "cell_type": "code",
   "execution_count": 40,
   "metadata": {},
   "outputs": [],
   "source": [
    "def no_cancer_given_positive(has_no_cancer_pos, has_no_cancer, has_cancer_pos, has_cancer):\n",
    "    '''\n",
    "    P(~cancer|positive)\n",
    "    '''\n",
    "    result = has_no_cancer_pos*has_no_cancer/(has_cancer_pos*has_cancer + has_no_cancer_pos*has_no_cancer)\n",
    "    return result"
   ]
  },
  {
   "cell_type": "code",
   "execution_count": 42,
   "metadata": {},
   "outputs": [
    {
     "data": {
      "text/plain": [
       "0.6571782178217822"
      ]
     },
     "execution_count": 42,
     "metadata": {},
     "output_type": "execute_result"
    }
   ],
   "source": [
    "# P(~cancer|positive)\n",
    "no_cancer_given_positive(has_no_cancer_pos, has_no_cancer, has_cancer_pos, has_cancer)"
   ]
  },
  {
   "cell_type": "code",
   "execution_count": 43,
   "metadata": {},
   "outputs": [],
   "source": [
    "def cancer_given_negative(has_cancer_neg, has_cancer, has_no_cancer_neg, has_no_cancer):\n",
    "    '''\n",
    "    P(cancer|negative)\n",
    "    '''\n",
    "    result = has_cancer_neg*has_cancer/(has_cancer_neg*has_cancer + has_no_cancer_neg*has_no_cancer)\n",
    "    return result"
   ]
  },
  {
   "cell_type": "code",
   "execution_count": 45,
   "metadata": {},
   "outputs": [
    {
     "data": {
      "text/plain": [
       "0.013770180436847102"
      ]
     },
     "execution_count": 45,
     "metadata": {},
     "output_type": "execute_result"
    }
   ],
   "source": [
    "# P(cancer|negative)\n",
    "cancer_given_negative(has_cancer_neg, has_cancer, has_no_cancer_neg, has_no_cancer)"
   ]
  },
  {
   "cell_type": "code",
   "execution_count": 46,
   "metadata": {},
   "outputs": [],
   "source": [
    "def no_cancer_given_negative(has_no_cancer_neg, has_no_cancer, has_cancer_neg, has_cancer):\n",
    "    '''\n",
    "    P(~cancer|negative)\n",
    "    '''\n",
    "    result = has_no_cancer_neg*has_no_cancer / (has_no_cancer_neg*has_no_cancer + has_cancer_neg*has_cancer) \n",
    "    return result"
   ]
  },
  {
   "cell_type": "code",
   "execution_count": 48,
   "metadata": {},
   "outputs": [
    {
     "data": {
      "text/plain": [
       "0.9862298195631529"
      ]
     },
     "execution_count": 48,
     "metadata": {},
     "output_type": "execute_result"
    }
   ],
   "source": [
    "# P(~cancer|negative)\n",
    "no_cancer_given_negative(has_no_cancer_neg, has_no_cancer, has_cancer_neg, has_cancer)"
   ]
  },
  {
   "cell_type": "markdown",
   "metadata": {},
   "source": [
    "#### Exercise: Conditional Probability & Bayes Rule Quiz"
   ]
  },
  {
   "cell_type": "code",
   "execution_count": 50,
   "metadata": {},
   "outputs": [],
   "source": [
    "# What proportion of patients with cancer\n",
    "has_cancer = 0.105\n",
    "# What proportion of patients without cancer\n",
    "has_no_cancer = 0.895\n",
    "# What proportion of patients with cancer test positive?\n",
    "has_cancer_pos = 0.905\n",
    "# What proportion of patients with cancer test negative?\n",
    "has_cancer_neg = 0.095\n",
    "# What proportion of patients without cancer test positive?\n",
    "has_no_cancer_pos = 0.204\n",
    "# What proportion of patients without cancer test negative?\n",
    "has_no_cancer_neg = 0.796"
   ]
  },
  {
   "cell_type": "code",
   "execution_count": 51,
   "metadata": {},
   "outputs": [
    {
     "data": {
      "text/plain": [
       "0.34230291241151994"
      ]
     },
     "execution_count": 51,
     "metadata": {},
     "output_type": "execute_result"
    }
   ],
   "source": [
    "# P(cancer|positive)\n",
    "cancer_given_positive(has_cancer_pos, has_cancer, has_no_cancer_pos, has_no_cancer)"
   ]
  },
  {
   "cell_type": "code",
   "execution_count": 52,
   "metadata": {},
   "outputs": [
    {
     "data": {
      "text/plain": [
       "0.65769708758848"
      ]
     },
     "execution_count": 52,
     "metadata": {},
     "output_type": "execute_result"
    }
   ],
   "source": [
    "# P(~cancer|positive)\n",
    "no_cancer_given_positive(has_no_cancer_pos, has_no_cancer, has_cancer_pos, has_cancer)"
   ]
  },
  {
   "cell_type": "code",
   "execution_count": 53,
   "metadata": {},
   "outputs": [
    {
     "data": {
      "text/plain": [
       "0.013808235106832134"
      ]
     },
     "execution_count": 53,
     "metadata": {},
     "output_type": "execute_result"
    }
   ],
   "source": [
    "# P(cancer|negative)\n",
    "cancer_given_negative(has_cancer_neg, has_cancer, has_no_cancer_neg, has_no_cancer)"
   ]
  },
  {
   "cell_type": "code",
   "execution_count": 54,
   "metadata": {},
   "outputs": [
    {
     "data": {
      "text/plain": [
       "0.986191764893168"
      ]
     },
     "execution_count": 54,
     "metadata": {},
     "output_type": "execute_result"
    }
   ],
   "source": [
    "# P(~cancer|negative)\n",
    "no_cancer_given_negative(has_no_cancer_neg, has_no_cancer, has_cancer_neg, has_cancer)"
   ]
  },
  {
   "cell_type": "markdown",
   "metadata": {},
   "source": [
    "## Normal Distribution\n",
    "\n",
    "![normal_distribution](images/normal_distribution_lesson.png)"
   ]
  },
  {
   "cell_type": "markdown",
   "metadata": {},
   "source": [
    "## Inferential Statistics\n",
    "Drawing conclusions about a population based on data collected from a sample of individuals from that population.\n",
    "### Descriptive vs. Inferential Statistics\n",
    "\n",
    "1. **Descriptive Statistics**\n",
    "    * `Descriptive statistics` **is about describing our collected data** using the measures discussed throughout this lesson: measures of center, measures of spread, shape of our distribution, and outliers. We can also use plots of our data to gain a better understanding.\n",
    "2. **Inferential Statistic**\n",
    "    * `Inferential Statistics` **is about using our collected data to draw conclusions to a larger population**. Performing inferential statistics well requires that we take a sample that accurately represents our population of interest.\n",
    "\n",
    "A common way to collect data is via a survey. However, surveys may be extremely biased depending on the types of questions that are asked, and the way the questions are asked. This is a topic you should think about when tackling the first project.<br>\n",
    "\n",
    "We looked at specific examples that allowed us to identify the\n",
    "1. **Population** - our entire group of interest.\n",
    "2. **Parameter** - numeric summary about a population\n",
    "3. **Sample** - subset of the population\n",
    "4. **Statistic** numeric summary about a sample\n",
    "\n",
    "Statistics and parameters are generally the mean or proportion for a group. Statistics being the value for the sample. Parameters being the value for the population. The population is our entire group of interest, while a sample is the selected subset of the population.\n",
    "\n",
    "### Sampling Distribution\n",
    "\n",
    "We found that for proportions (and also means, as proportions are just the mean of 1 and 0 values), the following characteristics hold.<br>\n",
    "\n",
    "The sampling distribution is centered on the original parameter value.<br>\n",
    "\n",
    "The sampling distribution decreases its variance depending on the sample size used. Specifically, the variance of the sampling distribution is equal to the variance of the original data divided by the sample size used. This is always true for the variance of a sample mean!<br>\n",
    "\n",
    "Creation of a sampling distribution."
   ]
  },
  {
   "cell_type": "code",
   "execution_count": 58,
   "metadata": {},
   "outputs": [],
   "source": [
    "import numpy as np\n",
    "np.random.seed(42)\n",
    "\n",
    "# 1 represents the students that drink coffee, and 0 represents the students that do not drink coffee.\n",
    "students = np.array([1,0,1,1,1,1,0,0,0,0,1,1,1,1,1,1,1,1,1,1,0])"
   ]
  },
  {
   "cell_type": "markdown",
   "metadata": {},
   "source": [
    "1. Find the proportion of students who drink coffee in the above array. Store this value in a variable `p`."
   ]
  },
  {
   "cell_type": "code",
   "execution_count": 3,
   "metadata": {},
   "outputs": [
    {
     "name": "stdout",
     "output_type": "stream",
     "text": [
      "0.7142857142857143\n"
     ]
    }
   ],
   "source": [
    "p = students.mean()\n",
    "print(p)"
   ]
  },
  {
   "cell_type": "markdown",
   "metadata": {},
   "source": [
    "2. Use numpy's `random.choice` to simulate 5 draws from the students array. What is proportion of your sample drink coffee?"
   ]
  },
  {
   "cell_type": "code",
   "execution_count": 59,
   "metadata": {},
   "outputs": [
    {
     "name": "stdout",
     "output_type": "stream",
     "text": [
      "0.6\n"
     ]
    }
   ],
   "source": [
    "pe = np.random.choice(students, size=5).mean()\n",
    "print(pe)"
   ]
  },
  {
   "cell_type": "markdown",
   "metadata": {},
   "source": [
    "3. Repeat the above to obtain 10,000 additional proportions, where each sample was of size 5. Store these in a variable called `sample_props`."
   ]
  },
  {
   "cell_type": "code",
   "execution_count": 25,
   "metadata": {},
   "outputs": [],
   "source": [
    "sample_props = np.random.choice(students, size=10000)"
   ]
  },
  {
   "cell_type": "markdown",
   "metadata": {},
   "source": [
    "4. What is the mean proportion of all 10,000 of these proportions? This is often called **the mean of the sampling distribution**."
   ]
  },
  {
   "cell_type": "code",
   "execution_count": 26,
   "metadata": {},
   "outputs": [
    {
     "name": "stdout",
     "output_type": "stream",
     "text": [
      "0.7048\n"
     ]
    }
   ],
   "source": [
    "print(sample_props.mean())"
   ]
  },
  {
   "cell_type": "markdown",
   "metadata": {},
   "source": [
    "5. What are the variance and standard deviation for the original 21 data values?"
   ]
  },
  {
   "cell_type": "code",
   "execution_count": 23,
   "metadata": {},
   "outputs": [
    {
     "name": "stdout",
     "output_type": "stream",
     "text": [
      "varicance: 0.20408163265306126\n",
      "std: 0.45175395145262565\n"
     ]
    }
   ],
   "source": [
    "print(f'varicance: {students.var()}\\nstd: {students.std()}')"
   ]
  },
  {
   "cell_type": "markdown",
   "metadata": {},
   "source": [
    "6. What are the variance and standard deviation for the 10,000 proportions you created?"
   ]
  },
  {
   "cell_type": "code",
   "execution_count": 27,
   "metadata": {},
   "outputs": [
    {
     "name": "stdout",
     "output_type": "stream",
     "text": [
      "varicance: 0.20805695999999999\n",
      "std: 0.4561326122960295\n"
     ]
    }
   ],
   "source": [
    "print(f'varicance: {sample_props.var()}\\nstd: {sample_props.std()}')"
   ]
  },
  {
   "cell_type": "markdown",
   "metadata": {},
   "source": [
    "7. Compute p(1-p), which of your answers does this most closely match?"
   ]
  },
  {
   "cell_type": "code",
   "execution_count": 29,
   "metadata": {},
   "outputs": [
    {
     "data": {
      "text/plain": [
       "0.20408163265306123"
      ]
     },
     "execution_count": 29,
     "metadata": {},
     "output_type": "execute_result"
    }
   ],
   "source": [
    "p*(1-p)"
   ]
  },
  {
   "cell_type": "code",
   "execution_count": 30,
   "metadata": {},
   "outputs": [
    {
     "data": {
      "text/plain": [
       "0.20805696"
      ]
     },
     "execution_count": 30,
     "metadata": {},
     "output_type": "execute_result"
    }
   ],
   "source": [
    "pe = sample_props.mean()\n",
    "pe*(1-pe)"
   ]
  },
  {
   "cell_type": "markdown",
   "metadata": {},
   "source": [
    "8. Compute p(1-p)/n, which of your answers does this most closely match? Answ: The new generated distribution"
   ]
  },
  {
   "cell_type": "code",
   "execution_count": 31,
   "metadata": {},
   "outputs": [
    {
     "name": "stdout",
     "output_type": "stream",
     "text": [
      "0.009718172983479106\n",
      "2.0805696000000002e-05\n"
     ]
    }
   ],
   "source": [
    "print(p*(1-p)/students.shape[0])\n",
    "\n",
    "print(pe*(1-pe)/sample_props.shape[0])"
   ]
  },
  {
   "cell_type": "markdown",
   "metadata": {},
   "source": [
    "9. Notice that your answer to 8. is commonly called the variance of the sampling distribution. If you were to change your first sample to be 20, what would this do for the variance of the sampling distribution? Simulate and calculate the new answers in 6. and 8. to check that the consistency you found before still holds. Answer: The variance and standard deviation are not significativelly influenced, but the variance of sampling distribution is."
   ]
  },
  {
   "cell_type": "code",
   "execution_count": 33,
   "metadata": {},
   "outputs": [
    {
     "name": "stdout",
     "output_type": "stream",
     "text": [
      "varicance: 0.1875\n",
      "std: 0.4330127018922193\n",
      "0.010402848000000001\n"
     ]
    }
   ],
   "source": [
    "sample_props = np.random.choice(students, size=20)\n",
    "print(f'varicance: {sample_props.var()}\\nstd: {sample_props.std()}')\n",
    "print(pe*(1-pe)/sample_props.shape[0])"
   ]
  },
  {
   "cell_type": "markdown",
   "metadata": {},
   "source": [
    "10. Finally, plot a histgram of the 10,000 draws from both the proportions with a sample size of 5 and the proportions with a sample size of 20. Each of these distributions is a sampling distribution. One is for the proportions of sample size 5 and the other a sampling distribution for proportions with sample size 20."
   ]
  },
  {
   "cell_type": "code",
   "execution_count": 56,
   "metadata": {},
   "outputs": [
    {
     "data": {
      "text/plain": [
       "<AxesSubplot:ylabel='Count'>"
      ]
     },
     "execution_count": 56,
     "metadata": {},
     "output_type": "execute_result"
    },
    {
     "data": {
      "image/png": "[encoded data removed]",
      "text/plain": [
       "<Figure size 432x288 with 1 Axes>"
      ]
     },
     "metadata": {
      "needs_background": "light"
     },
     "output_type": "display_data"
    }
   ],
   "source": [
    "sample_props = np.random.choice(students, size=[10000,20])\n",
    "\n",
    "sns.histplot(sample_props.mean(axis=1), bins=100)"
   ]
  },
  {
   "cell_type": "code",
   "execution_count": 55,
   "metadata": {},
   "outputs": [
    {
     "data": {
      "text/plain": [
       "<AxesSubplot:ylabel='Count'>"
      ]
     },
     "execution_count": 55,
     "metadata": {},
     "output_type": "execute_result"
    },
    {
     "data": {
      "image/png": "[encoded data removed]",
      "text/plain": [
       "<Figure size 432x288 with 1 Axes>"
      ]
     },
     "metadata": {
      "needs_background": "light"
     },
     "output_type": "display_data"
    }
   ],
   "source": [
    "sample_props = np.random.choice(students, size=[10000,5])\n",
    "\n",
    "sns.histplot(sample_props.mean(axis=1), bins=100)"
   ]
  },
  {
   "cell_type": "markdown",
   "metadata": {},
   "source": [
    "### Notation\n",
    "\n",
    "We commonly use Greek symbols as parameters and lowercase letters as the corresponding statistics. Sometimes in the literature, you might also see the same Greek symbols with a \"hat\" to represent that this is an estimate of the corresponding parameter.\n",
    "\n",
    "Below is a table that provides some of the most common parameters and corresponding statistics, as shown in the video.\n",
    "\n",
    "Remember that all **parameters** pertain to a `population`, while all **statistics** pertain to a `sample`.\n",
    "\n",
    "![notation_param_stats](images/notation_parameter_statistics.PNG)"
   ]
  },
  {
   "cell_type": "markdown",
   "metadata": {},
   "source": [
    " Let's begin by creating a population dataset stored in pop_data and importing some libraries."
   ]
  },
  {
   "cell_type": "code",
   "execution_count": 60,
   "metadata": {},
   "outputs": [
    {
     "data": {
      "text/plain": [
       "(array([1663.,  747.,  329.,  134.,   73.,   34.,   13.,    5.,    0.,\n",
       "           2.]),\n",
       " array([1.16348231e-03, 8.17255031e+01, 1.63449843e+02, 2.45174182e+02,\n",
       "        3.26898522e+02, 4.08622862e+02, 4.90347201e+02, 5.72071541e+02,\n",
       "        6.53795881e+02, 7.35520220e+02, 8.17244560e+02]),\n",
       " <BarContainer object of 10 artists>)"
      ]
     },
     "execution_count": 60,
     "metadata": {},
     "output_type": "execute_result"
    },
    {
     "data": {
      "image/png": "[encoded data removed]",
      "text/plain": [
       "<Figure size 432x288 with 1 Axes>"
      ]
     },
     "metadata": {
      "needs_background": "light"
     },
     "output_type": "display_data"
    }
   ],
   "source": [
    "import numpy as np\n",
    "import matplotlib.pyplot as plt\n",
    "\n",
    "%matplotlib inline\n",
    "np.random.seed(42)\n",
    "\n",
    "pop_data = np.random.gamma(1,100, 3000)\n",
    "plt.hist(pop_data)"
   ]
  },
  {
   "cell_type": "markdown",
   "metadata": {},
   "source": [
    "1. What is the population mean?"
   ]
  },
  {
   "cell_type": "code",
   "execution_count": 61,
   "metadata": {},
   "outputs": [
    {
     "data": {
      "text/plain": [
       "100.35978700795846"
      ]
     },
     "execution_count": 61,
     "metadata": {},
     "output_type": "execute_result"
    }
   ],
   "source": [
    "pop_data.mean()"
   ]
  },
  {
   "cell_type": "markdown",
   "metadata": {},
   "source": [
    "2. Randomly select 10 draws from the population using numpy's random.choice. What is the sample mean for these 10 values?"
   ]
  },
  {
   "cell_type": "code",
   "execution_count": 62,
   "metadata": {},
   "outputs": [
    {
     "data": {
      "text/plain": [
       "103.47556549464393"
      ]
     },
     "execution_count": 62,
     "metadata": {},
     "output_type": "execute_result"
    }
   ],
   "source": [
    "np.random.choice(pop_data, size=10).mean()"
   ]
  },
  {
   "cell_type": "markdown",
   "metadata": {},
   "source": [
    "3. What is the sample standard deviation of your 10 draws?"
   ]
  },
  {
   "cell_type": "code",
   "execution_count": 63,
   "metadata": {},
   "outputs": [
    {
     "data": {
      "text/plain": [
       "138.3751758776529"
      ]
     },
     "execution_count": 63,
     "metadata": {},
     "output_type": "execute_result"
    }
   ],
   "source": [
    "np.random.choice(pop_data, size=10).std()"
   ]
  },
  {
   "cell_type": "markdown",
   "metadata": {},
   "source": [
    "4. What is the population standard deviation?"
   ]
  },
  {
   "cell_type": "code",
   "execution_count": 64,
   "metadata": {},
   "outputs": [
    {
     "data": {
      "text/plain": [
       "99.77860187968906"
      ]
     },
     "execution_count": 64,
     "metadata": {},
     "output_type": "execute_result"
    }
   ],
   "source": [
    "pop_data.std()"
   ]
  },
  {
   "cell_type": "markdown",
   "metadata": {},
   "source": [
    "5. What is the population variance?"
   ]
  },
  {
   "cell_type": "code",
   "execution_count": 65,
   "metadata": {},
   "outputs": [
    {
     "data": {
      "text/plain": [
       "9955.76939306549"
      ]
     },
     "execution_count": 65,
     "metadata": {},
     "output_type": "execute_result"
    }
   ],
   "source": [
    "pop_data.var()"
   ]
  },
  {
   "cell_type": "markdown",
   "metadata": {},
   "source": [
    "6. What is the sample variance?"
   ]
  },
  {
   "cell_type": "code",
   "execution_count": 66,
   "metadata": {},
   "outputs": [
    {
     "data": {
      "text/plain": [
       "12364.843103001493"
      ]
     },
     "execution_count": 66,
     "metadata": {},
     "output_type": "execute_result"
    }
   ],
   "source": [
    "np.random.choice(pop_data, size=10).var()"
   ]
  },
  {
   "cell_type": "markdown",
   "metadata": {},
   "source": [
    "## Useful theorems\n",
    "Two important mathematical theorems for working with sampling distributions include:\n",
    "\n",
    "1. Law of Large Numbers\n",
    "2. Central Limit Theorem\n",
    "\n",
    "### Law of Large Numbers\n",
    "\n",
    "The **Law of Large Numbers** says that as our sample size increases, the sample mean gets closer to the population mean, but how did we determine that the sample mean would estimate a population mean in the first place? How would we identify another relationship between parameter and statistic like this in the future?\n",
    "\n",
    "Three of the most common ways are with the following estimation techniques:\n",
    "\n",
    "* [Maximum Likelihood Estimation](https://en.wikipedia.org/wiki/Maximum_likelihood_estimation)\n",
    "* [Method of Moments Estimation][https://en.wikipedia.org/wiki/Method_of_moments]\n",
    "* [Bayesian Estimation](https://en.wikipedia.org/wiki/Bayes_estimator)"
   ]
  },
  {
   "cell_type": "code",
   "execution_count": 68,
   "metadata": {},
   "outputs": [
    {
     "data": {
      "text/plain": [
       "(array([1663.,  747.,  329.,  134.,   73.,   34.,   13.,    5.,    0.,\n",
       "           2.]),\n",
       " array([1.16348231e-03, 8.17255031e+01, 1.63449843e+02, 2.45174182e+02,\n",
       "        3.26898522e+02, 4.08622862e+02, 4.90347201e+02, 5.72071541e+02,\n",
       "        6.53795881e+02, 7.35520220e+02, 8.17244560e+02]),\n",
       " <BarContainer object of 10 artists>)"
      ]
     },
     "execution_count": 68,
     "metadata": {},
     "output_type": "execute_result"
    },
    {
     "data": {
      "image/png": "[encoded data removed]",
      "text/plain": [
       "<Figure size 432x288 with 1 Axes>"
      ]
     },
     "metadata": {
      "needs_background": "light"
     },
     "output_type": "display_data"
    }
   ],
   "source": [
    "import numpy as np\n",
    "import matplotlib.pyplot as plt\n",
    "\n",
    "%matplotlib inline\n",
    "np.random.seed(42)\n",
    "\n",
    "# This is just setting up some random data in pop_data\n",
    "# The functionality of the gamma distribution is not relevant \n",
    "# for this class.\n",
    "pop_data = np.random.gamma(1,100,3000)\n",
    "plt.hist(pop_data)"
   ]
  },
  {
   "cell_type": "code",
   "execution_count": 67,
   "metadata": {},
   "outputs": [
    {
     "name": "stdout",
     "output_type": "stream",
     "text": [
      "population mean: 100.35978700795846\n",
      "sample = 5 mean: 76.02513400873993\n",
      "sample = 20 mean: 127.58590242974485\n",
      "sample = 100 mean: 106.88919146913052\n"
     ]
    }
   ],
   "source": [
    "print(f'population mean: {pop_data.mean()}')\n",
    "print(f'sample = 5 mean: {np.random.choice(pop_data, size=5).mean()}')\n",
    "print(f'sample = 20 mean: {np.random.choice(pop_data, size=20).mean()}')\n",
    "print(f'sample = 100 mean: {np.random.choice(pop_data, size=100).mean()}')"
   ]
  },
  {
   "cell_type": "markdown",
   "metadata": {},
   "source": [
    "The larger the sample size, the closer tends to be the sample mean to the population mean."
   ]
  },
  {
   "cell_type": "markdown",
   "metadata": {},
   "source": [
    "### Central Limit Theorem\n",
    "\n",
    "The Central Limit Theorem states that with a large enough sample size the sampling distribution of the mean will be normally distributed.\n",
    "\n",
    "The Central Limit Theorem actually applies for these well known statistics:\n",
    "\n",
    "![central_limit_theorem](images/central_limit_theorem.PNG)\n",
    "\n",
    "And it applies for additional statistics, but it doesn't apply for all statistics! . You will see more on this towards the end of this lesson.\n",
    "\n",
    "##### Central Limit Theorem - Part II\n",
    "Work through the questions and use the created variables to answer the questions that follow below the notebook."
   ]
  },
  {
   "cell_type": "code",
   "execution_count": 69,
   "metadata": {},
   "outputs": [
    {
     "data": {
      "image/png": "[encoded data removed]",
      "text/plain": [
       "<Figure size 432x288 with 1 Axes>"
      ]
     },
     "metadata": {
      "needs_background": "light"
     },
     "output_type": "display_data"
    }
   ],
   "source": [
    "import numpy as np\n",
    "import matplotlib.pyplot as plt\n",
    "\n",
    "%matplotlib inline\n",
    "np.random.seed(42)\n",
    "\n",
    "pop_data = np.random.gamma(1,100,3000)\n",
    "plt.hist(pop_data);"
   ]
  },
  {
   "cell_type": "markdown",
   "metadata": {},
   "source": [
    "Here we try to create a sample distribution with 3 draws to test the central limit theorem."
   ]
  },
  {
   "cell_type": "code",
   "execution_count": 74,
   "metadata": {},
   "outputs": [],
   "source": [
    "means_size_3 = np.random.choice(pop_data, size=[10000,3]).mean(axis=1)"
   ]
  },
  {
   "cell_type": "code",
   "execution_count": 75,
   "metadata": {},
   "outputs": [
    {
     "data": {
      "text/plain": [
       "<seaborn.axisgrid.FacetGrid at 0x252c3489b50>"
      ]
     },
     "execution_count": 75,
     "metadata": {},
     "output_type": "execute_result"
    },
    {
     "data": {
      "image/png": "[encoded data removed]",
      "text/plain": [
       "<Figure size 360x360 with 1 Axes>"
      ]
     },
     "metadata": {
      "needs_background": "light"
     },
     "output_type": "display_data"
    }
   ],
   "source": [
    "sns.displot(means_size_3)"
   ]
  },
  {
   "cell_type": "markdown",
   "metadata": {},
   "source": [
    "Based on the plot we can see that the sample is not normally distributed, which indicates that 3 is a small number for creating the dataset.<br>\n",
    "\n",
    "Let's try with 100 draws 10.000 times"
   ]
  },
  {
   "cell_type": "code",
   "execution_count": 96,
   "metadata": {},
   "outputs": [],
   "source": [
    "means_size_100 = np.random.choice(pop_data, size=[10000,100]).mean(axis=1)"
   ]
  },
  {
   "cell_type": "code",
   "execution_count": 97,
   "metadata": {},
   "outputs": [
    {
     "data": {
      "text/plain": [
       "<seaborn.axisgrid.FacetGrid at 0x252c4539220>"
      ]
     },
     "execution_count": 97,
     "metadata": {},
     "output_type": "execute_result"
    },
    {
     "data": {
      "image/png": "[encoded data removed]",
      "text/plain": [
       "<Figure size 360x360 with 1 Axes>"
      ]
     },
     "metadata": {
      "needs_background": "light"
     },
     "output_type": "display_data"
    }
   ],
   "source": [
    "sns.displot(means_size_100)"
   ]
  },
  {
   "cell_type": "markdown",
   "metadata": {},
   "source": [
    "Here we can see that 100 draws is large enough for the validation of the central limit theorem."
   ]
  },
  {
   "cell_type": "code",
   "execution_count": 94,
   "metadata": {},
   "outputs": [
    {
     "data": {
      "text/plain": [
       "0.09970016734602366"
      ]
     },
     "execution_count": 94,
     "metadata": {},
     "output_type": "execute_result"
    }
   ],
   "source": [
    "means_size_100.var()/100"
   ]
  },
  {
   "cell_type": "code",
   "execution_count": 95,
   "metadata": {},
   "outputs": [
    {
     "data": {
      "text/plain": [
       "9955.76939306549"
      ]
     },
     "execution_count": 95,
     "metadata": {},
     "output_type": "execute_result"
    }
   ],
   "source": [
    "pop_data.var()"
   ]
  },
  {
   "cell_type": "markdown",
   "metadata": {},
   "source": [
    "In the previous example, you saw how the **Central Limit Theorem** applies to the sample mean of 100 draws from a right-skewed distribution. However, it did not apply to a sample size of 3 draws from this same distribution.\n",
    "\n",
    "In the next concepts, you will see that the with large sample sizes the sampling distribution of certain statistics will never become normally distributed. So how do we know which statistics will follow normal distributions, and which will not?\n",
    "\n",
    "![clt_apply](images/central_limit_theorem_apply.PNG)\n",
    "\n",
    "![clt_not_apply](images/central_limit_theorem_not_apply.PNG)"
   ]
  },
  {
   "cell_type": "markdown",
   "metadata": {},
   "source": [
    "##### Central Limit Theorem - Part III\n",
    "You saw how the Central Limit Theorem worked for the sample mean in the earlier concept. However, let's consider another example to see a case where the Central Limit Theorem doesn't work..."
   ]
  },
  {
   "cell_type": "code",
   "execution_count": 98,
   "metadata": {},
   "outputs": [
    {
     "data": {
      "image/png": "[encoded data removed]",
      "text/plain": [
       "<Figure size 432x288 with 1 Axes>"
      ]
     },
     "metadata": {
      "needs_background": "light"
     },
     "output_type": "display_data"
    }
   ],
   "source": [
    "import numpy as np\n",
    "import matplotlib.pyplot as plt\n",
    "\n",
    "%matplotlib inline\n",
    "np.random.seed(42)\n",
    "\n",
    "pop_data = np.random.gamma(1,100,3000)\n",
    "plt.hist(pop_data);"
   ]
  },
  {
   "cell_type": "code",
   "execution_count": 102,
   "metadata": {},
   "outputs": [],
   "source": [
    "var_size_100 = np.random.choice(pop_data, size=[10000,100])"
   ]
  },
  {
   "cell_type": "code",
   "execution_count": 103,
   "metadata": {},
   "outputs": [
    {
     "data": {
      "text/plain": [
       "<seaborn.axisgrid.FacetGrid at 0x252c4612580>"
      ]
     },
     "execution_count": 103,
     "metadata": {},
     "output_type": "execute_result"
    },
    {
     "data": {
      "image/png": "[encoded data removed]",
      "text/plain": [
       "<Figure size 360x360 with 1 Axes>"
      ]
     },
     "metadata": {
      "needs_background": "light"
     },
     "output_type": "display_data"
    }
   ],
   "source": [
    "sns.displot(var_size_100.var(axis=1))"
   ]
  },
  {
   "cell_type": "code",
   "execution_count": 107,
   "metadata": {},
   "outputs": [
    {
     "data": {
      "text/plain": [
       "6415697.197700081"
      ]
     },
     "execution_count": 107,
     "metadata": {},
     "output_type": "execute_result"
    }
   ],
   "source": [
    "var_size_100.var(axis=1).var()"
   ]
  },
  {
   "cell_type": "code",
   "execution_count": 106,
   "metadata": {},
   "outputs": [
    {
     "data": {
      "text/plain": [
       "9936.054588453982"
      ]
     },
     "execution_count": 106,
     "metadata": {},
     "output_type": "execute_result"
    }
   ],
   "source": [
    "var_size_100.var()"
   ]
  },
  {
   "cell_type": "code",
   "execution_count": 101,
   "metadata": {},
   "outputs": [
    {
     "data": {
      "text/plain": [
       "9955.76939306549"
      ]
     },
     "execution_count": 101,
     "metadata": {},
     "output_type": "execute_result"
    }
   ],
   "source": [
    "pop_data.var()"
   ]
  },
  {
   "cell_type": "markdown",
   "metadata": {},
   "source": [
    "### Bootstraping\n",
    "\n",
    "**Bootstrapping** is sampling with replacement. Using `random.choice` in python actually samples in this way. Where the probability of any number in our set stays the same regardless of how many times it has been chosen. Flipping a coin and rolling a die are kind of like bootstrap sampling as well, as rolling a 6 in one scenario doesn't mean that 6 is less likely later.<br>\n",
    "\n",
    "Three of the most common ways are with the following estimation techniques for finding \"good statistics\" are as shown previously:\n",
    "\n",
    "* [Maximum Likelihood Estimation](https://en.wikipedia.org/wiki/Maximum_likelihood_estimation)\n",
    "* [Method of Moments Estimation](https://en.wikipedia.org/wiki/Method_of_moments)\n",
    "* [Bayesian Estimation](https://en.wikipedia.org/wiki/Bayes_estimator)\n",
    "\n",
    "##### Bootstrap Sampling\n",
    "Below is an array of the possible values you can obtain from a die. Let's consider different methods of sampling from these values."
   ]
  },
  {
   "cell_type": "code",
   "execution_count": 108,
   "metadata": {},
   "outputs": [],
   "source": [
    "import numpy as np\n",
    "np.random.seed(42)\n",
    "\n",
    "die_vals = np.array([1,2,3,4,5,6])"
   ]
  },
  {
   "cell_type": "markdown",
   "metadata": {},
   "source": [
    "1. Take a random sample of 20 values from die_vals using the code below, then answer the question in the first quiz below."
   ]
  },
  {
   "cell_type": "code",
   "execution_count": 109,
   "metadata": {},
   "outputs": [
    {
     "data": {
      "text/plain": [
       "array([4, 5, 3, 5, 5, 2, 3, 3, 3, 5, 4, 3, 6, 5, 2, 4, 6, 6, 2, 4])"
      ]
     },
     "execution_count": 109,
     "metadata": {},
     "output_type": "execute_result"
    }
   ],
   "source": [
    "np.random.choice(die_vals, size=20)"
   ]
  },
  {
   "cell_type": "markdown",
   "metadata": {},
   "source": [
    "2. Use the code below to choose another sample from die_vals, then answer the question in the first quiz below."
   ]
  },
  {
   "cell_type": "code",
   "execution_count": 110,
   "metadata": {},
   "outputs": [
    {
     "ename": "ValueError",
     "evalue": "Cannot take a larger sample than population when 'replace=False'",
     "output_type": "error",
     "traceback": [
      "\u001b[1;31m---------------------------------------------------------------------------\u001b[0m",
      "\u001b[1;31mValueError\u001b[0m                                Traceback (most recent call last)",
      "\u001b[1;32mC:\\Users\\DTIDIG~1\\AppData\\Local\\Temp/ipykernel_31008/2361099180.py\u001b[0m in \u001b[0;36m<module>\u001b[1;34m\u001b[0m\n\u001b[1;32m----> 1\u001b[1;33m \u001b[0mnp\u001b[0m\u001b[1;33m.\u001b[0m\u001b[0mrandom\u001b[0m\u001b[1;33m.\u001b[0m\u001b[0mchoice\u001b[0m\u001b[1;33m(\u001b[0m\u001b[0mdie_vals\u001b[0m\u001b[1;33m,\u001b[0m \u001b[0mreplace\u001b[0m\u001b[1;33m=\u001b[0m\u001b[1;32mFalse\u001b[0m\u001b[1;33m,\u001b[0m \u001b[0msize\u001b[0m\u001b[1;33m=\u001b[0m\u001b[1;36m20\u001b[0m\u001b[1;33m)\u001b[0m\u001b[1;33m\u001b[0m\u001b[1;33m\u001b[0m\u001b[0m\n\u001b[0m",
      "\u001b[1;32mmtrand.pyx\u001b[0m in \u001b[0;36mnumpy.random.mtrand.RandomState.choice\u001b[1;34m()\u001b[0m\n",
      "\u001b[1;31mValueError\u001b[0m: Cannot take a larger sample than population when 'replace=False'"
     ]
    }
   ],
   "source": [
    "np.random.choice(die_vals, replace=False, size=20)"
   ]
  },
  {
   "cell_type": "markdown",
   "metadata": {},
   "source": [
    "The replace=False portion did not allow us to select 20 times from an array of"
   ]
  },
  {
   "cell_type": "markdown",
   "metadata": {},
   "source": [
    "## Confidence Intervals\n",
    "\n",
    "You can interpret your confidence interval as **We are `95%` confident, the `population mean` falls between the bounds that you find**. Notice that the percent and the parameter can both change depending on what you are building your confidence interval for, and what percentage you cutoff in each tail."
   ]
  },
  {
   "cell_type": "markdown",
   "metadata": {},
   "source": [
    "You can interpret your confidence interval as We are 95% confident, the population mean falls between the bounds that you find. Notice that the percent and the parameter can both change depending on what you are building your confidence interval for, and what percentage you cutoff in each tail."
   ]
  },
  {
   "cell_type": "code",
   "execution_count": 112,
   "metadata": {},
   "outputs": [],
   "source": [
    "import pandas as pd\n",
    "import numpy as np\n",
    "\n",
    "np.random.seed(42)\n",
    "\n",
    "coffee_full = pd.read_csv('data/coffee_dataset.csv')\n",
    "# creating a sample to simulate the data we might actually get in the real world.\n",
    "coffee_red = coffee_full.sample(200)"
   ]
  },
  {
   "cell_type": "code",
   "execution_count": 220,
   "metadata": {},
   "outputs": [
    {
     "data": {
      "text/plain": [
       "(200, 4)"
      ]
     },
     "execution_count": 220,
     "metadata": {},
     "output_type": "execute_result"
    }
   ],
   "source": [
    "coffee_red.shape"
   ]
  },
  {
   "cell_type": "code",
   "execution_count": 113,
   "metadata": {},
   "outputs": [
    {
     "data": {
      "text/html": [
       "<div>\n",
       "<style scoped>\n",
       "    .dataframe tbody tr th:only-of-type {\n",
       "        vertical-align: middle;\n",
       "    }\n",
       "\n",
       "    .dataframe tbody tr th {\n",
       "        vertical-align: top;\n",
       "    }\n",
       "\n",
       "    .dataframe thead th {\n",
       "        text-align: right;\n",
       "    }\n",
       "</style>\n",
       "<table border=\"1\" class=\"dataframe\">\n",
       "  <thead>\n",
       "    <tr style=\"text-align: right;\">\n",
       "      <th></th>\n",
       "      <th>user_id</th>\n",
       "      <th>age</th>\n",
       "      <th>drinks_coffee</th>\n",
       "      <th>height</th>\n",
       "    </tr>\n",
       "  </thead>\n",
       "  <tbody>\n",
       "    <tr>\n",
       "      <th>0</th>\n",
       "      <td>4509</td>\n",
       "      <td>&lt;21</td>\n",
       "      <td>False</td>\n",
       "      <td>64.538179</td>\n",
       "    </tr>\n",
       "    <tr>\n",
       "      <th>1</th>\n",
       "      <td>1864</td>\n",
       "      <td>&gt;=21</td>\n",
       "      <td>True</td>\n",
       "      <td>65.824249</td>\n",
       "    </tr>\n",
       "    <tr>\n",
       "      <th>2</th>\n",
       "      <td>2060</td>\n",
       "      <td>&lt;21</td>\n",
       "      <td>False</td>\n",
       "      <td>71.319854</td>\n",
       "    </tr>\n",
       "    <tr>\n",
       "      <th>3</th>\n",
       "      <td>7875</td>\n",
       "      <td>&gt;=21</td>\n",
       "      <td>True</td>\n",
       "      <td>68.569404</td>\n",
       "    </tr>\n",
       "    <tr>\n",
       "      <th>4</th>\n",
       "      <td>6254</td>\n",
       "      <td>&lt;21</td>\n",
       "      <td>True</td>\n",
       "      <td>64.020226</td>\n",
       "    </tr>\n",
       "  </tbody>\n",
       "</table>\n",
       "</div>"
      ],
      "text/plain": [
       "   user_id   age  drinks_coffee     height\n",
       "0     4509   <21          False  64.538179\n",
       "1     1864  >=21           True  65.824249\n",
       "2     2060   <21          False  71.319854\n",
       "3     7875  >=21           True  68.569404\n",
       "4     6254   <21           True  64.020226"
      ]
     },
     "execution_count": 113,
     "metadata": {},
     "output_type": "execute_result"
    }
   ],
   "source": [
    "coffee_full.head()"
   ]
  },
  {
   "cell_type": "code",
   "execution_count": 114,
   "metadata": {},
   "outputs": [
    {
     "data": {
      "text/html": [
       "<div>\n",
       "<style scoped>\n",
       "    .dataframe tbody tr th:only-of-type {\n",
       "        vertical-align: middle;\n",
       "    }\n",
       "\n",
       "    .dataframe tbody tr th {\n",
       "        vertical-align: top;\n",
       "    }\n",
       "\n",
       "    .dataframe thead th {\n",
       "        text-align: right;\n",
       "    }\n",
       "</style>\n",
       "<table border=\"1\" class=\"dataframe\">\n",
       "  <thead>\n",
       "    <tr style=\"text-align: right;\">\n",
       "      <th></th>\n",
       "      <th>user_id</th>\n",
       "      <th>age</th>\n",
       "      <th>drinks_coffee</th>\n",
       "      <th>height</th>\n",
       "    </tr>\n",
       "  </thead>\n",
       "  <tbody>\n",
       "    <tr>\n",
       "      <th>2402</th>\n",
       "      <td>2874</td>\n",
       "      <td>&lt;21</td>\n",
       "      <td>True</td>\n",
       "      <td>64.357154</td>\n",
       "    </tr>\n",
       "    <tr>\n",
       "      <th>2864</th>\n",
       "      <td>3670</td>\n",
       "      <td>&gt;=21</td>\n",
       "      <td>True</td>\n",
       "      <td>66.859636</td>\n",
       "    </tr>\n",
       "    <tr>\n",
       "      <th>2167</th>\n",
       "      <td>7441</td>\n",
       "      <td>&lt;21</td>\n",
       "      <td>False</td>\n",
       "      <td>66.659561</td>\n",
       "    </tr>\n",
       "    <tr>\n",
       "      <th>507</th>\n",
       "      <td>2781</td>\n",
       "      <td>&gt;=21</td>\n",
       "      <td>True</td>\n",
       "      <td>70.166241</td>\n",
       "    </tr>\n",
       "    <tr>\n",
       "      <th>1817</th>\n",
       "      <td>2875</td>\n",
       "      <td>&gt;=21</td>\n",
       "      <td>True</td>\n",
       "      <td>71.369120</td>\n",
       "    </tr>\n",
       "  </tbody>\n",
       "</table>\n",
       "</div>"
      ],
      "text/plain": [
       "      user_id   age  drinks_coffee     height\n",
       "2402     2874   <21           True  64.357154\n",
       "2864     3670  >=21           True  66.859636\n",
       "2167     7441   <21          False  66.659561\n",
       "507      2781  >=21           True  70.166241\n",
       "1817     2875  >=21           True  71.369120"
      ]
     },
     "execution_count": 114,
     "metadata": {},
     "output_type": "execute_result"
    }
   ],
   "source": [
    "coffee_red.head()\n"
   ]
  },
  {
   "cell_type": "markdown",
   "metadata": {},
   "source": [
    "1. What is the proportion of coffee drinkers in the sample? What is the proportion of individuals that don't drink coffee?"
   ]
  },
  {
   "cell_type": "code",
   "execution_count": 162,
   "metadata": {},
   "outputs": [
    {
     "name": "stdout",
     "output_type": "stream",
     "text": [
      "proportion full: 0.589778076664425\n",
      "proportion red: 0.595\n"
     ]
    }
   ],
   "source": [
    "print(f'proportion full: {coffee_full[\"drinks_coffee\"].mean()}')\n",
    "print(f'proportion red: {coffee_red[\"drinks_coffee\"].mean()}')"
   ]
  },
  {
   "cell_type": "markdown",
   "metadata": {},
   "source": [
    "2. Of the individuals who drink coffee, what is the average height? Of the individuals who do not drink coffee, what is the average height?"
   ]
  },
  {
   "cell_type": "code",
   "execution_count": 119,
   "metadata": {},
   "outputs": [
    {
     "name": "stdout",
     "output_type": "stream",
     "text": [
      "proportion full: 68.40021025548401\n",
      "proportion red: 68.11962990858618\n"
     ]
    }
   ],
   "source": [
    "height_full = coffee_full.query('drinks_coffee == True')['height'].mean()\n",
    "height_red = coffee_red.query('drinks_coffee == True')['height'].mean()\n",
    "\n",
    "print(f'proportion full: {height_full}')\n",
    "print(f'proportion red: {height_red}')"
   ]
  },
  {
   "cell_type": "code",
   "execution_count": 163,
   "metadata": {},
   "outputs": [
    {
     "name": "stdout",
     "output_type": "stream",
     "text": [
      "proportion full: 66.44340776214703\n",
      "proportion red: 66.78492279927877\n"
     ]
    }
   ],
   "source": [
    "height_full = coffee_full.query('drinks_coffee == False')['height'].mean()\n",
    "height_red = coffee_red.query('drinks_coffee == False')['height'].mean()\n",
    "\n",
    "print(f'proportion full: {height_full}')\n",
    "print(f'proportion red: {height_red}')"
   ]
  },
  {
   "cell_type": "markdown",
   "metadata": {},
   "source": [
    "3. Simulate 200 \"new\" individuals from your original sample of 200. What are the proportion of coffee drinkers in your bootstrap sample? How about individuals that don't drink coffee?"
   ]
  },
  {
   "cell_type": "code",
   "execution_count": 125,
   "metadata": {},
   "outputs": [],
   "source": [
    "def test_bootstrap(data_full, check_col, check_val, col, sample_size, togo=5):\n",
    "    for i in range(togo):\n",
    "        data_red = data_full.sample(sample_size)\n",
    "\n",
    "        out_full = data_full.query(f'{check_col} == {check_val}')[col].mean()\n",
    "        out_red = data_red.query(f'{check_col} == {check_val}')[col].mean()\n",
    "        print(f'test {i}')\n",
    "        print(f'{col} full: {out_full}')\n",
    "        print(f'{col} red: {out_red}')\n",
    "        print(f'diff: {out_full - out_red}')\n",
    "        print('__________________')\n"
   ]
  },
  {
   "cell_type": "code",
   "execution_count": 131,
   "metadata": {},
   "outputs": [
    {
     "name": "stdout",
     "output_type": "stream",
     "text": [
      "test 0\n",
      "height full: 66.44340776214703\n",
      "height red: 66.9590664767992\n",
      "diff: -0.5156587146521616\n",
      "__________________\n",
      "test 1\n",
      "height full: 66.44340776214703\n",
      "height red: 66.38660326617986\n",
      "diff: 0.056804495967170965\n",
      "__________________\n",
      "test 2\n",
      "height full: 66.44340776214703\n",
      "height red: 66.70168673620967\n",
      "diff: -0.2582789740626339\n",
      "__________________\n"
     ]
    }
   ],
   "source": [
    "test_bootstrap(coffee_full, 'drinks_coffee', 'False', 'height', 200, togo=3)"
   ]
  },
  {
   "cell_type": "markdown",
   "metadata": {},
   "source": [
    "4. Now simulate your bootstrap sample 10,000 times and take the mean height of the non-coffee drinkers in each sample. Each bootstrap sample should be from the very first sample of 200 data points. Plot the distribution, and pull the values necessary for a 95% confidence interval. What do you notice about the sampling distribution of the mean in this example?"
   ]
  },
  {
   "cell_type": "code",
   "execution_count": 221,
   "metadata": {},
   "outputs": [],
   "source": [
    "samples_i = np.random.choice(200, size=[10000,100])\n",
    "samples = [coffee_red.iloc[samples_i[i]] for i in range(samples_i.shape[0])]"
   ]
  },
  {
   "cell_type": "code",
   "execution_count": 222,
   "metadata": {},
   "outputs": [],
   "source": [
    "dist_arr = []\n",
    "for sample in samples:\n",
    "    x = sample.query('drinks_coffee == False')['height'].mean()\n",
    "    dist_arr.append(x)"
   ]
  },
  {
   "cell_type": "code",
   "execution_count": 223,
   "metadata": {},
   "outputs": [
    {
     "data": {
      "text/plain": [
       "<seaborn.axisgrid.FacetGrid at 0x252bd7ffcd0>"
      ]
     },
     "execution_count": 223,
     "metadata": {},
     "output_type": "execute_result"
    },
    {
     "data": {
      "image/png": "[encoded data removed]",
      "text/plain": [
       "<Figure size 360x360 with 1 Axes>"
      ]
     },
     "metadata": {
      "needs_background": "light"
     },
     "output_type": "display_data"
    }
   ],
   "source": [
    "sns.displot(dist_arr)"
   ]
  },
  {
   "cell_type": "code",
   "execution_count": 224,
   "metadata": {},
   "outputs": [],
   "source": [
    "def get_confidence_interval(dist_arr, confidence_percent):\n",
    "    val = confidence_percent/100\n",
    "\n",
    "    min_quant = (1-val)/2\n",
    "    max_quant = (1-min_quant)\n",
    "    min_val = np.quantile(dist_arr, min_quant)\n",
    "    max_val = np.quantile(dist_arr, max_quant)\n",
    "    interval = pd.Series(dist_arr).apply(lambda x: x if(x<max_val and x>min_val) else np.nan).dropna()\n",
    "\n",
    "    sns.displot(interval)\n",
    "\n",
    "    print(f'min_val: {min_val}')\n",
    "    print(f'mean_val: {np.mean(interval)}')\n",
    "    print(f'max_val: {max_val}')\n",
    "\n",
    "    return interval\n"
   ]
  },
  {
   "cell_type": "code",
   "execution_count": 225,
   "metadata": {},
   "outputs": [
    {
     "name": "stdout",
     "output_type": "stream",
     "text": [
      "min_val: 65.666807844125\n",
      "mean_val: 66.77917445226562\n",
      "max_val: 67.92387475272578\n"
     ]
    },
    {
     "data": {
      "image/png": "[encoded data removed]",
      "text/plain": [
       "<Figure size 360x360 with 1 Axes>"
      ]
     },
     "metadata": {
      "needs_background": "light"
     },
     "output_type": "display_data"
    }
   ],
   "source": [
    "noCoffee_95 =  get_confidence_interval(dist_arr, 95)"
   ]
  },
  {
   "cell_type": "markdown",
   "metadata": {},
   "source": [
    "Same rational for the difference between variables"
   ]
  },
  {
   "cell_type": "code",
   "execution_count": 226,
   "metadata": {},
   "outputs": [],
   "source": [
    "import pandas as pd\n",
    "import numpy as np\n",
    "\n",
    "np.random.seed(42)\n",
    "\n",
    "coffee_full = pd.read_csv('data/coffee_dataset.csv')\n",
    "# creating a sample to simulate the data we might actually get in the real world.\n",
    "coffee_red = coffee_full.sample(200)"
   ]
  },
  {
   "cell_type": "code",
   "execution_count": 227,
   "metadata": {},
   "outputs": [],
   "source": [
    "diffs = []\n",
    "for i in range(10000):\n",
    "    bootsample = coffee_red.sample(100, replace=True)\n",
    "    mean_coffee = bootsample.query('drinks_coffee == True')['height'].mean()\n",
    "    mean_noCoffee = bootsample.query('drinks_coffee == False')['height'].mean()\n",
    "    diffs.append(mean_coffee - mean_noCoffee)"
   ]
  },
  {
   "cell_type": "code",
   "execution_count": 228,
   "metadata": {},
   "outputs": [
    {
     "name": "stdout",
     "output_type": "stream",
     "text": [
      "min_val: -0.4042928666635973\n",
      "mean_val: 1.3406986973277317\n",
      "max_val: 3.047295086518882\n"
     ]
    },
    {
     "data": {
      "image/png": "[encoded data removed]",
      "text/plain": [
       "<Figure size 360x360 with 1 Axes>"
      ]
     },
     "metadata": {
      "needs_background": "light"
     },
     "output_type": "display_data"
    }
   ],
   "source": [
    "diffs_99 =  get_confidence_interval(diffs, 99)"
   ]
  },
  {
   "cell_type": "code",
   "execution_count": 206,
   "metadata": {},
   "outputs": [
    {
     "data": {
      "text/html": [
       "<div>\n",
       "<style scoped>\n",
       "    .dataframe tbody tr th:only-of-type {\n",
       "        vertical-align: middle;\n",
       "    }\n",
       "\n",
       "    .dataframe tbody tr th {\n",
       "        vertical-align: top;\n",
       "    }\n",
       "\n",
       "    .dataframe thead th {\n",
       "        text-align: right;\n",
       "    }\n",
       "</style>\n",
       "<table border=\"1\" class=\"dataframe\">\n",
       "  <thead>\n",
       "    <tr style=\"text-align: right;\">\n",
       "      <th></th>\n",
       "      <th>user_id</th>\n",
       "      <th>age</th>\n",
       "      <th>drinks_coffee</th>\n",
       "      <th>height</th>\n",
       "    </tr>\n",
       "  </thead>\n",
       "  <tbody>\n",
       "    <tr>\n",
       "      <th>0</th>\n",
       "      <td>4509</td>\n",
       "      <td>&lt;21</td>\n",
       "      <td>False</td>\n",
       "      <td>64.538179</td>\n",
       "    </tr>\n",
       "    <tr>\n",
       "      <th>2467</th>\n",
       "      <td>4929</td>\n",
       "      <td>&gt;=21</td>\n",
       "      <td>True</td>\n",
       "      <td>70.146354</td>\n",
       "    </tr>\n",
       "    <tr>\n",
       "      <th>1868</th>\n",
       "      <td>5837</td>\n",
       "      <td>&gt;=21</td>\n",
       "      <td>True</td>\n",
       "      <td>71.655969</td>\n",
       "    </tr>\n",
       "    <tr>\n",
       "      <th>2396</th>\n",
       "      <td>5117</td>\n",
       "      <td>&gt;=21</td>\n",
       "      <td>True</td>\n",
       "      <td>67.955091</td>\n",
       "    </tr>\n",
       "    <tr>\n",
       "      <th>1743</th>\n",
       "      <td>7575</td>\n",
       "      <td>&gt;=21</td>\n",
       "      <td>True</td>\n",
       "      <td>69.796646</td>\n",
       "    </tr>\n",
       "  </tbody>\n",
       "</table>\n",
       "</div>"
      ],
      "text/plain": [
       "      user_id   age  drinks_coffee     height\n",
       "0        4509   <21          False  64.538179\n",
       "2467     4929  >=21           True  70.146354\n",
       "1868     5837  >=21           True  71.655969\n",
       "2396     5117  >=21           True  67.955091\n",
       "1743     7575  >=21           True  69.796646"
      ]
     },
     "execution_count": 206,
     "metadata": {},
     "output_type": "execute_result"
    }
   ],
   "source": [
    "bootsample.head()"
   ]
  },
  {
   "cell_type": "code",
   "execution_count": 218,
   "metadata": {},
   "outputs": [],
   "source": [
    "diffs_u21 = []\n",
    "for i in range(10000):\n",
    "    bootsample = coffee_red.sample(100, replace=True)\n",
    "    mean_coffee = bootsample.query('drinks_coffee == True and age == \"<21\"')['height'].mean()\n",
    "    mean_noCoffee = bootsample.query('drinks_coffee == False and age == \"<21\"')['height'].mean()\n",
    "    diffs_u21.append(mean_coffee - mean_noCoffee)"
   ]
  },
  {
   "cell_type": "code",
   "execution_count": 219,
   "metadata": {},
   "outputs": [
    {
     "name": "stdout",
     "output_type": "stream",
     "text": [
      "min_val: -3.2848957860354924\n",
      "mean_val: -1.8500079109388554\n",
      "max_val: -0.34564931430025253\n"
     ]
    },
    {
     "data": {
      "image/png": "[encoded data removed]",
      "text/plain": [
       "<Figure size 360x360 with 1 Axes>"
      ]
     },
     "metadata": {
      "needs_background": "light"
     },
     "output_type": "display_data"
    }
   ],
   "source": [
    "diffs_u21_99 =  get_confidence_interval(diffs_u21, 99)"
   ]
  },
  {
   "cell_type": "code",
   "execution_count": 216,
   "metadata": {},
   "outputs": [],
   "source": [
    "diffs_o21 = []\n",
    "for i in range(10000):\n",
    "    bootsample = coffee_red.sample(200, replace=True)\n",
    "    mean_coffee = bootsample.query('drinks_coffee == True and age == \">=21\"')['height'].mean()\n",
    "    mean_noCoffee = bootsample.query('drinks_coffee == False and age == \">=21\"')['height'].mean()\n",
    "    diffs_o21.append(mean_coffee - mean_noCoffee)"
   ]
  },
  {
   "cell_type": "code",
   "execution_count": 217,
   "metadata": {},
   "outputs": [
    {
     "name": "stdout",
     "output_type": "stream",
     "text": [
      "min_val: -4.781716199230342\n",
      "mean_val: -3.123566669078821\n",
      "max_val: -1.3620451113417158\n"
     ]
    },
    {
     "data": {
      "image/png": "[encoded data removed]",
      "text/plain": [
       "<Figure size 360x360 with 1 Axes>"
      ]
     },
     "metadata": {
      "needs_background": "light"
     },
     "output_type": "display_data"
    }
   ],
   "source": [
    "diffs_o21_99 =  get_confidence_interval(diffs_o21, 99)"
   ]
  },
  {
   "cell_type": "markdown",
   "metadata": {},
   "source": [
    "### Statistical vs. Practical Significance\n",
    "\n",
    "Using confidence intervals and hypothesis testing, you are able to provide `statistical significance` in making decisions.<br>\n",
    "\n",
    "However, it is also important to take into consideration `practical significance` in making decisions. `Practical significance` takes into consideration other factors of your situation that might not be considered directly in the results of your hypothesis test or confidence interval. Constraints like **space**, **time**, or **money** are important in business decisions. However, they might not be accounted for directly in a statistical test."
   ]
  },
  {
   "cell_type": "markdown",
   "metadata": {},
   "source": [
    "### Language Associated with Confidence Intervals\n",
    "\n",
    "It is important to understand the way that your sample size and confidence level relate to the confidence interval you achieve at the end of your analysis.<br>\n",
    "\n",
    "Assuming you control all other items of your analysis:\n",
    "\n",
    "1. Increasing your sample size will decrease the width of your confidence interval.\n",
    "2. Increasing your confidence level (say 95% to 99%) will increase the width of your confidence interval.\n",
    "\n",
    "You saw that you can compute:\n",
    "\n",
    "1. The confidence interval width as the difference between your upper and lower bounds of your confidence interval.\n",
    "2. The margin of error is half the confidence interval width, and the value that you add and subtract from your sample estimate to achieve your confidence interval final results."
   ]
  },
  {
   "cell_type": "markdown",
   "metadata": {},
   "source": [
    "### Confidence Intervals (& Hypothesis Testing) vs. Machine Learning\n",
    "\n",
    "Confidence intervals take an aggregate approach towards the conclusions made based on data, as these tests are aimed at understanding population parameters (which are aggregate population values).<br>\n",
    "\n",
    "Alternatively, machine learning techniques take an individual approach towards making conclusions, as they attempt to predict an outcome for each specific data point.\n",
    "\n",
    "### Recap\n",
    "In this lesson, you learned:\n",
    "\n",
    "1. How to use your knowledge of bootstrapping and sampling distributions to create a confidence interval for any population parameter.\n",
    "\n",
    "2. You learned how to build confidence intervals for the population mean and difference in means, but really the same process can be done for any parameter you are interested in.\n",
    "\n",
    "3. You also learned about how to use Python built-in functions to build confidence intervals, but that these rely on assumptions like the Central Limit Theorem.\n",
    "\n",
    "4. You learned about the difference between statistical significance and practical significance.\n",
    "\n",
    "5. Finally, you learned about other language associated with confidence intervals like **margin of error** and **confidence interval** width, and how to correctly interpret your confidence intervals. Remember, confidence intervals are about **parameters** in a population, and not about individual observations.\n",
    "\n"
   ]
  },
  {
   "cell_type": "markdown",
   "metadata": {},
   "source": [
    "## Hypothesis Testing\n",
    "\n",
    "1. The H0 is true before you collect any data.\n",
    "\n",
    "2. The H0 usually states there is no effect or that two groups are equal.\n",
    "\n",
    "3. The H0 and H1 are competing, non-overlapping hypotheses.\n",
    "\n",
    "4. H1 is what we would like to prove to be true.\n",
    "\n",
    "5. H0 contains an equal sign of some kind - either =, ≤, or ≥.\n",
    "\n",
    "6. H1 contains the opposition of the null - either ≠, >, or <.\n",
    "\n",
    "Because we wanted to test if a new page was better than an existing page, we set that up in the alternative. Two indicators are that the null should hold the equality, and the statement we would like to be true should be in the alternative. Therefore, it would look like this:\n",
    "\n",
    "* **H0: μ1 ≤ μ2**\n",
    "* **H1: μ1 < μ2** \n",
    "\n",
    "Here μ1 represents the population mean return from the new page. Similarly, μ2 represents the population mean return from the old page.<br>\n",
    "\n",
    "Depending on your question of interest, you would change your null and alternative hypotheses to match.\n",
    "\n",
    "### Types of errors\n",
    "#### Type I Errors\n",
    "Type I errors have the following features:\n",
    "\n",
    "1. You should set up your null and alternative hypotheses, so that the worse of your errors is the type I error.\n",
    "2. They are denoted by the symbol α.\n",
    "3. The definition of a type I error is: **Deciding that the alternative (`H1`) is true, when actually (`H0`) is true**.\n",
    "4. Type I errors are often called **false positives**.\n",
    "\n",
    "#### Type II Errors\n",
    "1. They are denoted by the symbol β.\n",
    "2. The definition of a type II error is: **Deciding that the null (`H0`) is true, when actually (`H1`) is true**.\n",
    "3. Type II errors are often called **false negatives**.\n",
    "\n",
    "In the most extreme case, we can always choose one hypothesis (say always choosing the null) to ensure that a particular error never occurs (never a type I error assuming we always choose the null). However, more generally, there is a relationship where with a single set of data decreasing your chance of one type of error, increases the chance of the other error occurring.\n",
    "\n",
    ">**Parachute Example**<br>\n",
    ">This example let you see one of the most extreme cases of errors that might be committed in hypothesis testing. In a type I error an individual died. In a type II error, you lost 30 dollars.<br>\n",
    ">\n",
    ">In the hypothesis tests you build in the upcoming lessons, you will be able to choose a type I error threshold, and your hypothesis tests will be created to minimize the type II errors after ensuring the type I error rate is met.\n",
    "\n",
    "> You are **`always` performing hypothesis tests on `population parameters`**, never on statistics. Statistics are values that you already have from the data, so it does not make sense to perform hypothesis tests on these values.\n",
    "\n",
    "### Common Types of Hypothesis Tests\n",
    "\n",
    "Common hypothesis tests include:\n",
    "\n",
    "1. Testing a population mean [(One sample t-test)](http://sites.utexas.edu/sos/guided/inferential/numeric/claim/one-sample-t/).\n",
    "2. Testing the difference in means [(Two sample t-test)](https://www.isixsigma.com/tools-templates/hypothesis-testing/making-sense-two-sample-t-test/)\n",
    "3. Testing the difference before and after some treatment on the same individual [(Paired t-test)](http://www.statstutor.ac.uk/resources/uploaded/paired-t-test.pdf)\n",
    "4. Testing a population proportion [(One sample z-test)](http://stattrek.com/statistics/dictionary.aspx?definition=one-sample%20z-test)\n",
    "5. Testing the difference between population proportions [(Two sample z-test)](https://onlinecourses.science.psu.edu/stat414/node/268)\n",
    "\n",
    "You can use one of these sites to provide a t-table or z-table to support one of the above approaches:\n",
    "\n",
    "* [t-table](https://s3.amazonaws.com/udacity-hosted-downloads/t-table.jpg)\n",
    "* [t-table or z-table](https://s3.amazonaws.com/udacity-hosted-downloads/t-table.jpg)\n",
    "\n",
    "**There are literally hundreds of different hypothesis tests!** However, instead of memorizing how to perform all of these tests, you can find the statistic(s) that best estimates the parameter(s) you want to estimate, you can `bootstrap` to simulate the sampling distribution. Then you can `use your sampling distribution` to assist in choosing the appropriate hypothesis.\n",
    "\n",
    "> Data and the statistics collected from data are useful as a means to understanding values that are true about an entire population of interest.\n",
    "\n",
    "\n"
   ]
  },
  {
   "cell_type": "markdown",
   "metadata": {},
   "source": [
    "### Exercise: Simulating From the Null Hypothesis"
   ]
  },
  {
   "cell_type": "code",
   "execution_count": 15,
   "metadata": {},
   "outputs": [],
   "source": [
    "import pandas as pd\n",
    "import numpy as np\n",
    "import matplotlib.pyplot as plt\n",
    "import seaborn as sns\n",
    "\n",
    "%matplotlib inline\n",
    "np.random.seed(42)\n",
    "\n",
    "full_data = pd.read_csv('data/coffee_dataset.csv')\n",
    "sample_data = full_data.sample(200)"
   ]
  },
  {
   "cell_type": "markdown",
   "metadata": {},
   "source": [
    "1. If you were interested in studying whether the average height for coffee drinkers is the same as for non-coffee drinkers, what would the null and alternative hypotheses be?"
   ]
  },
  {
   "cell_type": "markdown",
   "metadata": {},
   "source": [
    "H0 >> µ1 == µ2 <br>\n",
    "H1 >> µ1 != µ2"
   ]
  },
  {
   "cell_type": "markdown",
   "metadata": {},
   "source": [
    "2. If you were interested in studying whether the average height for coffee drinkers is less than non-coffee drinkers, what would the null and alternative hypotheses be?"
   ]
  },
  {
   "cell_type": "markdown",
   "metadata": {},
   "source": [
    "µ1 => average height for coffee drinkers<br>\n",
    "µ2 => average height for non-coffee drinkers<br>\n",
    "\n",
    "H0 >> µ1 >= µ2<br>\n",
    "H1 >> µ1 < µ2"
   ]
  },
  {
   "cell_type": "markdown",
   "metadata": {},
   "source": [
    "3. For 10,000 iterations: bootstrap the sample data, calculate the mean height for coffee drinkers and non-coffee drinkers, and calculate the difference in means for each sample. You will want to have three arrays at the end of the iterations - one for each mean and one for the difference in means."
   ]
  },
  {
   "cell_type": "code",
   "execution_count": 2,
   "metadata": {},
   "outputs": [
    {
     "data": {
      "text/html": [
       "<div>\n",
       "<style scoped>\n",
       "    .dataframe tbody tr th:only-of-type {\n",
       "        vertical-align: middle;\n",
       "    }\n",
       "\n",
       "    .dataframe tbody tr th {\n",
       "        vertical-align: top;\n",
       "    }\n",
       "\n",
       "    .dataframe thead th {\n",
       "        text-align: right;\n",
       "    }\n",
       "</style>\n",
       "<table border=\"1\" class=\"dataframe\">\n",
       "  <thead>\n",
       "    <tr style=\"text-align: right;\">\n",
       "      <th></th>\n",
       "      <th>user_id</th>\n",
       "      <th>age</th>\n",
       "      <th>drinks_coffee</th>\n",
       "      <th>height</th>\n",
       "    </tr>\n",
       "  </thead>\n",
       "  <tbody>\n",
       "    <tr>\n",
       "      <th>2402</th>\n",
       "      <td>2874</td>\n",
       "      <td>&lt;21</td>\n",
       "      <td>True</td>\n",
       "      <td>64.357154</td>\n",
       "    </tr>\n",
       "    <tr>\n",
       "      <th>2864</th>\n",
       "      <td>3670</td>\n",
       "      <td>&gt;=21</td>\n",
       "      <td>True</td>\n",
       "      <td>66.859636</td>\n",
       "    </tr>\n",
       "    <tr>\n",
       "      <th>2167</th>\n",
       "      <td>7441</td>\n",
       "      <td>&lt;21</td>\n",
       "      <td>False</td>\n",
       "      <td>66.659561</td>\n",
       "    </tr>\n",
       "    <tr>\n",
       "      <th>507</th>\n",
       "      <td>2781</td>\n",
       "      <td>&gt;=21</td>\n",
       "      <td>True</td>\n",
       "      <td>70.166241</td>\n",
       "    </tr>\n",
       "    <tr>\n",
       "      <th>1817</th>\n",
       "      <td>2875</td>\n",
       "      <td>&gt;=21</td>\n",
       "      <td>True</td>\n",
       "      <td>71.369120</td>\n",
       "    </tr>\n",
       "  </tbody>\n",
       "</table>\n",
       "</div>"
      ],
      "text/plain": [
       "      user_id   age  drinks_coffee     height\n",
       "2402     2874   <21           True  64.357154\n",
       "2864     3670  >=21           True  66.859636\n",
       "2167     7441   <21          False  66.659561\n",
       "507      2781  >=21           True  70.166241\n",
       "1817     2875  >=21           True  71.369120"
      ]
     },
     "execution_count": 2,
     "metadata": {},
     "output_type": "execute_result"
    }
   ],
   "source": [
    "sample_data.head()"
   ]
  },
  {
   "cell_type": "code",
   "execution_count": 7,
   "metadata": {},
   "outputs": [],
   "source": [
    "df_bootstrap = pd.DataFrame()\n",
    "for i in range(10000):\n",
    "    df_subsample = sample_data.sample(200, replace=True)\n",
    "    mean_coffe = df_subsample.query('drinks_coffee == True')['height'].mean()\n",
    "    mean_nonCoffe = df_subsample.query('drinks_coffee == False')['height'].mean()\n",
    "    diff = mean_coffe - mean_nonCoffe\n",
    "    df_bootstrap = pd.concat([df_bootstrap, pd.DataFrame({'mean_coffe':[mean_coffe],\n",
    "                                                          'mean_nonCoffe':[mean_nonCoffe],\n",
    "                                                        'diff':[diff]})\n",
    "                                                          ])"
   ]
  },
  {
   "cell_type": "markdown",
   "metadata": {},
   "source": [
    "4. Now, use your observed sampling distribution for the difference in means and [the docs](https://docs.scipy.org/doc/numpy-1.13.0/reference/generated/numpy.random.normal.html) to simulate what you would expect the sampling distribution to be if the null hypothesis is true. You can do this be recentering your distribution at zero. Also, calculate the observed sample mean difference in sample_data. "
   ]
  },
  {
   "cell_type": "code",
   "execution_count": 8,
   "metadata": {},
   "outputs": [
    {
     "data": {
      "text/html": [
       "<div>\n",
       "<style scoped>\n",
       "    .dataframe tbody tr th:only-of-type {\n",
       "        vertical-align: middle;\n",
       "    }\n",
       "\n",
       "    .dataframe tbody tr th {\n",
       "        vertical-align: top;\n",
       "    }\n",
       "\n",
       "    .dataframe thead th {\n",
       "        text-align: right;\n",
       "    }\n",
       "</style>\n",
       "<table border=\"1\" class=\"dataframe\">\n",
       "  <thead>\n",
       "    <tr style=\"text-align: right;\">\n",
       "      <th></th>\n",
       "      <th>mean_coffe</th>\n",
       "      <th>mean_nonCoffe</th>\n",
       "      <th>diff</th>\n",
       "    </tr>\n",
       "  </thead>\n",
       "  <tbody>\n",
       "    <tr>\n",
       "      <th>0</th>\n",
       "      <td>68.322739</td>\n",
       "      <td>66.754448</td>\n",
       "      <td>1.568291</td>\n",
       "    </tr>\n",
       "    <tr>\n",
       "      <th>0</th>\n",
       "      <td>68.030389</td>\n",
       "      <td>67.419444</td>\n",
       "      <td>0.610944</td>\n",
       "    </tr>\n",
       "    <tr>\n",
       "      <th>0</th>\n",
       "      <td>67.856666</td>\n",
       "      <td>66.977258</td>\n",
       "      <td>0.879409</td>\n",
       "    </tr>\n",
       "    <tr>\n",
       "      <th>0</th>\n",
       "      <td>67.980684</td>\n",
       "      <td>66.375003</td>\n",
       "      <td>1.605680</td>\n",
       "    </tr>\n",
       "    <tr>\n",
       "      <th>0</th>\n",
       "      <td>68.026132</td>\n",
       "      <td>66.613822</td>\n",
       "      <td>1.412310</td>\n",
       "    </tr>\n",
       "  </tbody>\n",
       "</table>\n",
       "</div>"
      ],
      "text/plain": [
       "   mean_coffe  mean_nonCoffe      diff\n",
       "0   68.322739      66.754448  1.568291\n",
       "0   68.030389      67.419444  0.610944\n",
       "0   67.856666      66.977258  0.879409\n",
       "0   67.980684      66.375003  1.605680\n",
       "0   68.026132      66.613822  1.412310"
      ]
     },
     "execution_count": 8,
     "metadata": {},
     "output_type": "execute_result"
    }
   ],
   "source": [
    "df_bootstrap.head()"
   ]
  },
  {
   "cell_type": "code",
   "execution_count": 13,
   "metadata": {},
   "outputs": [
    {
     "name": "stdout",
     "output_type": "stream",
     "text": [
      "noncoffee std: 0.4046710837083366\n",
      "noncoffee std: 0.24801453015817462\n",
      "noncoffee std: 0.47148047811985727\n"
     ]
    }
   ],
   "source": [
    "# The standard deviation of the sampling distribution for the mean of those that do not drink coffee.\n",
    "print(f'noncoffee std: {df_bootstrap[\"mean_nonCoffe\"].std()}')\n",
    "# The standard deviation of the sampling distribution for the mean of those that drink coffee.\n",
    "print(f'noncoffee std: {df_bootstrap[\"mean_coffe\"].std()}')\n",
    "# The standard deviation of the sampling distribution for the difference in means of those that drink coffee and those that do not.\n",
    "print(f'noncoffee std: {df_bootstrap[\"diff\"].std()}')\n"
   ]
  },
  {
   "cell_type": "code",
   "execution_count": 21,
   "metadata": {},
   "outputs": [
    {
     "data": {
      "text/plain": [
       "<seaborn.axisgrid.FacetGrid at 0x1da10ef4e80>"
      ]
     },
     "execution_count": 21,
     "metadata": {},
     "output_type": "execute_result"
    },
    {
     "data": {
      "image/png": "[encoded data removed]",
      "text/plain": [
       "<Figure size 360x360 with 1 Axes>"
      ]
     },
     "metadata": {
      "needs_background": "light"
     },
     "output_type": "display_data"
    },
    {
     "data": {
      "image/png": "[encoded data removed]",
      "text/plain": [
       "<Figure size 360x360 with 1 Axes>"
      ]
     },
     "metadata": {
      "needs_background": "light"
     },
     "output_type": "display_data"
    },
    {
     "data": {
      "image/png": "[encoded data removed]",
      "text/plain": [
       "<Figure size 360x360 with 1 Axes>"
      ]
     },
     "metadata": {
      "needs_background": "light"
     },
     "output_type": "display_data"
    }
   ],
   "source": [
    "sns.displot(df_bootstrap[\"mean_nonCoffe\"])\n",
    "sns.displot(df_bootstrap[\"mean_coffe\"])\n",
    "sns.displot(df_bootstrap[\"mean_coffe\"])"
   ]
  },
  {
   "cell_type": "code",
   "execution_count": 22,
   "metadata": {},
   "outputs": [],
   "source": [
    "expected_vals = np.random.normal(df_bootstrap[\"mean_nonCoffe\"].mean(), df_bootstrap[\"mean_nonCoffe\"].std(), 10000)"
   ]
  },
  {
   "cell_type": "code",
   "execution_count": 24,
   "metadata": {},
   "outputs": [
    {
     "name": "stdout",
     "output_type": "stream",
     "text": [
      "66.78243849494358\n"
     ]
    },
    {
     "data": {
      "image/png": "[encoded data removed]",
      "text/plain": [
       "<Figure size 360x360 with 1 Axes>"
      ]
     },
     "metadata": {
      "needs_background": "light"
     },
     "output_type": "display_data"
    }
   ],
   "source": [
    "sns.displot(expected_vals)\n",
    "print(expected_vals.mean())"
   ]
  },
  {
   "cell_type": "markdown",
   "metadata": {},
   "source": [
    "### What Is A P-value Anyway?\n",
    "The definition of a p-value is **the probability of observing your statistic (or one more extreme in favor of the alternative) if the null hypothesis is true**.<br>\n",
    "\n",
    "In this video, you learned exactly how to calculate this value. The **more extreme in favor of the alternative** portion of this statement determines the shading associated with your p-value.<br>\n",
    "\n",
    "Therefore, you have the following cases:\n",
    "\n",
    "1. If your parameter is greater than some value in the alternative hypothesis, your shading would look like this to obtain your p-value:\n",
    "\n",
    "![pvalue1](images/p-value1.PNG)\n",
    "\n",
    "2. If your parameter is less than some value in the alternative hypothesis, your shading would look like this to obtain your p-value:\n",
    "\n",
    "![p-value2](images/p-value2.PNG)\n",
    "\n",
    "3. If your parameter is not equal to some value in the alternative hypothesis, your shading would look like this to obtain your p-value:\n",
    "\n",
    "![p-value3](images/p-value3.PNG)\n",
    "\n",
    "You could integrate the sampling distribution to obtain the area for each of these p-values. Alternatively, you will be simulating to obtain these proportions\n",
    "\n",
    "\n",
    "\n"
   ]
  },
  {
   "cell_type": "markdown",
   "metadata": {},
   "source": [
    "#### Connecting Errors and P-Values\n",
    "\n",
    "The p-value is the probability of getting our statistic or a more extreme value if the null is true.<br>\n",
    "\n",
    "Therefore, small p-values suggest our null is not true. Rather, our statistic is likely to have come from a different distribution than the null.<br>\n",
    "\n",
    "When the p-value is large, we have evidence that our statistic was likely to come from the null hypothesis. Therefore, we do not have evidence to reject the null.<br>\n",
    "\n",
    "By comparing our p-value to our type I error threshold (α), we can make our decision about which hypothesis we will choose.\n",
    "\n",
    "* pval <= α ⇒ Reject H0\n",
    "* pval > α ⇒ Fail to Reject H0 \n",
    "\n",
    "### Conclusions in Hypothesis Testing\n",
    "\n",
    "The word **accept** is one that is avoided when making statements regarding the null and alternative. You are not stating that one of the hypotheses is true. Rather, you are making a decision based on the likelihood of your data coming from the null hypothesis with regard to your type I error threshold.<br>\n",
    "\n",
    "Therefore, the wording used in conclusions of hypothesis testing includes: **We reject the null hypothesis** or **We fail to reject the null hypothesis**. This lends itself to the idea that you start with the null hypothesis true by default, and \"choosing\" the null at the end of the test would have been the choice even if no data were collected.\n",
    "\n",
    "> The way we make decisions in hypothesis testing is to compare the p-value to the type I error threshold.\n",
    "​\n"
   ]
  },
  {
   "cell_type": "markdown",
   "metadata": {},
   "source": [
    "### Calculating Errors\n",
    "\n",
    "Here are two datasets that represent two of the examples you have seen in this lesson.<br>\n",
    "\n",
    "One dataset is based on the parachute example, and the second is based on the judicial example. Neither of these datasets is based on real people.<br>\n",
    "\n",
    "Use the exercises below to assist in answering the quiz questions at the bottom of this page."
   ]
  },
  {
   "cell_type": "code",
   "execution_count": 26,
   "metadata": {},
   "outputs": [],
   "source": [
    "import numpy as np\n",
    "import pandas as pd\n",
    "\n",
    "jud_data = pd.read_csv('data/judicial_dataset_predictions.csv')\n",
    "par_data = pd.read_csv('data/parachute_dataset.csv')"
   ]
  },
  {
   "cell_type": "code",
   "execution_count": 27,
   "metadata": {},
   "outputs": [
    {
     "data": {
      "text/html": [
       "<div>\n",
       "<style scoped>\n",
       "    .dataframe tbody tr th:only-of-type {\n",
       "        vertical-align: middle;\n",
       "    }\n",
       "\n",
       "    .dataframe tbody tr th {\n",
       "        vertical-align: top;\n",
       "    }\n",
       "\n",
       "    .dataframe thead th {\n",
       "        text-align: right;\n",
       "    }\n",
       "</style>\n",
       "<table border=\"1\" class=\"dataframe\">\n",
       "  <thead>\n",
       "    <tr style=\"text-align: right;\">\n",
       "      <th></th>\n",
       "      <th>defendant_id</th>\n",
       "      <th>actual</th>\n",
       "      <th>predicted</th>\n",
       "    </tr>\n",
       "  </thead>\n",
       "  <tbody>\n",
       "    <tr>\n",
       "      <th>0</th>\n",
       "      <td>22574</td>\n",
       "      <td>innocent</td>\n",
       "      <td>innocent</td>\n",
       "    </tr>\n",
       "    <tr>\n",
       "      <th>1</th>\n",
       "      <td>35637</td>\n",
       "      <td>innocent</td>\n",
       "      <td>innocent</td>\n",
       "    </tr>\n",
       "    <tr>\n",
       "      <th>2</th>\n",
       "      <td>39919</td>\n",
       "      <td>innocent</td>\n",
       "      <td>innocent</td>\n",
       "    </tr>\n",
       "    <tr>\n",
       "      <th>3</th>\n",
       "      <td>29610</td>\n",
       "      <td>guilty</td>\n",
       "      <td>guilty</td>\n",
       "    </tr>\n",
       "    <tr>\n",
       "      <th>4</th>\n",
       "      <td>38273</td>\n",
       "      <td>innocent</td>\n",
       "      <td>innocent</td>\n",
       "    </tr>\n",
       "  </tbody>\n",
       "</table>\n",
       "</div>"
      ],
      "text/plain": [
       "   defendant_id    actual predicted\n",
       "0         22574  innocent  innocent\n",
       "1         35637  innocent  innocent\n",
       "2         39919  innocent  innocent\n",
       "3         29610    guilty    guilty\n",
       "4         38273  innocent  innocent"
      ]
     },
     "execution_count": 27,
     "metadata": {},
     "output_type": "execute_result"
    }
   ],
   "source": [
    "jud_data.head()"
   ]
  },
  {
   "cell_type": "code",
   "execution_count": 28,
   "metadata": {},
   "outputs": [
    {
     "data": {
      "text/html": [
       "<div>\n",
       "<style scoped>\n",
       "    .dataframe tbody tr th:only-of-type {\n",
       "        vertical-align: middle;\n",
       "    }\n",
       "\n",
       "    .dataframe tbody tr th {\n",
       "        vertical-align: top;\n",
       "    }\n",
       "\n",
       "    .dataframe thead th {\n",
       "        text-align: right;\n",
       "    }\n",
       "</style>\n",
       "<table border=\"1\" class=\"dataframe\">\n",
       "  <thead>\n",
       "    <tr style=\"text-align: right;\">\n",
       "      <th></th>\n",
       "      <th>parachute_id</th>\n",
       "      <th>actual</th>\n",
       "      <th>predicted</th>\n",
       "    </tr>\n",
       "  </thead>\n",
       "  <tbody>\n",
       "    <tr>\n",
       "      <th>0</th>\n",
       "      <td>3956</td>\n",
       "      <td>opens</td>\n",
       "      <td>opens</td>\n",
       "    </tr>\n",
       "    <tr>\n",
       "      <th>1</th>\n",
       "      <td>2147</td>\n",
       "      <td>opens</td>\n",
       "      <td>opens</td>\n",
       "    </tr>\n",
       "    <tr>\n",
       "      <th>2</th>\n",
       "      <td>2024</td>\n",
       "      <td>opens</td>\n",
       "      <td>opens</td>\n",
       "    </tr>\n",
       "    <tr>\n",
       "      <th>3</th>\n",
       "      <td>8325</td>\n",
       "      <td>opens</td>\n",
       "      <td>opens</td>\n",
       "    </tr>\n",
       "    <tr>\n",
       "      <th>4</th>\n",
       "      <td>6598</td>\n",
       "      <td>opens</td>\n",
       "      <td>opens</td>\n",
       "    </tr>\n",
       "  </tbody>\n",
       "</table>\n",
       "</div>"
      ],
      "text/plain": [
       "   parachute_id actual predicted\n",
       "0          3956  opens     opens\n",
       "1          2147  opens     opens\n",
       "2          2024  opens     opens\n",
       "3          8325  opens     opens\n",
       "4          6598  opens     opens"
      ]
     },
     "execution_count": 28,
     "metadata": {},
     "output_type": "execute_result"
    }
   ],
   "source": [
    "par_data.head()"
   ]
  },
  {
   "cell_type": "markdown",
   "metadata": {},
   "source": [
    "1. Above, you can see the actual and predicted columns for each of the datasets. Using the jud_data, find the proportion of errors for the dataset, and furthermore, the percentage of errors of each type. Use the results to answer the questions in quiz 1 below."
   ]
  },
  {
   "cell_type": "code",
   "execution_count": 37,
   "metadata": {},
   "outputs": [
    {
     "name": "stdout",
     "output_type": "stream",
     "text": [
      "type 1: 0.001510366607167376\n",
      "type 2: 0.04064259233832212\n"
     ]
    }
   ],
   "source": [
    "jud_type_2 = jud_data.query('actual == \"guilty\" and predicted == \"innocent\"')\n",
    "jud_type_1 = jud_data.query('actual == \"innocent\" and predicted == \"guilty\"')\n",
    "\n",
    "print(f'type 1: {jud_type_1.shape[0]/jud_data.shape[0]}')\n",
    "print(f'type 2: {jud_type_2.shape[0]/jud_data.shape[0]}')"
   ]
  },
  {
   "cell_type": "code",
   "execution_count": 31,
   "metadata": {},
   "outputs": [
    {
     "data": {
      "text/plain": [
       "0.45159961554304545"
      ]
     },
     "execution_count": 31,
     "metadata": {},
     "output_type": "execute_result"
    }
   ],
   "source": [
    "(jud_data['actual']=='innocent').mean()"
   ]
  },
  {
   "cell_type": "code",
   "execution_count": 40,
   "metadata": {},
   "outputs": [
    {
     "data": {
      "text/plain": [
       "0.4515996155430454"
      ]
     },
     "execution_count": 40,
     "metadata": {},
     "output_type": "execute_result"
    }
   ],
   "source": [
    "# If everyone was predicted to be guilty, the percentage of Type I Errors made.\n",
    "1-(jud_data['actual']=='guilty').mean()"
   ]
  },
  {
   "cell_type": "code",
   "execution_count": 33,
   "metadata": {},
   "outputs": [
    {
     "data": {
      "text/plain": [
       "opens    5781\n",
       "fails      48\n",
       "Name: actual, dtype: int64"
      ]
     },
     "execution_count": 33,
     "metadata": {},
     "output_type": "execute_result"
    }
   ],
   "source": [
    "par_data['actual'].value_counts()"
   ]
  },
  {
   "cell_type": "markdown",
   "metadata": {},
   "source": [
    "2. Above, you can see the actual and predicted columns for each of the datasets. Using the `par_data`, find the proportion of errors for the dataset, and furthermore, the percentage of errors of each type. Use the results to answer the questions in quiz 2 below."
   ]
  },
  {
   "cell_type": "code",
   "execution_count": 36,
   "metadata": {},
   "outputs": [
    {
     "name": "stdout",
     "output_type": "stream",
     "text": [
      "type 1: 0.00017155601303825698\n",
      "type 2: 0.03980099502487562\n"
     ]
    }
   ],
   "source": [
    "par_type_2 = par_data.query('actual == \"opens\" and predicted == \"fails\"')\n",
    "par_type_1 = par_data.query('actual == \"fails\" and predicted == \"opens\"')\n",
    "\n",
    "print(f'type 1: {par_type_1.shape[0]/par_data.shape[0]}')\n",
    "print(f'type 2: {par_type_2.shape[0]/par_data.shape[0]}')"
   ]
  },
  {
   "cell_type": "code",
   "execution_count": 39,
   "metadata": {},
   "outputs": [
    {
     "data": {
      "text/plain": [
       "-0.9917653113741637"
      ]
     },
     "execution_count": 39,
     "metadata": {},
     "output_type": "execute_result"
    }
   ],
   "source": [
    "# If every parachute was predicted to not open, the proportion of Type II Errors made.\n",
    "1-(par_data['actual']=='fails').mean()"
   ]
  },
  {
   "cell_type": "markdown",
   "metadata": {},
   "source": [
    "### Other Things to Consider - Impact of Large Sample Size\n",
    "\n",
    "One of the most important aspects of interpreting any statistical results (and one that is frequently overlooked) is assuring that your sample is truly representative of your population of interest.<br>\n",
    "\n",
    "Particularly in the way that data is collected today in the age of computers, **response bias** is so important to keep in mind. In the 2016 U.S election, polls conducted by many news media suggested a staggering difference from the reality of poll results. You can read about how response bias played a role [here](http://www.pewresearch.org/fact-tank/2016/11/09/why-2016-election-polls-missed-their-mark/).\n",
    "\n",
    "### Hypothesis Testing vs. Machine Learning\n",
    "\n",
    "With large sample sizes, hypothesis testing leads to even the smallest of findings as **statistically significant**. However, these findings might not be practically significant at all.<br>\n",
    "\n",
    "For example, imagine you find that **statistically** more people prefer beverage 1 to beverage 2 in a study of more than one million people. Based on this you decide to open a shop to sell beverage 1. You then find out that beverage 1 is only more popular than beverage 2 by 0.0002% (but a statistically significant amount with your large sample size). Practically, maybe you should have opened a store that sold both.<br>\n",
    "\n",
    "Hypothesis testing takes an aggregate approach towards the conclusions made based on data, as these tests are aimed at understanding population parameters (which are aggregate population values).<br>\n",
    "\n",
    "Alternatively, machine learning techniques take an individual approach towards making conclusions, as they attempt to predict an outcome for each specific data point.<br>\n",
    "\n",
    "\n",
    "\n"
   ]
  },
  {
   "cell_type": "markdown",
   "metadata": {},
   "source": [
    "### What If We Test More Than Once?\n",
    "\n",
    "When performing more than one hypothesis test, your type I error compounds. In order to correct for this, a common technique is called the **Bonferroni** correction. This correction is **very conservative**, but says that your new type I error rate should be the error rate you actually want divided by the number of tests you are performing.<br>\n",
    "\n",
    "Therefore, if you would like to hold a type I error rate of 1% for each of 20 hypothesis tests, the **Bonferroni** corrected rate would be 0.01/20 = 0.0005. This would be the new rate you should use as your comparison to the p-value for each of the 20 tests to make your decision.\n",
    "\n",
    "**Other Techniques**<br>\n",
    "Additional techniques to protect against compounding type I errors include:\n",
    "\n",
    "1. [Tukey correction](https://www.itl.nist.gov/div898/handbook/prc/section4/prc471.htm)\n",
    "2. [Q-values](https://www.nonlinear.com/support/progenesis/comet/faq/v2.0/pq-values.aspx)\n",
    "\n",
    "Since the **Bonferroni** method is too conservative when we expect correlation among metrics, we can better approach this problem with more sophisticated methods, such as the [closed testing procedure](http://en.wikipedia.org/wiki/Closed_testing_procedure), [Boole-Bonferroni bound](http://en.wikipedia.org/wiki/Bonferroni_bound), and the [Holm-Bonferroni method](http://en.wikipedia.org/wiki/Holm%E2%80%93Bonferroni_method). These are less conservative and take this correlation into account.\n",
    "\n",
    "If you do choose to use a less conservative method, just make sure the assumptions of that method are truly met in your situation, and that you're not just trying to [cheat on a p-value](http://freakonometrics.hypotheses.org/19817). Choosing a poorly suited test just to get significant results will only lead to misguided decisions that harm your company's performance in the long run."
   ]
  },
  {
   "cell_type": "markdown",
   "metadata": {},
   "source": [
    "### How Do CIs and HTs Compare?\n",
    "A two-sided hypothesis test (that is a test involving a \\neq≠ in the alternative) is the same in terms of the conclusions made as a confidence interval as long as:\n",
    "\n",
    "* 1 - CI = \\alpha1−CI=α\n",
    "\n",
    "For example, a 95% confidence interval will draw the same conclusions as a hypothesis test with a type I error rate of 0.05 in terms of which hypothesis to choose, because:\n",
    "\n",
    "* 1 - 0.95 = 0.051−0.95=0.05\n",
    "\n",
    "assuming that the alternative hypothesis is a two sided test.<br>\n",
    "\n",
    "Video on effect size [here](https://www.youtube.com/watch?v=z98xODInLCQ).\n",
    "\n",
    "### Exercise - The Impact of Large Sample Sizes\n",
    "\n",
    "When we increase our sample size, even the smallest of differences may seem significant.<br>  \n",
    "\n",
    "To illustrate this point, work through this notebook and the quiz questions that follow below.<br>\n",
    "\n",
    "Start by reading in the libraries and data.\n"
   ]
  },
  {
   "cell_type": "code",
   "execution_count": 2,
   "metadata": {},
   "outputs": [],
   "source": [
    "import pandas as pd\n",
    "import numpy as np\n",
    "import matplotlib.pyplot as plt\n",
    "import seaborn as sns\n",
    "\n",
    "%matplotlib inline\n",
    "np.random.seed(42)\n",
    "\n",
    "full_data = pd.read_csv('data/coffee_dataset.csv')"
   ]
  },
  {
   "cell_type": "markdown",
   "metadata": {},
   "source": [
    "1. In this case, imagine we are interested in testing if the mean height of all individuals in full_data is equal to 67.60 inches or `different` than 67.60. First, use `quiz 1` below to state the null and alternative hypotheses for these cases in the cell below.<br>\n",
    "\n",
    "* The mean height of everyone in the population is equal to 67.60 inches.\n",
    "* The mean height of everyone in the population is different from 67.60 inches."
   ]
  },
  {
   "cell_type": "markdown",
   "metadata": {},
   "source": [
    "2. Find:\n",
    "\n",
    "* What is the population mean height?\n",
    "* What is the standard deviation of the population heights? Create a sample set of data using the code below.\n",
    "* What is the sample mean height? Simulate the sampling distribution for the mean of five values to see the shape and plot a histogram.\n",
    "* What is the standard deviation of the sampling distribution of the mean of five draws? Use quiz 2 below to assure your answers are correct."
   ]
  },
  {
   "cell_type": "code",
   "execution_count": 3,
   "metadata": {},
   "outputs": [
    {
     "name": "stdout",
     "output_type": "stream",
     "text": [
      "mean heights: 67.59748697307937\n",
      "std heights: 3.119433206550344\n",
      "mean heights: 67.90291496440494\n",
      "std heights: 1.1413573519993707\n"
     ]
    }
   ],
   "source": [
    "# * What is the population mean height?\n",
    "print(f'mean heights: {full_data[\"height\"].mean()}')\n",
    "# * What is the standard deviation of the population heights? Create a sample set of data using the code below.\n",
    "print(f'std heights: {full_data[\"height\"].std()}')\n",
    "\n",
    "# * What is the sample mean height? Simulate the sampling distribution for the mean of five values to see the shape and plot a histogram.\n",
    "sample_data = full_data.sample(5)\n",
    "\n",
    "sample_mean = []\n",
    "for i in range(10000):\n",
    "    sample = sample_data.sample(5, replace=True)\n",
    "    sample_mean.append(sample['height'].mean()) \n",
    "\n",
    "print(f'mean heights: {np.mean(sample_mean)}')\n",
    "# * What is the standard deviation of the sampling distribution of the mean of five draws? Use quiz 2 below to assure your answers are correct.\n",
    "print(f'std heights: {np.std(sample_mean)}')"
   ]
  },
  {
   "cell_type": "code",
   "execution_count": 4,
   "metadata": {},
   "outputs": [
    {
     "data": {
      "text/plain": [
       "<seaborn.axisgrid.FacetGrid at 0x20c32fe6af0>"
      ]
     },
     "execution_count": 4,
     "metadata": {},
     "output_type": "execute_result"
    },
    {
     "data": {
      "image/png": "[encoded data removed]",
      "text/plain": [
       "<Figure size 360x360 with 1 Axes>"
      ]
     },
     "metadata": {
      "needs_background": "light"
     },
     "output_type": "display_data"
    }
   ],
   "source": [
    "sns.displot(sample_mean)"
   ]
  },
  {
   "cell_type": "markdown",
   "metadata": {},
   "source": [
    "3. Using the null and alternative hypotheses set up in question 1 and the results of your sampling distribution in question 2, simulate the mean values you would expect from the null hypothesis.  Use these simulated values to determine a p-value to make a decision about your null and alternative hypotheses.  Check your solution using **quiz 3** and **quiz 4** below.<br>\n",
    "\n",
    "Hint: Use the numpy documentation [here](https://docs.scipy.org/doc/numpy-1.13.0/reference/generated/numpy.random.normal.html) to assist with your solution."
   ]
  },
  {
   "cell_type": "code",
   "execution_count": 5,
   "metadata": {},
   "outputs": [
    {
     "name": "stdout",
     "output_type": "stream",
     "text": [
      "67.91273921060514\n"
     ]
    },
    {
     "data": {
      "text/plain": [
       "<seaborn.axisgrid.FacetGrid at 0x20c2d2ce760>"
      ]
     },
     "execution_count": 5,
     "metadata": {},
     "output_type": "execute_result"
    },
    {
     "data": {
      "image/png": "[encoded data removed]",
      "text/plain": [
       "<Figure size 360x360 with 1 Axes>"
      ]
     },
     "metadata": {
      "needs_background": "light"
     },
     "output_type": "display_data"
    }
   ],
   "source": [
    "simulated = np.random.normal(np.mean(sample_mean), np.std(sample_mean), size=10000)\n",
    "simulated_mean = simulated.mean()\n",
    "print(simulated_mean)\n",
    "sns.displot(simulated)"
   ]
  },
  {
   "cell_type": "code",
   "execution_count": 6,
   "metadata": {},
   "outputs": [],
   "source": [
    "top_limit = simulated_mean\n",
    "bottom_limit = 2*full_data[\"height\"].mean() - simulated_mean\n",
    "\n",
    "p_test = (full_data[\"height\"]>top_limit)|(full_data[\"height\"]<bottom_limit)"
   ]
  },
  {
   "cell_type": "code",
   "execution_count": 7,
   "metadata": {},
   "outputs": [
    {
     "data": {
      "text/plain": [
       "0.929724277067922"
      ]
     },
     "execution_count": 7,
     "metadata": {},
     "output_type": "execute_result"
    }
   ],
   "source": [
    "p_test.mean()"
   ]
  },
  {
   "cell_type": "markdown",
   "metadata": {},
   "source": [
    "4. Now imagine if you received the same sample mean as you calculated from the sample in question 1 above, but that you actually retrieved it from a sample of 300. What would the new standard deviation be for your sampling distribution for the mean of 300 values? Additionally, what would your new p-value be for choosing between the null and alternative hypotheses you set up? Simulate the sampling distribution for the mean of five values to see the shape and plot a histogram. Use your solutions here to answer the second to last quiz question below.<br>\n",
    "\n",
    "Hint: If you get stuck, notice you can use the solution from quiz regarding finding the p-value earlier to assist with obtaining this answer with just a few small changes."
   ]
  },
  {
   "cell_type": "code",
   "execution_count": 65,
   "metadata": {},
   "outputs": [
    {
     "name": "stdout",
     "output_type": "stream",
     "text": [
      "mean heights: 67.45595376268587\n",
      "std heights: 0.1790048524875137\n"
     ]
    },
    {
     "data": {
      "text/plain": [
       "<seaborn.axisgrid.FacetGrid at 0x12825f51580>"
      ]
     },
     "execution_count": 65,
     "metadata": {},
     "output_type": "execute_result"
    },
    {
     "data": {
      "image/png": "[encoded data removed]",
      "text/plain": [
       "<Figure size 360x360 with 1 Axes>"
      ]
     },
     "metadata": {
      "needs_background": "light"
     },
     "output_type": "display_data"
    }
   ],
   "source": [
    "sample_data = full_data.sample(300)\n",
    "\n",
    "sample_mean = []\n",
    "for i in range(10000):\n",
    "    sample = sample_data.sample(300, replace=True)\n",
    "    sample_mean.append(sample['height'].mean())\n",
    "\n",
    "print(f'mean heights: {np.mean(sample_mean)}')\n",
    "# * What is the standard deviation of the sampling distribution of the mean of five draws? Use quiz 2 below to assure your answers are correct.\n",
    "print(f'std heights: {np.std(sample_mean)}')\n",
    "\n",
    "sns.displot(sample_mean)"
   ]
  },
  {
   "cell_type": "code",
   "execution_count": 66,
   "metadata": {},
   "outputs": [
    {
     "name": "stdout",
     "output_type": "stream",
     "text": [
      "67.4562124962863\n"
     ]
    },
    {
     "data": {
      "text/plain": [
       "<seaborn.axisgrid.FacetGrid at 0x12827172430>"
      ]
     },
     "execution_count": 66,
     "metadata": {},
     "output_type": "execute_result"
    },
    {
     "data": {
      "image/png": "[encoded data removed]",
      "text/plain": [
       "<Figure size 360x360 with 1 Axes>"
      ]
     },
     "metadata": {
      "needs_background": "light"
     },
     "output_type": "display_data"
    }
   ],
   "source": [
    "simulated = np.random.normal(np.mean(sample_mean), np.std(sample_mean), size=10000)\n",
    "simulated_mean = simulated.mean()\n",
    "print(simulated_mean)\n",
    "\n",
    "sns.displot(simulated)"
   ]
  },
  {
   "cell_type": "code",
   "execution_count": 67,
   "metadata": {},
   "outputs": [
    {
     "data": {
      "text/plain": [
       "0.9996637525218561"
      ]
     },
     "execution_count": 67,
     "metadata": {},
     "output_type": "execute_result"
    }
   ],
   "source": [
    "bottom_limit = simulated_mean\n",
    "top_limit = 2*sample_data[\"height\"].mean() - simulated_mean\n",
    "\n",
    "p_test = (full_data[\"height\"]>top_limit)|(full_data[\"height\"]<bottom_limit)\n",
    "\n",
    "p_test.mean()"
   ]
  },
  {
   "cell_type": "markdown",
   "metadata": {},
   "source": [
    "> Even the smallest differences can be very significative if we are working with large sample sizes"
   ]
  },
  {
   "cell_type": "markdown",
   "metadata": {},
   "source": [
    "### Multiple Tests\n",
    "\n",
    "In this notebook, you will work with a similar dataset to the judicial dataset you were working with before.  However, instead of working with decisions already being provided, you are provided with a p-value associated with each individual.  \n",
    "\n",
    "Use the questions in the notebook and the dataset to answer the questions at the bottom of this page.\n",
    "\n",
    "Here is a glimpse of the data you will be working with:"
   ]
  },
  {
   "cell_type": "code",
   "execution_count": 38,
   "metadata": {},
   "outputs": [
    {
     "data": {
      "text/html": [
       "<div>\n",
       "<style scoped>\n",
       "    .dataframe tbody tr th:only-of-type {\n",
       "        vertical-align: middle;\n",
       "    }\n",
       "\n",
       "    .dataframe tbody tr th {\n",
       "        vertical-align: top;\n",
       "    }\n",
       "\n",
       "    .dataframe thead th {\n",
       "        text-align: right;\n",
       "    }\n",
       "</style>\n",
       "<table border=\"1\" class=\"dataframe\">\n",
       "  <thead>\n",
       "    <tr style=\"text-align: right;\">\n",
       "      <th></th>\n",
       "      <th>defendant_id</th>\n",
       "      <th>actual</th>\n",
       "      <th>pvalue</th>\n",
       "    </tr>\n",
       "  </thead>\n",
       "  <tbody>\n",
       "    <tr>\n",
       "      <th>0</th>\n",
       "      <td>22574</td>\n",
       "      <td>innocent</td>\n",
       "      <td>0.294126</td>\n",
       "    </tr>\n",
       "    <tr>\n",
       "      <th>1</th>\n",
       "      <td>35637</td>\n",
       "      <td>innocent</td>\n",
       "      <td>0.417981</td>\n",
       "    </tr>\n",
       "    <tr>\n",
       "      <th>2</th>\n",
       "      <td>39919</td>\n",
       "      <td>innocent</td>\n",
       "      <td>0.177542</td>\n",
       "    </tr>\n",
       "    <tr>\n",
       "      <th>3</th>\n",
       "      <td>29610</td>\n",
       "      <td>guilty</td>\n",
       "      <td>0.015023</td>\n",
       "    </tr>\n",
       "    <tr>\n",
       "      <th>4</th>\n",
       "      <td>38273</td>\n",
       "      <td>innocent</td>\n",
       "      <td>0.075371</td>\n",
       "    </tr>\n",
       "  </tbody>\n",
       "</table>\n",
       "</div>"
      ],
      "text/plain": [
       "   defendant_id    actual    pvalue\n",
       "0         22574  innocent  0.294126\n",
       "1         35637  innocent  0.417981\n",
       "2         39919  innocent  0.177542\n",
       "3         29610    guilty  0.015023\n",
       "4         38273  innocent  0.075371"
      ]
     },
     "execution_count": 38,
     "metadata": {},
     "output_type": "execute_result"
    }
   ],
   "source": [
    "import numpy as np\n",
    "import pandas as pd\n",
    "import seaborn as sns\n",
    "import matplotlib.pyplot as plt\n",
    "\n",
    "df = pd.read_csv('data/judicial_dataset_pvalues.csv')\n",
    "df.head()"
   ]
  },
  {
   "cell_type": "markdown",
   "metadata": {},
   "source": [
    "1. Remember back to the null and alternative hypotheses for this example. Use that information to determine the answer for **Quiz 1** and **Quiz 2** below.\n",
    "\n",
    "* Quiz 1: What does a p-value signify in this example?\n",
    "\n",
    ">The probability of us observing the facts about an individual's case that are in favor of them being guilty, assuming they are truly innocent.\n",
    "\n",
    "* Quiz 2: Match the description to each correct value for this case.\n",
    "\n",
    "![quiz_2](images/quiz_2.PNG)\n",
    "\n",
    "2. If we consider each individual as a single hypothesis test, find the conservative Bonferroni corrected alpha level we should use to maintain a 5% type I error rate."
   ]
  },
  {
   "cell_type": "code",
   "execution_count": 39,
   "metadata": {},
   "outputs": [
    {
     "data": {
      "text/plain": [
       "6.86530275985171e-06"
      ]
     },
     "execution_count": 39,
     "metadata": {},
     "output_type": "execute_result"
    }
   ],
   "source": [
    "0.05/df.shape[0]"
   ]
  },
  {
   "cell_type": "code",
   "execution_count": 41,
   "metadata": {},
   "outputs": [
    {
     "name": "stdout",
     "output_type": "stream",
     "text": [
      "noBonferroniProp 0.5092681587257998\n",
      "bonferroniProp 0.0\n",
      "t1 bonferroni 0.0\n",
      "t1 noBonferroni 0.001510366607167376\n"
     ]
    }
   ],
   "source": [
    "# without Bonferroni\n",
    "df['noBonferroni'] = df['pvalue'] < (0.05)\n",
    "# with Bonferroni\n",
    "df['bonferroni'] = df['pvalue'] < 0.05/df.shape[0]\n",
    "\n",
    "\n",
    "print(f'noBonferroniProp {np.mean(df[\"noBonferroni\"])}')\n",
    "print(f'bonferroniProp {np.mean(df[\"bonferroni\"])}')\n",
    "\n",
    "t1_bonferroni = df.query('actual==\"innocent\" and bonferroni==True').shape[0] / df.shape[0]\n",
    "t1_noBonferroni = df.query('actual==\"innocent\" and noBonferroni==True').shape[0] / df.shape[0]\n",
    "\n",
    "print(f\"t1 bonferroni {t1_bonferroni}\")\n",
    "print(f\"t1 noBonferroni {t1_noBonferroni}\")\n",
    "\n"
   ]
  },
  {
   "cell_type": "markdown",
   "metadata": {},
   "source": [
    "4. Think about how hypothesis tests can be used, and why this example wouldn't exactly work in terms of being able to use hypothesis testing in this way.  Check your answer with **Quiz 4** below.\n",
    "\n",
    "> This is looking at individuals, and that is more of the aim for machine learning techniques.  Hypothesis testing and confidence intervals are for population parameters. Therefore, they are not meant to tell us about individual cases, and we wouldn't obtain p-values for individuals in this way. We could get probabilities, but that isn't the same as the probabilities associated with the relationship to sampling distributions.\n",
    "\n",
    "### Recap Hypothesis Testing\n",
    "\n",
    "How to set up hypothesis tests. You learned the null hypothesis is what we assume to be true before we collect any data, and the alternative is usually what we want to try and prove to be true.<br>\n",
    "\n",
    "\n",
    "You learned about Type I and Type II errors. You learned that Type I errors are the worst type of errors, and these are associated with choosing the alternative when the null hypothesis is actually true.<br>\n",
    "\n",
    "\n",
    "You learned that p-values are the probability of observing your data or something more extreme in favor of the alternative given the null hypothesis is true. You learned that using a confidence interval from the bootstrapping samples, you can essentially make the same decisions as in hypothesis testing (without all of the confusion of p-values).<br>\n",
    "\n",
    "\n",
    "You learned how to make decisions based on p-values. That is, if the p-value is less than your Type I error threshold, then you have evidence to reject the null and choose the alternative. Otherwise, you fail to reject the null hypothesis.<br>\n",
    "\n",
    "\n",
    "You learned that when sample sizes are really large, everything appears statistically significant (that is you end up rejecting essentially every null), but these results may not be practically significant.<br>\n",
    "\n",
    "\n",
    "You learned that when performing multiple hypothesis tests, your errors will compound. Therefore, using some sort of correction to maintain your true Type I error rate is important. A simple, but very conservative approach is to use what is known as a Bonferroni correction, which says you should just divide your \\alphaα level (or Type I error threshold) by the number of tests performed.<br>\n",
    "\n",
    "This lesson is often the most challenging for students throughout the entire nanodegree program. In order to really have the ideas here stick, it can help to put them down in your own words.<br>\n",
    "\n",
    "Below are some quizzes to test that you are leaving with the main ideas from this lesson, as well as a [link to a great blog post](https://rebeccaebarnes.github.io/2018/05/01/what-is-a-p-value), written by one of your fellow classmates, to assist with the ideas of this lesson!\n",
    "\n",
    "![recap1](images/recap1.PNG)"
   ]
  },
  {
   "cell_type": "markdown",
   "metadata": {},
   "source": [
    "## A/B Testing\n",
    "\n",
    "A/B tests are used to test changes on a web page by running an experiment where a control group sees the old version, while the **experiment group** sees the new version. A **metric** is then chosen to measure the level of engagement from users in each group. These results are then used to judge whether one version is more effective than the other. A/B testing is very much like hypothesis testing with the following hypotheses:\n",
    "\n",
    "* **Null Hypothesis**: The new version is no better, or even worse, than the old version\n",
    "* **Alternative Hypothesis**: The new version is better than the old version\n",
    "\n",
    "If we fail to reject the null hypothesis, the results would suggest keeping the old version. If we reject the null hypothesis, the results would suggest launching the change. These tests can be used for a wide variety of changes, from large feature additions to small adjustments in color, to see what change maximizes your metric the most.<br>\n",
    "\n",
    "A/B testing also has its drawbacks. It can help you compare two options, but it can't tell you about an option you haven’t considered. It can also produce bias results when tested on existing users, due to factors like change aversion and novelty effect.\n",
    "\n",
    "* **Change Aversion**: Existing users may give an unfair advantage to the old version, simply because they are unhappy with change, even if it’s ultimately for the better.\n",
    "* **Novelty Effect**: Existing users may give an unfair advantage to the new version, because they’re excited or drawn to the change, even if it isn’t any better in the long run."
   ]
  },
  {
   "cell_type": "markdown",
   "metadata": {},
   "source": [
    "### Exercise: Audacity AB Test I\n",
    "1. Match the following characteristics of this dataset: \n",
    "- total number of actions\n",
    "- number of unique users\n",
    "- sizes of the control and experiment groups (i.e., the number of unique users in each group)"
   ]
  },
  {
   "cell_type": "code",
   "execution_count": 43,
   "metadata": {},
   "outputs": [
    {
     "data": {
      "text/html": [
       "<div>\n",
       "<style scoped>\n",
       "    .dataframe tbody tr th:only-of-type {\n",
       "        vertical-align: middle;\n",
       "    }\n",
       "\n",
       "    .dataframe tbody tr th {\n",
       "        vertical-align: top;\n",
       "    }\n",
       "\n",
       "    .dataframe thead th {\n",
       "        text-align: right;\n",
       "    }\n",
       "</style>\n",
       "<table border=\"1\" class=\"dataframe\">\n",
       "  <thead>\n",
       "    <tr style=\"text-align: right;\">\n",
       "      <th></th>\n",
       "      <th>timestamp</th>\n",
       "      <th>id</th>\n",
       "      <th>group</th>\n",
       "      <th>action</th>\n",
       "    </tr>\n",
       "  </thead>\n",
       "  <tbody>\n",
       "    <tr>\n",
       "      <th>0</th>\n",
       "      <td>2016-09-24 17:42:27.839496</td>\n",
       "      <td>804196</td>\n",
       "      <td>experiment</td>\n",
       "      <td>view</td>\n",
       "    </tr>\n",
       "    <tr>\n",
       "      <th>1</th>\n",
       "      <td>2016-09-24 19:19:03.542569</td>\n",
       "      <td>434745</td>\n",
       "      <td>experiment</td>\n",
       "      <td>view</td>\n",
       "    </tr>\n",
       "    <tr>\n",
       "      <th>2</th>\n",
       "      <td>2016-09-24 19:36:00.944135</td>\n",
       "      <td>507599</td>\n",
       "      <td>experiment</td>\n",
       "      <td>view</td>\n",
       "    </tr>\n",
       "    <tr>\n",
       "      <th>3</th>\n",
       "      <td>2016-09-24 19:59:02.646620</td>\n",
       "      <td>671993</td>\n",
       "      <td>control</td>\n",
       "      <td>view</td>\n",
       "    </tr>\n",
       "    <tr>\n",
       "      <th>4</th>\n",
       "      <td>2016-09-24 20:26:14.466886</td>\n",
       "      <td>536734</td>\n",
       "      <td>experiment</td>\n",
       "      <td>view</td>\n",
       "    </tr>\n",
       "  </tbody>\n",
       "</table>\n",
       "</div>"
      ],
      "text/plain": [
       "                    timestamp      id       group action\n",
       "0  2016-09-24 17:42:27.839496  804196  experiment   view\n",
       "1  2016-09-24 19:19:03.542569  434745  experiment   view\n",
       "2  2016-09-24 19:36:00.944135  507599  experiment   view\n",
       "3  2016-09-24 19:59:02.646620  671993     control   view\n",
       "4  2016-09-24 20:26:14.466886  536734  experiment   view"
      ]
     },
     "execution_count": 43,
     "metadata": {},
     "output_type": "execute_result"
    }
   ],
   "source": [
    "import numpy as np\n",
    "import pandas as pd\n",
    "import seaborn as sns\n",
    "import matplotlib.pyplot as plt\n",
    "\n",
    "df = pd.read_csv('data/homepage_actions.csv')\n",
    "df.head()"
   ]
  },
  {
   "cell_type": "code",
   "execution_count": 51,
   "metadata": {},
   "outputs": [
    {
     "name": "stdout",
     "output_type": "stream",
     "text": [
      "actions: 8188\n",
      "unique users: 6328\n",
      "size of control group: 3332\n",
      "size of experiment group: 2996\n"
     ]
    }
   ],
   "source": [
    "# actions\n",
    "print(f\"actions: {df.shape[0]}\")\n",
    "# unique users\n",
    "df_unique = df.groupby('id').agg({'action':'count',\n",
    "                                  'group':'first'})\n",
    "print(f\"unique users: {df_unique.shape[0]}\")\n",
    "# size of control group and experiment group\n",
    "print(f\"size of control group: {df_unique[df_unique['group']=='control'].shape[0]}\")\n",
    "print(f\"size of experiment group: {df_unique[df_unique['group']=='experiment'].shape[0]}\")\n"
   ]
  },
  {
   "cell_type": "markdown",
   "metadata": {},
   "source": [
    "2. How long was the experiment run for?\n",
    "\n",
    "Hint: the records in this dataset are ordered by timestamp in increasing order"
   ]
  },
  {
   "cell_type": "code",
   "execution_count": 56,
   "metadata": {},
   "outputs": [
    {
     "name": "stdout",
     "output_type": "stream",
     "text": [
      "115 days 16:41:40.789831\n"
     ]
    }
   ],
   "source": [
    "df['timestamp'] = df['timestamp'].apply(pd.to_datetime)\n",
    "\n",
    "print(df['timestamp'].max() - df['timestamp'].min())"
   ]
  },
  {
   "cell_type": "code",
   "execution_count": 57,
   "metadata": {},
   "outputs": [
    {
     "data": {
      "text/plain": [
       "view     6328\n",
       "click    1860\n",
       "Name: action, dtype: int64"
      ]
     },
     "execution_count": 57,
     "metadata": {},
     "output_type": "execute_result"
    }
   ],
   "source": [
    "df['action'].value_counts()"
   ]
  },
  {
   "cell_type": "code",
   "execution_count": 83,
   "metadata": {},
   "outputs": [],
   "source": [
    "# crating bootstrap sampling\n",
    "diffs = []\n",
    "sample_size = df.shape[0]\n",
    "for i in range(10000):\n",
    "    df_sample = df.sample(sample_size, replace=True)\n",
    "    df_sample_unique = df_sample.groupby(['id','action']).agg({'group':'first'}).reset_index()\n",
    "    df_xp    = df_sample_unique.query(\"group=='experiment'\")\n",
    "    df_ctrl  = df_sample_unique.query(\"group=='control'\")\n",
    "\n",
    "    views_ctrl = df_ctrl.query(\"action=='view'\").shape[0]\n",
    "    clicks_ctrl = df_ctrl.query(\"action=='click'\").shape[0]\n",
    "    ctr_ctrl = clicks_ctrl/views_ctrl\n",
    "\n",
    "    views_xp = df_xp.query(\"action=='view'\").shape[0]\n",
    "    clicks_xp = df_xp.query(\"action=='click'\").shape[0]\n",
    "    ctr_xp = clicks_xp/views_ctrl\n",
    "\n",
    "    diffs.append(ctr_xp-ctr_ctrl)\n",
    "    "
   ]
  },
  {
   "cell_type": "code",
   "execution_count": 84,
   "metadata": {},
   "outputs": [
    {
     "data": {
      "text/plain": [
       "<seaborn.axisgrid.FacetGrid at 0x20c356b06a0>"
      ]
     },
     "execution_count": 84,
     "metadata": {},
     "output_type": "execute_result"
    },
    {
     "data": {
      "image/png": "[encoded data removed]",
      "text/plain": [
       "<Figure size 360x360 with 1 Axes>"
      ]
     },
     "metadata": {
      "needs_background": "light"
     },
     "output_type": "display_data"
    }
   ],
   "source": [
    "sns.displot(diffs)"
   ]
  },
  {
   "cell_type": "code",
   "execution_count": 85,
   "metadata": {},
   "outputs": [],
   "source": [
    "null_vals = np.random.normal(0, np.std(diffs), size=len(diffs))"
   ]
  },
  {
   "cell_type": "code",
   "execution_count": 90,
   "metadata": {},
   "outputs": [
    {
     "name": "stdout",
     "output_type": "stream",
     "text": [
      "Baseline\n",
      "views 6328\n",
      "clicks 1860\n",
      "ctr 0.2939317319848293\n",
      "_______________\n",
      "Experiment\n",
      "views_xp 2996\n",
      "clicks_xp 928\n",
      "ctr_xp 0.3097463284379172\n",
      "_______________\n",
      "Control\n",
      "views_ctrl 3332\n",
      "clicks_ctrl 932\n",
      "ctr_ctrl 0.2797118847539016\n",
      "_______________\n"
     ]
    }
   ],
   "source": [
    "views  = df['action'].value_counts()[0]\n",
    "clicks = df['action'].value_counts()[1]\n",
    "ctr = clicks/views\n",
    "print('Baseline')\n",
    "print(f\"views {views}\")\n",
    "print(f\"clicks {clicks}\")\n",
    "print(f\"ctr {ctr}\")\n",
    "print('_______________')\n",
    "\n",
    "print('Experiment')\n",
    "views_xp  = df.query(\"group=='experiment'\")['action'].value_counts()[0]\n",
    "clicks_xp = df.query(\"group=='experiment'\")['action'].value_counts()[1]\n",
    "ctr_xp = clicks_xp/views_xp\n",
    "print(f\"views_xp {views_xp}\")\n",
    "print(f\"clicks_xp {clicks_xp}\")\n",
    "print(f\"ctr_xp {ctr_xp}\")\n",
    "print('_______________')\n",
    "\n",
    "print('Control')\n",
    "views_ctrl  = df.query(\"group=='control'\")['action'].value_counts()[0]\n",
    "clicks_ctrl = df.query(\"group=='control'\")['action'].value_counts()[1]\n",
    "ctr_ctrl = clicks_ctrl/views_ctrl\n",
    "print(f\"views_ctrl {views_ctrl}\")\n",
    "print(f\"clicks_ctrl {clicks_ctrl}\")\n",
    "print(f\"ctr_ctrl {ctr_ctrl}\")\n",
    "print('_______________')"
   ]
  },
  {
   "cell_type": "code",
   "execution_count": 93,
   "metadata": {},
   "outputs": [
    {
     "data": {
      "text/plain": [
       "<matplotlib.lines.Line2D at 0x20c35879a30>"
      ]
     },
     "execution_count": 93,
     "metadata": {},
     "output_type": "execute_result"
    },
    {
     "data": {
      "image/png": "[encoded data removed]",
      "text/plain": [
       "<Figure size 360x360 with 1 Axes>"
      ]
     },
     "metadata": {
      "needs_background": "light"
     },
     "output_type": "display_data"
    }
   ],
   "source": [
    "obs_diff = ctr_xp - ctr_ctrl\n",
    "sns.displot(null_vals)\n",
    "plt.axvline(x=obs_diff, color='red')"
   ]
  },
  {
   "cell_type": "code",
   "execution_count": 97,
   "metadata": {},
   "outputs": [
    {
     "name": "stdout",
     "output_type": "stream",
     "text": [
      "0.0013\n"
     ]
    }
   ],
   "source": [
    "p_value = (null_vals > obs_diff).mean()\n",
    "print(p_value)"
   ]
  },
  {
   "cell_type": "markdown",
   "metadata": {},
   "source": [
    "> Based on the statistical evidence we can say that the null hypothesis is rejected! \n",
    "\n",
    "### Exercise: Audacity AB Test II\n",
    "\n",
    "The second change Audacity is A/B testing is a more career focused description on a course overview page. They hope that this change may encourage more users to enroll and complete this course. In this experiment, we’re going to analyze the following metrics:\n",
    "\n",
    "1. **Enrollment Rate**: Click through rate for the Enroll button the course overview page\n",
    "2. **Average Reading Duration**: Average number of seconds spent on the course overview page\n",
    "3. **Average Classroom Time**: Average number of days spent in the classroom for students enrolled in the course\n",
    "4. **Completion Rate**: Course completion rate for students enrolled in the course\n",
    "\n",
    "First, let's determine if the difference observed for each metric is statistically significant individually.\n",
    "\n",
    "\n"
   ]
  },
  {
   "cell_type": "code",
   "execution_count": 99,
   "metadata": {},
   "outputs": [
    {
     "data": {
      "text/html": [
       "<div>\n",
       "<style scoped>\n",
       "    .dataframe tbody tr th:only-of-type {\n",
       "        vertical-align: middle;\n",
       "    }\n",
       "\n",
       "    .dataframe tbody tr th {\n",
       "        vertical-align: top;\n",
       "    }\n",
       "\n",
       "    .dataframe thead th {\n",
       "        text-align: right;\n",
       "    }\n",
       "</style>\n",
       "<table border=\"1\" class=\"dataframe\">\n",
       "  <thead>\n",
       "    <tr style=\"text-align: right;\">\n",
       "      <th></th>\n",
       "      <th>timestamp</th>\n",
       "      <th>id</th>\n",
       "      <th>group</th>\n",
       "      <th>action</th>\n",
       "      <th>duration</th>\n",
       "    </tr>\n",
       "  </thead>\n",
       "  <tbody>\n",
       "    <tr>\n",
       "      <th>0</th>\n",
       "      <td>2016-09-24 17:14:52.012145</td>\n",
       "      <td>261869</td>\n",
       "      <td>experiment</td>\n",
       "      <td>view</td>\n",
       "      <td>130.545004</td>\n",
       "    </tr>\n",
       "    <tr>\n",
       "      <th>1</th>\n",
       "      <td>2016-09-24 18:45:09.645857</td>\n",
       "      <td>226546</td>\n",
       "      <td>experiment</td>\n",
       "      <td>view</td>\n",
       "      <td>159.862440</td>\n",
       "    </tr>\n",
       "    <tr>\n",
       "      <th>2</th>\n",
       "      <td>2016-09-24 19:16:21.002533</td>\n",
       "      <td>286353</td>\n",
       "      <td>experiment</td>\n",
       "      <td>view</td>\n",
       "      <td>79.349315</td>\n",
       "    </tr>\n",
       "    <tr>\n",
       "      <th>3</th>\n",
       "      <td>2016-09-24 19:43:06.927785</td>\n",
       "      <td>842279</td>\n",
       "      <td>experiment</td>\n",
       "      <td>view</td>\n",
       "      <td>55.536126</td>\n",
       "    </tr>\n",
       "    <tr>\n",
       "      <th>4</th>\n",
       "      <td>2016-09-24 21:08:22.790333</td>\n",
       "      <td>781883</td>\n",
       "      <td>experiment</td>\n",
       "      <td>view</td>\n",
       "      <td>204.322437</td>\n",
       "    </tr>\n",
       "  </tbody>\n",
       "</table>\n",
       "</div>"
      ],
      "text/plain": [
       "                    timestamp      id       group action    duration\n",
       "0  2016-09-24 17:14:52.012145  261869  experiment   view  130.545004\n",
       "1  2016-09-24 18:45:09.645857  226546  experiment   view  159.862440\n",
       "2  2016-09-24 19:16:21.002533  286353  experiment   view   79.349315\n",
       "3  2016-09-24 19:43:06.927785  842279  experiment   view   55.536126\n",
       "4  2016-09-24 21:08:22.790333  781883  experiment   view  204.322437"
      ]
     },
     "execution_count": 99,
     "metadata": {},
     "output_type": "execute_result"
    }
   ],
   "source": [
    "import numpy as np\n",
    "import pandas as pd\n",
    "import seaborn as sns\n",
    "import matplotlib.pyplot as plt\n",
    "\n",
    "np.random.seed(42)\n",
    "\n",
    "df = pd.read_csv('data/course_page_actions.csv')\n",
    "df.head()\n",
    "\n"
   ]
  },
  {
   "cell_type": "code",
   "execution_count": 100,
   "metadata": {},
   "outputs": [
    {
     "data": {
      "text/plain": [
       "0.2364438839848676"
      ]
     },
     "execution_count": 100,
     "metadata": {},
     "output_type": "execute_result"
    }
   ],
   "source": [
    "# Get dataframe with all records from control group\n",
    "control_df = df.query('group == \"control\"')\n",
    "\n",
    "# Compute click through rate for control group\n",
    "control_ctr = control_df.query('action == \"enroll\"').id.nunique() / control_df.query('action == \"view\"').id.nunique()\n",
    "\n",
    "# Display click through rate\n",
    "control_ctr"
   ]
  },
  {
   "cell_type": "code",
   "execution_count": 103,
   "metadata": {},
   "outputs": [
    {
     "data": {
      "text/plain": [
       "0.2668693009118541"
      ]
     },
     "execution_count": 103,
     "metadata": {},
     "output_type": "execute_result"
    }
   ],
   "source": [
    "# Get dataframe with all records from experiment group\n",
    "experiment_df = df.query(\"group=='experiment'\")\n",
    "\n",
    "# Compute click through rate for experiment group\n",
    "experiment_ctr = experiment_df.query(\"action=='enroll'\")['id'].nunique()/experiment_df.query(\"action=='view'\")['id'].nunique()\n",
    "\n",
    "# Display click through rate\n",
    "experiment_ctr"
   ]
  },
  {
   "cell_type": "code",
   "execution_count": 104,
   "metadata": {},
   "outputs": [
    {
     "data": {
      "text/plain": [
       "0.030425416926986526"
      ]
     },
     "execution_count": 104,
     "metadata": {},
     "output_type": "execute_result"
    }
   ],
   "source": [
    "# Compute the observed difference in click through rates\n",
    "obs_diff = experiment_ctr - control_ctr\n",
    "\n",
    "# Display observed difference\n",
    "obs_diff"
   ]
  },
  {
   "cell_type": "code",
   "execution_count": 105,
   "metadata": {},
   "outputs": [],
   "source": [
    "diffs = []\n",
    "for i in range(10000):\n",
    "    df_sample = df.sample(df.shape[0], replace=True)\n",
    "    df_sample_experiment = df_sample.query(\"group=='experiment'\")\n",
    "    df_sample_control = df_sample.query(\"group=='control'\")\n",
    "    experiment_ctr = df_sample_experiment.query(\"action=='enroll'\")['id'].nunique()/df_sample_experiment.query(\"action=='view'\")['id'].nunique()\n",
    "    control_ctr = df_sample_control.query('action == \"enroll\"').id.nunique() / df_sample_control.query('action == \"view\"').id.nunique()\n",
    "    diff = experiment_ctr - control_ctr\n",
    "    diffs.append(diff)\n"
   ]
  },
  {
   "cell_type": "code",
   "execution_count": 106,
   "metadata": {},
   "outputs": [],
   "source": [
    "null_vals = np.random.normal(0, np.std(diffs), 10000)"
   ]
  },
  {
   "cell_type": "code",
   "execution_count": 109,
   "metadata": {},
   "outputs": [
    {
     "name": "stdout",
     "output_type": "stream",
     "text": [
      "0.0188\n"
     ]
    },
    {
     "data": {
      "image/png": "[encoded data removed]",
      "text/plain": [
       "<Figure size 360x360 with 1 Axes>"
      ]
     },
     "metadata": {
      "needs_background": "light"
     },
     "output_type": "display_data"
    }
   ],
   "source": [
    "sns.displot(null_vals)\n",
    "plt.axvline(x=obs_diff, color='red')\n",
    "p_value = (null_vals >= obs_diff).mean() \n",
    "print(p_value)"
   ]
  },
  {
   "cell_type": "markdown",
   "metadata": {},
   "source": [
    "> Considering the alpha=0.05, we have enough evidence that the null hypothsis is rejected.\n",
    "\n",
    "\n",
    "### Exercise: Audacity AB Test III\n",
    "\n",
    "> Average reading duration\n",
    "\n",
    "Again, let's recap the steps we took to analyze the results of this A/B test.\n",
    "\n",
    "1. We computed the `observed difference` between the metric, average reading duration, for the control and experiment group.\n",
    "2. We simulated the `sampling distribution` for the difference in means (or average reading durations).\n",
    "3. We used this sampling distribution to simulate the `distribution under the null` hypothesis, by creating a random normal distribution centered at 0 with the same spread and size.\n",
    "4. We computed the `p-value` by finding the proportion of values in the null distribution that were greater than our observed difference.\n",
    "5. We used this p-value to determine the `statistical significance` of our observed difference."
   ]
  },
  {
   "cell_type": "code",
   "execution_count": 111,
   "metadata": {},
   "outputs": [
    {
     "data": {
      "text/html": [
       "<div>\n",
       "<style scoped>\n",
       "    .dataframe tbody tr th:only-of-type {\n",
       "        vertical-align: middle;\n",
       "    }\n",
       "\n",
       "    .dataframe tbody tr th {\n",
       "        vertical-align: top;\n",
       "    }\n",
       "\n",
       "    .dataframe thead th {\n",
       "        text-align: right;\n",
       "    }\n",
       "</style>\n",
       "<table border=\"1\" class=\"dataframe\">\n",
       "  <thead>\n",
       "    <tr style=\"text-align: right;\">\n",
       "      <th></th>\n",
       "      <th>timestamp</th>\n",
       "      <th>id</th>\n",
       "      <th>group</th>\n",
       "      <th>action</th>\n",
       "      <th>duration</th>\n",
       "    </tr>\n",
       "  </thead>\n",
       "  <tbody>\n",
       "    <tr>\n",
       "      <th>0</th>\n",
       "      <td>2016-09-24 17:14:52.012145</td>\n",
       "      <td>261869</td>\n",
       "      <td>experiment</td>\n",
       "      <td>view</td>\n",
       "      <td>130.545004</td>\n",
       "    </tr>\n",
       "    <tr>\n",
       "      <th>1</th>\n",
       "      <td>2016-09-24 18:45:09.645857</td>\n",
       "      <td>226546</td>\n",
       "      <td>experiment</td>\n",
       "      <td>view</td>\n",
       "      <td>159.862440</td>\n",
       "    </tr>\n",
       "    <tr>\n",
       "      <th>2</th>\n",
       "      <td>2016-09-24 19:16:21.002533</td>\n",
       "      <td>286353</td>\n",
       "      <td>experiment</td>\n",
       "      <td>view</td>\n",
       "      <td>79.349315</td>\n",
       "    </tr>\n",
       "    <tr>\n",
       "      <th>3</th>\n",
       "      <td>2016-09-24 19:43:06.927785</td>\n",
       "      <td>842279</td>\n",
       "      <td>experiment</td>\n",
       "      <td>view</td>\n",
       "      <td>55.536126</td>\n",
       "    </tr>\n",
       "    <tr>\n",
       "      <th>4</th>\n",
       "      <td>2016-09-24 21:08:22.790333</td>\n",
       "      <td>781883</td>\n",
       "      <td>experiment</td>\n",
       "      <td>view</td>\n",
       "      <td>204.322437</td>\n",
       "    </tr>\n",
       "  </tbody>\n",
       "</table>\n",
       "</div>"
      ],
      "text/plain": [
       "                    timestamp      id       group action    duration\n",
       "0  2016-09-24 17:14:52.012145  261869  experiment   view  130.545004\n",
       "1  2016-09-24 18:45:09.645857  226546  experiment   view  159.862440\n",
       "2  2016-09-24 19:16:21.002533  286353  experiment   view   79.349315\n",
       "3  2016-09-24 19:43:06.927785  842279  experiment   view   55.536126\n",
       "4  2016-09-24 21:08:22.790333  781883  experiment   view  204.322437"
      ]
     },
     "execution_count": 111,
     "metadata": {},
     "output_type": "execute_result"
    }
   ],
   "source": [
    "import numpy as np\n",
    "import pandas as pd\n",
    "import seaborn as sns\n",
    "import matplotlib.pyplot as plt\n",
    "\n",
    "np.random.seed(42)\n",
    "\n",
    "df = pd.read_csv('data/course_page_actions.csv')\n",
    "df.head()\n"
   ]
  },
  {
   "cell_type": "code",
   "execution_count": 113,
   "metadata": {},
   "outputs": [],
   "source": [
    "df_unique = df.groupby(['id', 'action', 'group'])['duration'].mean().reset_index()"
   ]
  },
  {
   "cell_type": "code",
   "execution_count": 115,
   "metadata": {},
   "outputs": [
    {
     "name": "stdout",
     "output_type": "stream",
     "text": [
      "15.514415183358906\n"
     ]
    }
   ],
   "source": [
    "df_experiment = df_unique.query(\"group == 'experiment'\")\n",
    "df_control    = df_unique.query(\"group == 'control'\")\n",
    "duration_xp = df_experiment['duration'].mean()\n",
    "df_control  = df_control['duration'].mean()\n",
    "obs_diff = duration_xp - df_control\n",
    "print(obs_diff)"
   ]
  },
  {
   "cell_type": "code",
   "execution_count": 116,
   "metadata": {},
   "outputs": [],
   "source": [
    "diffs = []\n",
    "for i in range(10000):\n",
    "    df_sample = df_unique.sample(df_unique.shape[0], replace=True)\n",
    "    df_experiment = df_sample.query(\"group == 'experiment'\")\n",
    "    df_control    = df_sample.query(\"group == 'control'\")\n",
    "    duration_xp = df_experiment['duration'].mean()\n",
    "    df_control  = df_control['duration'].mean()\n",
    "    diff = duration_xp - df_control\n",
    "    diffs.append(diff)"
   ]
  },
  {
   "cell_type": "code",
   "execution_count": 121,
   "metadata": {},
   "outputs": [
    {
     "data": {
      "text/plain": [
       "<matplotlib.lines.Line2D at 0x20c370a1e20>"
      ]
     },
     "execution_count": 121,
     "metadata": {},
     "output_type": "execute_result"
    },
    {
     "data": {
      "image/png": "[encoded data removed]",
      "text/plain": [
       "<Figure size 360x360 with 1 Axes>"
      ]
     },
     "metadata": {
      "needs_background": "light"
     },
     "output_type": "display_data"
    }
   ],
   "source": [
    "null_vals = np.random.normal(0, np.std(diffs), size=len(diffs))\n",
    "sns.displot(null_vals)\n",
    "plt.axvline(x=obs_diff, color='red')"
   ]
  },
  {
   "cell_type": "markdown",
   "metadata": {},
   "source": [
    "> We have very strong evidence to reject the null hypothesis\n",
    "\n",
    "### Exercise: Audacity AB Test IV\n",
    "\n",
    "Metric - Average Classroom Time"
   ]
  },
  {
   "cell_type": "code",
   "execution_count": 122,
   "metadata": {},
   "outputs": [
    {
     "data": {
      "text/html": [
       "<div>\n",
       "<style scoped>\n",
       "    .dataframe tbody tr th:only-of-type {\n",
       "        vertical-align: middle;\n",
       "    }\n",
       "\n",
       "    .dataframe tbody tr th {\n",
       "        vertical-align: top;\n",
       "    }\n",
       "\n",
       "    .dataframe thead th {\n",
       "        text-align: right;\n",
       "    }\n",
       "</style>\n",
       "<table border=\"1\" class=\"dataframe\">\n",
       "  <thead>\n",
       "    <tr style=\"text-align: right;\">\n",
       "      <th></th>\n",
       "      <th>timestamp</th>\n",
       "      <th>id</th>\n",
       "      <th>group</th>\n",
       "      <th>total_days</th>\n",
       "      <th>completed</th>\n",
       "    </tr>\n",
       "  </thead>\n",
       "  <tbody>\n",
       "    <tr>\n",
       "      <th>0</th>\n",
       "      <td>2015-08-10 17:06:01.032740</td>\n",
       "      <td>610019</td>\n",
       "      <td>experiment</td>\n",
       "      <td>97</td>\n",
       "      <td>True</td>\n",
       "    </tr>\n",
       "    <tr>\n",
       "      <th>1</th>\n",
       "      <td>2015-08-10 17:15:28.950975</td>\n",
       "      <td>690224</td>\n",
       "      <td>control</td>\n",
       "      <td>75</td>\n",
       "      <td>False</td>\n",
       "    </tr>\n",
       "    <tr>\n",
       "      <th>2</th>\n",
       "      <td>2015-08-10 17:34:40.920384</td>\n",
       "      <td>564994</td>\n",
       "      <td>experiment</td>\n",
       "      <td>128</td>\n",
       "      <td>True</td>\n",
       "    </tr>\n",
       "    <tr>\n",
       "      <th>3</th>\n",
       "      <td>2015-08-10 17:50:39.847374</td>\n",
       "      <td>849588</td>\n",
       "      <td>experiment</td>\n",
       "      <td>66</td>\n",
       "      <td>False</td>\n",
       "    </tr>\n",
       "    <tr>\n",
       "      <th>4</th>\n",
       "      <td>2015-08-10 19:10:40.650599</td>\n",
       "      <td>849826</td>\n",
       "      <td>experiment</td>\n",
       "      <td>34</td>\n",
       "      <td>False</td>\n",
       "    </tr>\n",
       "  </tbody>\n",
       "</table>\n",
       "</div>"
      ],
      "text/plain": [
       "                    timestamp      id       group  total_days  completed\n",
       "0  2015-08-10 17:06:01.032740  610019  experiment          97       True\n",
       "1  2015-08-10 17:15:28.950975  690224     control          75      False\n",
       "2  2015-08-10 17:34:40.920384  564994  experiment         128       True\n",
       "3  2015-08-10 17:50:39.847374  849588  experiment          66      False\n",
       "4  2015-08-10 19:10:40.650599  849826  experiment          34      False"
      ]
     },
     "execution_count": 122,
     "metadata": {},
     "output_type": "execute_result"
    }
   ],
   "source": [
    "import numpy as np\n",
    "import pandas as pd\n",
    "import seaborn as sns\n",
    "import matplotlib.pyplot as plt\n",
    "\n",
    "np.random.seed(42)\n",
    "\n",
    "df = pd.read_csv('data/classroom_actions.csv')\n",
    "df.head()"
   ]
  },
  {
   "cell_type": "code",
   "execution_count": 125,
   "metadata": {},
   "outputs": [
    {
     "data": {
      "text/plain": [
       "(73.36899038461539, 74.6715935334873)"
      ]
     },
     "execution_count": 125,
     "metadata": {},
     "output_type": "execute_result"
    }
   ],
   "source": [
    "# The total_days represents the total amount of time\n",
    "# each student has spent in classroom.\n",
    "# get the average classroom time for control group\n",
    "control_mean = df.query(\"group == 'control'\")['total_days'].mean()\n",
    "\n",
    "# get the average classroom time for experiment group\n",
    "experiment_mean = df.query(\"group == 'experiment'\")['total_days'].mean()\n",
    "\n",
    "# display average classroom time for each group\n",
    "control_mean, experiment_mean"
   ]
  },
  {
   "cell_type": "code",
   "execution_count": 124,
   "metadata": {},
   "outputs": [
    {
     "data": {
      "text/plain": [
       "1.3026031488719099"
      ]
     },
     "execution_count": 124,
     "metadata": {},
     "output_type": "execute_result"
    }
   ],
   "source": [
    "# compute observed difference in classroom time\n",
    "obs_diff = experiment_mean - control_mean\n",
    "\n",
    "# display observed difference\n",
    "obs_diff"
   ]
  },
  {
   "cell_type": "code",
   "execution_count": 126,
   "metadata": {},
   "outputs": [],
   "source": [
    "diffs = []\n",
    "for i in range(10000):\n",
    "    df_sample = df.sample(df.shape[0], replace=True)\n",
    "    control_mean    = df_sample.query(\"group == 'control'\")['total_days'].mean()\n",
    "    experiment_mean = df_sample.query(\"group == 'experiment'\")['total_days'].mean()\n",
    "    diff = experiment_mean - control_mean\n",
    "    diffs.append(diff)\n",
    "\n"
   ]
  },
  {
   "cell_type": "code",
   "execution_count": 127,
   "metadata": {},
   "outputs": [
    {
     "data": {
      "text/plain": [
       "<seaborn.axisgrid.FacetGrid at 0x20c36eff3d0>"
      ]
     },
     "execution_count": 127,
     "metadata": {},
     "output_type": "execute_result"
    },
    {
     "data": {
      "image/png": "[encoded data removed]",
      "text/plain": [
       "<Figure size 360x360 with 1 Axes>"
      ]
     },
     "metadata": {
      "needs_background": "light"
     },
     "output_type": "display_data"
    }
   ],
   "source": [
    "sns.displot(diffs)"
   ]
  },
  {
   "cell_type": "code",
   "execution_count": 128,
   "metadata": {},
   "outputs": [],
   "source": [
    "null_vals = np.random.normal(0, np.std(diffs), size=10000)"
   ]
  },
  {
   "cell_type": "code",
   "execution_count": 129,
   "metadata": {},
   "outputs": [
    {
     "data": {
      "text/plain": [
       "<matplotlib.lines.Line2D at 0x20c351d8850>"
      ]
     },
     "execution_count": 129,
     "metadata": {},
     "output_type": "execute_result"
    },
    {
     "data": {
      "image/png": "[encoded data removed]",
      "text/plain": [
       "<Figure size 360x360 with 1 Axes>"
      ]
     },
     "metadata": {
      "needs_background": "light"
     },
     "output_type": "display_data"
    }
   ],
   "source": [
    "sns.displot(null_vals)\n",
    "plt.axvline(x=obs_diff, color='red')"
   ]
  },
  {
   "cell_type": "code",
   "execution_count": 131,
   "metadata": {},
   "outputs": [
    {
     "name": "stdout",
     "output_type": "stream",
     "text": [
      "0.0384\n"
     ]
    }
   ],
   "source": [
    "p_value = (null_vals>obs_diff).mean()\n",
    "print(p_value)"
   ]
  },
  {
   "cell_type": "markdown",
   "metadata": {},
   "source": [
    "> Based on the result we can say that we have statistically relevant data to reject the null hypothesis for an alpha of 0,05, but the observed difference is not practically significant (just 1.3 days more, for a mean of 74 days)\n",
    "\n",
    "### Exercise: Audacity AB Test V\n",
    "\n",
    "Metric - Completion Rate"
   ]
  },
  {
   "cell_type": "code",
   "execution_count": 44,
   "metadata": {},
   "outputs": [
    {
     "data": {
      "text/html": [
       "<div>\n",
       "<style scoped>\n",
       "    .dataframe tbody tr th:only-of-type {\n",
       "        vertical-align: middle;\n",
       "    }\n",
       "\n",
       "    .dataframe tbody tr th {\n",
       "        vertical-align: top;\n",
       "    }\n",
       "\n",
       "    .dataframe thead th {\n",
       "        text-align: right;\n",
       "    }\n",
       "</style>\n",
       "<table border=\"1\" class=\"dataframe\">\n",
       "  <thead>\n",
       "    <tr style=\"text-align: right;\">\n",
       "      <th></th>\n",
       "      <th>timestamp</th>\n",
       "      <th>id</th>\n",
       "      <th>group</th>\n",
       "      <th>total_days</th>\n",
       "      <th>completed</th>\n",
       "    </tr>\n",
       "  </thead>\n",
       "  <tbody>\n",
       "    <tr>\n",
       "      <th>0</th>\n",
       "      <td>2015-08-10 17:06:01.032740</td>\n",
       "      <td>610019</td>\n",
       "      <td>experiment</td>\n",
       "      <td>97</td>\n",
       "      <td>True</td>\n",
       "    </tr>\n",
       "    <tr>\n",
       "      <th>1</th>\n",
       "      <td>2015-08-10 17:15:28.950975</td>\n",
       "      <td>690224</td>\n",
       "      <td>control</td>\n",
       "      <td>75</td>\n",
       "      <td>False</td>\n",
       "    </tr>\n",
       "    <tr>\n",
       "      <th>2</th>\n",
       "      <td>2015-08-10 17:34:40.920384</td>\n",
       "      <td>564994</td>\n",
       "      <td>experiment</td>\n",
       "      <td>128</td>\n",
       "      <td>True</td>\n",
       "    </tr>\n",
       "    <tr>\n",
       "      <th>3</th>\n",
       "      <td>2015-08-10 17:50:39.847374</td>\n",
       "      <td>849588</td>\n",
       "      <td>experiment</td>\n",
       "      <td>66</td>\n",
       "      <td>False</td>\n",
       "    </tr>\n",
       "    <tr>\n",
       "      <th>4</th>\n",
       "      <td>2015-08-10 19:10:40.650599</td>\n",
       "      <td>849826</td>\n",
       "      <td>experiment</td>\n",
       "      <td>34</td>\n",
       "      <td>False</td>\n",
       "    </tr>\n",
       "  </tbody>\n",
       "</table>\n",
       "</div>"
      ],
      "text/plain": [
       "                    timestamp      id       group  total_days  completed\n",
       "0  2015-08-10 17:06:01.032740  610019  experiment          97       True\n",
       "1  2015-08-10 17:15:28.950975  690224     control          75      False\n",
       "2  2015-08-10 17:34:40.920384  564994  experiment         128       True\n",
       "3  2015-08-10 17:50:39.847374  849588  experiment          66      False\n",
       "4  2015-08-10 19:10:40.650599  849826  experiment          34      False"
      ]
     },
     "execution_count": 44,
     "metadata": {},
     "output_type": "execute_result"
    }
   ],
   "source": [
    "import numpy as np\n",
    "import pandas as pd\n",
    "import seaborn as sns\n",
    "import matplotlib.pyplot as plt\n",
    "\n",
    "np.random.seed(42)\n",
    "\n",
    "df = pd.read_csv('data/classroom_actions.csv')\n",
    "df.head()"
   ]
  },
  {
   "cell_type": "code",
   "execution_count": 45,
   "metadata": {},
   "outputs": [
    {
     "data": {
      "text/plain": [
       "0.3719951923076923"
      ]
     },
     "execution_count": 45,
     "metadata": {},
     "output_type": "execute_result"
    }
   ],
   "source": [
    "# Create dataframe with all control records\n",
    "control_df = df.query(\"group == 'control'\")\n",
    "\n",
    "# Compute completion rate\n",
    "control_cr = control_df['completed'].mean()\n",
    "\n",
    "# Display completion rate\n",
    "control_cr"
   ]
  },
  {
   "cell_type": "code",
   "execution_count": 46,
   "metadata": {},
   "outputs": [
    {
     "data": {
      "text/plain": [
       "0.3935334872979215"
      ]
     },
     "execution_count": 46,
     "metadata": {},
     "output_type": "execute_result"
    }
   ],
   "source": [
    "# Create dataframe with all experiment records\n",
    "experiment_df = df.query(\"group == 'experiment'\")\n",
    "\n",
    "# Compute completion rate\n",
    "experiment_ctr = experiment_df['completed'].mean()\n",
    "\n",
    "# Display completion rate\n",
    "experiment_ctr"
   ]
  },
  {
   "cell_type": "code",
   "execution_count": 47,
   "metadata": {},
   "outputs": [
    {
     "data": {
      "text/plain": [
       "0.02153829499022919"
      ]
     },
     "execution_count": 47,
     "metadata": {},
     "output_type": "execute_result"
    }
   ],
   "source": [
    "# Compute observed difference in completion rates\n",
    "obs_diff = experiment_ctr - control_cr\n",
    "\n",
    "# Display observed difference in completion rates\n",
    "obs_diff"
   ]
  },
  {
   "cell_type": "code",
   "execution_count": 48,
   "metadata": {},
   "outputs": [],
   "source": [
    "diffs =[]\n",
    "for i in range(10000):\n",
    "    df_sample = df.sample(df.shape[0], replace=True)\n",
    "    experiment_ctr = df_sample.query(\"group == 'experiment'\")['completed'].mean()\n",
    "    control_ctr = df_sample.query(\"group == 'control'\")['completed'].mean()\n",
    "    obs_diff = experiment_ctr - control_ctr\n",
    "    diffs.append(obs_diff)"
   ]
  },
  {
   "cell_type": "code",
   "execution_count": 49,
   "metadata": {},
   "outputs": [
    {
     "data": {
      "text/plain": [
       "<matplotlib.lines.Line2D at 0x26111b208e0>"
      ]
     },
     "execution_count": 49,
     "metadata": {},
     "output_type": "execute_result"
    },
    {
     "data": {
      "image/png": "[encoded data removed]",
      "text/plain": [
       "<Figure size 360x360 with 1 Axes>"
      ]
     },
     "metadata": {
      "needs_background": "light"
     },
     "output_type": "display_data"
    }
   ],
   "source": [
    "sns.displot(diffs)\n",
    "plt.axvline(obs_diff, color='red')"
   ]
  },
  {
   "cell_type": "code",
   "execution_count": 50,
   "metadata": {},
   "outputs": [],
   "source": [
    "null_vals = np.random.normal(0, np.std(diffs), size=len(diffs))"
   ]
  },
  {
   "cell_type": "code",
   "execution_count": 51,
   "metadata": {},
   "outputs": [
    {
     "name": "stdout",
     "output_type": "stream",
     "text": [
      "p_value: 0.0417\n"
     ]
    },
    {
     "data": {
      "image/png": "[encoded data removed]",
      "text/plain": [
       "<Figure size 360x360 with 1 Axes>"
      ]
     },
     "metadata": {
      "needs_background": "light"
     },
     "output_type": "display_data"
    }
   ],
   "source": [
    "sns.displot(null_vals)\n",
    "plt.axvline(obs_diff, color='red')\n",
    "p_value = (null_vals>obs_diff).mean()\n",
    "print(f\"p_value: {p_value}\")"
   ]
  },
  {
   "cell_type": "markdown",
   "metadata": {},
   "source": [
    "> We have statistical evidence given the obtained p-value, that the null hypothesis is rejected for an alpha of 0,05.\n",
    "\n",
    "### Difficulties in A/B Testing\n",
    "\n",
    "Being able to determine the statistical significance of performance differences in A/B test results is valuable. However, there are many other factors to consider to ensure your A/B tests are successful. In the real world, designing, running, and drawing conclusions from an A/B test to lead you to the right decisions can be tricky.<br>\n",
    "\n",
    "In the following quizzes, you'll find three scenarios where Audacity conducted an A/B test that led to a poor decision. Think about what went wrong and what could've been done to avoid these outcomes.<br>\n",
    "\n",
    "#### Scenario #1\n",
    "* **EXPERIMENT**: Audacity tests a new layout in the classroom to see if it would help engage students. After running an A/B test for two weeks, they find that average classroom times and completion rates decrease with the new layout, and decide against launching the change.\n",
    "* **REALITY**: What they don't know, is that the classroom times and completion rates actually increase significantly for new students using the new layout. In the long run, the layout would help existing students too, but they are currently experiencing change aversion.\n",
    "\n",
    "> In order to protect against change aversion, we need to run the experiment long enough for existing users to acclimate to the changes. Fortunately, users who are new won't have preconceptions regarding the original version.\n",
    "\n",
    "#### Scenario #2\n",
    "* **EXPERIMENT**: Audacity tests a new feature on their landing page that guides users through their course selection process and makes recommendations. After running an A/B test for a month, they find that the click through rates on course pages increase (enrollment rates increase) with the new feature, and decide to launch the change.\n",
    "* **REALITY**: What they don't know, is that although the number of total enrollments increase with the new feature, the courses they are purchasing are almost exclusively shorter and cheaper courses, which brings down the revenue for Audacity. It turns out the feature is leading more students to choose more courses with smaller commitments.\n",
    "\n",
    "> Measuring the right metric is a key component to A/B testing. In this case, we would want to account for revenue more so than enrollment rates alone.\n",
    "\n",
    "#### Scenario #3\n",
    "* **EXPERIMENT**: Audacity tests a new description for a difficult course that gets very few enrollments. They hope this description is more exciting and motivates students to take it. After running an A/B test for five weeks, they find that the enrollment rate increases with the new description, and decide to launch the change.\n",
    "* **REALITY**: What they don't know, is that although the enrollment rate appears to increase with the new description, the results from this A/B test are unreliable and largely due to chance, because fewer than 40 out of thousands of visitors enrolled during this experiment. This makes even one new student for the course substantially impact the results and potentially even the conclusion.\n",
    "\n",
    "> In this case, we needed to have more time and traffic to the page to see if the change had a significant impact.\n",
    "\n",
    "As you saw in the scenarios above, there are many factors to consider when designing an A/B test and drawing conclusions based on its results. To conclude, here are some common ones to consider.\n",
    "\n",
    "* Novelty effect and change aversion when existing users first experience a change\n",
    "* Sufficient traffic and conversions to have significant and repeatable results\n",
    "* Best metric choice for making the ultimate decision (eg. measuring revenue vs. clicks)\n",
    "* Long enough run time for the experiment to account for changes in behavior based on time of day/week or seasonal events.\n",
    "* Practical significance of a conversion rate (the cost of launching a new feature vs. the gain from the increase in conversion)\n",
    "* Consistency among test subjects in the control and experiment group (imbalance in the population represented in each group can lead to situations like Simpson's Paradox)\n"
   ]
  },
  {
   "cell_type": "markdown",
   "metadata": {},
   "source": [
    "## Regression\n",
    "\n",
    "The `response variable` or `dependent variable`is what you want to predict, while the `explanatory variable` or `response variable`is the variable you use to predict the response. A common way to visualize the relationship between two variables in linear regression is using a scatterplot. You will see more on this in the concepts ahead.\n",
    "\n",
    "### Scatter plots\n",
    "Scatter plots are a common visual for comparing two quantitative variables. A common summary statistic that relates to a scatter plot is the **correlation coefficient** commonly denoted by `r`.<br>\n",
    "\n",
    "Though there are a [few different ways](http://www.statisticssolutions.com/correlation-pearson-kendall-spearman/) to measure correlation between two variables, the most common way is with Pearson's correlation coefficient. [Pearson's correlation coefficient](https://en.wikipedia.org/wiki/Pearson_correlation_coefficient) provides the:\n",
    "\n",
    "1. Strength\n",
    "2. Direction\n",
    "\n",
    "of a **linear relationship**. [Spearman's Correlation Coefficient](https://en.wikipedia.org/wiki/Spearman%27s_rank_correlation_coefficient) does not measure linear relationships specifically, and it might be more appropriate for certain cases of associating two variables.\n",
    "\n",
    "Supporting Materials\n",
    "* [Different ways to measure correlation](https://video.udacity-data.com/topher/2019/November/5dcb372a_statistics-solutions/statistics-solutions.pdf)\n",
    "* [Pearson's correlation coefficient](https://video.udacity-data.com/topher/2019/November/5dcb373d_pearson-correlation-/pearson-correlation-.pdf)\n",
    "* [Spearman's Correlation Coefficient](https://video.udacity-data.com/topher/2019/November/5dcb374d_spearmans-coefficient-/spearmans-coefficient-.pdf)\n",
    "\n",
    "### Correlation Coefficients\n",
    "Correlation coefficients provide a measure of the `strength` and `direction` of a `linear` relationship.<br>\n",
    "\n",
    "We can tell the direction based on whether the correlation is positive or negative.<br>\n",
    "\n",
    "A rule of thumb for judging the strength:\n",
    "\n",
    "![correlation_coefficient](images/correlation_coefficient.PNG)\n",
    "\n",
    "> Notice, it didn't matter which column you selected first when calculating this value. You would get the same value either way!\n",
    "\n",
    "### What defines a line\n",
    "\n",
    "A line is commonly identified by an `intercept` and a `slope`.<br>\n",
    "\n",
    "The `intercept` is defined as `the predicted value of the response when the x-variable is zero`.\n",
    "\n",
    "The `slope` is defined as `the predicted change in the response for every one unit increase in the x-variable`.\n",
    "\n",
    "We notate the line in linear regression in the following way:\n",
    "\n",
    "![line](images/line.PNG)\n",
    "\n",
    "### Cause and Effect relations\n",
    "\n",
    "> Cause and effect relationships are difficult to determine. We generally have to control for all other factors to isolate only the change we are interested in to truly determine these types of relationships.\n",
    "\n",
    "### Fitting a Linear Model in Python with Statsmodels\n",
    "#### Housing Analysis\n"
   ]
  },
  {
   "cell_type": "code",
   "execution_count": 1,
   "metadata": {},
   "outputs": [],
   "source": [
    "import numpy as np\n",
    "import pandas as pd\n",
    "import statsmodels.api as sm"
   ]
  },
  {
   "cell_type": "code",
   "execution_count": 2,
   "metadata": {},
   "outputs": [
    {
     "data": {
      "text/html": [
       "<div>\n",
       "<style scoped>\n",
       "    .dataframe tbody tr th:only-of-type {\n",
       "        vertical-align: middle;\n",
       "    }\n",
       "\n",
       "    .dataframe tbody tr th {\n",
       "        vertical-align: top;\n",
       "    }\n",
       "\n",
       "    .dataframe thead th {\n",
       "        text-align: right;\n",
       "    }\n",
       "</style>\n",
       "<table border=\"1\" class=\"dataframe\">\n",
       "  <thead>\n",
       "    <tr style=\"text-align: right;\">\n",
       "      <th></th>\n",
       "      <th>price</th>\n",
       "      <th>area</th>\n",
       "    </tr>\n",
       "  </thead>\n",
       "  <tbody>\n",
       "    <tr>\n",
       "      <th>0</th>\n",
       "      <td>598291</td>\n",
       "      <td>1188</td>\n",
       "    </tr>\n",
       "    <tr>\n",
       "      <th>1</th>\n",
       "      <td>1744259</td>\n",
       "      <td>3512</td>\n",
       "    </tr>\n",
       "    <tr>\n",
       "      <th>2</th>\n",
       "      <td>571669</td>\n",
       "      <td>1134</td>\n",
       "    </tr>\n",
       "    <tr>\n",
       "      <th>3</th>\n",
       "      <td>493675</td>\n",
       "      <td>1940</td>\n",
       "    </tr>\n",
       "    <tr>\n",
       "      <th>4</th>\n",
       "      <td>1101539</td>\n",
       "      <td>2208</td>\n",
       "    </tr>\n",
       "  </tbody>\n",
       "</table>\n",
       "</div>"
      ],
      "text/plain": [
       "     price  area\n",
       "0   598291  1188\n",
       "1  1744259  3512\n",
       "2   571669  1134\n",
       "3   493675  1940\n",
       "4  1101539  2208"
      ]
     },
     "execution_count": 2,
     "metadata": {},
     "output_type": "execute_result"
    }
   ],
   "source": [
    "df = pd.read_csv('data/house_price_area_only.csv')\n",
    "df.head()"
   ]
  },
  {
   "cell_type": "code",
   "execution_count": 3,
   "metadata": {},
   "outputs": [],
   "source": [
    "df['b0'] = 1"
   ]
  },
  {
   "cell_type": "code",
   "execution_count": 4,
   "metadata": {},
   "outputs": [
    {
     "name": "stdout",
     "output_type": "stream",
     "text": [
      "                            OLS Regression Results                            \n",
      "==============================================================================\n",
      "Dep. Variable:                  price   R-squared:                       0.678\n",
      "Model:                            OLS   Adj. R-squared:                  0.678\n",
      "Method:                 Least Squares   F-statistic:                 1.269e+04\n",
      "Date:                Thu, 19 May 2022   Prob (F-statistic):               0.00\n",
      "Time:                        09:15:25   Log-Likelihood:                -84517.\n",
      "No. Observations:                6028   AIC:                         1.690e+05\n",
      "Df Residuals:                    6026   BIC:                         1.691e+05\n",
      "Df Model:                           1                                         \n",
      "Covariance Type:            nonrobust                                         \n",
      "==============================================================================\n",
      "                 coef    std err          t      P>|t|      [0.025      0.975]\n",
      "------------------------------------------------------------------------------\n",
      "b0          9587.8878   7637.479      1.255      0.209   -5384.303    2.46e+04\n",
      "area         348.4664      3.093    112.662      0.000     342.403     354.530\n",
      "==============================================================================\n",
      "Omnibus:                      368.609   Durbin-Watson:                   2.007\n",
      "Prob(Omnibus):                  0.000   Jarque-Bera (JB):              349.279\n",
      "Skew:                           0.534   Prob(JB):                     1.43e-76\n",
      "Kurtosis:                       2.499   Cond. No.                     4.93e+03\n",
      "==============================================================================\n",
      "\n",
      "Notes:\n",
      "[1] Standard Errors assume that the covariance matrix of the errors is correctly specified.\n",
      "[2] The condition number is large, 4.93e+03. This might indicate that there are\n",
      "strong multicollinearity or other numerical problems.\n"
     ]
    }
   ],
   "source": [
    "lin_model = sm.OLS(df['price'],df[['b0','area']],)\n",
    "results = lin_model.fit()\n",
    "print(results.summary())"
   ]
  },
  {
   "cell_type": "markdown",
   "metadata": {},
   "source": [
    "##### p-value\n",
    "> Specifically the p-value associated with each term in our model, is testing whether the population slope is equal to zero or not.\n",
    "\n",
    "#### Regression Carats vs. Price\n",
    "\n",
    "In this notebook, you will perform a similar analysis to the one you did in the previous notebook, but using a dataset holding the weight of a diamond in carats, and the price of the corresponding diamond in dollars."
   ]
  },
  {
   "cell_type": "code",
   "execution_count": 5,
   "metadata": {},
   "outputs": [],
   "source": [
    "import numpy as np\n",
    "import pandas as pd\n",
    "import matplotlib.pyplot as plt\n",
    "import seaborn as sns\n",
    "import statsmodels.api as sm"
   ]
  },
  {
   "cell_type": "code",
   "execution_count": 6,
   "metadata": {},
   "outputs": [
    {
     "data": {
      "text/html": [
       "<div>\n",
       "<style scoped>\n",
       "    .dataframe tbody tr th:only-of-type {\n",
       "        vertical-align: middle;\n",
       "    }\n",
       "\n",
       "    .dataframe tbody tr th {\n",
       "        vertical-align: top;\n",
       "    }\n",
       "\n",
       "    .dataframe thead th {\n",
       "        text-align: right;\n",
       "    }\n",
       "</style>\n",
       "<table border=\"1\" class=\"dataframe\">\n",
       "  <thead>\n",
       "    <tr style=\"text-align: right;\">\n",
       "      <th></th>\n",
       "      <th>carats</th>\n",
       "      <th>price</th>\n",
       "    </tr>\n",
       "  </thead>\n",
       "  <tbody>\n",
       "    <tr>\n",
       "      <th>0</th>\n",
       "      <td>0.17</td>\n",
       "      <td>355</td>\n",
       "    </tr>\n",
       "    <tr>\n",
       "      <th>1</th>\n",
       "      <td>0.16</td>\n",
       "      <td>328</td>\n",
       "    </tr>\n",
       "    <tr>\n",
       "      <th>2</th>\n",
       "      <td>0.17</td>\n",
       "      <td>350</td>\n",
       "    </tr>\n",
       "    <tr>\n",
       "      <th>3</th>\n",
       "      <td>0.18</td>\n",
       "      <td>325</td>\n",
       "    </tr>\n",
       "    <tr>\n",
       "      <th>4</th>\n",
       "      <td>0.25</td>\n",
       "      <td>642</td>\n",
       "    </tr>\n",
       "  </tbody>\n",
       "</table>\n",
       "</div>"
      ],
      "text/plain": [
       "   carats  price\n",
       "0    0.17    355\n",
       "1    0.16    328\n",
       "2    0.17    350\n",
       "3    0.18    325\n",
       "4    0.25    642"
      ]
     },
     "execution_count": 6,
     "metadata": {},
     "output_type": "execute_result"
    }
   ],
   "source": [
    "df = pd.read_csv('data/carats.csv', header= None)\n",
    "df.columns = ['carats', 'price']\n",
    "df.head()"
   ]
  },
  {
   "cell_type": "code",
   "execution_count": 7,
   "metadata": {},
   "outputs": [
    {
     "name": "stdout",
     "output_type": "stream",
     "text": [
      "                            OLS Regression Results                            \n",
      "==============================================================================\n",
      "Dep. Variable:                  price   R-squared:                       0.978\n",
      "Model:                            OLS   Adj. R-squared:                  0.978\n",
      "Method:                 Least Squares   F-statistic:                     2070.\n",
      "Date:                Thu, 19 May 2022   Prob (F-statistic):           6.75e-40\n",
      "Time:                        09:24:06   Log-Likelihood:                -233.20\n",
      "No. Observations:                  48   AIC:                             470.4\n",
      "Df Residuals:                      46   BIC:                             474.1\n",
      "Df Model:                           1                                         \n",
      "Covariance Type:            nonrobust                                         \n",
      "==============================================================================\n",
      "                 coef    std err          t      P>|t|      [0.025      0.975]\n",
      "------------------------------------------------------------------------------\n",
      "b0          -259.6259     17.319    -14.991      0.000    -294.487    -224.765\n",
      "carats      3721.0249     81.786     45.497      0.000    3556.398    3885.651\n",
      "==============================================================================\n",
      "Omnibus:                        0.739   Durbin-Watson:                   1.994\n",
      "Prob(Omnibus):                  0.691   Jarque-Bera (JB):                0.181\n",
      "Skew:                           0.056   Prob(JB):                        0.913\n",
      "Kurtosis:                       3.280   Cond. No.                         18.5\n",
      "==============================================================================\n",
      "\n",
      "Notes:\n",
      "[1] Standard Errors assume that the covariance matrix of the errors is correctly specified.\n"
     ]
    }
   ],
   "source": [
    "df['b0'] = 1\n",
    "linear_regression = sm.OLS(df['price'], df[['b0', 'carats']])\n",
    "results = linear_regression.fit()\n",
    "print(results.summary())"
   ]
  },
  {
   "cell_type": "code",
   "execution_count": 8,
   "metadata": {},
   "outputs": [
    {
     "data": {
      "text/plain": [
       "<AxesSubplot:xlabel='carats', ylabel='price'>"
      ]
     },
     "execution_count": 8,
     "metadata": {},
     "output_type": "execute_result"
    },
    {
     "data": {
      "image/png": "[encoded data removed]",
      "text/plain": [
       "<Figure size 432x288 with 1 Axes>"
      ]
     },
     "metadata": {
      "needs_background": "light"
     },
     "output_type": "display_data"
    }
   ],
   "source": [
    "sns.scatterplot(x='carats', y='price', data=df)"
   ]
  },
  {
   "cell_type": "markdown",
   "metadata": {},
   "source": [
    "![quiz1](images/quiz1.PNG)"
   ]
  },
  {
   "cell_type": "markdown",
   "metadata": {},
   "source": [
    "### HomesVCrime\n"
   ]
  },
  {
   "cell_type": "code",
   "execution_count": 9,
   "metadata": {},
   "outputs": [
    {
     "data": {
      "text/html": [
       "<div>\n",
       "<style scoped>\n",
       "    .dataframe tbody tr th:only-of-type {\n",
       "        vertical-align: middle;\n",
       "    }\n",
       "\n",
       "    .dataframe tbody tr th {\n",
       "        vertical-align: top;\n",
       "    }\n",
       "\n",
       "    .dataframe thead th {\n",
       "        text-align: right;\n",
       "    }\n",
       "</style>\n",
       "<table border=\"1\" class=\"dataframe\">\n",
       "  <thead>\n",
       "    <tr style=\"text-align: right;\">\n",
       "      <th></th>\n",
       "      <th>MedianHomePrice</th>\n",
       "      <th>CrimePerCapita</th>\n",
       "    </tr>\n",
       "  </thead>\n",
       "  <tbody>\n",
       "    <tr>\n",
       "      <th>0</th>\n",
       "      <td>24.0</td>\n",
       "      <td>0.00632</td>\n",
       "    </tr>\n",
       "    <tr>\n",
       "      <th>1</th>\n",
       "      <td>21.6</td>\n",
       "      <td>0.02731</td>\n",
       "    </tr>\n",
       "    <tr>\n",
       "      <th>2</th>\n",
       "      <td>34.7</td>\n",
       "      <td>0.02729</td>\n",
       "    </tr>\n",
       "    <tr>\n",
       "      <th>3</th>\n",
       "      <td>33.4</td>\n",
       "      <td>0.03237</td>\n",
       "    </tr>\n",
       "    <tr>\n",
       "      <th>4</th>\n",
       "      <td>36.2</td>\n",
       "      <td>0.06905</td>\n",
       "    </tr>\n",
       "  </tbody>\n",
       "</table>\n",
       "</div>"
      ],
      "text/plain": [
       "   MedianHomePrice  CrimePerCapita\n",
       "0             24.0         0.00632\n",
       "1             21.6         0.02731\n",
       "2             34.7         0.02729\n",
       "3             33.4         0.03237\n",
       "4             36.2         0.06905"
      ]
     },
     "execution_count": 9,
     "metadata": {},
     "output_type": "execute_result"
    }
   ],
   "source": [
    "import numpy as np\n",
    "import pandas as pd\n",
    "import statsmodels.api as sm\n",
    "from sklearn.datasets import load_boston\n",
    "import matplotlib.pyplot as plt\n",
    "%matplotlib inline\n",
    "\n",
    "boston_data = load_boston()\n",
    "df = pd.DataFrame()\n",
    "df['MedianHomePrice'] = boston_data.target\n",
    "df2 = pd.DataFrame(boston_data.data)\n",
    "df['CrimePerCapita'] = df2.iloc[:,0];\n",
    "df.head()"
   ]
  },
  {
   "cell_type": "code",
   "execution_count": 11,
   "metadata": {},
   "outputs": [
    {
     "name": "stdout",
     "output_type": "stream",
     "text": [
      "                            OLS Regression Results                            \n",
      "==============================================================================\n",
      "Dep. Variable:        MedianHomePrice   R-squared:                       0.151\n",
      "Model:                            OLS   Adj. R-squared:                  0.149\n",
      "Method:                 Least Squares   F-statistic:                     89.49\n",
      "Date:                Thu, 19 May 2022   Prob (F-statistic):           1.17e-19\n",
      "Time:                        11:21:31   Log-Likelihood:                -1798.9\n",
      "No. Observations:                 506   AIC:                             3602.\n",
      "Df Residuals:                     504   BIC:                             3610.\n",
      "Df Model:                           1                                         \n",
      "Covariance Type:            nonrobust                                         \n",
      "==================================================================================\n",
      "                     coef    std err          t      P>|t|      [0.025      0.975]\n",
      "----------------------------------------------------------------------------------\n",
      "b0                24.0331      0.409     58.740      0.000      23.229      24.837\n",
      "CrimePerCapita    -0.4152      0.044     -9.460      0.000      -0.501      -0.329\n",
      "==============================================================================\n",
      "Omnibus:                      139.832   Durbin-Watson:                   0.713\n",
      "Prob(Omnibus):                  0.000   Jarque-Bera (JB):              295.404\n",
      "Skew:                           1.490   Prob(JB):                     7.14e-65\n",
      "Kurtosis:                       5.264   Cond. No.                         10.1\n",
      "==============================================================================\n",
      "\n",
      "Notes:\n",
      "[1] Standard Errors assume that the covariance matrix of the errors is correctly specified.\n"
     ]
    }
   ],
   "source": [
    "df['b0'] = 1 \n",
    "linear_regression = sm.OLS(df['MedianHomePrice'], df[['b0','CrimePerCapita']])\n",
    "results = linear_regression.fit()\n",
    "print(results.summary())"
   ]
  },
  {
   "cell_type": "markdown",
   "metadata": {},
   "source": [
    "### Recap\n",
    "In this lesson, you learned about simple linear regression. The topics in this lesson included:\n",
    "\n",
    "1. Simple linear regression is about building a line that models the relationship between two quantitative variables.\n",
    "2. Correlation coefficients are a measure that can inform you about the strength and direction of a linear relationship.\n",
    "3. The most common way to visualize simple linear regression is using a scatterplot.\n",
    "4. A line is defined by an intercept and slope, which you found using the statsmodels library in Python.\n",
    "5. You learned the interpretations for the slope, intercept, and R-squared values."
   ]
  },
  {
   "cell_type": "markdown",
   "metadata": {},
   "source": [
    "### Exercise: Multiple Linear Regression\n",
    "\n"
   ]
  },
  {
   "cell_type": "code",
   "execution_count": 12,
   "metadata": {},
   "outputs": [
    {
     "data": {
      "text/html": [
       "<div>\n",
       "<style scoped>\n",
       "    .dataframe tbody tr th:only-of-type {\n",
       "        vertical-align: middle;\n",
       "    }\n",
       "\n",
       "    .dataframe tbody tr th {\n",
       "        vertical-align: top;\n",
       "    }\n",
       "\n",
       "    .dataframe thead th {\n",
       "        text-align: right;\n",
       "    }\n",
       "</style>\n",
       "<table border=\"1\" class=\"dataframe\">\n",
       "  <thead>\n",
       "    <tr style=\"text-align: right;\">\n",
       "      <th></th>\n",
       "      <th>house_id</th>\n",
       "      <th>neighborhood</th>\n",
       "      <th>area</th>\n",
       "      <th>bedrooms</th>\n",
       "      <th>bathrooms</th>\n",
       "      <th>style</th>\n",
       "      <th>price</th>\n",
       "    </tr>\n",
       "  </thead>\n",
       "  <tbody>\n",
       "    <tr>\n",
       "      <th>0</th>\n",
       "      <td>1112</td>\n",
       "      <td>B</td>\n",
       "      <td>1188</td>\n",
       "      <td>3</td>\n",
       "      <td>2</td>\n",
       "      <td>ranch</td>\n",
       "      <td>598291</td>\n",
       "    </tr>\n",
       "    <tr>\n",
       "      <th>1</th>\n",
       "      <td>491</td>\n",
       "      <td>B</td>\n",
       "      <td>3512</td>\n",
       "      <td>5</td>\n",
       "      <td>3</td>\n",
       "      <td>victorian</td>\n",
       "      <td>1744259</td>\n",
       "    </tr>\n",
       "    <tr>\n",
       "      <th>2</th>\n",
       "      <td>5952</td>\n",
       "      <td>B</td>\n",
       "      <td>1134</td>\n",
       "      <td>3</td>\n",
       "      <td>2</td>\n",
       "      <td>ranch</td>\n",
       "      <td>571669</td>\n",
       "    </tr>\n",
       "    <tr>\n",
       "      <th>3</th>\n",
       "      <td>3525</td>\n",
       "      <td>A</td>\n",
       "      <td>1940</td>\n",
       "      <td>4</td>\n",
       "      <td>2</td>\n",
       "      <td>ranch</td>\n",
       "      <td>493675</td>\n",
       "    </tr>\n",
       "    <tr>\n",
       "      <th>4</th>\n",
       "      <td>5108</td>\n",
       "      <td>B</td>\n",
       "      <td>2208</td>\n",
       "      <td>6</td>\n",
       "      <td>4</td>\n",
       "      <td>victorian</td>\n",
       "      <td>1101539</td>\n",
       "    </tr>\n",
       "  </tbody>\n",
       "</table>\n",
       "</div>"
      ],
      "text/plain": [
       "   house_id neighborhood  area  bedrooms  bathrooms      style    price\n",
       "0      1112            B  1188         3          2      ranch   598291\n",
       "1       491            B  3512         5          3  victorian  1744259\n",
       "2      5952            B  1134         3          2      ranch   571669\n",
       "3      3525            A  1940         4          2      ranch   493675\n",
       "4      5108            B  2208         6          4  victorian  1101539"
      ]
     },
     "execution_count": 12,
     "metadata": {},
     "output_type": "execute_result"
    }
   ],
   "source": [
    "import numpy as np\n",
    "import pandas as pd\n",
    "import statsmodels.api as sm;\n",
    "\n",
    "df = pd.read_csv('data/house_prices.csv')\n",
    "df.head()"
   ]
  },
  {
   "cell_type": "markdown",
   "metadata": {},
   "source": [
    "1. Using statsmodels, fit three individual simple linear regression models to predict price. You should have a model that uses `area`, another using `bedrooms`, and a final one using `bathrooms`. You will also want to use an intercept in each of your three models."
   ]
  },
  {
   "cell_type": "code",
   "execution_count": 13,
   "metadata": {},
   "outputs": [
    {
     "name": "stdout",
     "output_type": "stream",
     "text": [
      "                            OLS Regression Results                            \n",
      "==============================================================================\n",
      "Dep. Variable:                  price   R-squared:                       0.678\n",
      "Model:                            OLS   Adj. R-squared:                  0.678\n",
      "Method:                 Least Squares   F-statistic:                 1.269e+04\n",
      "Date:                Sat, 21 May 2022   Prob (F-statistic):               0.00\n",
      "Time:                        13:08:00   Log-Likelihood:                -84517.\n",
      "No. Observations:                6028   AIC:                         1.690e+05\n",
      "Df Residuals:                    6026   BIC:                         1.691e+05\n",
      "Df Model:                           1                                         \n",
      "Covariance Type:            nonrobust                                         \n",
      "==============================================================================\n",
      "                 coef    std err          t      P>|t|      [0.025      0.975]\n",
      "------------------------------------------------------------------------------\n",
      "b0          9587.8878   7637.479      1.255      0.209   -5384.303    2.46e+04\n",
      "area         348.4664      3.093    112.662      0.000     342.403     354.530\n",
      "==============================================================================\n",
      "Omnibus:                      368.609   Durbin-Watson:                   2.007\n",
      "Prob(Omnibus):                  0.000   Jarque-Bera (JB):              349.279\n",
      "Skew:                           0.534   Prob(JB):                     1.43e-76\n",
      "Kurtosis:                       2.499   Cond. No.                     4.93e+03\n",
      "==============================================================================\n",
      "\n",
      "Notes:\n",
      "[1] Standard Errors assume that the covariance matrix of the errors is correctly specified.\n",
      "[2] The condition number is large, 4.93e+03. This might indicate that there are\n",
      "strong multicollinearity or other numerical problems.\n",
      "                            OLS Regression Results                            \n",
      "==============================================================================\n",
      "Dep. Variable:                  price   R-squared:                       0.553\n",
      "Model:                            OLS   Adj. R-squared:                  0.553\n",
      "Method:                 Least Squares   F-statistic:                     7446.\n",
      "Date:                Sat, 21 May 2022   Prob (F-statistic):               0.00\n",
      "Time:                        13:08:00   Log-Likelihood:                -85509.\n",
      "No. Observations:                6028   AIC:                         1.710e+05\n",
      "Df Residuals:                    6026   BIC:                         1.710e+05\n",
      "Df Model:                           1                                         \n",
      "Covariance Type:            nonrobust                                         \n",
      "==============================================================================\n",
      "                 coef    std err          t      P>|t|      [0.025      0.975]\n",
      "------------------------------------------------------------------------------\n",
      "b0         -9.485e+04   1.08e+04     -8.762      0.000   -1.16e+05   -7.36e+04\n",
      "bedrooms    2.284e+05   2646.744     86.289      0.000    2.23e+05    2.34e+05\n",
      "==============================================================================\n",
      "Omnibus:                      967.118   Durbin-Watson:                   2.014\n",
      "Prob(Omnibus):                  0.000   Jarque-Bera (JB):             1599.431\n",
      "Skew:                           1.074   Prob(JB):                         0.00\n",
      "Kurtosis:                       4.325   Cond. No.                         10.3\n",
      "==============================================================================\n",
      "\n",
      "Notes:\n",
      "[1] Standard Errors assume that the covariance matrix of the errors is correctly specified.\n",
      "                            OLS Regression Results                            \n",
      "==============================================================================\n",
      "Dep. Variable:                  price   R-squared:                       0.541\n",
      "Model:                            OLS   Adj. R-squared:                  0.541\n",
      "Method:                 Least Squares   F-statistic:                     7116.\n",
      "Date:                Sat, 21 May 2022   Prob (F-statistic):               0.00\n",
      "Time:                        13:08:00   Log-Likelihood:                -85583.\n",
      "No. Observations:                6028   AIC:                         1.712e+05\n",
      "Df Residuals:                    6026   BIC:                         1.712e+05\n",
      "Df Model:                           1                                         \n",
      "Covariance Type:            nonrobust                                         \n",
      "==============================================================================\n",
      "                 coef    std err          t      P>|t|      [0.025      0.975]\n",
      "------------------------------------------------------------------------------\n",
      "b0          4.314e+04   9587.189      4.500      0.000    2.43e+04    6.19e+04\n",
      "bathrooms   3.295e+05   3905.540     84.358      0.000    3.22e+05    3.37e+05\n",
      "==============================================================================\n",
      "Omnibus:                      915.429   Durbin-Watson:                   2.003\n",
      "Prob(Omnibus):                  0.000   Jarque-Bera (JB):             1537.531\n",
      "Skew:                           1.010   Prob(JB):                         0.00\n",
      "Kurtosis:                       4.428   Cond. No.                         5.84\n",
      "==============================================================================\n",
      "\n",
      "Notes:\n",
      "[1] Standard Errors assume that the covariance matrix of the errors is correctly specified.\n"
     ]
    }
   ],
   "source": [
    "df['b0'] = 1\n",
    "model1 = sm.OLS(df['price'], df[['b0', 'area']])\n",
    "results1 = model1.fit()\n",
    "\n",
    "df['b0'] = 1\n",
    "model2 = sm.OLS(df['price'], df[['b0', 'bedrooms']])\n",
    "results2 = model2.fit()\n",
    "\n",
    "df['b0'] = 1\n",
    "model3 = sm.OLS(df['price'], df[['b0', 'bathrooms']])\n",
    "results3 = model3.fit()"
   ]
  },
  {
   "cell_type": "code",
   "execution_count": 14,
   "metadata": {},
   "outputs": [
    {
     "name": "stdout",
     "output_type": "stream",
     "text": [
      "                            OLS Regression Results                            \n",
      "==============================================================================\n",
      "Dep. Variable:                  price   R-squared:                       0.678\n",
      "Model:                            OLS   Adj. R-squared:                  0.678\n",
      "Method:                 Least Squares   F-statistic:                 1.269e+04\n",
      "Date:                Sat, 21 May 2022   Prob (F-statistic):               0.00\n",
      "Time:                        13:08:28   Log-Likelihood:                -84517.\n",
      "No. Observations:                6028   AIC:                         1.690e+05\n",
      "Df Residuals:                    6026   BIC:                         1.691e+05\n",
      "Df Model:                           1                                         \n",
      "Covariance Type:            nonrobust                                         \n",
      "==============================================================================\n",
      "                 coef    std err          t      P>|t|      [0.025      0.975]\n",
      "------------------------------------------------------------------------------\n",
      "b0          9587.8878   7637.479      1.255      0.209   -5384.303    2.46e+04\n",
      "area         348.4664      3.093    112.662      0.000     342.403     354.530\n",
      "==============================================================================\n",
      "Omnibus:                      368.609   Durbin-Watson:                   2.007\n",
      "Prob(Omnibus):                  0.000   Jarque-Bera (JB):              349.279\n",
      "Skew:                           0.534   Prob(JB):                     1.43e-76\n",
      "Kurtosis:                       2.499   Cond. No.                     4.93e+03\n",
      "==============================================================================\n",
      "\n",
      "Notes:\n",
      "[1] Standard Errors assume that the covariance matrix of the errors is correctly specified.\n",
      "[2] The condition number is large, 4.93e+03. This might indicate that there are\n",
      "strong multicollinearity or other numerical problems.\n"
     ]
    }
   ],
   "source": [
    "print(results1.summary())"
   ]
  },
  {
   "cell_type": "code",
   "execution_count": 15,
   "metadata": {},
   "outputs": [
    {
     "name": "stdout",
     "output_type": "stream",
     "text": [
      "                            OLS Regression Results                            \n",
      "==============================================================================\n",
      "Dep. Variable:                  price   R-squared:                       0.553\n",
      "Model:                            OLS   Adj. R-squared:                  0.553\n",
      "Method:                 Least Squares   F-statistic:                     7446.\n",
      "Date:                Sat, 21 May 2022   Prob (F-statistic):               0.00\n",
      "Time:                        13:08:38   Log-Likelihood:                -85509.\n",
      "No. Observations:                6028   AIC:                         1.710e+05\n",
      "Df Residuals:                    6026   BIC:                         1.710e+05\n",
      "Df Model:                           1                                         \n",
      "Covariance Type:            nonrobust                                         \n",
      "==============================================================================\n",
      "                 coef    std err          t      P>|t|      [0.025      0.975]\n",
      "------------------------------------------------------------------------------\n",
      "b0         -9.485e+04   1.08e+04     -8.762      0.000   -1.16e+05   -7.36e+04\n",
      "bedrooms    2.284e+05   2646.744     86.289      0.000    2.23e+05    2.34e+05\n",
      "==============================================================================\n",
      "Omnibus:                      967.118   Durbin-Watson:                   2.014\n",
      "Prob(Omnibus):                  0.000   Jarque-Bera (JB):             1599.431\n",
      "Skew:                           1.074   Prob(JB):                         0.00\n",
      "Kurtosis:                       4.325   Cond. No.                         10.3\n",
      "==============================================================================\n",
      "\n",
      "Notes:\n",
      "[1] Standard Errors assume that the covariance matrix of the errors is correctly specified.\n"
     ]
    }
   ],
   "source": [
    "print(results2.summary())"
   ]
  },
  {
   "cell_type": "code",
   "execution_count": 16,
   "metadata": {},
   "outputs": [
    {
     "name": "stdout",
     "output_type": "stream",
     "text": [
      "                            OLS Regression Results                            \n",
      "==============================================================================\n",
      "Dep. Variable:                  price   R-squared:                       0.541\n",
      "Model:                            OLS   Adj. R-squared:                  0.541\n",
      "Method:                 Least Squares   F-statistic:                     7116.\n",
      "Date:                Sat, 21 May 2022   Prob (F-statistic):               0.00\n",
      "Time:                        13:08:50   Log-Likelihood:                -85583.\n",
      "No. Observations:                6028   AIC:                         1.712e+05\n",
      "Df Residuals:                    6026   BIC:                         1.712e+05\n",
      "Df Model:                           1                                         \n",
      "Covariance Type:            nonrobust                                         \n",
      "==============================================================================\n",
      "                 coef    std err          t      P>|t|      [0.025      0.975]\n",
      "------------------------------------------------------------------------------\n",
      "b0          4.314e+04   9587.189      4.500      0.000    2.43e+04    6.19e+04\n",
      "bathrooms   3.295e+05   3905.540     84.358      0.000    3.22e+05    3.37e+05\n",
      "==============================================================================\n",
      "Omnibus:                      915.429   Durbin-Watson:                   2.003\n",
      "Prob(Omnibus):                  0.000   Jarque-Bera (JB):             1537.531\n",
      "Skew:                           1.010   Prob(JB):                         0.00\n",
      "Kurtosis:                       4.428   Cond. No.                         5.84\n",
      "==============================================================================\n",
      "\n",
      "Notes:\n",
      "[1] Standard Errors assume that the covariance matrix of the errors is correctly specified.\n"
     ]
    }
   ],
   "source": [
    "print(results3.summary())"
   ]
  },
  {
   "cell_type": "markdown",
   "metadata": {},
   "source": [
    "2. Now that you have looked at the results from the simple linear regression models, let's try a multiple linear regression model using all three of these variables at the same time. You will still want an intercept in this model."
   ]
  },
  {
   "cell_type": "code",
   "execution_count": 17,
   "metadata": {},
   "outputs": [],
   "source": [
    "df['b0'] = 1\n",
    "model_multiple = sm.OLS(df['price'], df[['b0', 'area','bedrooms','bathrooms']])\n",
    "results_multiple = model_multiple.fit()"
   ]
  },
  {
   "cell_type": "code",
   "execution_count": 19,
   "metadata": {},
   "outputs": [
    {
     "name": "stdout",
     "output_type": "stream",
     "text": [
      "                            OLS Regression Results                            \n",
      "==============================================================================\n",
      "Dep. Variable:                  price   R-squared:                       0.678\n",
      "Model:                            OLS   Adj. R-squared:                  0.678\n",
      "Method:                 Least Squares   F-statistic:                     4230.\n",
      "Date:                Sat, 21 May 2022   Prob (F-statistic):               0.00\n",
      "Time:                        13:12:12   Log-Likelihood:                -84517.\n",
      "No. Observations:                6028   AIC:                         1.690e+05\n",
      "Df Residuals:                    6024   BIC:                         1.691e+05\n",
      "Df Model:                           3                                         \n",
      "Covariance Type:            nonrobust                                         \n",
      "==============================================================================\n",
      "                 coef    std err          t      P>|t|      [0.025      0.975]\n",
      "------------------------------------------------------------------------------\n",
      "b0          1.007e+04   1.04e+04      0.972      0.331   -1.02e+04    3.04e+04\n",
      "area         345.9110      7.227     47.863      0.000     331.743     360.079\n",
      "bedrooms   -2925.8063   1.03e+04     -0.285      0.775    -2.3e+04    1.72e+04\n",
      "bathrooms   7345.3917   1.43e+04      0.515      0.607   -2.06e+04    3.53e+04\n",
      "==============================================================================\n",
      "Omnibus:                      367.658   Durbin-Watson:                   2.007\n",
      "Prob(Omnibus):                  0.000   Jarque-Bera (JB):              350.116\n",
      "Skew:                           0.536   Prob(JB):                     9.40e-77\n",
      "Kurtosis:                       2.503   Cond. No.                     1.16e+04\n",
      "==============================================================================\n",
      "\n",
      "Notes:\n",
      "[1] Standard Errors assume that the covariance matrix of the errors is correctly specified.\n",
      "[2] The condition number is large, 1.16e+04. This might indicate that there are\n",
      "strong multicollinearity or other numerical problems.\n"
     ]
    }
   ],
   "source": [
    "print(results_multiple.summary())"
   ]
  },
  {
   "cell_type": "markdown",
   "metadata": {},
   "source": [
    "### How Do We Find the \"Right\" Coefficients in Multiple Linear Regression\n",
    "\n",
    "In the simple linear regression section, you saw how we were interested in minimizing the squared distance between each actual data point and the predicted value from our model.\n",
    "\n",
    "But in multiple linear regression, we are actually looking at points that live in not just a two dimensional space.\n",
    "\n",
    "For a full derivation of how this works, this article provides a breakdown of the steps.\n",
    "\n",
    "The takeaway for us is that we can find the optimal \\betaβ estimates by calculating \n",
    "\n",
    "`\n",
    "(X'X)^{-1}X'y\n",
    "`\n",
    "\n",
    "In the following video, you will use statsmodels to obtain the coefficients similar to how we did it in the last concept, but you will also solve for the coefficients using the equation above to show the results are not magic."
   ]
  },
  {
   "cell_type": "code",
   "execution_count": 26,
   "metadata": {},
   "outputs": [],
   "source": [
    "X = df[['b0', 'area','bedrooms','bathrooms']]\n",
    "y = df['price']"
   ]
  },
  {
   "cell_type": "code",
   "execution_count": 27,
   "metadata": {},
   "outputs": [
    {
     "data": {
      "text/plain": [
       "array([10072.10704672,   345.91101884, -2925.80632467,  7345.3917137 ])"
      ]
     },
     "execution_count": 27,
     "metadata": {},
     "output_type": "execute_result"
    }
   ],
   "source": [
    "np.dot(np.linalg.inv(np.dot(np.transpose(X),X)),np.dot(np.transpose(X),y))"
   ]
  },
  {
   "cell_type": "markdown",
   "metadata": {},
   "source": [
    "### The Math Behind Dummy Variables\n",
    "In the last video, you were introduced to the idea the way that categorical variables will be changed to **dummy variables** in order to be added to your linear models.\n",
    "\n",
    "Then, you will need to drop one of the dummy columns in order to make your matrices full rank.\n",
    "\n",
    "If you remember back to the closed form solution for the coefficients in regression, we have \\betaβ is estimated by \n",
    "\n",
    "`\n",
    "(X'X)^{-1}X'y\n",
    "` \n",
    "\n",
    "In order to take the inverse of `(X'X)`, the matrix `X` must be full rank. That is, all of the columns of `X` must be linearly independent.\n",
    "\n",
    "If you do not drop one of the columns (from the model, not from the dataframe) when creating the dummy variables, your solution is unstable and results from Python are unreliable. You will see an example of what happens if you do not drop one of the dummy columns in the next concept.\n",
    "\n",
    "> The takeaway is ... when you create dummy variables using 0, 1 encodings, you always need to drop one of the columns from the model to make sure your matrices are full rank (and that your solutions are reliable from Python).\n",
    "\n",
    "The reason for this is linear algebra. Specifically, in order to invert matrices, a matrix must be full rank (that is, all the columns need to be linearly independent). Therefore, you need to drop one of the dummy columns, to create linearly independent columns (and a full rank matrix).\n",
    "\n",
    "### Exercise Dummy Variables"
   ]
  },
  {
   "cell_type": "code",
   "execution_count": 49,
   "metadata": {},
   "outputs": [
    {
     "data": {
      "text/html": [
       "<div>\n",
       "<style scoped>\n",
       "    .dataframe tbody tr th:only-of-type {\n",
       "        vertical-align: middle;\n",
       "    }\n",
       "\n",
       "    .dataframe tbody tr th {\n",
       "        vertical-align: top;\n",
       "    }\n",
       "\n",
       "    .dataframe thead th {\n",
       "        text-align: right;\n",
       "    }\n",
       "</style>\n",
       "<table border=\"1\" class=\"dataframe\">\n",
       "  <thead>\n",
       "    <tr style=\"text-align: right;\">\n",
       "      <th></th>\n",
       "      <th>house_id</th>\n",
       "      <th>neighborhood</th>\n",
       "      <th>area</th>\n",
       "      <th>bedrooms</th>\n",
       "      <th>bathrooms</th>\n",
       "      <th>style</th>\n",
       "      <th>price</th>\n",
       "    </tr>\n",
       "  </thead>\n",
       "  <tbody>\n",
       "    <tr>\n",
       "      <th>0</th>\n",
       "      <td>1112</td>\n",
       "      <td>B</td>\n",
       "      <td>1188</td>\n",
       "      <td>3</td>\n",
       "      <td>2</td>\n",
       "      <td>ranch</td>\n",
       "      <td>598291</td>\n",
       "    </tr>\n",
       "    <tr>\n",
       "      <th>1</th>\n",
       "      <td>491</td>\n",
       "      <td>B</td>\n",
       "      <td>3512</td>\n",
       "      <td>5</td>\n",
       "      <td>3</td>\n",
       "      <td>victorian</td>\n",
       "      <td>1744259</td>\n",
       "    </tr>\n",
       "    <tr>\n",
       "      <th>2</th>\n",
       "      <td>5952</td>\n",
       "      <td>B</td>\n",
       "      <td>1134</td>\n",
       "      <td>3</td>\n",
       "      <td>2</td>\n",
       "      <td>ranch</td>\n",
       "      <td>571669</td>\n",
       "    </tr>\n",
       "    <tr>\n",
       "      <th>3</th>\n",
       "      <td>3525</td>\n",
       "      <td>A</td>\n",
       "      <td>1940</td>\n",
       "      <td>4</td>\n",
       "      <td>2</td>\n",
       "      <td>ranch</td>\n",
       "      <td>493675</td>\n",
       "    </tr>\n",
       "    <tr>\n",
       "      <th>4</th>\n",
       "      <td>5108</td>\n",
       "      <td>B</td>\n",
       "      <td>2208</td>\n",
       "      <td>6</td>\n",
       "      <td>4</td>\n",
       "      <td>victorian</td>\n",
       "      <td>1101539</td>\n",
       "    </tr>\n",
       "  </tbody>\n",
       "</table>\n",
       "</div>"
      ],
      "text/plain": [
       "   house_id neighborhood  area  bedrooms  bathrooms      style    price\n",
       "0      1112            B  1188         3          2      ranch   598291\n",
       "1       491            B  3512         5          3  victorian  1744259\n",
       "2      5952            B  1134         3          2      ranch   571669\n",
       "3      3525            A  1940         4          2      ranch   493675\n",
       "4      5108            B  2208         6          4  victorian  1101539"
      ]
     },
     "execution_count": 49,
     "metadata": {},
     "output_type": "execute_result"
    }
   ],
   "source": [
    "import numpy as np\n",
    "import pandas as pd\n",
    "import statsmodels.api as sm\n",
    "\n",
    "df = pd.read_csv('data/house_prices.csv')\n",
    "df.head()"
   ]
  },
  {
   "cell_type": "code",
   "execution_count": 50,
   "metadata": {},
   "outputs": [],
   "source": [
    "def get_cols(serie, drop=False):\n",
    "    return pd.get_dummies(serie, drop_first=drop).columns"
   ]
  },
  {
   "cell_type": "code",
   "execution_count": 51,
   "metadata": {},
   "outputs": [],
   "source": [
    "df[get_cols(df['neighborhood'], False,)] = pd.get_dummies(df['neighborhood'], drop_first=False)\n",
    "df[get_cols(df['style'], False)] = pd.get_dummies(df['style'], drop_first=False)"
   ]
  },
  {
   "cell_type": "code",
   "execution_count": 52,
   "metadata": {},
   "outputs": [
    {
     "data": {
      "text/html": [
       "<div>\n",
       "<style scoped>\n",
       "    .dataframe tbody tr th:only-of-type {\n",
       "        vertical-align: middle;\n",
       "    }\n",
       "\n",
       "    .dataframe tbody tr th {\n",
       "        vertical-align: top;\n",
       "    }\n",
       "\n",
       "    .dataframe thead th {\n",
       "        text-align: right;\n",
       "    }\n",
       "</style>\n",
       "<table border=\"1\" class=\"dataframe\">\n",
       "  <thead>\n",
       "    <tr style=\"text-align: right;\">\n",
       "      <th></th>\n",
       "      <th>house_id</th>\n",
       "      <th>neighborhood</th>\n",
       "      <th>area</th>\n",
       "      <th>bedrooms</th>\n",
       "      <th>bathrooms</th>\n",
       "      <th>style</th>\n",
       "      <th>price</th>\n",
       "      <th>A</th>\n",
       "      <th>B</th>\n",
       "      <th>C</th>\n",
       "      <th>lodge</th>\n",
       "      <th>ranch</th>\n",
       "      <th>victorian</th>\n",
       "    </tr>\n",
       "  </thead>\n",
       "  <tbody>\n",
       "    <tr>\n",
       "      <th>0</th>\n",
       "      <td>1112</td>\n",
       "      <td>B</td>\n",
       "      <td>1188</td>\n",
       "      <td>3</td>\n",
       "      <td>2</td>\n",
       "      <td>ranch</td>\n",
       "      <td>598291</td>\n",
       "      <td>0</td>\n",
       "      <td>1</td>\n",
       "      <td>0</td>\n",
       "      <td>0</td>\n",
       "      <td>1</td>\n",
       "      <td>0</td>\n",
       "    </tr>\n",
       "    <tr>\n",
       "      <th>1</th>\n",
       "      <td>491</td>\n",
       "      <td>B</td>\n",
       "      <td>3512</td>\n",
       "      <td>5</td>\n",
       "      <td>3</td>\n",
       "      <td>victorian</td>\n",
       "      <td>1744259</td>\n",
       "      <td>0</td>\n",
       "      <td>1</td>\n",
       "      <td>0</td>\n",
       "      <td>0</td>\n",
       "      <td>0</td>\n",
       "      <td>1</td>\n",
       "    </tr>\n",
       "    <tr>\n",
       "      <th>2</th>\n",
       "      <td>5952</td>\n",
       "      <td>B</td>\n",
       "      <td>1134</td>\n",
       "      <td>3</td>\n",
       "      <td>2</td>\n",
       "      <td>ranch</td>\n",
       "      <td>571669</td>\n",
       "      <td>0</td>\n",
       "      <td>1</td>\n",
       "      <td>0</td>\n",
       "      <td>0</td>\n",
       "      <td>1</td>\n",
       "      <td>0</td>\n",
       "    </tr>\n",
       "    <tr>\n",
       "      <th>3</th>\n",
       "      <td>3525</td>\n",
       "      <td>A</td>\n",
       "      <td>1940</td>\n",
       "      <td>4</td>\n",
       "      <td>2</td>\n",
       "      <td>ranch</td>\n",
       "      <td>493675</td>\n",
       "      <td>1</td>\n",
       "      <td>0</td>\n",
       "      <td>0</td>\n",
       "      <td>0</td>\n",
       "      <td>1</td>\n",
       "      <td>0</td>\n",
       "    </tr>\n",
       "    <tr>\n",
       "      <th>4</th>\n",
       "      <td>5108</td>\n",
       "      <td>B</td>\n",
       "      <td>2208</td>\n",
       "      <td>6</td>\n",
       "      <td>4</td>\n",
       "      <td>victorian</td>\n",
       "      <td>1101539</td>\n",
       "      <td>0</td>\n",
       "      <td>1</td>\n",
       "      <td>0</td>\n",
       "      <td>0</td>\n",
       "      <td>0</td>\n",
       "      <td>1</td>\n",
       "    </tr>\n",
       "  </tbody>\n",
       "</table>\n",
       "</div>"
      ],
      "text/plain": [
       "   house_id neighborhood  area  bedrooms  bathrooms      style    price  A  B  \\\n",
       "0      1112            B  1188         3          2      ranch   598291  0  1   \n",
       "1       491            B  3512         5          3  victorian  1744259  0  1   \n",
       "2      5952            B  1134         3          2      ranch   571669  0  1   \n",
       "3      3525            A  1940         4          2      ranch   493675  1  0   \n",
       "4      5108            B  2208         6          4  victorian  1101539  0  1   \n",
       "\n",
       "   C  lodge  ranch  victorian  \n",
       "0  0      0      1          0  \n",
       "1  0      0      0          1  \n",
       "2  0      0      1          0  \n",
       "3  0      0      1          0  \n",
       "4  0      0      0          1  "
      ]
     },
     "execution_count": 52,
     "metadata": {},
     "output_type": "execute_result"
    }
   ],
   "source": [
    "df.head()"
   ]
  },
  {
   "cell_type": "markdown",
   "metadata": {},
   "source": [
    "Testing a non Full Rank Matrix as X"
   ]
  },
  {
   "cell_type": "code",
   "execution_count": 54,
   "metadata": {},
   "outputs": [
    {
     "name": "stdout",
     "output_type": "stream",
     "text": [
      "                            OLS Regression Results                            \n",
      "==============================================================================\n",
      "Dep. Variable:                  price   R-squared:                       0.246\n",
      "Model:                            OLS   Adj. R-squared:                  0.246\n",
      "Method:                 Least Squares   F-statistic:                     983.1\n",
      "Date:                Sat, 21 May 2022   Prob (F-statistic):               0.00\n",
      "Time:                        18:06:25   Log-Likelihood:                -87082.\n",
      "No. Observations:                6028   AIC:                         1.742e+05\n",
      "Df Residuals:                    6025   BIC:                         1.742e+05\n",
      "Df Model:                           2                                         \n",
      "Covariance Type:            nonrobust                                         \n",
      "==============================================================================\n",
      "                 coef    std err          t      P>|t|      [0.025      0.975]\n",
      "------------------------------------------------------------------------------\n",
      "b0          5.381e+05   4439.653    121.210      0.000    5.29e+05    5.47e+05\n",
      "A           3001.8311   8650.726      0.347      0.729    -1.4e+04       2e+04\n",
      "B           5.325e+05   7894.313     67.448      0.000    5.17e+05    5.48e+05\n",
      "C           2669.4717   8925.271      0.299      0.765   -1.48e+04    2.02e+04\n",
      "==============================================================================\n",
      "Omnibus:                      689.315   Durbin-Watson:                   1.999\n",
      "Prob(Omnibus):                  0.000   Jarque-Bera (JB):             1154.155\n",
      "Skew:                           0.793   Prob(JB):                    2.39e-251\n",
      "Kurtosis:                       4.442   Cond. No.                     2.41e+15\n",
      "==============================================================================\n",
      "\n",
      "Notes:\n",
      "[1] Standard Errors assume that the covariance matrix of the errors is correctly specified.\n",
      "[2] The smallest eigenvalue is 1.39e-27. This might indicate that there are\n",
      "strong multicollinearity problems or that the design matrix is singular.\n"
     ]
    }
   ],
   "source": [
    "df['b0'] = 1\n",
    "\n",
    "lin_model = sm.OLS(df['price'],df['b0 A B C'.split()])\n",
    "results = lin_model.fit()\n",
    "print(results.summary())"
   ]
  },
  {
   "cell_type": "markdown",
   "metadata": {},
   "source": [
    "Each of these intervals is huge, and these results are not helpful. This will happen every time you do not create an X matrix that is not full rank. Or in other words, this will happen every time you do not drop one of the dummy variable columns for each categorical variable."
   ]
  },
  {
   "cell_type": "code",
   "execution_count": 76,
   "metadata": {},
   "outputs": [
    {
     "name": "stdout",
     "output_type": "stream",
     "text": [
      "                            OLS Regression Results                            \n",
      "==============================================================================\n",
      "Dep. Variable:                  price   R-squared:                       0.809\n",
      "Model:                            OLS   Adj. R-squared:                  0.809\n",
      "Method:                 Least Squares   F-statistic:                     4250.\n",
      "Date:                Sat, 21 May 2022   Prob (F-statistic):               0.00\n",
      "Time:                        18:23:43   Log-Likelihood:                -82944.\n",
      "No. Observations:                6028   AIC:                         1.659e+05\n",
      "Df Residuals:                    6021   BIC:                         1.659e+05\n",
      "Df Model:                           6                                         \n",
      "Covariance Type:            nonrobust                                         \n",
      "==============================================================================\n",
      "                 coef    std err          t      P>|t|      [0.025      0.975]\n",
      "------------------------------------------------------------------------------\n",
      "b0           -7.9e+04   6098.489    -12.954      0.000    -9.1e+04    -6.7e+04\n",
      "bedrooms    1.732e+05   7677.152     22.558      0.000    1.58e+05    1.88e+05\n",
      "bathrooms   9.996e+04   1.09e+04      9.164      0.000    7.86e+04    1.21e+05\n",
      "A          -1.983e+05   4747.014    -41.764      0.000   -2.08e+05   -1.89e+05\n",
      "B           3.247e+05   4417.590     73.497      0.000    3.16e+05    3.33e+05\n",
      "C          -2.054e+05   4864.338    -42.231      0.000   -2.15e+05   -1.96e+05\n",
      "lodge        6.25e+04   6121.812     10.210      0.000    5.05e+04    7.45e+04\n",
      "ranch       -1.06e+05   4897.403    -21.651      0.000   -1.16e+05   -9.64e+04\n",
      "victorian  -3.547e+04   7725.358     -4.591      0.000   -5.06e+04   -2.03e+04\n",
      "==============================================================================\n",
      "Omnibus:                      978.611   Durbin-Watson:                   1.993\n",
      "Prob(Omnibus):                  0.000   Jarque-Bera (JB):             2926.472\n",
      "Skew:                           0.848   Prob(JB):                         0.00\n",
      "Kurtosis:                       5.962   Cond. No.                     4.46e+16\n",
      "==============================================================================\n",
      "\n",
      "Notes:\n",
      "[1] Standard Errors assume that the covariance matrix of the errors is correctly specified.\n",
      "[2] The smallest eigenvalue is 7.33e-29. This might indicate that there are\n",
      "strong multicollinearity problems or that the design matrix is singular.\n"
     ]
    }
   ],
   "source": [
    "df['b0'] = 1\n",
    "\n",
    "lin_model = sm.OLS(df['price'],df['b0 bedrooms bathrooms A B C lodge ranch victorian'.split()])\n",
    "results = lin_model.fit()\n",
    "print(results.summary())"
   ]
  },
  {
   "cell_type": "markdown",
   "metadata": {},
   "source": [
    "![quiz_results](images/quiz_3.PNG)"
   ]
  },
  {
   "cell_type": "markdown",
   "metadata": {},
   "source": [
    "### Linear Model Assumptions\n",
    "\n",
    "#### Model Assumptions And How To Address Each\n",
    "Here are the five potential problems related to Multiple Linear Regression that we mentioned in the previous video, that are addressed in [Introduction to Statistical Learning](http://www-bcf.usc.edu/~gareth/ISL/ISLR%20Seventh%20Printing.pdf):\n",
    "1. Non-linearity of the response-predictor relationships\n",
    "2. Correlation of error terms\n",
    "3. Non-constant Variance and Normally Distributed Errors\n",
    "4. Outliers/ High leverage points\n",
    "5. Multicollinearity\n",
    "\n",
    "This text is a summary of how to identify whether these problems exist, as well as how to address them. This is a common interview question asked by statisticians, but its practical importance is hit or miss depending on the purpose of your model. In the upcoming concepts, we will look more closely at specific points that I believe deserve more attention, but below you will see a more exhaustive introduction to each topic. Let's take a closer look at each of these items.\n",
    "\n",
    "#### Linearity\n",
    "The assumption of linearity is that a linear model is the relationship that truly exists between your response and predictor variables. If this isn't true, then your predictions will not be very accurate. Additionally, the linear relationships associated with your coefficients really aren't useful either.\n",
    "\n",
    "In order to assess if a linear relationship is reasonable, a plot of the residuals (y - \\hat{y})​\n",
    ") by the predicted values (\\hat{y}) is often useful. If there are curvature patterns in this plot, it suggests that a linear model might not actually fit the data, and some other relationship exists between the predictor variables and response. There are many ways to create non-linear models (even using the linear model form), and you will be introduced to a few of these later in this lesson.\n",
    "\n",
    "In the image at the bottom of this page, these are considered the **biased** models. Ideally, we want to see a random scatter of points like the top left residual plot in the image.\n",
    "\n",
    "#### Correlated Errors\n",
    "Correlated errors frequently occur when our data are collected over time (like in forecasting stock prices or interest rates in the future) or data are spatially related (like predicting flood or drought regions). We can often improve our predictions by using information from the past data points (for time) or the points nearby (for space).\n",
    "\n",
    "The main problem with not accounting for correlated errors is that you can often use this correlation to your advantage to better predict future events or events spatially close to one another.\n",
    "\n",
    "One of the most common ways to identify if you have correlated errors is based on the domain from which the data were collected. If you are unsure, there is a test known as a [Durbin-Watson](https://en.wikipedia.org/wiki/Durbin%E2%80%93Watson_statistic) test that is commonly used to assess whether correlation of the errors is an issue. Then [ARIMA or ARMA](http://www.statsref.com/HTML/index.html?arima.html) models are commonly implemented to use this correlation to make better predictions.\n",
    "\n",
    "#### Non-constant Variance and Normally Distributed Errors\n",
    "Non-constant variance is when the spread of your predicted values differs depending on which value you are trying to predict. This isn't a huge problem in terms of predicting well. However, it does lead to confidence intervals and p-values that are inaccurate. Confidence intervals for the coefficients will be too wide for areas where the actual values are closer to the predicted values, but too narrow for areas where the actual values are more spread out from the predicted values.\n",
    "\n",
    "Commonly, a log (or some other transformation of the response variable is done) in order to \"get rid\" of the non-constant variance. In order to choose the transformation, a [Box-Cox](http://www.statisticshowto.com/box-cox-transformation/) is commonly used.\n",
    "\n",
    "Non-constant variance can be assessed again using a plot of the residuals by the predicted values. In the image at the bottom of the page, non-constant variance is labeled as `heteroscedastic`. Ideally, we want an unbiased model with homoscedastic residuals (consistent across the range of values).\n",
    "\n",
    "Though the text does not discuss normality of the residuals, this is an important assumption of regression if you are interested in creating reliable confidence intervals. More on this topic is provided [here](http://www.itl.nist.gov/div898/handbook/pri/section2/pri24.htm).\n",
    "\n",
    "![bias and heteroscedasity](images/bias_and_heteroscedasity.PNG)\n",
    "\n",
    "#### Outliers/Leverage Points\n",
    "Outliers and leverage points are points that lie far away from the regular trends of your data. These points can have a large influence on your solution. In practice, these points might even be typos. If you are aggregating data from multiple sources, it is possible that some of the data values were carried over incorrectly or aggregated incorrectly.\n",
    "\n",
    "Other times outliers are accurate and true data points, not necessarily measurement or data entry errors. In these cases, 'fixing' is more subjective. Often the strategy for working with these points is dependent on the goal of your analysis. Linear models using ordinary least squares, in particular, are not very robust. That is, large outliers may greatly change our results. There are techniques to combat this - largely known as regularization techniques. These are beyond the scope of this class, but they are quickly discussed in the [free course on machine learning](https://classroom.udacity.com/courses/ud120).\n",
    "\n",
    "#### Multi-collinearity\n",
    "Multicollinearity is when we have predictor variables that are correlated with one another. One of the main concerns of multicollinearity is that it can lead to coefficients being flipped from the direction we expect from simple linear regression.\n",
    "\n",
    "One of the most common ways to identify multicollinearity is with bivariate plots or with **variance inflation factors (or VIFs)**. This is a topic we will dive into in the next concept, so we won't spend as much time on it here.\n",
    "\n",
    "two different ways of identifying multicollinearity:\n",
    "\n",
    "1. We can look at the correlation of each explanatory variable with each other explanatory variable (with a plot or the correlation coefficient).\n",
    "2. We can look at [Variance Inflation Factors (VIFs)](https://etav.github.io/python/vif_factor_python.html) for each variable. This calculation will be shown in more detail in the next video.\n",
    "\n",
    "> We would like x-variables to be related to the response, but not to be related to one another.\n",
    "\n",
    "##### Excercise Multicolinearity and VIFs"
   ]
  },
  {
   "cell_type": "code",
   "execution_count": 77,
   "metadata": {},
   "outputs": [
    {
     "data": {
      "text/html": [
       "<div>\n",
       "<style scoped>\n",
       "    .dataframe tbody tr th:only-of-type {\n",
       "        vertical-align: middle;\n",
       "    }\n",
       "\n",
       "    .dataframe tbody tr th {\n",
       "        vertical-align: top;\n",
       "    }\n",
       "\n",
       "    .dataframe thead th {\n",
       "        text-align: right;\n",
       "    }\n",
       "</style>\n",
       "<table border=\"1\" class=\"dataframe\">\n",
       "  <thead>\n",
       "    <tr style=\"text-align: right;\">\n",
       "      <th></th>\n",
       "      <th>house_id</th>\n",
       "      <th>neighborhood</th>\n",
       "      <th>area</th>\n",
       "      <th>bedrooms</th>\n",
       "      <th>bathrooms</th>\n",
       "      <th>style</th>\n",
       "      <th>price</th>\n",
       "    </tr>\n",
       "  </thead>\n",
       "  <tbody>\n",
       "    <tr>\n",
       "      <th>0</th>\n",
       "      <td>1112</td>\n",
       "      <td>B</td>\n",
       "      <td>1188</td>\n",
       "      <td>3</td>\n",
       "      <td>2</td>\n",
       "      <td>ranch</td>\n",
       "      <td>598291</td>\n",
       "    </tr>\n",
       "    <tr>\n",
       "      <th>1</th>\n",
       "      <td>491</td>\n",
       "      <td>B</td>\n",
       "      <td>3512</td>\n",
       "      <td>5</td>\n",
       "      <td>3</td>\n",
       "      <td>victorian</td>\n",
       "      <td>1744259</td>\n",
       "    </tr>\n",
       "    <tr>\n",
       "      <th>2</th>\n",
       "      <td>5952</td>\n",
       "      <td>B</td>\n",
       "      <td>1134</td>\n",
       "      <td>3</td>\n",
       "      <td>2</td>\n",
       "      <td>ranch</td>\n",
       "      <td>571669</td>\n",
       "    </tr>\n",
       "    <tr>\n",
       "      <th>3</th>\n",
       "      <td>3525</td>\n",
       "      <td>A</td>\n",
       "      <td>1940</td>\n",
       "      <td>4</td>\n",
       "      <td>2</td>\n",
       "      <td>ranch</td>\n",
       "      <td>493675</td>\n",
       "    </tr>\n",
       "    <tr>\n",
       "      <th>4</th>\n",
       "      <td>5108</td>\n",
       "      <td>B</td>\n",
       "      <td>2208</td>\n",
       "      <td>6</td>\n",
       "      <td>4</td>\n",
       "      <td>victorian</td>\n",
       "      <td>1101539</td>\n",
       "    </tr>\n",
       "  </tbody>\n",
       "</table>\n",
       "</div>"
      ],
      "text/plain": [
       "   house_id neighborhood  area  bedrooms  bathrooms      style    price\n",
       "0      1112            B  1188         3          2      ranch   598291\n",
       "1       491            B  3512         5          3  victorian  1744259\n",
       "2      5952            B  1134         3          2      ranch   571669\n",
       "3      3525            A  1940         4          2      ranch   493675\n",
       "4      5108            B  2208         6          4  victorian  1101539"
      ]
     },
     "execution_count": 77,
     "metadata": {},
     "output_type": "execute_result"
    }
   ],
   "source": [
    "import pandas as pd\n",
    "import numpy as np\n",
    "import seaborn as sns\n",
    "from patsy import dmatrices\n",
    "import statsmodels.api as sm;\n",
    "from statsmodels.stats.outliers_influence import variance_inflation_factor\n",
    "\n",
    "df = pd.read_csv('data/house_prices.csv')\n",
    "df.head()"
   ]
  },
  {
   "cell_type": "markdown",
   "metadata": {},
   "source": [
    "1. Use seaborn to look at pairwise relationships for all of the quantitative, explanatory variables in the dataset by running the cell below. You might also investigate how to add color (hue) for the house style or neighborhood. Use the plot to answer the first quiz questions below."
   ]
  },
  {
   "cell_type": "code",
   "execution_count": 78,
   "metadata": {},
   "outputs": [
    {
     "data": {
      "text/plain": [
       "<seaborn.axisgrid.PairGrid at 0x17200602af0>"
      ]
     },
     "execution_count": 78,
     "metadata": {},
     "output_type": "execute_result"
    },
    {
     "data": {
      "image/png": "[encoded data removed]",
      "text/plain": [
       "<Figure size 540x540 with 12 Axes>"
      ]
     },
     "metadata": {
      "needs_background": "light"
     },
     "output_type": "display_data"
    }
   ],
   "source": [
    "sns.pairplot(df[['bedrooms', 'bathrooms', 'area']])"
   ]
  },
  {
   "cell_type": "markdown",
   "metadata": {},
   "source": [
    "> These x-variables all seem to have positive correlations with one another, which raises the problem of multicollinearity.\n",
    "\n",
    "2. Earlier, you fit linear models between each individual predictor variable and price, as well as using all of the variables and the price in a multiple linear regression model. Each of the individual models showed a positive relationship - that is, when bathrooms, bedrooms, or area increase, we predict the price of a home to increase.\n",
    "\n",
    "Fit a linear model to predict a home price using bedrooms, bathrooms, and area. Use the summary to answer the second quiz question below. Don't forget an intercept."
   ]
  },
  {
   "cell_type": "code",
   "execution_count": 80,
   "metadata": {},
   "outputs": [
    {
     "name": "stdout",
     "output_type": "stream",
     "text": [
      "                            OLS Regression Results                            \n",
      "==============================================================================\n",
      "Dep. Variable:                  price   R-squared:                       0.678\n",
      "Model:                            OLS   Adj. R-squared:                  0.678\n",
      "Method:                 Least Squares   F-statistic:                     4230.\n",
      "Date:                Sat, 21 May 2022   Prob (F-statistic):               0.00\n",
      "Time:                        19:03:28   Log-Likelihood:                -84517.\n",
      "No. Observations:                6028   AIC:                         1.690e+05\n",
      "Df Residuals:                    6024   BIC:                         1.691e+05\n",
      "Df Model:                           3                                         \n",
      "Covariance Type:            nonrobust                                         \n",
      "==============================================================================\n",
      "                 coef    std err          t      P>|t|      [0.025      0.975]\n",
      "------------------------------------------------------------------------------\n",
      "b0          1.007e+04   1.04e+04      0.972      0.331   -1.02e+04    3.04e+04\n",
      "bedrooms   -2925.8063   1.03e+04     -0.285      0.775    -2.3e+04    1.72e+04\n",
      "bathrooms   7345.3917   1.43e+04      0.515      0.607   -2.06e+04    3.53e+04\n",
      "area         345.9110      7.227     47.863      0.000     331.743     360.079\n",
      "==============================================================================\n",
      "Omnibus:                      367.658   Durbin-Watson:                   2.007\n",
      "Prob(Omnibus):                  0.000   Jarque-Bera (JB):              350.116\n",
      "Skew:                           0.536   Prob(JB):                     9.40e-77\n",
      "Kurtosis:                       2.503   Cond. No.                     1.16e+04\n",
      "==============================================================================\n",
      "\n",
      "Notes:\n",
      "[1] Standard Errors assume that the covariance matrix of the errors is correctly specified.\n",
      "[2] The condition number is large, 1.16e+04. This might indicate that there are\n",
      "strong multicollinearity or other numerical problems.\n"
     ]
    }
   ],
   "source": [
    "df['b0'] = 1\n",
    "lin_model = sm.OLS(df['price'], df[['b0','bedrooms', 'bathrooms', 'area']])\n",
    "results = lin_model.fit()\n",
    "print(results.summary())"
   ]
  },
  {
   "cell_type": "markdown",
   "metadata": {},
   "source": [
    "> Contradictory to what you might imagine, when the number of bedrooms increases, we actually predict the home price to decrease. The other variables have positive coefficients. The reason for this is because of multicollinearity.\n",
    "\n",
    "3. Calculate the VIFs for each variable in your model. Use quiz 3 below to provide insights about the results of your VIFs. [Here](https://etav.github.io/python/vif_factor_python.html) is the helpful post again, in case you need it!\n",
    "\n"
   ]
  },
  {
   "cell_type": "code",
   "execution_count": 83,
   "metadata": {},
   "outputs": [
    {
     "data": {
      "text/html": [
       "<div>\n",
       "<style scoped>\n",
       "    .dataframe tbody tr th:only-of-type {\n",
       "        vertical-align: middle;\n",
       "    }\n",
       "\n",
       "    .dataframe tbody tr th {\n",
       "        vertical-align: top;\n",
       "    }\n",
       "\n",
       "    .dataframe thead th {\n",
       "        text-align: right;\n",
       "    }\n",
       "</style>\n",
       "<table border=\"1\" class=\"dataframe\">\n",
       "  <thead>\n",
       "    <tr style=\"text-align: right;\">\n",
       "      <th></th>\n",
       "      <th>VIF factor</th>\n",
       "      <th>features</th>\n",
       "    </tr>\n",
       "  </thead>\n",
       "  <tbody>\n",
       "    <tr>\n",
       "      <th>0</th>\n",
       "      <td>7.327102</td>\n",
       "      <td>b0</td>\n",
       "    </tr>\n",
       "    <tr>\n",
       "      <th>1</th>\n",
       "      <td>20.854484</td>\n",
       "      <td>bedrooms</td>\n",
       "    </tr>\n",
       "    <tr>\n",
       "      <th>2</th>\n",
       "      <td>19.006851</td>\n",
       "      <td>bathrooms</td>\n",
       "    </tr>\n",
       "    <tr>\n",
       "      <th>3</th>\n",
       "      <td>5.458190</td>\n",
       "      <td>area</td>\n",
       "    </tr>\n",
       "  </tbody>\n",
       "</table>\n",
       "</div>"
      ],
      "text/plain": [
       "   VIF factor   features\n",
       "0    7.327102         b0\n",
       "1   20.854484   bedrooms\n",
       "2   19.006851  bathrooms\n",
       "3    5.458190       area"
      ]
     },
     "execution_count": 83,
     "metadata": {},
     "output_type": "execute_result"
    }
   ],
   "source": [
    "vif_cols = ['b0','bedrooms', 'bathrooms', 'area']\n",
    "X = np.array(df[vif_cols])\n",
    "\n",
    "vif = pd.DataFrame()\n",
    "vif['VIF factor'] = [variance_inflation_factor(X, i) for i in range(X.shape[1])]\n",
    "vif[\"features\"] = vif_cols\n",
    "\n",
    "vif"
   ]
  },
  {
   "cell_type": "markdown",
   "metadata": {},
   "source": [
    "> We should remove one of the variables, which will actually reduce the VIF for the other high VIF variable, as these variables are related with one another"
   ]
  },
  {
   "cell_type": "code",
   "execution_count": 84,
   "metadata": {},
   "outputs": [
    {
     "name": "stdout",
     "output_type": "stream",
     "text": [
      "                            OLS Regression Results                            \n",
      "==============================================================================\n",
      "Dep. Variable:                  price   R-squared:                       0.678\n",
      "Model:                            OLS   Adj. R-squared:                  0.678\n",
      "Method:                 Least Squares   F-statistic:                     6346.\n",
      "Date:                Sat, 21 May 2022   Prob (F-statistic):               0.00\n",
      "Time:                        19:15:39   Log-Likelihood:                -84517.\n",
      "No. Observations:                6028   AIC:                         1.690e+05\n",
      "Df Residuals:                    6025   BIC:                         1.691e+05\n",
      "Df Model:                           2                                         \n",
      "Covariance Type:            nonrobust                                         \n",
      "==============================================================================\n",
      "                 coef    std err          t      P>|t|      [0.025      0.975]\n",
      "------------------------------------------------------------------------------\n",
      "b0          8215.9441   8063.295      1.019      0.308   -7590.999     2.4e+04\n",
      "bathrooms   3834.7685   7223.513      0.531      0.596   -1.03e+04     1.8e+04\n",
      "area         345.2352      6.827     50.566      0.000     331.851     358.619\n",
      "==============================================================================\n",
      "Omnibus:                      367.677   Durbin-Watson:                   2.008\n",
      "Prob(Omnibus):                  0.000   Jarque-Bera (JB):              350.604\n",
      "Skew:                           0.536   Prob(JB):                     7.37e-77\n",
      "Kurtosis:                       2.504   Cond. No.                     5.71e+03\n",
      "==============================================================================\n",
      "\n",
      "Notes:\n",
      "[1] Standard Errors assume that the covariance matrix of the errors is correctly specified.\n",
      "[2] The condition number is large, 5.71e+03. This might indicate that there are\n",
      "strong multicollinearity or other numerical problems.\n"
     ]
    },
    {
     "data": {
      "text/html": [
       "<div>\n",
       "<style scoped>\n",
       "    .dataframe tbody tr th:only-of-type {\n",
       "        vertical-align: middle;\n",
       "    }\n",
       "\n",
       "    .dataframe tbody tr th {\n",
       "        vertical-align: top;\n",
       "    }\n",
       "\n",
       "    .dataframe thead th {\n",
       "        text-align: right;\n",
       "    }\n",
       "</style>\n",
       "<table border=\"1\" class=\"dataframe\">\n",
       "  <thead>\n",
       "    <tr style=\"text-align: right;\">\n",
       "      <th></th>\n",
       "      <th>VIF factor</th>\n",
       "      <th>features</th>\n",
       "    </tr>\n",
       "  </thead>\n",
       "  <tbody>\n",
       "    <tr>\n",
       "      <th>0</th>\n",
       "      <td>4.438137</td>\n",
       "      <td>b0</td>\n",
       "    </tr>\n",
       "    <tr>\n",
       "      <th>1</th>\n",
       "      <td>4.871816</td>\n",
       "      <td>bathrooms</td>\n",
       "    </tr>\n",
       "    <tr>\n",
       "      <th>2</th>\n",
       "      <td>4.871816</td>\n",
       "      <td>area</td>\n",
       "    </tr>\n",
       "  </tbody>\n",
       "</table>\n",
       "</div>"
      ],
      "text/plain": [
       "   VIF factor   features\n",
       "0    4.438137         b0\n",
       "1    4.871816  bathrooms\n",
       "2    4.871816       area"
      ]
     },
     "execution_count": 84,
     "metadata": {},
     "output_type": "execute_result"
    }
   ],
   "source": [
    "df['b0'] = 1\n",
    "lin_model = sm.OLS(df['price'], df[['b0','bathrooms', 'area']])\n",
    "results = lin_model.fit()\n",
    "print(results.summary())\n",
    "\n",
    "vif_cols = ['b0','bathrooms', 'area']\n",
    "X = np.array(df[vif_cols])\n",
    "\n",
    "vif = pd.DataFrame()\n",
    "vif['VIF factor'] = [variance_inflation_factor(X, i) for i in range(X.shape[1])]\n",
    "vif[\"features\"] = vif_cols\n",
    "\n",
    "vif"
   ]
  },
  {
   "cell_type": "markdown",
   "metadata": {},
   "source": [
    "> Removing the number of bathrooms didn't hurt the predictive power of the model, and still improved the interpretability of the coefficients."
   ]
  },
  {
   "cell_type": "markdown",
   "metadata": {},
   "source": []
  }
 ],
 "metadata": {
  "interpreter": {
   "hash": "f2bc11cf051f42188d2fdd9939f04c28d51e5d654c0e4012ab9251d8d355c8db"
  },
  "kernelspec": {
   "display_name": "Python 3.9.7 ('base')",
   "language": "python",
   "name": "python3"
  },
  "language_info": {
   "codemirror_mode": {
    "name": "ipython",
    "version": 3
   },
   "file_extension": ".py",
   "mimetype": "text/x-python",
   "name": "python",
   "nbconvert_exporter": "python",
   "pygments_lexer": "ipython3",
   "version": "3.9.7"
  },
  "orig_nbformat": 4
 },
 "nbformat": 4,
 "nbformat_minor": 2
}
