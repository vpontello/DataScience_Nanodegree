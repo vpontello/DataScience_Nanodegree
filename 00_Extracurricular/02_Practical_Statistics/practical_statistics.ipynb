{
 "cells": [
  {
   "cell_type": "markdown",
   "metadata": {},
   "source": [
    "# Practical Statistics\n",
    "\n",
    "## Data Definition\n",
    "> Distinct pieces of information\n",
    "\n",
    "## Data Types\n",
    "Quantitative and Categorical.\n",
    "* **Quantitative** data takes on numeric values that allow us to perform mathematical operations (like the number of dogs).\n",
    "* **Categorical** are used to label a group or set of items (like dog breeds - Collies, Labs, Poodles, etc.).\n",
    "\n",
    "### Categorical Ordinal vs. Categorical Nominal\n",
    "We can divide categorical data further into two types: **Ordinal** and **Nominal**.\n",
    "* **Categorical Ordinal** data take on a ranked ordering (like a ranked interaction on a scale from `Very Poor` to `Very Good` with the dogs).\n",
    "* **Categorical Nominal** data do not have an order or ranking (like the breeds of the dog).\n",
    "\n",
    "### Quantitative Continuous vs. Discrete\n",
    "We can think of quantitative data as being either continuous or discrete.\n",
    "\n",
    "* **Continuous** data can be split into smaller and smaller units, and still a smaller unit exists. An example of this is the age of the dog - we can measure the units of the age in years, months, days, hours, seconds, but there are still smaller units that could be associated with the age.\n",
    "\n",
    "* **Discrete** data only takes on countable values. The number of dogs we interact with is an example of a discrete data type.\n",
    "\n",
    "![data_types](images/data_types.PNG)\n",
    "\n",
    "### Another Look\n",
    "To break down our data types, there are two main blocks:\n",
    "\n",
    "### Quantitative and Categorical\n",
    "\n",
    "**Quantitative** can be further divided into `Continuous` or `Discrete`.<br>\n",
    "\n",
    "**Categorical** data can be divided into `Ordinal` or `Nominal`.\n",
    "\n",
    "#### Quantitative vs. Categorical\n",
    "Some of these can be a bit tricky - notice even though zip codes are a number, they aren’t really a quantitative variable. If we add two zip codes together, we do not obtain any useful information from this new value. Therefore, this is a categorical variable.<br>\n",
    "\n",
    "**Height**, **Age**, the **Number of Pages** in a Book and **Annual Income** all take on values that we can add, subtract and perform other operations with to gain useful insight. Hence, these are `quantitative`.<br>\n",
    "\n",
    "**Gender**, **Letter Grade**, **Breakfast Type**, **Marital Status**, and **Zip Code** can be thought of as labels for a group of items or individuals. Hence, these are `categorical`.\n",
    "\n",
    "#### Continuous vs. Discrete\n",
    "To consider if we have continuous or discrete data, we should see if we can split our data into smaller and smaller units. Consider time - we could measure an event in years, months, days, hours, minutes, or seconds, and even at seconds we know there are smaller units we could measure time in. Therefore, we know this data type is continuous. **Height**, **age**, and **income** are all examples of `continuous data`. Alternatively, the **number of pages** in a book, **dogs I count** outside a coffee shop, or **trees in a yard** are `discrete data`. We would not want to split our dogs in half.\n",
    "\n",
    "#### Ordinal vs. Nominal\n",
    "In looking at categorical variables, we found **Gender**, **Marital Status**, **Zip Code** and your **Breakfast items** are `nominal variables` where there is no order ranking associated with this type of data. Whether you ate cereal, toast, eggs, or only coffee for breakfast; there is no rank ordering associated with your breakfast.<br>\n",
    "\n",
    "Alternatively, the **Letter Grade** or **Survey Ratings** have a rank ordering associated with it, as `ordinal data`. If you receive an A, this is higher than an A-. An A- is ranked higher than a B+, and so on... Ordinal variables frequently occur on rating scales from very poor to very good. In many cases we turn these ordinal variables into numbers, as we can more easily analyze them, but more on this later!"
   ]
  },
  {
   "cell_type": "markdown",
   "metadata": {},
   "source": []
  }
 ],
 "metadata": {
  "language_info": {
   "name": "python"
  },
  "orig_nbformat": 4
 },
 "nbformat": 4,
 "nbformat_minor": 2
}
