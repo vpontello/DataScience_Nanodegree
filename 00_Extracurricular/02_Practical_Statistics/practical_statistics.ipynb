{
 "cells": [
  {
   "cell_type": "markdown",
   "metadata": {},
   "source": [
    "# Practical Statistics\n",
    "\n",
    "## Data Definition\n",
    "> Distinct pieces of information\n",
    "\n",
    "## Data Types\n",
    "Quantitative and Categorical.\n",
    "* **Quantitative** data takes on numeric values that allow us to perform mathematical operations (like the number of dogs).\n",
    "* **Categorical** are used to label a group or set of items (like dog breeds - Collies, Labs, Poodles, etc.).\n",
    "\n",
    "### Categorical Ordinal vs. Categorical Nominal\n",
    "We can divide categorical data further into two types: **Ordinal** and **Nominal**.\n",
    "* **Categorical Ordinal** data take on a ranked ordering (like a ranked interaction on a scale from `Very Poor` to `Very Good` with the dogs).\n",
    "* **Categorical Nominal** data do not have an order or ranking (like the breeds of the dog).\n",
    "\n",
    "### Quantitative Continuous vs. Discrete\n",
    "We can think of quantitative data as being either continuous or discrete.\n",
    "\n",
    "* **Continuous** data can be split into smaller and smaller units, and still a smaller unit exists. An example of this is the age of the dog - we can measure the units of the age in years, months, days, hours, seconds, but there are still smaller units that could be associated with the age.\n",
    "\n",
    "* **Discrete** data only takes on countable values. The number of dogs we interact with is an example of a discrete data type.\n",
    "\n",
    "![data_types](images/data_types.PNG)\n",
    "\n",
    "### Another Look\n",
    "To break down our data types, there are two main blocks:\n",
    "\n",
    "### Quantitative and Categorical\n",
    "\n",
    "**Quantitative** can be further divided into `Continuous` or `Discrete`.<br>\n",
    "\n",
    "**Categorical** data can be divided into `Ordinal` or `Nominal`.\n",
    "\n",
    "#### Quantitative vs. Categorical\n",
    "Some of these can be a bit tricky - notice even though zip codes are a number, they aren’t really a quantitative variable. If we add two zip codes together, we do not obtain any useful information from this new value. Therefore, this is a categorical variable.<br>\n",
    "\n",
    "**Height**, **Age**, the **Number of Pages** in a Book and **Annual Income** all take on values that we can add, subtract and perform other operations with to gain useful insight. Hence, these are `quantitative`.<br>\n",
    "\n",
    "**Gender**, **Letter Grade**, **Breakfast Type**, **Marital Status**, and **Zip Code** can be thought of as labels for a group of items or individuals. Hence, these are `categorical`.\n",
    "\n",
    "#### Continuous vs. Discrete\n",
    "To consider if we have continuous or discrete data, we should see if we can split our data into smaller and smaller units. Consider time - we could measure an event in years, months, days, hours, minutes, or seconds, and even at seconds we know there are smaller units we could measure time in. Therefore, we know this data type is continuous. **Height**, **age**, and **income** are all examples of `continuous data`. Alternatively, the **number of pages** in a book, **dogs I count** outside a coffee shop, or **trees in a yard** are `discrete data`. We would not want to split our dogs in half.\n",
    "\n",
    "#### Ordinal vs. Nominal\n",
    "In looking at categorical variables, we found **Gender**, **Marital Status**, **Zip Code** and your **Breakfast items** are `nominal variables` where there is no order ranking associated with this type of data. Whether you ate cereal, toast, eggs, or only coffee for breakfast; there is no rank ordering associated with your breakfast.<br>\n",
    "\n",
    "Alternatively, the **Letter Grade** or **Survey Ratings** have a rank ordering associated with it, as `ordinal data`. If you receive an A, this is higher than an A-. An A- is ranked higher than a B+, and so on... Ordinal variables frequently occur on rating scales from very poor to very good. In many cases we turn these ordinal variables into numbers, as we can more easily analyze them, but more on this later!"
   ]
  },
  {
   "cell_type": "markdown",
   "metadata": {},
   "source": [
    "## Analyzing Quantitative Data\n",
    "\n",
    "There are four main aspects to analyzing **Quantitative** data.\n",
    "\n",
    "1. Measures of `Center`\n",
    "2. Measures of `Spread`\n",
    "3. The `Shape` of the data.\n",
    "4. `Outliers`\n",
    "\n",
    "> Analyzing **categorical data** has fewer parts to consider. Categorical data is analyzed usually be \n",
    "> 1. looking at the counts \n",
    "> 2. or proportion of individuals that fall into each group. \n",
    "> \n",
    ">For example if we were looking at the breeds of the dogs, we would care about how many dogs are of each breed, or what proportion of dogs are of each breed type.\n",
    "\n",
    "### Measures of Center\n",
    "Gives us an idea of an average element. There are three measures of center:\n",
    "1. `Mean`\n",
    "2. `Median`\n",
    "3. `Mode`\n",
    "\n",
    "#### The Mean\n",
    "The mean is often called the **average** or the **expected value** in mathematics. \n",
    "> We calculate the mean by adding all of our values together, and dividing by the number of values in our dataset.\n",
    "\n",
    "#### The Median\n",
    "The `median` splits our data so that **50% of our values are lower and 50% are higher**. We found in this video that how we calculate the median depends on if we have an even number of observations or an odd number of observations.<br>\n",
    "\n",
    "In order to compute the median we MUST sort our values first.\n",
    "\n",
    "> **For odd values**: If we have an odd number of observations, the median is simply the number in the direct middle.\n",
    "\n",
    "> **For even values**: If we have an even number of observations, the median is the average of the two values in the middle.\n",
    "\n",
    "Whether we use the `mean` or `median` to describe a dataset is largely dependent on the **shape** of our dataset and if there are any **outliers**.\n",
    "\n",
    "#### The Mode\n",
    "The mode is the most frequently observed value in our dataset.<br>\n",
    "\n",
    "> There might be multiple modes for a particular dataset, or no mode at all.\n",
    "\n",
    "* **No Mode**: If all observations in our dataset are observed with the same frequency, there is no mode. If we have the dataset:\n",
    "```\n",
    "1, 1, 2, 2, 3, 3, 4, 4\n",
    "```\n",
    "There is no mode, because all observations occur the same number of times.\n",
    "\n",
    "* **Many Modes**: If two (or more) numbers share the maximum value, then there is more than one mode. If we have the dataset:\n",
    "```\n",
    "1, 2, 3, 3, 3, 4, 5, 6, 6, 6, 7, 8, 9\n",
    "```\n",
    "There are two modes 3 and 6, because these values share the maximum frequencies at 3 times, while all other values only appear once.\n",
    "\n",
    "### Notation Capital vs. Lower case letters for variables\n",
    "**Random variables** are represented by `capital letters`. Once we observe an outcome of these random variables, we notate it as a lower case of the same letter. Like follows:\n",
    "\n",
    "`X` (capital) is the whole set of the amount of time individuals spend on the website, like: \n",
    "```\n",
    "[x1, x2, x3, x4, x5, ... , xn]\n",
    "```\n",
    "and `x` (lower) represents a single observation.<br>\n",
    "\n",
    "As a quick recap, **capital letters** signify **random variables**. When we look at **individual instances** of a particular random variable, we identify these as **lowercase letters** with subscripts attach themselves to each specific observation.\n",
    "\n",
    "![notation](images/notation.PNG)"
   ]
  },
  {
   "cell_type": "markdown",
   "metadata": {},
   "source": [
    "### Measures of Spread\n",
    "> Gives us an idea of how the elements differ and how far are points from one another.\n",
    "\n",
    "Measures of Spread are used to provide us an idea of how spread out our data are from one another. Common measures of spread include:\n",
    "\n",
    "1. **Range**\n",
    "2. **Interquartile Range (IQR)**\n",
    "3. **Standard Deviation**\n",
    "4. **Variance**\n",
    "\n",
    "#### Histograms\n",
    "Through Histograms we can understand better how the data behaves and we can have more information than the center values as the following image about the number of dogs saw shows. Both of them have about the same Mean, Median and Mode, but on the weekends there is a higher probability to find more dogs than on weekdays, and it also more likely to see less dogs than the average number on weekends compared to weekdays. Those are example of insights a histogram shows.\n",
    "![histogram](images/histogram.png) \n",
    "\n",
    "##### Quick notes\n",
    "* Pay attention to the scale of histograms when comparing them.\n",
    "* The median is the middle number and is not affected by outliers.\n",
    "* The average factors in all the numbers so outliers will bring the average towards them.\n",
    "* Left Skewed is when the graphs start with a low frequency and then slopes up. Right Skewed is when the graph starts with a high frequency and slopes down.\n",
    "\n",
    "#### Calculating the 5 Number Summary\n",
    "The five number summary consist of 5 values:\n",
    "\n",
    "1. **Minimum**: The smallest number in the dataset.\n",
    "2. **Q1**: The value such that 25% of the data fall below.\n",
    "3. **Q2**: The value such that 50% of the data fall below.\n",
    "4. **Q3**: The value such that 75% of the data fall below.\n",
    "5. **Maximum**: The largest value in the dataset.\n",
    "\n",
    "Calculating each of these values was essentially just finding the median of a bunch of different datasets.\n",
    "\n",
    "#### Range and IQR (Interquartile range)\n",
    "* The `range` is then calculated as the difference between the `maximum` and the `minimum`.\n",
    "* The `interquartile range` is calculated as the difference between `Q3` and `Q1`\n",
    "\n",
    "#### Boxplot\n",
    "Idea behind the boxplot. They are useful for quickly comparing the spread of two datasets\n",
    "\n",
    "![boxplot](images/boxplot.png)\n",
    "\n",
    "#### Standard Deviation and Variance\n",
    "The `standard deviation` is one of the most common measures for talking about the spread of data. It is defined as **the average distance of each observation from the mean**.\n",
    "\n",
    "#### Recap\n",
    "\n",
    "For datasets that are **not symmetric**, the five number summary and a corresponding box plot are a great way to get started with understanding the spread of your data. **Although I still prefer a histogram in most cases, box plots can be easier to compare two or more groups**. You will see this in the quizzes towards the end of this lesson.<br>\n",
    "\n",
    "The variance is the **average squared difference of each observation from the mean**.\n",
    "\n",
    "#### Important Final Points\n",
    "1. The `variance` is used to compare the spread of two different groups. A set of data with higher variance is more spread out than a dataset with lower variance. Be careful though, there might just be an **outlier (or outliers) that is increasing the variance**, when most of the data are actually very close.\n",
    "2. When comparing the spread between two datasets, the **units of each must be the same**.\n",
    "3. When data are related to money or the economy, higher variance (or standard deviation) is associated with higher risk.\n",
    "4. The standard deviation is used more often in practice than the variance, because it shares the units of the original dataset.\n",
    "\n"
   ]
  },
  {
   "cell_type": "markdown",
   "metadata": {},
   "source": [
    "### Shape\n",
    "\n",
    "![normal](images/normal.png)\n",
    "\n",
    "![right](images/skew_right.png)\n",
    "\n",
    "![left](images/skew_left.png)\n",
    "\n",
    "### Outliers\n",
    "We learned that `outliers` are points that fall very far from the rest of our data points. \n",
    "\n",
    "> This influences measures like the mean and standard deviation much more than measures associated with the five number summary.\n",
    "\n",
    "#### How to deal with Outliers\n",
    "1. Noting they exist and the impact on summary statistics.\n",
    "2. If typo - remove or fix\n",
    "3. Understanding why they exist, and the impact on questions we are trying to answer about our data.\n",
    "4. Reporting the 5 number summary values is often a better indication than measures like the mean and standard deviation when we have outliers.\n",
    "5. Be careful in reporting. Know how to ask the right questions.\n",
    "\n",
    "#### Outliers Advice\n",
    "Below are my guidelines for working with any column (random variable) in your dataset.\n",
    "\n",
    "1. Plot your data to identify if you have outliers.\n",
    "2. Handle outliers accordingly via the methods above.\n",
    "3. If no outliers and your data follow a normal distribution - use the mean and standard deviation to describe your dataset, and report that the data are normally distributed.\n",
    "4. If you have skewed data or outliers, use the five number summary to summarize your data and report the outliers.\n",
    "\n",
    "If you aren't sure if your data are normally distributed, there are plots called normal quantile plots and statistical methods like the [Kolmogorov-Smirnov](https://en.wikipedia.org/wiki/Kolmogorov%E2%80%93Smirnov_test) test that are aimed to help you understand whether or not your data are normally distributed."
   ]
  },
  {
   "cell_type": "markdown",
   "metadata": {},
   "source": [
    "## Simpsons Paradox\n",
    "It is so easy to get caught up in looking at full aggregates of your data. Depending on how the data is aggregated we can be led to different conclusions, so it is very important to look to the data form multiple perspectives to avoid false conclusions.\n"
   ]
  },
  {
   "cell_type": "code",
   "execution_count": 19,
   "metadata": {},
   "outputs": [],
   "source": [
    "import pandas as pd\n",
    "import numpy as np"
   ]
  },
  {
   "cell_type": "code",
   "execution_count": 38,
   "metadata": {},
   "outputs": [
    {
     "data": {
      "text/html": [
       "<div>\n",
       "<style scoped>\n",
       "    .dataframe tbody tr th:only-of-type {\n",
       "        vertical-align: middle;\n",
       "    }\n",
       "\n",
       "    .dataframe tbody tr th {\n",
       "        vertical-align: top;\n",
       "    }\n",
       "\n",
       "    .dataframe thead th {\n",
       "        text-align: right;\n",
       "    }\n",
       "</style>\n",
       "<table border=\"1\" class=\"dataframe\">\n",
       "  <thead>\n",
       "    <tr style=\"text-align: right;\">\n",
       "      <th></th>\n",
       "      <th>student_id</th>\n",
       "      <th>gender</th>\n",
       "      <th>major</th>\n",
       "      <th>admitted</th>\n",
       "    </tr>\n",
       "  </thead>\n",
       "  <tbody>\n",
       "    <tr>\n",
       "      <th>0</th>\n",
       "      <td>35377</td>\n",
       "      <td>female</td>\n",
       "      <td>Chemistry</td>\n",
       "      <td>False</td>\n",
       "    </tr>\n",
       "    <tr>\n",
       "      <th>1</th>\n",
       "      <td>56105</td>\n",
       "      <td>male</td>\n",
       "      <td>Physics</td>\n",
       "      <td>True</td>\n",
       "    </tr>\n",
       "    <tr>\n",
       "      <th>2</th>\n",
       "      <td>31441</td>\n",
       "      <td>female</td>\n",
       "      <td>Chemistry</td>\n",
       "      <td>False</td>\n",
       "    </tr>\n",
       "    <tr>\n",
       "      <th>3</th>\n",
       "      <td>51765</td>\n",
       "      <td>male</td>\n",
       "      <td>Physics</td>\n",
       "      <td>True</td>\n",
       "    </tr>\n",
       "    <tr>\n",
       "      <th>4</th>\n",
       "      <td>53714</td>\n",
       "      <td>female</td>\n",
       "      <td>Physics</td>\n",
       "      <td>True</td>\n",
       "    </tr>\n",
       "  </tbody>\n",
       "</table>\n",
       "</div>"
      ],
      "text/plain": [
       "   student_id  gender      major  admitted\n",
       "0       35377  female  Chemistry     False\n",
       "1       56105    male    Physics      True\n",
       "2       31441  female  Chemistry     False\n",
       "3       51765    male    Physics      True\n",
       "4       53714  female    Physics      True"
      ]
     },
     "execution_count": 38,
     "metadata": {},
     "output_type": "execute_result"
    }
   ],
   "source": [
    "# Load and view first few lines of dataset\n",
    "df = pd.read_csv('data/admission_data.csv')\n",
    "df.head()"
   ]
  },
  {
   "cell_type": "code",
   "execution_count": 72,
   "metadata": {},
   "outputs": [
    {
     "data": {
      "text/plain": [
       "female    0.514\n",
       "male      0.486\n",
       "Name: gender, dtype: float64"
      ]
     },
     "execution_count": 72,
     "metadata": {},
     "output_type": "execute_result"
    }
   ],
   "source": [
    "df['gender'].value_counts()/len(df)"
   ]
  },
  {
   "cell_type": "code",
   "execution_count": 40,
   "metadata": {},
   "outputs": [],
   "source": [
    "df[['male', 'female']] = pd.get_dummies(df['gender'])"
   ]
  },
  {
   "cell_type": "code",
   "execution_count": 43,
   "metadata": {},
   "outputs": [
    {
     "data": {
      "text/html": [
       "<div>\n",
       "<style scoped>\n",
       "    .dataframe tbody tr th:only-of-type {\n",
       "        vertical-align: middle;\n",
       "    }\n",
       "\n",
       "    .dataframe tbody tr th {\n",
       "        vertical-align: top;\n",
       "    }\n",
       "\n",
       "    .dataframe thead th {\n",
       "        text-align: right;\n",
       "    }\n",
       "</style>\n",
       "<table border=\"1\" class=\"dataframe\">\n",
       "  <thead>\n",
       "    <tr style=\"text-align: right;\">\n",
       "      <th></th>\n",
       "      <th>student_id</th>\n",
       "      <th>gender</th>\n",
       "      <th>major</th>\n",
       "      <th>admitted</th>\n",
       "      <th>male</th>\n",
       "      <th>female</th>\n",
       "    </tr>\n",
       "  </thead>\n",
       "  <tbody>\n",
       "    <tr>\n",
       "      <th>0</th>\n",
       "      <td>35377</td>\n",
       "      <td>female</td>\n",
       "      <td>Chemistry</td>\n",
       "      <td>False</td>\n",
       "      <td>1</td>\n",
       "      <td>0</td>\n",
       "    </tr>\n",
       "    <tr>\n",
       "      <th>1</th>\n",
       "      <td>56105</td>\n",
       "      <td>male</td>\n",
       "      <td>Physics</td>\n",
       "      <td>True</td>\n",
       "      <td>0</td>\n",
       "      <td>1</td>\n",
       "    </tr>\n",
       "    <tr>\n",
       "      <th>2</th>\n",
       "      <td>31441</td>\n",
       "      <td>female</td>\n",
       "      <td>Chemistry</td>\n",
       "      <td>False</td>\n",
       "      <td>1</td>\n",
       "      <td>0</td>\n",
       "    </tr>\n",
       "    <tr>\n",
       "      <th>3</th>\n",
       "      <td>51765</td>\n",
       "      <td>male</td>\n",
       "      <td>Physics</td>\n",
       "      <td>True</td>\n",
       "      <td>0</td>\n",
       "      <td>1</td>\n",
       "    </tr>\n",
       "    <tr>\n",
       "      <th>4</th>\n",
       "      <td>53714</td>\n",
       "      <td>female</td>\n",
       "      <td>Physics</td>\n",
       "      <td>True</td>\n",
       "      <td>1</td>\n",
       "      <td>0</td>\n",
       "    </tr>\n",
       "  </tbody>\n",
       "</table>\n",
       "</div>"
      ],
      "text/plain": [
       "   student_id  gender      major  admitted  male  female\n",
       "0       35377  female  Chemistry     False     1       0\n",
       "1       56105    male    Physics      True     0       1\n",
       "2       31441  female  Chemistry     False     1       0\n",
       "3       51765    male    Physics      True     0       1\n",
       "4       53714  female    Physics      True     1       0"
      ]
     },
     "execution_count": 43,
     "metadata": {},
     "output_type": "execute_result"
    }
   ],
   "source": [
    "df.head()"
   ]
  },
  {
   "cell_type": "code",
   "execution_count": 84,
   "metadata": {},
   "outputs": [],
   "source": [
    "df_agg = df.groupby(['major','gender']).agg({'gender':'count',\n",
    "                                             'admitted':['sum','mean']}).rename(columns={'gender':'candidates'}) \n",
    "col_names = []\n",
    "for cols in df_agg.columns:\n",
    "    new_col = '_'.join(cols)\n",
    "    col_names.append(new_col)\n",
    "# rename columns\n",
    "df_agg.columns = col_names\n",
    "\n",
    "df_agg['acceptance_rate'] = df_agg['admitted_sum'] / df_agg['candidates_count']         "
   ]
  },
  {
   "cell_type": "code",
   "execution_count": 85,
   "metadata": {},
   "outputs": [
    {
     "data": {
      "text/html": [
       "<div>\n",
       "<style scoped>\n",
       "    .dataframe tbody tr th:only-of-type {\n",
       "        vertical-align: middle;\n",
       "    }\n",
       "\n",
       "    .dataframe tbody tr th {\n",
       "        vertical-align: top;\n",
       "    }\n",
       "\n",
       "    .dataframe thead th {\n",
       "        text-align: right;\n",
       "    }\n",
       "</style>\n",
       "<table border=\"1\" class=\"dataframe\">\n",
       "  <thead>\n",
       "    <tr style=\"text-align: right;\">\n",
       "      <th></th>\n",
       "      <th></th>\n",
       "      <th>candidates_count</th>\n",
       "      <th>admitted_sum</th>\n",
       "      <th>admitted_mean</th>\n",
       "      <th>acceptance_rate</th>\n",
       "    </tr>\n",
       "    <tr>\n",
       "      <th>major</th>\n",
       "      <th>gender</th>\n",
       "      <th></th>\n",
       "      <th></th>\n",
       "      <th></th>\n",
       "      <th></th>\n",
       "    </tr>\n",
       "  </thead>\n",
       "  <tbody>\n",
       "    <tr>\n",
       "      <th rowspan=\"2\" valign=\"top\">Chemistry</th>\n",
       "      <th>female</th>\n",
       "      <td>226</td>\n",
       "      <td>51.0</td>\n",
       "      <td>0.225664</td>\n",
       "      <td>0.225664</td>\n",
       "    </tr>\n",
       "    <tr>\n",
       "      <th>male</th>\n",
       "      <td>18</td>\n",
       "      <td>2.0</td>\n",
       "      <td>0.111111</td>\n",
       "      <td>0.111111</td>\n",
       "    </tr>\n",
       "    <tr>\n",
       "      <th rowspan=\"2\" valign=\"top\">Physics</th>\n",
       "      <th>female</th>\n",
       "      <td>31</td>\n",
       "      <td>23.0</td>\n",
       "      <td>0.741935</td>\n",
       "      <td>0.741935</td>\n",
       "    </tr>\n",
       "    <tr>\n",
       "      <th>male</th>\n",
       "      <td>225</td>\n",
       "      <td>116.0</td>\n",
       "      <td>0.515556</td>\n",
       "      <td>0.515556</td>\n",
       "    </tr>\n",
       "  </tbody>\n",
       "</table>\n",
       "</div>"
      ],
      "text/plain": [
       "                  candidates_count  admitted_sum  admitted_mean  \\\n",
       "major     gender                                                  \n",
       "Chemistry female               226          51.0       0.225664   \n",
       "          male                  18           2.0       0.111111   \n",
       "Physics   female                31          23.0       0.741935   \n",
       "          male                 225         116.0       0.515556   \n",
       "\n",
       "                  acceptance_rate  \n",
       "major     gender                   \n",
       "Chemistry female         0.225664  \n",
       "          male           0.111111  \n",
       "Physics   female         0.741935  \n",
       "          male           0.515556  "
      ]
     },
     "execution_count": 85,
     "metadata": {},
     "output_type": "execute_result"
    }
   ],
   "source": [
    "df_agg.head()"
   ]
  },
  {
   "cell_type": "code",
   "execution_count": 69,
   "metadata": {},
   "outputs": [],
   "source": [
    "df_agg_1 = df.groupby(['gender']).agg({'gender':'count',\n",
    "                                             'admitted':'sum'}).rename(columns={'gender':'candidates'})     \n",
    "df_agg_1['acceptance_rate'] = df_agg_1['admitted'] / df_agg_1['candidates'] \n"
   ]
  },
  {
   "cell_type": "code",
   "execution_count": 92,
   "metadata": {},
   "outputs": [
    {
     "data": {
      "text/html": [
       "<div>\n",
       "<style scoped>\n",
       "    .dataframe tbody tr th:only-of-type {\n",
       "        vertical-align: middle;\n",
       "    }\n",
       "\n",
       "    .dataframe tbody tr th {\n",
       "        vertical-align: top;\n",
       "    }\n",
       "\n",
       "    .dataframe thead th {\n",
       "        text-align: right;\n",
       "    }\n",
       "</style>\n",
       "<table border=\"1\" class=\"dataframe\">\n",
       "  <thead>\n",
       "    <tr style=\"text-align: right;\">\n",
       "      <th></th>\n",
       "      <th>candidates</th>\n",
       "      <th>admitted</th>\n",
       "      <th>acceptance_rate</th>\n",
       "    </tr>\n",
       "    <tr>\n",
       "      <th>gender</th>\n",
       "      <th></th>\n",
       "      <th></th>\n",
       "      <th></th>\n",
       "    </tr>\n",
       "  </thead>\n",
       "  <tbody>\n",
       "    <tr>\n",
       "      <th>female</th>\n",
       "      <td>257</td>\n",
       "      <td>74.0</td>\n",
       "      <td>0.287938</td>\n",
       "    </tr>\n",
       "    <tr>\n",
       "      <th>male</th>\n",
       "      <td>243</td>\n",
       "      <td>118.0</td>\n",
       "      <td>0.485597</td>\n",
       "    </tr>\n",
       "  </tbody>\n",
       "</table>\n",
       "</div>"
      ],
      "text/plain": [
       "        candidates  admitted  acceptance_rate\n",
       "gender                                       \n",
       "female         257      74.0         0.287938\n",
       "male           243     118.0         0.485597"
      ]
     },
     "execution_count": 92,
     "metadata": {},
     "output_type": "execute_result"
    }
   ],
   "source": [
    "df_agg_1.head()"
   ]
  },
  {
   "cell_type": "code",
   "execution_count": null,
   "metadata": {},
   "outputs": [],
   "source": []
  },
  {
   "cell_type": "markdown",
   "metadata": {},
   "source": [
    "## Probability\n",
    "\n",
    "![proba](images/probability_statistics.PNG)\n",
    "\n",
    "We can get two generic rules from this:\n",
    "\n",
    "* The probability of any event must be between 0 and 1, inclusive.\n",
    "\n",
    "* The probability of the complement event is 1 minus the probability of an event. That is the probability of all other possible events is 1 minus the probability an event itself. Therefore, the sum of all possible events is equal to 1.\n",
    "\n",
    "* If our events are independent, then the probability of the string of possible events is the product of those events. That is the probability of one event AND the next AND the next event, is the product of those events."
   ]
  },
  {
   "cell_type": "markdown",
   "metadata": {},
   "source": [
    "## Binomial Distribution"
   ]
  },
  {
   "cell_type": "markdown",
   "metadata": {},
   "source": [
    "The **Binomial Distribution** helps us determine the probability of a string of independent 'coin flip like events'.<br>\n",
    "\n",
    "The [probability mass function](https://en.wikipedia.org/wiki/Probability_mass_function) associated with the binomial distribution is of the following form:\n",
    "\n",
    "![binomial_formula](images/binomial_formula.PNG)\n",
    "\n",
    "where **n** is the number of events, **x** is the number of \"successes\", and **p** is the probability of \"success\".<br>\n",
    "\n",
    "We can now use this distribution to determine the probability of things like:\n",
    "\n",
    "* The probability of 3 heads occurring in 10 flips.\n",
    "* The probability of observing 8 or more heads occurring in 10 flips.\n",
    "* The probability of not observing any heads in 20 flips."
   ]
  },
  {
   "cell_type": "markdown",
   "metadata": {},
   "source": [
    "## Conditional Probability\n",
    "In this lesson you learned about conditional probability. Often events are not independent like with coin flips and dice rolling. Instead, the outcome of one event depends on an earlier event.<br>\n",
    "\n",
    "For example, the probability of obtaining a positive test result is dependent on whether or not you have a particular condition. If you have a condition, it is more likely that a test result is positive. We can formulate conditional probabilities for any two events in the following way:\n",
    "\n",
    "![conditional_probability](images/conditional_probability.png)"
   ]
  },
  {
   "cell_type": "markdown",
   "metadata": {},
   "source": [
    "### Practical probabilty with python\n",
    "\n",
    "#### Simulating coin flips"
   ]
  },
  {
   "cell_type": "code",
   "execution_count": 34,
   "metadata": {},
   "outputs": [],
   "source": [
    "import pandas as pd\n",
    "import numpy as np\n",
    "import matplotlib.pyplot as plt\n",
    "import seaborn as sns"
   ]
  },
  {
   "cell_type": "code",
   "execution_count": 95,
   "metadata": {},
   "outputs": [
    {
     "data": {
      "text/plain": [
       "0.4978"
      ]
     },
     "execution_count": 95,
     "metadata": {},
     "output_type": "execute_result"
    }
   ],
   "source": [
    "# fair coin P(0)=0.5 and P(1)=0.5\n",
    "np.random.randint(2, size=10000).mean()   "
   ]
  },
  {
   "cell_type": "code",
   "execution_count": 99,
   "metadata": {},
   "outputs": [
    {
     "data": {
      "text/plain": [
       "0.2058"
      ]
     },
     "execution_count": 99,
     "metadata": {},
     "output_type": "execute_result"
    }
   ],
   "source": [
    "# biased coin P(0)=0.8 and P(1)=0.2\n",
    "np.random.choice([0,1], size=10000, p=[0.8, 0.2]).mean()"
   ]
  },
  {
   "cell_type": "markdown",
   "metadata": {},
   "source": [
    "##### Two fair coin flips produce exactly two heads"
   ]
  },
  {
   "cell_type": "code",
   "execution_count": 3,
   "metadata": {},
   "outputs": [
    {
     "data": {
      "text/plain": [
       "0.250328"
      ]
     },
     "execution_count": 3,
     "metadata": {},
     "output_type": "execute_result"
    }
   ],
   "source": [
    "# simulate 1 million tests of two fair coin flips\n",
    "tests = np.random.randint(2, size=(int(1e6), 2))\n",
    "\n",
    "# sums of all tests\n",
    "test_sums = tests.sum(axis=1)\n",
    "\n",
    "# proportion of tests that produced exactly two heads\n",
    "(test_sums == 0).mean()"
   ]
  },
  {
   "cell_type": "markdown",
   "metadata": {},
   "source": [
    "##### Three fair coin flips produce exactly one head"
   ]
  },
  {
   "cell_type": "code",
   "execution_count": 16,
   "metadata": {},
   "outputs": [
    {
     "data": {
      "text/plain": [
       "0.37535"
      ]
     },
     "execution_count": 16,
     "metadata": {},
     "output_type": "execute_result"
    }
   ],
   "source": [
    "# simulate 1 million tests of three fair coin flips\n",
    "tests = np.random.randint(2, size=[int(1e6), 3])\n",
    "\n",
    "# sums of all tests\n",
    "test_sums = tests.sum(axis=1)\n",
    "\n",
    "# proportion of tests that produced exactly one head\n",
    "(test_sums == 2).mean()"
   ]
  },
  {
   "cell_type": "markdown",
   "metadata": {},
   "source": [
    "##### Three biased coin flips with P(H) = 0.6 produce exactly one head"
   ]
  },
  {
   "cell_type": "code",
   "execution_count": 15,
   "metadata": {},
   "outputs": [
    {
     "data": {
      "text/plain": [
       "0.287674"
      ]
     },
     "execution_count": 15,
     "metadata": {},
     "output_type": "execute_result"
    }
   ],
   "source": [
    "# simulate 1 million tests of three biased coin flips\n",
    "# hint: use np.random.choice()\n",
    "tests = np.random.choice([0,1], size=[int(1e6),3], p=[0.6, 0.4])\n",
    "\n",
    "# sums of all tests\n",
    "test_sums = tests.sum(axis=1)\n",
    "\n",
    "# proportion of tests that produced exactly one head\n",
    "(test_sums == 2).mean()"
   ]
  },
  {
   "cell_type": "markdown",
   "metadata": {},
   "source": [
    "##### A die rolls an even number"
   ]
  },
  {
   "cell_type": "code",
   "execution_count": 12,
   "metadata": {},
   "outputs": [
    {
     "data": {
      "text/plain": [
       "0.499841"
      ]
     },
     "execution_count": 12,
     "metadata": {},
     "output_type": "execute_result"
    }
   ],
   "source": [
    "# simulate 1 million tests of one die roll\n",
    "tests = np.random.choice([1,2,3,4,5,6], size=int(1e6))\n",
    "\n",
    "# proportion of tests that produced an even number\n",
    "(tests%2==0).mean()"
   ]
  },
  {
   "cell_type": "markdown",
   "metadata": {},
   "source": [
    "##### Two dice roll a double"
   ]
  },
  {
   "cell_type": "code",
   "execution_count": 14,
   "metadata": {},
   "outputs": [
    {
     "data": {
      "text/plain": [
       "0.167164"
      ]
     },
     "execution_count": 14,
     "metadata": {},
     "output_type": "execute_result"
    }
   ],
   "source": [
    "# simulate the first million die rolls\n",
    "tests = np.random.choice([1,2,3,4,5,6], size=int(1e6))\n",
    "\n",
    "# simulate the second million die rolls\n",
    "second = np.random.choice([1,2,3,4,5,6], size=int(1e6))\n",
    "\n",
    "# proportion of tests where the 1st and 2nd die rolled the same number\n",
    "(tests == second).mean()"
   ]
  },
  {
   "cell_type": "markdown",
   "metadata": {},
   "source": [
    "#### Binomial distributions\n",
    "##### Simulation of 10.000 throws of a fair coin"
   ]
  },
  {
   "cell_type": "code",
   "execution_count": 30,
   "metadata": {},
   "outputs": [],
   "source": [
    "tests = np.random.binomial(n=10, p=0.5, size=int(10000))"
   ]
  },
  {
   "cell_type": "code",
   "execution_count": 32,
   "metadata": {},
   "outputs": [
    {
     "data": {
      "text/plain": [
       "5.0057"
      ]
     },
     "execution_count": 32,
     "metadata": {},
     "output_type": "execute_result"
    }
   ],
   "source": [
    "# number of heads outcome\n",
    "tests.mean()"
   ]
  },
  {
   "cell_type": "code",
   "execution_count": 33,
   "metadata": {},
   "outputs": [
    {
     "data": {
      "text/plain": [
       "(array([  15.,  106.,  448., 1099., 2051., 2495., 2082., 1161.,  439.,\n",
       "         104.]),\n",
       " array([ 0.,  1.,  2.,  3.,  4.,  5.,  6.,  7.,  8.,  9., 10.]),\n",
       " <BarContainer object of 10 artists>)"
      ]
     },
     "execution_count": 33,
     "metadata": {},
     "output_type": "execute_result"
    },
    {
     "data": {
      "image/png": "[encoded data removed]",
      "text/plain": [
       "<Figure size 432x288 with 1 Axes>"
      ]
     },
     "metadata": {
      "needs_background": "light"
     },
     "output_type": "display_data"
    }
   ],
   "source": [
    "plt.hist(tests)"
   ]
  },
  {
   "cell_type": "markdown",
   "metadata": {},
   "source": [
    "##### A fair coin flip produces heads"
   ]
  },
  {
   "cell_type": "code",
   "execution_count": 34,
   "metadata": {},
   "outputs": [
    {
     "data": {
      "text/plain": [
       "0.499375"
      ]
     },
     "execution_count": 34,
     "metadata": {},
     "output_type": "execute_result"
    }
   ],
   "source": [
    "# simulate 1 million tests of one fair coin flip\n",
    "# remember, the output of these tests are the # successes, or # heads\n",
    "tests = np.random.binomial(1, 0.5, int(1e6))\n",
    "\n",
    "# proportion of tests that produced heads\n",
    "(tests == 1).mean()"
   ]
  },
  {
   "cell_type": "markdown",
   "metadata": {},
   "source": [
    "##### Five fair coin flips produce exactly one head"
   ]
  },
  {
   "cell_type": "code",
   "execution_count": 37,
   "metadata": {},
   "outputs": [
    {
     "data": {
      "text/plain": [
       "0.156092"
      ]
     },
     "execution_count": 37,
     "metadata": {},
     "output_type": "execute_result"
    }
   ],
   "source": [
    "# simulate 1 million tests of five fair coin flips\n",
    "tests = np.random.binomial(5, 0.5, size=int(1e6))\n",
    "\n",
    "# proportion of tests that produced 1 head\n",
    "(tests == 1).mean()"
   ]
  },
  {
   "cell_type": "code",
   "execution_count": 45,
   "metadata": {},
   "outputs": [
    {
     "data": {
      "text/plain": [
       "0.15625"
      ]
     },
     "execution_count": 45,
     "metadata": {},
     "output_type": "execute_result"
    }
   ],
   "source": [
    "5*0.5**5"
   ]
  },
  {
   "cell_type": "markdown",
   "metadata": {},
   "source": [
    "##### Ten fair coin flips produce exactly four heads"
   ]
  },
  {
   "cell_type": "code",
   "execution_count": 42,
   "metadata": {},
   "outputs": [
    {
     "data": {
      "text/plain": [
       "0.204855"
      ]
     },
     "execution_count": 42,
     "metadata": {},
     "output_type": "execute_result"
    }
   ],
   "source": [
    "# simulate 1 million tests of ten fair coin flips\n",
    "tests = np.random.binomial(10, 0.5, size=int(1e6))\n",
    "\n",
    "# proportion of tests that produced 4 heads\n",
    "(tests == 4).mean()"
   ]
  },
  {
   "cell_type": "code",
   "execution_count": 44,
   "metadata": {},
   "outputs": [
    {
     "data": {
      "text/plain": [
       "0.205078125"
      ]
     },
     "execution_count": 44,
     "metadata": {},
     "output_type": "execute_result"
    }
   ],
   "source": [
    "(70*9/3)*(0.5**10)"
   ]
  },
  {
   "cell_type": "markdown",
   "metadata": {},
   "source": [
    "##### Five biased coin flips with P(H) = 0.8 produce exactly five heads"
   ]
  },
  {
   "cell_type": "code",
   "execution_count": 46,
   "metadata": {},
   "outputs": [
    {
     "data": {
      "text/plain": [
       "0.328231"
      ]
     },
     "execution_count": 46,
     "metadata": {},
     "output_type": "execute_result"
    }
   ],
   "source": [
    "# simulate 1 million tests of five biased coin flips\n",
    "tests = np.random.binomial(5, 0.8, size=int(1e6))\n",
    "\n",
    "# proportion of tests that produced 5 heads\n",
    "(tests == 5).mean()"
   ]
  },
  {
   "cell_type": "code",
   "execution_count": 47,
   "metadata": {},
   "outputs": [
    {
     "data": {
      "text/plain": [
       "0.3276800000000001"
      ]
     },
     "execution_count": 47,
     "metadata": {},
     "output_type": "execute_result"
    }
   ],
   "source": [
    "0.8**5"
   ]
  },
  {
   "cell_type": "markdown",
   "metadata": {},
   "source": [
    "##### Ten biased coin flips with P(H) = 0.15 produce at least 3 heads"
   ]
  },
  {
   "cell_type": "code",
   "execution_count": 59,
   "metadata": {},
   "outputs": [
    {
     "data": {
      "text/plain": [
       "0.180066"
      ]
     },
     "execution_count": 59,
     "metadata": {},
     "output_type": "execute_result"
    }
   ],
   "source": [
    "# simulate 1 million tests of ten biased coin flips\n",
    "tests = np.random.binomial(10, 0.15, size=int(1e6))\n",
    "\n",
    "# proportion of tests that produced at least 3 heads\n",
    "(tests >= 3).mean()"
   ]
  },
  {
   "cell_type": "code",
   "execution_count": 69,
   "metadata": {},
   "outputs": [
    {
     "data": {
      "text/plain": [
       "0.17980351963242214"
      ]
     },
     "execution_count": 69,
     "metadata": {},
     "output_type": "execute_result"
    }
   ],
   "source": [
    "1 - (np.math.factorial(10)/np.math.factorial(8)/np.math.factorial(2)*0.15**2*0.85**8 + \\\n",
    "np.math.factorial(10)/np.math.factorial(9)/np.math.factorial(1)*0.15**1*0.85**9 + \\\n",
    "0.15**0*0.85**10)       "
   ]
  },
  {
   "cell_type": "markdown",
   "metadata": {},
   "source": [
    "#### Excercise: Cancer Test Results"
   ]
  },
  {
   "cell_type": "code",
   "execution_count": 4,
   "metadata": {},
   "outputs": [],
   "source": [
    "df = pd.read_csv('data/cancer_test_data.csv')"
   ]
  },
  {
   "cell_type": "code",
   "execution_count": 5,
   "metadata": {},
   "outputs": [
    {
     "data": {
      "text/html": [
       "<div>\n",
       "<style scoped>\n",
       "    .dataframe tbody tr th:only-of-type {\n",
       "        vertical-align: middle;\n",
       "    }\n",
       "\n",
       "    .dataframe tbody tr th {\n",
       "        vertical-align: top;\n",
       "    }\n",
       "\n",
       "    .dataframe thead th {\n",
       "        text-align: right;\n",
       "    }\n",
       "</style>\n",
       "<table border=\"1\" class=\"dataframe\">\n",
       "  <thead>\n",
       "    <tr style=\"text-align: right;\">\n",
       "      <th></th>\n",
       "      <th>patient_id</th>\n",
       "      <th>test_result</th>\n",
       "      <th>has_cancer</th>\n",
       "    </tr>\n",
       "  </thead>\n",
       "  <tbody>\n",
       "    <tr>\n",
       "      <th>0</th>\n",
       "      <td>79452</td>\n",
       "      <td>Negative</td>\n",
       "      <td>False</td>\n",
       "    </tr>\n",
       "    <tr>\n",
       "      <th>1</th>\n",
       "      <td>81667</td>\n",
       "      <td>Positive</td>\n",
       "      <td>True</td>\n",
       "    </tr>\n",
       "    <tr>\n",
       "      <th>2</th>\n",
       "      <td>76297</td>\n",
       "      <td>Negative</td>\n",
       "      <td>False</td>\n",
       "    </tr>\n",
       "    <tr>\n",
       "      <th>3</th>\n",
       "      <td>36593</td>\n",
       "      <td>Negative</td>\n",
       "      <td>False</td>\n",
       "    </tr>\n",
       "    <tr>\n",
       "      <th>4</th>\n",
       "      <td>53717</td>\n",
       "      <td>Negative</td>\n",
       "      <td>False</td>\n",
       "    </tr>\n",
       "  </tbody>\n",
       "</table>\n",
       "</div>"
      ],
      "text/plain": [
       "   patient_id test_result  has_cancer\n",
       "0       79452    Negative       False\n",
       "1       81667    Positive        True\n",
       "2       76297    Negative       False\n",
       "3       36593    Negative       False\n",
       "4       53717    Negative       False"
      ]
     },
     "execution_count": 5,
     "metadata": {},
     "output_type": "execute_result"
    }
   ],
   "source": [
    "df.head()"
   ]
  },
  {
   "cell_type": "code",
   "execution_count": 6,
   "metadata": {},
   "outputs": [
    {
     "data": {
      "text/html": [
       "<div>\n",
       "<style scoped>\n",
       "    .dataframe tbody tr th:only-of-type {\n",
       "        vertical-align: middle;\n",
       "    }\n",
       "\n",
       "    .dataframe tbody tr th {\n",
       "        vertical-align: top;\n",
       "    }\n",
       "\n",
       "    .dataframe thead th {\n",
       "        text-align: right;\n",
       "    }\n",
       "</style>\n",
       "<table border=\"1\" class=\"dataframe\">\n",
       "  <thead>\n",
       "    <tr style=\"text-align: right;\">\n",
       "      <th></th>\n",
       "      <th>patient_id</th>\n",
       "    </tr>\n",
       "  </thead>\n",
       "  <tbody>\n",
       "    <tr>\n",
       "      <th>count</th>\n",
       "      <td>2914.000000</td>\n",
       "    </tr>\n",
       "    <tr>\n",
       "      <th>mean</th>\n",
       "      <td>56196.837337</td>\n",
       "    </tr>\n",
       "    <tr>\n",
       "      <th>std</th>\n",
       "      <td>15341.382912</td>\n",
       "    </tr>\n",
       "    <tr>\n",
       "      <th>min</th>\n",
       "      <td>29304.000000</td>\n",
       "    </tr>\n",
       "    <tr>\n",
       "      <th>25%</th>\n",
       "      <td>42873.000000</td>\n",
       "    </tr>\n",
       "    <tr>\n",
       "      <th>50%</th>\n",
       "      <td>55957.500000</td>\n",
       "    </tr>\n",
       "    <tr>\n",
       "      <th>75%</th>\n",
       "      <td>69730.500000</td>\n",
       "    </tr>\n",
       "    <tr>\n",
       "      <th>max</th>\n",
       "      <td>82300.000000</td>\n",
       "    </tr>\n",
       "  </tbody>\n",
       "</table>\n",
       "</div>"
      ],
      "text/plain": [
       "         patient_id\n",
       "count   2914.000000\n",
       "mean   56196.837337\n",
       "std    15341.382912\n",
       "min    29304.000000\n",
       "25%    42873.000000\n",
       "50%    55957.500000\n",
       "75%    69730.500000\n",
       "max    82300.000000"
      ]
     },
     "execution_count": 6,
     "metadata": {},
     "output_type": "execute_result"
    }
   ],
   "source": [
    "df.describe()"
   ]
  },
  {
   "cell_type": "code",
   "execution_count": 7,
   "metadata": {},
   "outputs": [
    {
     "data": {
      "text/plain": [
       "False    2608\n",
       "True      306\n",
       "Name: has_cancer, dtype: int64"
      ]
     },
     "execution_count": 7,
     "metadata": {},
     "output_type": "execute_result"
    }
   ],
   "source": [
    "df['has_cancer'].value_counts()"
   ]
  },
  {
   "cell_type": "code",
   "execution_count": 8,
   "metadata": {},
   "outputs": [
    {
     "data": {
      "text/plain": [
       "False    0.89499\n",
       "True     0.10501\n",
       "Name: has_cancer, dtype: float64"
      ]
     },
     "execution_count": 8,
     "metadata": {},
     "output_type": "execute_result"
    }
   ],
   "source": [
    "df['has_cancer'].value_counts()/len(df)"
   ]
  },
  {
   "cell_type": "code",
   "execution_count": 9,
   "metadata": {},
   "outputs": [
    {
     "data": {
      "text/plain": [
       "Negative    2106\n",
       "Positive     808\n",
       "Name: test_result, dtype: int64"
      ]
     },
     "execution_count": 9,
     "metadata": {},
     "output_type": "execute_result"
    }
   ],
   "source": [
    "df['test_result'].value_counts()"
   ]
  },
  {
   "cell_type": "code",
   "execution_count": 10,
   "metadata": {},
   "outputs": [
    {
     "data": {
      "text/plain": [
       "Negative    0.722718\n",
       "Positive    0.277282\n",
       "Name: test_result, dtype: float64"
      ]
     },
     "execution_count": 10,
     "metadata": {},
     "output_type": "execute_result"
    }
   ],
   "source": [
    "df['test_result'].value_counts()/len(df)"
   ]
  },
  {
   "cell_type": "code",
   "execution_count": 19,
   "metadata": {},
   "outputs": [
    {
     "data": {
      "text/plain": [
       "0.9052287581699346"
      ]
     },
     "execution_count": 19,
     "metadata": {},
     "output_type": "execute_result"
    }
   ],
   "source": [
    "# What proportion of patients with cancer test positive?\n",
    "df.query('test_result==\"Positive\" and has_cancer==True').shape[0]/df.query('has_cancer==True').shape[0]"
   ]
  },
  {
   "cell_type": "code",
   "execution_count": 20,
   "metadata": {},
   "outputs": [
    {
     "data": {
      "text/plain": [
       "0.09477124183006536"
      ]
     },
     "execution_count": 20,
     "metadata": {},
     "output_type": "execute_result"
    }
   ],
   "source": [
    "# What proportion of patients with cancer test negative?\n",
    "df.query('test_result==\"Negative\" and has_cancer==True').shape[0]/df.query('has_cancer==True').shape[0]"
   ]
  },
  {
   "cell_type": "code",
   "execution_count": 21,
   "metadata": {},
   "outputs": [
    {
     "data": {
      "text/plain": [
       "0.2036042944785276"
      ]
     },
     "execution_count": 21,
     "metadata": {},
     "output_type": "execute_result"
    }
   ],
   "source": [
    "# What proportion of patients without cancer test positive?\n",
    "df.query('test_result==\"Positive\" and has_cancer==False').shape[0]/df.query('has_cancer==False').shape[0]"
   ]
  },
  {
   "cell_type": "code",
   "execution_count": 22,
   "metadata": {},
   "outputs": [
    {
     "data": {
      "text/plain": [
       "0.7963957055214724"
      ]
     },
     "execution_count": 22,
     "metadata": {},
     "output_type": "execute_result"
    }
   ],
   "source": [
    "# What proportion of patients without cancer test negative?\n",
    "df.query('test_result==\"Negative\" and has_cancer==False').shape[0]/df.query('has_cancer==False').shape[0]"
   ]
  },
  {
   "cell_type": "markdown",
   "metadata": {},
   "source": [
    "![cancer_exercise](images/conditional_probability_cancer_exercise.PNG)"
   ]
  },
  {
   "cell_type": "code",
   "execution_count": 27,
   "metadata": {},
   "outputs": [],
   "source": [
    "# What proportion of patients with cancer\n",
    "has_cancer = df.query('has_cancer==True').shape[0]/df.shape[0]\n",
    "# What proportion of patients without cancer\n",
    "has_no_cancer = df.query('has_cancer==False').shape[0]/df.shape[0]\n",
    "# What proportion of patients with cancer test positive?\n",
    "has_cancer_pos = df.query('test_result==\"Positive\" and has_cancer==True').shape[0]/df.query('has_cancer==True').shape[0]\n",
    "# What proportion of patients with cancer test negative?\n",
    "has_cancer_neg = df.query('test_result==\"Negative\" and has_cancer==True').shape[0]/df.query('has_cancer==True').shape[0]\n",
    "# What proportion of patients without cancer test positive?\n",
    "has_no_cancer_pos = df.query('test_result==\"Positive\" and has_cancer==False').shape[0]/df.query('has_cancer==False').shape[0]\n",
    "# What proportion of patients without cancer test negative?\n",
    "has_no_cancer_neg = df.query('test_result==\"Negative\" and has_cancer==False').shape[0]/df.query('has_cancer==False').shape[0]"
   ]
  },
  {
   "cell_type": "code",
   "execution_count": 37,
   "metadata": {},
   "outputs": [],
   "source": [
    "def cancer_given_positive(has_cancer_pos, has_cancer, has_no_cancer_pos, has_no_cancer):\n",
    "    '''\n",
    "    P(cancer|positive)\n",
    "    '''\n",
    "    result = has_cancer_pos*has_cancer/(has_cancer_pos*has_cancer + has_no_cancer_pos*has_no_cancer)\n",
    "    return result"
   ]
  },
  {
   "cell_type": "code",
   "execution_count": 28,
   "metadata": {},
   "outputs": [
    {
     "data": {
      "text/plain": [
       "0.34282178217821785"
      ]
     },
     "execution_count": 28,
     "metadata": {},
     "output_type": "execute_result"
    }
   ],
   "source": [
    "# P(cancer|positive)\n",
    "cancer_given_positive(has_cancer_pos, has_cancer, has_no_cancer_pos, has_no_cancer)"
   ]
  },
  {
   "cell_type": "code",
   "execution_count": 40,
   "metadata": {},
   "outputs": [],
   "source": [
    "def no_cancer_given_positive(has_no_cancer_pos, has_no_cancer, has_cancer_pos, has_cancer):\n",
    "    '''\n",
    "    P(~cancer|positive)\n",
    "    '''\n",
    "    result = has_no_cancer_pos*has_no_cancer/(has_cancer_pos*has_cancer + has_no_cancer_pos*has_no_cancer)\n",
    "    return result"
   ]
  },
  {
   "cell_type": "code",
   "execution_count": 42,
   "metadata": {},
   "outputs": [
    {
     "data": {
      "text/plain": [
       "0.6571782178217822"
      ]
     },
     "execution_count": 42,
     "metadata": {},
     "output_type": "execute_result"
    }
   ],
   "source": [
    "# P(~cancer|positive)\n",
    "no_cancer_given_positive(has_no_cancer_pos, has_no_cancer, has_cancer_pos, has_cancer)"
   ]
  },
  {
   "cell_type": "code",
   "execution_count": 43,
   "metadata": {},
   "outputs": [],
   "source": [
    "def cancer_given_negative(has_cancer_neg, has_cancer, has_no_cancer_neg, has_no_cancer):\n",
    "    '''\n",
    "    P(cancer|negative)\n",
    "    '''\n",
    "    result = has_cancer_neg*has_cancer/(has_cancer_neg*has_cancer + has_no_cancer_neg*has_no_cancer)\n",
    "    return result"
   ]
  },
  {
   "cell_type": "code",
   "execution_count": 45,
   "metadata": {},
   "outputs": [
    {
     "data": {
      "text/plain": [
       "0.013770180436847102"
      ]
     },
     "execution_count": 45,
     "metadata": {},
     "output_type": "execute_result"
    }
   ],
   "source": [
    "# P(cancer|negative)\n",
    "cancer_given_negative(has_cancer_neg, has_cancer, has_no_cancer_neg, has_no_cancer)"
   ]
  },
  {
   "cell_type": "code",
   "execution_count": 46,
   "metadata": {},
   "outputs": [],
   "source": [
    "def no_cancer_given_negative(has_no_cancer_neg, has_no_cancer, has_cancer_neg, has_cancer):\n",
    "    '''\n",
    "    P(~cancer|negative)\n",
    "    '''\n",
    "    result = has_no_cancer_neg*has_no_cancer / (has_no_cancer_neg*has_no_cancer + has_cancer_neg*has_cancer) \n",
    "    return result"
   ]
  },
  {
   "cell_type": "code",
   "execution_count": 48,
   "metadata": {},
   "outputs": [
    {
     "data": {
      "text/plain": [
       "0.9862298195631529"
      ]
     },
     "execution_count": 48,
     "metadata": {},
     "output_type": "execute_result"
    }
   ],
   "source": [
    "# P(~cancer|negative)\n",
    "no_cancer_given_negative(has_no_cancer_neg, has_no_cancer, has_cancer_neg, has_cancer)"
   ]
  },
  {
   "cell_type": "markdown",
   "metadata": {},
   "source": [
    "#### Exercise: Conditional Probability & Bayes Rule Quiz"
   ]
  },
  {
   "cell_type": "code",
   "execution_count": 50,
   "metadata": {},
   "outputs": [],
   "source": [
    "# What proportion of patients with cancer\n",
    "has_cancer = 0.105\n",
    "# What proportion of patients without cancer\n",
    "has_no_cancer = 0.895\n",
    "# What proportion of patients with cancer test positive?\n",
    "has_cancer_pos = 0.905\n",
    "# What proportion of patients with cancer test negative?\n",
    "has_cancer_neg = 0.095\n",
    "# What proportion of patients without cancer test positive?\n",
    "has_no_cancer_pos = 0.204\n",
    "# What proportion of patients without cancer test negative?\n",
    "has_no_cancer_neg = 0.796"
   ]
  },
  {
   "cell_type": "code",
   "execution_count": 51,
   "metadata": {},
   "outputs": [
    {
     "data": {
      "text/plain": [
       "0.34230291241151994"
      ]
     },
     "execution_count": 51,
     "metadata": {},
     "output_type": "execute_result"
    }
   ],
   "source": [
    "# P(cancer|positive)\n",
    "cancer_given_positive(has_cancer_pos, has_cancer, has_no_cancer_pos, has_no_cancer)"
   ]
  },
  {
   "cell_type": "code",
   "execution_count": 52,
   "metadata": {},
   "outputs": [
    {
     "data": {
      "text/plain": [
       "0.65769708758848"
      ]
     },
     "execution_count": 52,
     "metadata": {},
     "output_type": "execute_result"
    }
   ],
   "source": [
    "# P(~cancer|positive)\n",
    "no_cancer_given_positive(has_no_cancer_pos, has_no_cancer, has_cancer_pos, has_cancer)"
   ]
  },
  {
   "cell_type": "code",
   "execution_count": 53,
   "metadata": {},
   "outputs": [
    {
     "data": {
      "text/plain": [
       "0.013808235106832134"
      ]
     },
     "execution_count": 53,
     "metadata": {},
     "output_type": "execute_result"
    }
   ],
   "source": [
    "# P(cancer|negative)\n",
    "cancer_given_negative(has_cancer_neg, has_cancer, has_no_cancer_neg, has_no_cancer)"
   ]
  },
  {
   "cell_type": "code",
   "execution_count": 54,
   "metadata": {},
   "outputs": [
    {
     "data": {
      "text/plain": [
       "0.986191764893168"
      ]
     },
     "execution_count": 54,
     "metadata": {},
     "output_type": "execute_result"
    }
   ],
   "source": [
    "# P(~cancer|negative)\n",
    "no_cancer_given_negative(has_no_cancer_neg, has_no_cancer, has_cancer_neg, has_cancer)"
   ]
  },
  {
   "cell_type": "markdown",
   "metadata": {},
   "source": [
    "## Normal Distribution\n",
    "\n",
    "![normal_distribution](images/normal_distribution_lesson.png)"
   ]
  },
  {
   "cell_type": "markdown",
   "metadata": {},
   "source": [
    "## Inferential Statistics\n",
    "Drawing conclusions about a population based on data collected from a sample of individuals from that population.\n",
    "### Descriptive vs. Inferential Statistics\n",
    "\n",
    "1. **Descriptive Statistics**\n",
    "    * `Descriptive statistics` **is about describing our collected data** using the measures discussed throughout this lesson: measures of center, measures of spread, shape of our distribution, and outliers. We can also use plots of our data to gain a better understanding.\n",
    "2. **Inferential Statistic**\n",
    "    * `Inferential Statistics` **is about using our collected data to draw conclusions to a larger population**. Performing inferential statistics well requires that we take a sample that accurately represents our population of interest.\n",
    "\n",
    "A common way to collect data is via a survey. However, surveys may be extremely biased depending on the types of questions that are asked, and the way the questions are asked. This is a topic you should think about when tackling the first project.<br>\n",
    "\n",
    "We looked at specific examples that allowed us to identify the\n",
    "1. **Population** - our entire group of interest.\n",
    "2. **Parameter** - numeric summary about a population\n",
    "3. **Sample** - subset of the population\n",
    "4. **Statistic** numeric summary about a sample\n",
    "\n",
    "Statistics and parameters are generally the mean or proportion for a group. Statistics being the value for the sample. Parameters being the value for the population. The population is our entire group of interest, while a sample is the selected subset of the population.\n",
    "\n",
    "### Sampling Distribution\n",
    "\n",
    "We found that for proportions (and also means, as proportions are just the mean of 1 and 0 values), the following characteristics hold.<br>\n",
    "\n",
    "The sampling distribution is centered on the original parameter value.<br>\n",
    "\n",
    "The sampling distribution decreases its variance depending on the sample size used. Specifically, the variance of the sampling distribution is equal to the variance of the original data divided by the sample size used. This is always true for the variance of a sample mean!<br>\n",
    "\n",
    "Creation of a sampling distribution."
   ]
  },
  {
   "cell_type": "code",
   "execution_count": 58,
   "metadata": {},
   "outputs": [],
   "source": [
    "import numpy as np\n",
    "np.random.seed(42)\n",
    "\n",
    "# 1 represents the students that drink coffee, and 0 represents the students that do not drink coffee.\n",
    "students = np.array([1,0,1,1,1,1,0,0,0,0,1,1,1,1,1,1,1,1,1,1,0])"
   ]
  },
  {
   "cell_type": "markdown",
   "metadata": {},
   "source": [
    "1. Find the proportion of students who drink coffee in the above array. Store this value in a variable `p`."
   ]
  },
  {
   "cell_type": "code",
   "execution_count": 3,
   "metadata": {},
   "outputs": [
    {
     "name": "stdout",
     "output_type": "stream",
     "text": [
      "0.7142857142857143\n"
     ]
    }
   ],
   "source": [
    "p = students.mean()\n",
    "print(p)"
   ]
  },
  {
   "cell_type": "markdown",
   "metadata": {},
   "source": [
    "2. Use numpy's `random.choice` to simulate 5 draws from the students array. What is proportion of your sample drink coffee?"
   ]
  },
  {
   "cell_type": "code",
   "execution_count": 59,
   "metadata": {},
   "outputs": [
    {
     "name": "stdout",
     "output_type": "stream",
     "text": [
      "0.6\n"
     ]
    }
   ],
   "source": [
    "pe = np.random.choice(students, size=5).mean()\n",
    "print(pe)"
   ]
  },
  {
   "cell_type": "markdown",
   "metadata": {},
   "source": [
    "3. Repeat the above to obtain 10,000 additional proportions, where each sample was of size 5. Store these in a variable called `sample_props`."
   ]
  },
  {
   "cell_type": "code",
   "execution_count": 25,
   "metadata": {},
   "outputs": [],
   "source": [
    "sample_props = np.random.choice(students, size=10000)"
   ]
  },
  {
   "cell_type": "markdown",
   "metadata": {},
   "source": [
    "4. What is the mean proportion of all 10,000 of these proportions? This is often called **the mean of the sampling distribution**."
   ]
  },
  {
   "cell_type": "code",
   "execution_count": 26,
   "metadata": {},
   "outputs": [
    {
     "name": "stdout",
     "output_type": "stream",
     "text": [
      "0.7048\n"
     ]
    }
   ],
   "source": [
    "print(sample_props.mean())"
   ]
  },
  {
   "cell_type": "markdown",
   "metadata": {},
   "source": [
    "5. What are the variance and standard deviation for the original 21 data values?"
   ]
  },
  {
   "cell_type": "code",
   "execution_count": 23,
   "metadata": {},
   "outputs": [
    {
     "name": "stdout",
     "output_type": "stream",
     "text": [
      "varicance: 0.20408163265306126\n",
      "std: 0.45175395145262565\n"
     ]
    }
   ],
   "source": [
    "print(f'varicance: {students.var()}\\nstd: {students.std()}')"
   ]
  },
  {
   "cell_type": "markdown",
   "metadata": {},
   "source": [
    "6. What are the variance and standard deviation for the 10,000 proportions you created?"
   ]
  },
  {
   "cell_type": "code",
   "execution_count": 27,
   "metadata": {},
   "outputs": [
    {
     "name": "stdout",
     "output_type": "stream",
     "text": [
      "varicance: 0.20805695999999999\n",
      "std: 0.4561326122960295\n"
     ]
    }
   ],
   "source": [
    "print(f'varicance: {sample_props.var()}\\nstd: {sample_props.std()}')"
   ]
  },
  {
   "cell_type": "markdown",
   "metadata": {},
   "source": [
    "7. Compute p(1-p), which of your answers does this most closely match?"
   ]
  },
  {
   "cell_type": "code",
   "execution_count": 29,
   "metadata": {},
   "outputs": [
    {
     "data": {
      "text/plain": [
       "0.20408163265306123"
      ]
     },
     "execution_count": 29,
     "metadata": {},
     "output_type": "execute_result"
    }
   ],
   "source": [
    "p*(1-p)"
   ]
  },
  {
   "cell_type": "code",
   "execution_count": 30,
   "metadata": {},
   "outputs": [
    {
     "data": {
      "text/plain": [
       "0.20805696"
      ]
     },
     "execution_count": 30,
     "metadata": {},
     "output_type": "execute_result"
    }
   ],
   "source": [
    "pe = sample_props.mean()\n",
    "pe*(1-pe)"
   ]
  },
  {
   "cell_type": "markdown",
   "metadata": {},
   "source": [
    "8. Compute p(1-p)/n, which of your answers does this most closely match? Answ: The new generated distribution"
   ]
  },
  {
   "cell_type": "code",
   "execution_count": 31,
   "metadata": {},
   "outputs": [
    {
     "name": "stdout",
     "output_type": "stream",
     "text": [
      "0.009718172983479106\n",
      "2.0805696000000002e-05\n"
     ]
    }
   ],
   "source": [
    "print(p*(1-p)/students.shape[0])\n",
    "\n",
    "print(pe*(1-pe)/sample_props.shape[0])"
   ]
  },
  {
   "cell_type": "markdown",
   "metadata": {},
   "source": [
    "9. Notice that your answer to 8. is commonly called the variance of the sampling distribution. If you were to change your first sample to be 20, what would this do for the variance of the sampling distribution? Simulate and calculate the new answers in 6. and 8. to check that the consistency you found before still holds. Answer: The variance and standard deviation are not significativelly influenced, but the variance of sampling distribution is."
   ]
  },
  {
   "cell_type": "code",
   "execution_count": 33,
   "metadata": {},
   "outputs": [
    {
     "name": "stdout",
     "output_type": "stream",
     "text": [
      "varicance: 0.1875\n",
      "std: 0.4330127018922193\n",
      "0.010402848000000001\n"
     ]
    }
   ],
   "source": [
    "sample_props = np.random.choice(students, size=20)\n",
    "print(f'varicance: {sample_props.var()}\\nstd: {sample_props.std()}')\n",
    "print(pe*(1-pe)/sample_props.shape[0])"
   ]
  },
  {
   "cell_type": "markdown",
   "metadata": {},
   "source": [
    "10. Finally, plot a histgram of the 10,000 draws from both the proportions with a sample size of 5 and the proportions with a sample size of 20. Each of these distributions is a sampling distribution. One is for the proportions of sample size 5 and the other a sampling distribution for proportions with sample size 20."
   ]
  },
  {
   "cell_type": "code",
   "execution_count": 56,
   "metadata": {},
   "outputs": [
    {
     "data": {
      "text/plain": [
       "<AxesSubplot:ylabel='Count'>"
      ]
     },
     "execution_count": 56,
     "metadata": {},
     "output_type": "execute_result"
    },
    {
     "data": {
      "image/png": "[encoded data removed]",
      "text/plain": [
       "<Figure size 432x288 with 1 Axes>"
      ]
     },
     "metadata": {
      "needs_background": "light"
     },
     "output_type": "display_data"
    }
   ],
   "source": [
    "sample_props = np.random.choice(students, size=[10000,20])\n",
    "\n",
    "sns.histplot(sample_props.mean(axis=1), bins=100)"
   ]
  },
  {
   "cell_type": "code",
   "execution_count": 55,
   "metadata": {},
   "outputs": [
    {
     "data": {
      "text/plain": [
       "<AxesSubplot:ylabel='Count'>"
      ]
     },
     "execution_count": 55,
     "metadata": {},
     "output_type": "execute_result"
    },
    {
     "data": {
      "image/png": "[encoded data removed]",
      "text/plain": [
       "<Figure size 432x288 with 1 Axes>"
      ]
     },
     "metadata": {
      "needs_background": "light"
     },
     "output_type": "display_data"
    }
   ],
   "source": [
    "sample_props = np.random.choice(students, size=[10000,5])\n",
    "\n",
    "sns.histplot(sample_props.mean(axis=1), bins=100)"
   ]
  },
  {
   "cell_type": "markdown",
   "metadata": {},
   "source": [
    "### Notation\n",
    "\n",
    "We commonly use Greek symbols as parameters and lowercase letters as the corresponding statistics. Sometimes in the literature, you might also see the same Greek symbols with a \"hat\" to represent that this is an estimate of the corresponding parameter.\n",
    "\n",
    "Below is a table that provides some of the most common parameters and corresponding statistics, as shown in the video.\n",
    "\n",
    "Remember that all **parameters** pertain to a `population`, while all **statistics** pertain to a `sample`.\n",
    "\n",
    "![notation_param_stats](images/notation_parameter_statistics.PNG)"
   ]
  },
  {
   "cell_type": "markdown",
   "metadata": {},
   "source": [
    " Let's begin by creating a population dataset stored in pop_data and importing some libraries."
   ]
  },
  {
   "cell_type": "code",
   "execution_count": 60,
   "metadata": {},
   "outputs": [
    {
     "data": {
      "text/plain": [
       "(array([1663.,  747.,  329.,  134.,   73.,   34.,   13.,    5.,    0.,\n",
       "           2.]),\n",
       " array([1.16348231e-03, 8.17255031e+01, 1.63449843e+02, 2.45174182e+02,\n",
       "        3.26898522e+02, 4.08622862e+02, 4.90347201e+02, 5.72071541e+02,\n",
       "        6.53795881e+02, 7.35520220e+02, 8.17244560e+02]),\n",
       " <BarContainer object of 10 artists>)"
      ]
     },
     "execution_count": 60,
     "metadata": {},
     "output_type": "execute_result"
    },
    {
     "data": {
      "image/png": "[encoded data removed]",
      "text/plain": [
       "<Figure size 432x288 with 1 Axes>"
      ]
     },
     "metadata": {
      "needs_background": "light"
     },
     "output_type": "display_data"
    }
   ],
   "source": [
    "import numpy as np\n",
    "import matplotlib.pyplot as plt\n",
    "\n",
    "%matplotlib inline\n",
    "np.random.seed(42)\n",
    "\n",
    "pop_data = np.random.gamma(1,100, 3000)\n",
    "plt.hist(pop_data)"
   ]
  },
  {
   "cell_type": "markdown",
   "metadata": {},
   "source": [
    "1. What is the population mean?"
   ]
  },
  {
   "cell_type": "code",
   "execution_count": 61,
   "metadata": {},
   "outputs": [
    {
     "data": {
      "text/plain": [
       "100.35978700795846"
      ]
     },
     "execution_count": 61,
     "metadata": {},
     "output_type": "execute_result"
    }
   ],
   "source": [
    "pop_data.mean()"
   ]
  },
  {
   "cell_type": "markdown",
   "metadata": {},
   "source": [
    "2. Randomly select 10 draws from the population using numpy's random.choice. What is the sample mean for these 10 values?"
   ]
  },
  {
   "cell_type": "code",
   "execution_count": 62,
   "metadata": {},
   "outputs": [
    {
     "data": {
      "text/plain": [
       "103.47556549464393"
      ]
     },
     "execution_count": 62,
     "metadata": {},
     "output_type": "execute_result"
    }
   ],
   "source": [
    "np.random.choice(pop_data, size=10).mean()"
   ]
  },
  {
   "cell_type": "markdown",
   "metadata": {},
   "source": [
    "3. What is the sample standard deviation of your 10 draws?"
   ]
  },
  {
   "cell_type": "code",
   "execution_count": 63,
   "metadata": {},
   "outputs": [
    {
     "data": {
      "text/plain": [
       "138.3751758776529"
      ]
     },
     "execution_count": 63,
     "metadata": {},
     "output_type": "execute_result"
    }
   ],
   "source": [
    "np.random.choice(pop_data, size=10).std()"
   ]
  },
  {
   "cell_type": "markdown",
   "metadata": {},
   "source": [
    "4. What is the population standard deviation?"
   ]
  },
  {
   "cell_type": "code",
   "execution_count": 64,
   "metadata": {},
   "outputs": [
    {
     "data": {
      "text/plain": [
       "99.77860187968906"
      ]
     },
     "execution_count": 64,
     "metadata": {},
     "output_type": "execute_result"
    }
   ],
   "source": [
    "pop_data.std()"
   ]
  },
  {
   "cell_type": "markdown",
   "metadata": {},
   "source": [
    "5. What is the population variance?"
   ]
  },
  {
   "cell_type": "code",
   "execution_count": 65,
   "metadata": {},
   "outputs": [
    {
     "data": {
      "text/plain": [
       "9955.76939306549"
      ]
     },
     "execution_count": 65,
     "metadata": {},
     "output_type": "execute_result"
    }
   ],
   "source": [
    "pop_data.var()"
   ]
  },
  {
   "cell_type": "markdown",
   "metadata": {},
   "source": [
    "6. What is the sample variance?"
   ]
  },
  {
   "cell_type": "code",
   "execution_count": 66,
   "metadata": {},
   "outputs": [
    {
     "data": {
      "text/plain": [
       "12364.843103001493"
      ]
     },
     "execution_count": 66,
     "metadata": {},
     "output_type": "execute_result"
    }
   ],
   "source": [
    "np.random.choice(pop_data, size=10).var()"
   ]
  },
  {
   "cell_type": "markdown",
   "metadata": {},
   "source": [
    "## Useful theorems\n",
    "Two important mathematical theorems for working with sampling distributions include:\n",
    "\n",
    "1. Law of Large Numbers\n",
    "2. Central Limit Theorem\n",
    "\n",
    "### Law of Large Numbers\n",
    "\n",
    "The **Law of Large Numbers** says that as our sample size increases, the sample mean gets closer to the population mean, but how did we determine that the sample mean would estimate a population mean in the first place? How would we identify another relationship between parameter and statistic like this in the future?\n",
    "\n",
    "Three of the most common ways are with the following estimation techniques:\n",
    "\n",
    "* [Maximum Likelihood Estimation](https://en.wikipedia.org/wiki/Maximum_likelihood_estimation)\n",
    "* [Method of Moments Estimation][https://en.wikipedia.org/wiki/Method_of_moments]\n",
    "* [Bayesian Estimation](https://en.wikipedia.org/wiki/Bayes_estimator)"
   ]
  },
  {
   "cell_type": "code",
   "execution_count": 68,
   "metadata": {},
   "outputs": [
    {
     "data": {
      "text/plain": [
       "(array([1663.,  747.,  329.,  134.,   73.,   34.,   13.,    5.,    0.,\n",
       "           2.]),\n",
       " array([1.16348231e-03, 8.17255031e+01, 1.63449843e+02, 2.45174182e+02,\n",
       "        3.26898522e+02, 4.08622862e+02, 4.90347201e+02, 5.72071541e+02,\n",
       "        6.53795881e+02, 7.35520220e+02, 8.17244560e+02]),\n",
       " <BarContainer object of 10 artists>)"
      ]
     },
     "execution_count": 68,
     "metadata": {},
     "output_type": "execute_result"
    },
    {
     "data": {
      "image/png": "[encoded data removed]",
      "text/plain": [
       "<Figure size 432x288 with 1 Axes>"
      ]
     },
     "metadata": {
      "needs_background": "light"
     },
     "output_type": "display_data"
    }
   ],
   "source": [
    "import numpy as np\n",
    "import matplotlib.pyplot as plt\n",
    "\n",
    "%matplotlib inline\n",
    "np.random.seed(42)\n",
    "\n",
    "# This is just setting up some random data in pop_data\n",
    "# The functionality of the gamma distribution is not relevant \n",
    "# for this class.\n",
    "pop_data = np.random.gamma(1,100,3000)\n",
    "plt.hist(pop_data)"
   ]
  },
  {
   "cell_type": "code",
   "execution_count": 67,
   "metadata": {},
   "outputs": [
    {
     "name": "stdout",
     "output_type": "stream",
     "text": [
      "population mean: 100.35978700795846\n",
      "sample = 5 mean: 76.02513400873993\n",
      "sample = 20 mean: 127.58590242974485\n",
      "sample = 100 mean: 106.88919146913052\n"
     ]
    }
   ],
   "source": [
    "print(f'population mean: {pop_data.mean()}')\n",
    "print(f'sample = 5 mean: {np.random.choice(pop_data, size=5).mean()}')\n",
    "print(f'sample = 20 mean: {np.random.choice(pop_data, size=20).mean()}')\n",
    "print(f'sample = 100 mean: {np.random.choice(pop_data, size=100).mean()}')"
   ]
  },
  {
   "cell_type": "markdown",
   "metadata": {},
   "source": [
    "The larger the sample size, the closer tends to be the sample mean to the population mean."
   ]
  },
  {
   "cell_type": "markdown",
   "metadata": {},
   "source": [
    "### Central Limit Theorem\n",
    "\n",
    "The Central Limit Theorem states that with a large enough sample size the sampling distribution of the mean will be normally distributed.\n",
    "\n",
    "The Central Limit Theorem actually applies for these well known statistics:\n",
    "\n",
    "![central_limit_theorem](images/central_limit_theorem.PNG)\n",
    "\n",
    "And it applies for additional statistics, but it doesn't apply for all statistics! . You will see more on this towards the end of this lesson."
   ]
  },
  {
   "cell_type": "markdown",
   "metadata": {},
   "source": []
  }
 ],
 "metadata": {
  "interpreter": {
   "hash": "57baa5815c940fdaff4d14510622de9616cae602444507ba5d0b6727c008cbd6"
  },
  "kernelspec": {
   "display_name": "Python 3.7.8 64-bit",
   "language": "python",
   "name": "python3"
  },
  "language_info": {
   "codemirror_mode": {
    "name": "ipython",
    "version": 3
   },
   "file_extension": ".py",
   "mimetype": "text/x-python",
   "name": "python",
   "nbconvert_exporter": "python",
   "pygments_lexer": "ipython3",
   "version": "3.9.7"
  },
  "orig_nbformat": 4
 },
 "nbformat": 4,
 "nbformat_minor": 2
}
