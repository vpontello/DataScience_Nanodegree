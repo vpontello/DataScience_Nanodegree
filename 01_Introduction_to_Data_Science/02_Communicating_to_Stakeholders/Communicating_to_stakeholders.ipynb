{
 "cells": [
  {
   "cell_type": "markdown",
   "metadata": {},
   "source": [
    "# Communicating to stakeholders\n",
    "There are two main ways we communicate with stakeholders. <br>\n",
    "1. For a more technical audience the main way is through a `Git` repository with a nice `README.md` file explaining all the work that was done.\n",
    "2. For a more general audience a blog post about what was done should work just fine."
   ]
  },
  {
   "cell_type": "markdown",
   "metadata": {},
   "source": [
    "## How to write a good Data Science blog post\n",
    "\n",
    "### How To Attract Users?\n",
    "The post [here](https://medium.com/the-mission/this-new-data-will-make-you-rethink-how-you-write-headlines-751358f6639a) is also very useful as you get started putting together your own posts and are looking to attract new users.\n",
    "\n",
    "### When to post?\n",
    "Though the plots on the post [here](https://blog.bufferapp.com/best-time-to-tweet-post-to-facebook-send-emails-publish-blogposts) are mostly terrible, there is a lot of useful information about the timing of your posts in order to attract users to your posts provided. Using other social media accounts to advertise your posts is a great way to attract more people to your post.\n",
    "\n",
    "### Any Specific Tips For Data Story Telling?\n",
    "Some additional tips about data storytelling are provided in the post [here](https://www.analyticsvidhya.com/blog/2017/10/art-story-telling-data-science/).\n",
    "\n",
    "Can You Make Money by Blogging on Medium?\n",
    "The simple answer to this question is \"Yes\". Here are two posts to assist you if this is a goal for you.\n",
    "* [Post I](https://medium.com/words-for-life/a-100-transparent-look-at-my-first-medium-paycheck-197b69483b44)\n",
    "* [Post II](https://writingcooperative.com/can-you-make-money-on-medium-90565989d599)\n",
    "\n",
    "## Know Your Audience\n",
    "Before writing your post, you should first think about who your audience is. If your audience consists of **programmers and data scientists**, you should talk about:\n",
    "\n",
    "* Technical details of your work\n",
    "* Edge cases and data integrity issues, i.e. the difficulties of the data you worked with\n",
    "* Your thought process and the strategies you chose to work through the difficulties\n",
    "* Any creative solutions you came up with and why you think they are better than existing solutions\n",
    "\n",
    "If your audience is **general and broad**, you should make your post relatable for these individuals by discussing the following:\n",
    "\n",
    "* Your questions of interest\n",
    "* Your results for each question\n",
    "* Interesting findings through visuals\n"
   ]
  },
  {
   "cell_type": "markdown",
   "metadata": {},
   "source": []
  }
 ],
 "metadata": {
  "language_info": {
   "name": "python"
  },
  "orig_nbformat": 4
 },
 "nbformat": 4,
 "nbformat_minor": 2
}
