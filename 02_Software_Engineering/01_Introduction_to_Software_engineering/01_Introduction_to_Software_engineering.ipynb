{
 "cells": [
  {
   "cell_type": "markdown",
   "metadata": {},
   "source": [
    "# Introduction to Software Engineering\n",
    "\n",
    "## Difference from Data Scientists to Software Engineers\n",
    "\n",
    "* **Data Scientists**<br>\n",
    "    * Research\n",
    "    * Explore data\n",
    "    * Model data\n",
    "    * Code is a mean to an end\n",
    "\n",
    "* **Software Engineers**<br>\n",
    "    * Build products\n",
    "    * Write production code\n",
    "    * Code is the end\n",
    "\n",
    "## Software engineering overview\n",
    "\n",
    ">Software Engineering has many stakeholders, but we'll focus on those specifically related to software engineering for data scientists.\n",
    "\n",
    "#### End-users\n",
    ">The actual users of the product you build\n",
    "\n",
    "#### Client/customer\n",
    ">You were tasked to create a product for another team or company, That group will be involved through the project.\n",
    "\n",
    "#### Other data scientists\n",
    ">While other data scientists might know how to write programs to help them manage and analyze data, having an understanding of software engineering practices will allow you to help improve processes and communicate with other stakeholders.\n",
    "\n",
    "#### Domain experts, product owners\n",
    ">This group has exceptional knowledge of their area of expertise, but more often than not, they do not have the technical know-how to translate those ideas and knowledge into interactive software products.\n",
    "\n",
    "#### Business managers\n",
    ">This group has in-depth knowledge of all areas of the organization you work for. They typically speak the languages of business well, know the priorities of the business strategy, and can communicate their wants, needs, and interests at a high level. But, they need a data scientist that also understands the basics of software engineering to actually implement their ideas.\n",
    "\n",
    "#### Project managers\n",
    ">This group has both technical and business knowledge and knows what needs to be done. The data scientist may work with this group to help identify areas for improvements or new projects to implement.\n",
    "\n",
    "\n",
    "\n",
    "\n"
   ]
  },
  {
   "cell_type": "markdown",
   "metadata": {},
   "source": []
  },
  {
   "cell_type": "markdown",
   "metadata": {},
   "source": []
  },
  {
   "cell_type": "markdown",
   "metadata": {},
   "source": []
  },
  {
   "cell_type": "markdown",
   "metadata": {},
   "source": []
  },
  {
   "cell_type": "markdown",
   "metadata": {},
   "source": []
  },
  {
   "cell_type": "code",
   "execution_count": null,
   "metadata": {},
   "outputs": [],
   "source": []
  }
 ],
 "metadata": {
  "language_info": {
   "name": "python"
  },
  "orig_nbformat": 4
 },
 "nbformat": 4,
 "nbformat_minor": 2
}
