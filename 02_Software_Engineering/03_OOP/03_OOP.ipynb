{
 "cells": [
  {
   "cell_type": "markdown",
   "metadata": {},
   "source": [
    "# Object Oriented Programming\n",
    "Object-oriented programming has a few benefits over procedural programming, which is the programming style you most likely first learned. As you'll see in this lesson,\n",
    "\n",
    "* object-oriented programming allows you to create large, modular programs that can easily expand over time;\n",
    "* object-oriented programs hide the implementation from the end-user.\n",
    "\n",
    "Consider Python packages like Scikit-learn, pandas, and NumPy. These are all Python packages built with object-oriented programming. Scikit-learn, for example, is a relatively large and complex package built with object-oriented programming. This package has expanded over the years with new functionality and new algorithms.<br>\n",
    "\n",
    "When you train a machine learning algorithm with Scikit-learn, you don't have to know anything about how the algorithms work or how they were coded. You can focus directly on the modeling.\n",
    "\n",
    "## Procedural vs. Object-Oriented Programming\n",
    "\n",
    "* **Procedural**: A list of procedures to be followed as a list of to do items\n",
    "* **OOP**: Programing based on objects and how they interate with themselves\n",
    "\n",
    "### Objects are defined by characteristics and actions\n",
    "Here is a reminder of what is a characteristic and what is an action.\n",
    "![objects](images/object_characteristics.png)\n",
    "\n",
    "#### Characteristics and Actions in English Grammar\n",
    "Another way to think about characteristics and actions is in terms of English grammar. A characteristic would be a `noun`. On the other hand, an action would be a `verb`.<br>\n",
    "\n",
    "Let's pick something from the real-world: a `dog`. A few characteristics could be the `dog`'s `weight`, `color`, `breed`, and `height`. These are all nouns. What actions would a dog take? A `dog` can `bark`, `run`, `bite` and `eat`. These are all verbs.\n",
    "\n",
    "## Class, Object, Method and Attribute\n",
    "\n",
    "### Object-Oriented Programming (OOP) Vocabulary\n",
    "* **class** - a blueprint consisting of methods and attributes\n",
    "* **object** - an instance of a class. It can help to think of objects as something in the real world like a yellow pencil, a small dog, a blue shirt, etc. However, as you'll see later in the lesson, objects can be more abstract.\n",
    "* **attribute** - a descriptor or characteristic. Examples would be color, length, size, etc. These attributes can take on specific values like blue, 3 inches, large, etc.\n",
    "* **method** - an action that a class or object could take\n",
    "* **OOP** - a commonly used abbreviation for object-oriented programming\n",
    "* **encapsulation** - one of the fundamental ideas behind object-oriented programming is called encapsulation: you can combine functions and data all into a single entity. In object-oriented programming, this single entity is called a class. Encapsulation allows you to hide implementation details much like how the scikit-learn package hides the implementation of machine learning algorithms.\n",
    "\n",
    "In English, you might hear an attribute described as a property, description, feature, quality, trait, or characteristic. All of these are saying the same thing.\n",
    "\n",
    "![class](images/class.png)\n",
    "\n",
    "### Function vs. Method\n",
    "A function and a method look very similar. They both use the `def` keyword. They also have inputs and return outputs. The difference is that a method is inside of a class whereas a function is outside of a class.<br>\n",
    "\n",
    "Given the following class, both the `change_price()` and `dicount()` are methods.\n",
    "\n",
    "```python\n",
    "class Shirt:\n",
    "\n",
    "  def __init__(self, shirt_color, shirt_size, shirt_size, shirt_price):\n",
    "    self-color=  shirt_color\n",
    "    self.size =  shirt_size\n",
    "    self-style = shirt_style\n",
    "    self.price = shirt_price\n",
    "\n",
    "  def change_price(self, new_price):\n",
    "      self.price = new_price\n",
    "\n",
    "  def discount(self, discount):\n",
    "      return self.price * (1-discount)\n",
    "```\n",
    "\n",
    "### What is self?\n",
    "If you instantiate two objects, how does Python differentiate between these two objects?\n",
    "```python\n",
    "shirt_one = Shirt('red', 'S', 'short-sleeve', 15)\n",
    "short_two = Shirt('yellow', 'M', 'long-sleeve', 20)\n",
    "```\n",
    "That's where `self` comes into play. If you call the `change_price` method on shirt_one, how does Python know to change the price of shirt_one and not of shirt_two?\n",
    "```pyhton\n",
    "shirt_one.change_price(12)\n",
    "```\n",
    "Behind the scenes, Python is calling the change_price method:\n",
    "```python\n",
    "    def change_price(self, new_price):\n",
    "\n",
    "        self.price = new_price\n",
    "```\n",
    "`Self` tells Python where to look in the computer's memory for the shirt_one object. And then Python changes the price of the shirt_one object. When you call the `change_price` method, `shirt_one.change_price(12)`, `self` is implicitly passed in.<br>\n",
    "\n",
    "The word `self` is just a convention. You could actually use any other name as long as you are consistent; however, you should always use `self` rather than some other word or else you might confuse people."
   ]
  },
  {
   "cell_type": "code",
   "execution_count": 6,
   "metadata": {},
   "outputs": [],
   "source": [
    "# Example of shirts class\n",
    "\n",
    "class Shirt():\n",
    "\n",
    "    def __init__(self, size, color, style, price):\n",
    "        self.size = size\n",
    "        self.color = color\n",
    "        self.style = style\n",
    "        self.price = price\n",
    "\n",
    "    def change_price(self, new_price):\n",
    "        self.price = new_price\n",
    "\n",
    "    def discount(self, discount):\n",
    "        return self.price - (self.price * discount)"
   ]
  },
  {
   "cell_type": "code",
   "execution_count": 7,
   "metadata": {},
   "outputs": [],
   "source": [
    "shirt_one = Shirt('L','red','short-sleeve',15)"
   ]
  },
  {
   "cell_type": "code",
   "execution_count": 8,
   "metadata": {},
   "outputs": [
    {
     "name": "stdout",
     "output_type": "stream",
     "text": [
      "old price is 15\n",
      "new price is 10\n",
      "for the price of 10 and a discount of 0.2, the discounted price is 8.0\n"
     ]
    }
   ],
   "source": [
    "print(f'old price is {shirt_one.price}')\n",
    "shirt_one.change_price(10)\n",
    "print(f'new price is {shirt_one.price}')\n",
    "discount = 0.2\n",
    "print(f'for the price of {shirt_one.price} and a discount of {discount}, the discounted price is {shirt_one.discount(discount)}')"
   ]
  },
  {
   "cell_type": "markdown",
   "metadata": {},
   "source": [
    "### Modularized Code\n",
    "\n",
    "if you were developing a software program, you would want to modularize this code.<br>\n",
    "\n",
    "You would put the `Shirt` class into its own Python script called, say, shirt.py. And then in another Python script, you would import the Shirt class with a line like: `from shirt import Shirt`.\n",
    "\n",
    "### Set and Get methods\n",
    "The general object-oriented programming convention is to use methods to access attributes or change attribute values. These methods are called `set` and `get` methods or `setter` and `getter` methods.<br>\n",
    "\n",
    "A `get` method is for obtaining an attribute value. A `set` method is for changing an attribute value."
   ]
  },
  {
   "cell_type": "code",
   "execution_count": 9,
   "metadata": {},
   "outputs": [],
   "source": [
    "# Example with the Shirt class\n",
    "class Shirt():\n",
    "\n",
    "    def __init__(self, size, color, style, price):\n",
    "        self.size = size\n",
    "        self.color = color\n",
    "        self.style = style\n",
    "        self.price = price\n",
    "\n",
    "    def set_price(self, new_price):\n",
    "        self.price = new_price\n",
    "    \n",
    "    def get_price(self):\n",
    "        return self.price"
   ]
  },
  {
   "cell_type": "markdown",
   "metadata": {},
   "source": [
    "Instantiating and using an object might look like this:"
   ]
  },
  {
   "cell_type": "code",
   "execution_count": 10,
   "metadata": {},
   "outputs": [
    {
     "name": "stdout",
     "output_type": "stream",
     "text": [
      "15\n",
      "10\n"
     ]
    }
   ],
   "source": [
    "shirt_one = Shirt('M', 'yellow', 'long-sleeve', 15)\n",
    "print(shirt_one.get_price())\n",
    "shirt_one.set_price(10)\n",
    "print(shirt_one.get_price())"
   ]
  },
  {
   "cell_type": "markdown",
   "metadata": {},
   "source": [
    "Therefore, there is some controversy about using the underscore convention as well as get and set methods in Python. Why use get and set methods in Python when Python wasn't designed to use them?<br>\n",
    "\n",
    "Following the Python convention, the underscore in front of price is to let a programmer know that price should only be accessed with get and set methods rather than accessing price directly with `shirt_one._price`<br>\n",
    "\n",
    "One of the benefits of set and get methods is that, as previously mentioned in the course, you can hide the implementation from your user. Maybe originally a variable was coded as a *list* and later became a *dictionary*. With set and get methods, you could easily change how that variable gets accessed. Without set and get methods, you'd have to go to every place in the code that accessed the variable directly and change the code.<br>\n",
    "\n",
    "You can read more about get and set methods in Python on this [Python Tutorial site](https://www.python-course.eu/python3_properties.php).\n",
    "\n",
    "### A Note about Attributes\n",
    "There are some drawbacks to accessing attributes directly versus writing a method for accessing attributes. Why might it be better to change a value with a method instead of directly? Changing values via a method gives you more flexibility in the long-term. What if the units of measurement change, like the store was originally meant to work in US dollars and now has to handle Euros? In this case the set price can set the exchange for all the code at once, but accessing the attributes directly does not offers this option.\n",
    "\n"
   ]
  },
  {
   "cell_type": "markdown",
   "metadata": {},
   "source": []
  },
  {
   "cell_type": "markdown",
   "metadata": {},
   "source": []
  }
 ],
 "metadata": {
  "interpreter": {
   "hash": "57baa5815c940fdaff4d14510622de9616cae602444507ba5d0b6727c008cbd6"
  },
  "kernelspec": {
   "display_name": "Python 3.7.8 64-bit",
   "language": "python",
   "name": "python3"
  },
  "language_info": {
   "codemirror_mode": {
    "name": "ipython",
    "version": 3
   },
   "file_extension": ".py",
   "mimetype": "text/x-python",
   "name": "python",
   "nbconvert_exporter": "python",
   "pygments_lexer": "ipython3",
   "version": "3.7.8"
  },
  "orig_nbformat": 4
 },
 "nbformat": 4,
 "nbformat_minor": 2
}
