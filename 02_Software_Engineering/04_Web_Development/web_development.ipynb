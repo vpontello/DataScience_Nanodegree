{
 "cells": [
  {
   "cell_type": "markdown",
   "metadata": {},
   "source": [
    "# Web Development for Data Scientists\n",
    "\n",
    "Reference GitHub repo: [repo](https://github.com/udacity/DSND_Term2/tree/master/lessons/WebDevelopment)\n",
    "\n",
    "Study material for web development: [W3Schools website](https://www.w3schools.com/)"
   ]
  },
  {
   "cell_type": "markdown",
   "metadata": {},
   "source": [
    "## Components of a web app:\n",
    "![web_components](images/web_components.PNG)"
   ]
  },
  {
   "cell_type": "markdown",
   "metadata": {},
   "source": [
    "## Front-End"
   ]
  },
  {
   "cell_type": "markdown",
   "metadata": {},
   "source": [
    "### HTML\n",
    "\n",
    "#### HTML Document Example\n",
    "```html\n",
    "<!DOCTYPE html>\n",
    "\n",
    "<html>\n",
    "\n",
    "<head>\n",
    "    <title>Page Title</title>\n",
    "</head>\n",
    "\n",
    "<body>\n",
    "    <h1>A Photo of a Beautiful Landscape</h1>\n",
    "    <a href=\"https://www.w3schools.com/tags/default.asp\">HTML tags</a>\n",
    "    <p>Here is the photo</p>\n",
    "    <img src=\"photo.jpg\" alt=\"Country Landscape\">\n",
    "</body>\n",
    "\n",
    "</html>\n",
    "```\n",
    "As you progress through the lesson, you'll find that the `<head>` tag is mostly for housekeeping like specifying the page title and adding meta tags. Meta tags are in essence information about the page that web crawlers see but users do not. The head tag also contains links to javascript and css files, which you'll see later in the lesson.\n",
    "\n",
    "The website content goes in the `<body>` tag. The body tag can contain headers, paragraphs, images, links, forms, lists, and a handful of other tags. Of particular note in this example are the link tag `<a>` and the image tag `<img>`.\n",
    "\n",
    "Both of these tags link to external information outside of the html doc. In the html code above, the link `<a>` tag links to an external website called w3schools. The href is called an attribute, and in this case href specifies the link.\n",
    "\n",
    "The image `<img>` tag displays an image called \"photo.jpg\". In this case, the jpg file and the html document are in the same directory, but the documents do not have to be. The src attribute specifies the path to the image file relative to the html document. The alt tag contains text that gets displaced in case the image cannot be found.\n",
    "\n",
    "> **Full List of Tags and How to Use Them**\n",
    "This is a link to one of the best references for html. Use this website to look up html tags and how to use them. [W3Schools HTML Tags](https://www.w3schools.com/tags/default.asp)\n",
    "\n",
    "#### Checking your HTML\n",
    "It's a good idea to check the validity of your HTML. Here is a website that checks your HTML for syntax errors: [W3C Validator](https://validator.w3.org/#validate_by_input). Try pasting your HTML code here and running the validator. You can read through the error messages and fix your HTML.\n",
    "\n",
    "### Div and Span\n",
    "* **DIV** statements are used to link multiple content elements together (for placement or styling)\n",
    "* **SPAN** tags are meant to separate a small piece of content.\n",
    "\n",
    "You can use div elements to split off large chunks of html into sections. Span elements, on the other hand, are for small chunks of html. You generally use span elements in the middle of a piece of text in order to apply a specific style to that text. You'll see how this works a bit later in the CSS portion of the lesson.\n",
    "```html\n",
    "<div>\n",
    "   <p>This is an example of when to use a div elements versus a span element. A span element goes around <span>a small chunk of html</span></p>\n",
    "</div>\n",
    "```\n",
    "> Further Learning: There is a great deal more to learn about **DIV** and **SPAN** statements and design in HTML. W3schools offers information, tutorials, and also hands-on practice. [Try it here for DIV](https://www.w3schools.com/tags/tag_div.ASP) and [here for span](https://www.w3schools.com/tags/tag_span.asp).\n"
   ]
  },
  {
   "cell_type": "markdown",
   "metadata": {},
   "source": []
  }
 ],
 "metadata": {
  "language_info": {
   "name": "python"
  },
  "orig_nbformat": 4
 },
 "nbformat": 4,
 "nbformat_minor": 2
}
