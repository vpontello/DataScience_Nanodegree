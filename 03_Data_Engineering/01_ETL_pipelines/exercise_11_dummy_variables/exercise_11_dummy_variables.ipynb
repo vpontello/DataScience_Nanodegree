{
 "cells": [
  {
   "cell_type": "markdown",
   "metadata": {},
   "source": [
    "# Dummy Variables Exercise\n",
    "\n",
    "In this exercise, you'll create dummy variables from the projects data set. The idea is to transform categorical data like this:\n",
    "\n",
    "| Project ID | Project Category |\n",
    "|------------|------------------|\n",
    "| 0          | Energy           |\n",
    "| 1          | Transportation   |\n",
    "| 2          | Health           |\n",
    "| 3          | Employment       |\n",
    "\n",
    "into new features that look like this:\n",
    "\n",
    "| Project ID | Energy | Transportation | Health | Employment |\n",
    "|------------|--------|----------------|--------|------------|\n",
    "| 0          | 1      | 0              | 0      | 0          |\n",
    "| 1          | 0      | 1              | 0      | 0          |\n",
    "| 2          | 0      | 0              | 1      | 0          |\n",
    "| 3          | 0      | 0              | 0      | 1          |\n",
    "\n",
    "\n",
    "(Note if you were going to use this data with a model influenced by multicollinearity, you would want to eliminate one of the columns to avoid redundant information.) \n",
    "\n",
    "The reasoning behind these transformations is that machine learning algorithms read in numbers not text. Text needs to be converted into numbers. You could assign a number to each category like 1, 2, 3, and 4. But a categorical variable has no inherent order, so you want to reflect this in your features.\n",
    "\n",
    "Pandas makes it very easy to create dummy variables with the [get_dummies](https://pandas.pydata.org/pandas-docs/stable/generated/pandas.get_dummies.html) method. In this exercise, you'll create dummy variables from the World Bank projects data; however, there's a caveat. The World Bank data is not particularly clean, so you'll need to explore and wrangle the data first.\n",
    "\n",
    "You'll focus on the text values in the sector variables.\n",
    "\n",
    "Run the code cells below to read in the World Bank projects data set and then to filter out the data for text variables. "
   ]
  },
  {
   "cell_type": "code",
   "execution_count": 1,
   "metadata": {},
   "outputs": [],
   "source": [
    "import pandas as pd\n",
    "import numpy as np\n",
    "\n",
    "# read in the projects data set and do basic wrangling \n",
    "projects = pd.read_csv('../data/projects_data.csv', dtype=str)\n",
    "projects.drop('Unnamed: 56', axis=1, inplace=True)\n",
    "projects['totalamt'] = pd.to_numeric(projects['totalamt'].str.replace(',', ''))\n",
    "projects['countryname'] = projects['countryname'].str.split(';', expand=True)[0]\n",
    "projects['boardapprovaldate'] = pd.to_datetime(projects['boardapprovaldate'])\n",
    "\n",
    "# keep the project name, lending, sector and theme data\n",
    "sector = projects.copy()\n",
    "sector = sector[['project_name', 'lendinginstr', 'sector1', 'sector2', 'sector3', 'sector4', 'sector5', 'sector',\n",
    "          'mjsector1', 'mjsector2', 'mjsector3', 'mjsector4', 'mjsector5',\n",
    "          'mjsector', 'theme1', 'theme2', 'theme3', 'theme4', 'theme5', 'theme ',\n",
    "          'goal', 'financier', 'mjtheme1name', 'mjtheme2name', 'mjtheme3name',\n",
    "          'mjtheme4name', 'mjtheme5name']]"
   ]
  },
  {
   "cell_type": "markdown",
   "metadata": {},
   "source": [
    "Run the code cell below. This cell shows the percentage of each variable that is null. Notice the mjsector1 through mjsector5 variables are all null. The mjtheme1name through mjtheme5name are also all null as well as the theme variable. \n",
    "\n",
    "Because these variables contain so many null values, they're probably not very useful."
   ]
  },
  {
   "cell_type": "code",
   "execution_count": 3,
   "metadata": {},
   "outputs": [
    {
     "data": {
      "text/plain": [
       "project_name      0.000000\n",
       "lendinginstr      1.348093\n",
       "sector1           0.000000\n",
       "sector2          47.791539\n",
       "sector3          64.450899\n",
       "sector4          76.019290\n",
       "sector5          85.132617\n",
       "sector            3.496274\n",
       "mjsector1       100.000000\n",
       "mjsector2       100.000000\n",
       "mjsector3       100.000000\n",
       "mjsector4       100.000000\n",
       "mjsector5       100.000000\n",
       "mjsector          3.496274\n",
       "theme1            0.000000\n",
       "theme2           46.005042\n",
       "theme3           58.987286\n",
       "theme4           71.317405\n",
       "theme5           83.954406\n",
       "theme           100.000000\n",
       "goal             33.510522\n",
       "financier        61.310829\n",
       "mjtheme1name    100.000000\n",
       "mjtheme2name    100.000000\n",
       "mjtheme3name    100.000000\n",
       "mjtheme4name    100.000000\n",
       "mjtheme5name    100.000000\n",
       "dtype: float64"
      ]
     },
     "execution_count": 3,
     "metadata": {},
     "output_type": "execute_result"
    }
   ],
   "source": [
    "# output percentage of values that are missing\n",
    "100 * sector.isnull().mean()"
   ]
  },
  {
   "cell_type": "markdown",
   "metadata": {},
   "source": [
    "## Exercise 1\n",
    "\n",
    "The sector1 variable looks promising; it doesn't contain any null values at all. In the next cell, store the unique sector1 values in a list and output the results. Use the sort_values() and unique() methods."
   ]
  },
  {
   "cell_type": "code",
   "execution_count": 4,
   "metadata": {},
   "outputs": [
    {
     "data": {
      "text/plain": [
       "array(['!$!0', '(Historic)Agency reform!$!50!$!AG',\n",
       "       '(Historic)Agricultural credit!$!100!$!AC', ...,\n",
       "       'Workforce Development and Vocational Education!$!96!$!EW',\n",
       "       'Workforce Development and Vocational Education!$!98!$!EW',\n",
       "       'Workforce Development and Vocational Education!$!99!$!EW'],\n",
       "      dtype=object)"
      ]
     },
     "execution_count": 4,
     "metadata": {},
     "output_type": "execute_result"
    }
   ],
   "source": [
    "# TODO: Create a list of the unique values in sector1. Use the sort_values() and unique() pandas methods. \n",
    "# And then convert those results into a Python list\n",
    "uniquesectors1 = sector['sector1'].sort_values().unique()\n",
    "uniquesectors1"
   ]
  },
  {
   "cell_type": "code",
   "execution_count": 5,
   "metadata": {},
   "outputs": [
    {
     "name": "stdout",
     "output_type": "stream",
     "text": [
      "Number of unique values in sector1: 3060\n"
     ]
    }
   ],
   "source": [
    "# run this code cell to see the number of unique values\n",
    "print('Number of unique values in sector1:', len(uniquesectors1))"
   ]
  },
  {
   "cell_type": "markdown",
   "metadata": {},
   "source": [
    "3060 different categories is quite a lot! Remember that with dummy variables, if you have n categorical values, you need n - 1 new variables! That means 3059 extra columns!\n",
    "\n",
    "## Exercise 2\n",
    "\n",
    "There are a few issues with this 'sector1' variable. First, there are values labeled '!$!0'. These should be substituted with NaN.\n",
    "\n",
    "Furthermore, each sector1 value ends with a ten or eleven character string like '!$!49!$!EP'. Some sectors show up twice in the list like:\n",
    " 'Other Industry; Trade and Services!$!70!$!YZ',\n",
    " 'Other Industry; Trade and Services!$!63!$!YZ',\n",
    "\n",
    "But it seems like those are actually the same sector. You'll need to remove everything past the exclamation point. \n",
    "\n",
    "Many values in the sector1 variable start with the term '(Historic)'. Try removing that phrase as well.\n",
    "\n",
    "### replace() method\n",
    "\n",
    "With pandas, you can use the replace() method to search for text and replace parts of a string with another string. If you know the exact string you're looking for, the replace() method is straight forward. For example, say you wanted to remove the string '(Trial)' from this data:\n",
    "\n",
    "| data                     |\n",
    "|--------------------------|\n",
    "| '(Trial) Banking'        |\n",
    "| 'Banking'                |\n",
    "| 'Farming'                |\n",
    "| '(Trial) Transportation' |\n",
    "\n",
    "You could use `df['data'].replace('(Trial)', '')` to replace (Trial) with an empty string.\n",
    "\n",
    "### regular expressions\n",
    "What about this data?\n",
    "\n",
    "| data                                           |\n",
    "|------------------------------------------------|\n",
    "| 'Other Industry; Trade and Services?$ab' |\n",
    "| 'Other Industry; Trade and Services?ceg' |\n",
    "\n",
    "This type of data is trickier. In this case, there's a pattern where you want to remove a string that starts with an exclamation point and then has an unknown number of characters after it. When you need to match patterns of character, you can use [regular expressions](https://en.wikipedia.org/wiki/Regular_expression).\n",
    "\n",
    "The replace method can take a regular expression. So\n",
    "df['data'].replace('?.+', regex=True) where '?.+' means find a set of characters that starts with a question mark is then followed by one or more characters. You can see a [regular expression cheat sheet](https://medium.com/factory-mind/regex-tutorial-a-simple-cheatsheet-by-examples-649dc1c3f285) here.\n",
    "\n",
    "Fix these issues in the code cell below."
   ]
  },
  {
   "cell_type": "code",
   "execution_count": 32,
   "metadata": {},
   "outputs": [
    {
     "name": "stdout",
     "output_type": "stream",
     "text": [
      "Number of unique sectors after cleaning: 156\n",
      "Percentage of null values after cleaning: 3.4962735642262164\n"
     ]
    }
   ],
   "source": [
    "# TODO: In the sector1 variable, replace the string '!$!0' with nan\n",
    "# HINT: you can use the pandas replace() method and numpy.nan\n",
    "sector['sector1'] = sector['sector1'].replace('!$!0', np.nan)\n",
    "sector['sector1'] = sector['sector1'].replace('\\(\\D.+\\)','',regex=True) \n",
    "sector['sector1'] = sector['sector1'].replace('!.+','',regex=True)\n",
    "\n",
    "# TODO: In the sector1 variable, remove the last 10 or 11 characters from the sector1 variable.\n",
    "# HINT: There is more than one way to do this including the replace method\n",
    "# HINT: You can use a regex expression '!.+'\n",
    "# That regex expression looks for a string with an exclamation\n",
    "# point followed by one or more characters\n",
    "\n",
    "# TODO: Remove the string '(Historic)' from the sector1 variable\n",
    "# HINT: You can use the replace method\n",
    "\n",
    "print('Number of unique sectors after cleaning:', len(list(sector['sector1'].unique())))\n",
    "print('Percentage of null values after cleaning:', 100 * sector['sector1'].isnull().sum() / sector['sector1'].shape[0])"
   ]
  },
  {
   "cell_type": "markdown",
   "metadata": {},
   "source": [
    "Now there are 156 unique categorical values. That's better than 3060. If you were going to use this data with a supervised learning machine model, you could try converting these 156 values to dummy variables. You'd still have to train and test a model to see if those are good features.\n",
    "\n",
    "You could try to consolidate similar categories together, which is what the challenge exercise in part 4 is about.\n",
    "\n",
    "There are also still many entries with NaN values. How could you fill these in?\n",
    "\n",
    "You might try to determine an appropriate category from the 'project_name' or 'lendinginstr' variables. If you make dummy variables including NaN values, then you could consider a feature with all zeros to represent NaN. Or you could delete these records from the data set. Pandas will ignore NaN values by default. That means, for a given row, all dummy variables will have a value of 0 if the sector1 value was NaN.\n",
    "\n",
    "Don't forget about the bigger context! This data is being prepared for a machine learning algorithm. Whatever techniques you use to engineer new features, you'll need to use those when running your model on new data. So if your new data does not contain a sector1 value, you'll have to run whatever feature engineering processes you did on your training set.\n",
    "\n",
    "## Exercise 3\n",
    "\n",
    "In this next exercise, use the pandas pd.get_dummies() method to create dummy variables. Then use the concat() method to concatenate the dummy variables to a dataframe that contains the project totalamt variable and the project year from the boardapprovaldate."
   ]
  },
  {
   "cell_type": "code",
   "execution_count": 39,
   "metadata": {},
   "outputs": [
    {
     "data": {
      "text/plain": [
       "0        2018.0\n",
       "1        2018.0\n",
       "2        2018.0\n",
       "3        2018.0\n",
       "4        2018.0\n",
       "          ...  \n",
       "18243    1948.0\n",
       "18244    1947.0\n",
       "18245    1947.0\n",
       "18246    1947.0\n",
       "18247    1947.0\n",
       "Name: boardapprovaldate, Length: 18248, dtype: float64"
      ]
     },
     "execution_count": 39,
     "metadata": {},
     "output_type": "execute_result"
    }
   ],
   "source": [
    "projects['boardapprovaldate'].dt.year"
   ]
  },
  {
   "cell_type": "code",
   "execution_count": 40,
   "metadata": {},
   "outputs": [
    {
     "data": {
      "text/html": [
       "<div>\n",
       "<style scoped>\n",
       "    .dataframe tbody tr th:only-of-type {\n",
       "        vertical-align: middle;\n",
       "    }\n",
       "\n",
       "    .dataframe tbody tr th {\n",
       "        vertical-align: top;\n",
       "    }\n",
       "\n",
       "    .dataframe thead th {\n",
       "        text-align: right;\n",
       "    }\n",
       "</style>\n",
       "<table border=\"1\" class=\"dataframe\">\n",
       "  <thead>\n",
       "    <tr style=\"text-align: right;\">\n",
       "      <th></th>\n",
       "      <th>Adult; Basic and Continuing Education</th>\n",
       "      <th>Agency reform</th>\n",
       "      <th>Agricultural Extension; Research; and Other Support Activities</th>\n",
       "      <th>Agricultural credit</th>\n",
       "      <th>Agricultural extension</th>\n",
       "      <th>Agricultural markets; commercialization and agri-business</th>\n",
       "      <th>Agriculture adjustment</th>\n",
       "      <th>Agro-industry</th>\n",
       "      <th>Agro-industry and marketing</th>\n",
       "      <th>Animal production</th>\n",
       "      <th>...</th>\n",
       "      <th>Urban management</th>\n",
       "      <th>Urban transport</th>\n",
       "      <th>Urban water supply</th>\n",
       "      <th>Vocational training</th>\n",
       "      <th>Waste Management</th>\n",
       "      <th>Water Supply</th>\n",
       "      <th>Water supply and sanitation adjustment</th>\n",
       "      <th>Workforce Development and Vocational Education</th>\n",
       "      <th>year</th>\n",
       "      <th>totalamt</th>\n",
       "    </tr>\n",
       "  </thead>\n",
       "  <tbody>\n",
       "    <tr>\n",
       "      <th>0</th>\n",
       "      <td>0</td>\n",
       "      <td>0</td>\n",
       "      <td>0</td>\n",
       "      <td>0</td>\n",
       "      <td>0</td>\n",
       "      <td>0</td>\n",
       "      <td>0</td>\n",
       "      <td>0</td>\n",
       "      <td>0</td>\n",
       "      <td>0</td>\n",
       "      <td>...</td>\n",
       "      <td>0</td>\n",
       "      <td>0</td>\n",
       "      <td>0</td>\n",
       "      <td>0</td>\n",
       "      <td>0</td>\n",
       "      <td>0</td>\n",
       "      <td>0</td>\n",
       "      <td>0</td>\n",
       "      <td>2018.0</td>\n",
       "      <td>0</td>\n",
       "    </tr>\n",
       "    <tr>\n",
       "      <th>1</th>\n",
       "      <td>0</td>\n",
       "      <td>0</td>\n",
       "      <td>0</td>\n",
       "      <td>0</td>\n",
       "      <td>0</td>\n",
       "      <td>0</td>\n",
       "      <td>0</td>\n",
       "      <td>0</td>\n",
       "      <td>0</td>\n",
       "      <td>0</td>\n",
       "      <td>...</td>\n",
       "      <td>0</td>\n",
       "      <td>0</td>\n",
       "      <td>0</td>\n",
       "      <td>0</td>\n",
       "      <td>0</td>\n",
       "      <td>0</td>\n",
       "      <td>0</td>\n",
       "      <td>0</td>\n",
       "      <td>2018.0</td>\n",
       "      <td>200000000</td>\n",
       "    </tr>\n",
       "    <tr>\n",
       "      <th>2</th>\n",
       "      <td>0</td>\n",
       "      <td>0</td>\n",
       "      <td>0</td>\n",
       "      <td>0</td>\n",
       "      <td>0</td>\n",
       "      <td>0</td>\n",
       "      <td>0</td>\n",
       "      <td>0</td>\n",
       "      <td>0</td>\n",
       "      <td>0</td>\n",
       "      <td>...</td>\n",
       "      <td>0</td>\n",
       "      <td>0</td>\n",
       "      <td>0</td>\n",
       "      <td>0</td>\n",
       "      <td>0</td>\n",
       "      <td>0</td>\n",
       "      <td>0</td>\n",
       "      <td>0</td>\n",
       "      <td>2018.0</td>\n",
       "      <td>58330000</td>\n",
       "    </tr>\n",
       "    <tr>\n",
       "      <th>3</th>\n",
       "      <td>0</td>\n",
       "      <td>0</td>\n",
       "      <td>0</td>\n",
       "      <td>0</td>\n",
       "      <td>0</td>\n",
       "      <td>0</td>\n",
       "      <td>0</td>\n",
       "      <td>0</td>\n",
       "      <td>0</td>\n",
       "      <td>0</td>\n",
       "      <td>...</td>\n",
       "      <td>0</td>\n",
       "      <td>0</td>\n",
       "      <td>0</td>\n",
       "      <td>0</td>\n",
       "      <td>0</td>\n",
       "      <td>0</td>\n",
       "      <td>0</td>\n",
       "      <td>0</td>\n",
       "      <td>2018.0</td>\n",
       "      <td>20000000</td>\n",
       "    </tr>\n",
       "    <tr>\n",
       "      <th>4</th>\n",
       "      <td>0</td>\n",
       "      <td>0</td>\n",
       "      <td>0</td>\n",
       "      <td>0</td>\n",
       "      <td>0</td>\n",
       "      <td>0</td>\n",
       "      <td>0</td>\n",
       "      <td>0</td>\n",
       "      <td>0</td>\n",
       "      <td>0</td>\n",
       "      <td>...</td>\n",
       "      <td>0</td>\n",
       "      <td>0</td>\n",
       "      <td>0</td>\n",
       "      <td>0</td>\n",
       "      <td>0</td>\n",
       "      <td>0</td>\n",
       "      <td>0</td>\n",
       "      <td>0</td>\n",
       "      <td>2018.0</td>\n",
       "      <td>100000000</td>\n",
       "    </tr>\n",
       "  </tbody>\n",
       "</table>\n",
       "<p>5 rows × 157 columns</p>\n",
       "</div>"
      ],
      "text/plain": [
       "   Adult; Basic and Continuing Education  Agency reform  \\\n",
       "0                                      0              0   \n",
       "1                                      0              0   \n",
       "2                                      0              0   \n",
       "3                                      0              0   \n",
       "4                                      0              0   \n",
       "\n",
       "   Agricultural Extension; Research; and Other Support Activities  \\\n",
       "0                                                  0                \n",
       "1                                                  0                \n",
       "2                                                  0                \n",
       "3                                                  0                \n",
       "4                                                  0                \n",
       "\n",
       "   Agricultural credit  Agricultural extension  \\\n",
       "0                    0                       0   \n",
       "1                    0                       0   \n",
       "2                    0                       0   \n",
       "3                    0                       0   \n",
       "4                    0                       0   \n",
       "\n",
       "   Agricultural markets; commercialization and agri-business  \\\n",
       "0                                                  0           \n",
       "1                                                  0           \n",
       "2                                                  0           \n",
       "3                                                  0           \n",
       "4                                                  0           \n",
       "\n",
       "   Agriculture adjustment  Agro-industry  Agro-industry and marketing  \\\n",
       "0                       0              0                            0   \n",
       "1                       0              0                            0   \n",
       "2                       0              0                            0   \n",
       "3                       0              0                            0   \n",
       "4                       0              0                            0   \n",
       "\n",
       "   Animal production  ...  Urban management  Urban transport  \\\n",
       "0                  0  ...                 0                0   \n",
       "1                  0  ...                 0                0   \n",
       "2                  0  ...                 0                0   \n",
       "3                  0  ...                 0                0   \n",
       "4                  0  ...                 0                0   \n",
       "\n",
       "   Urban water supply  Vocational training  Waste Management  Water Supply  \\\n",
       "0                   0                    0                 0             0   \n",
       "1                   0                    0                 0             0   \n",
       "2                   0                    0                 0             0   \n",
       "3                   0                    0                 0             0   \n",
       "4                   0                    0                 0             0   \n",
       "\n",
       "   Water supply and sanitation adjustment  \\\n",
       "0                                       0   \n",
       "1                                       0   \n",
       "2                                       0   \n",
       "3                                       0   \n",
       "4                                       0   \n",
       "\n",
       "   Workforce Development and Vocational Education    year   totalamt  \n",
       "0                                               0  2018.0          0  \n",
       "1                                               0  2018.0  200000000  \n",
       "2                                               0  2018.0   58330000  \n",
       "3                                               0  2018.0   20000000  \n",
       "4                                               0  2018.0  100000000  \n",
       "\n",
       "[5 rows x 157 columns]"
      ]
     },
     "execution_count": 40,
     "metadata": {},
     "output_type": "execute_result"
    }
   ],
   "source": [
    "# TODO: Create dummy variables from the sector1 data. Put the results into a dataframe called dummies\n",
    "# Hint: Use the get_dummies method\n",
    "dummies = pd.get_dummies(sector['sector1'])\n",
    "\n",
    "# TODO: Create a new dataframe called df by \n",
    "#       filtering the projects data for the totalamt and\n",
    "#       the year from boardapprovaldate\n",
    "projects['year'] = projects['boardapprovaldate'].dt.year\n",
    "df = projects[['year','totalamt']]\n",
    "\n",
    "# TODO: Concatenate the results of dummies and projects\n",
    "#       into a single data frame\n",
    "df_final = pd.concat([dummies,df],axis=1)\n",
    "\n",
    "df_final.head()"
   ]
  },
  {
   "cell_type": "markdown",
   "metadata": {},
   "source": [
    "You could continue to consolidate sector values using other techniques. For example, in the next exercise, you'll find categories with similar terms and then combine them together. \n",
    "\n",
    "Keep in mind that how much to consolidate will depend on your machine learning model performance and your hardware's ability to handle the extra features in memory. If your hardware's memory can handle 3060 new features and your machine learning algorithm performs better, then go for it!\n",
    "\n",
    "## Exercise 4 (Challenge)\n",
    "\n",
    "But can you do anything else with the sector1 variable?\n",
    "\n",
    "The percentage of null values for 'sector1' is now 3.49%. That turns out to be the same number as the null values for the 'sector' column. You can see this if you scroll back up to where the code calculated the percentage of null values for each variable. \n",
    "\n",
    "Perhaps the 'sector1' and 'sector' variable have the same information. If you look at the 'sector' variable, however, it also needs cleaning. The values look like this:\n",
    "\n",
    "'Urban Transport;Urban Transport;Public Administration - Transportation'\n",
    "\n",
    "It turns out the 'sector' variable combines information from the 'sector1' through 'sector5' variables and the 'mjsector' variable. Run the code cell below to look at the sector variable."
   ]
  },
  {
   "cell_type": "code",
   "execution_count": 41,
   "metadata": {},
   "outputs": [
    {
     "data": {
      "text/plain": [
       "0                                                      NaN\n",
       "1                                                      NaN\n",
       "2                                                      NaN\n",
       "3                                                      NaN\n",
       "4        Social Protection;Social Protection;Other Indu...\n",
       "                               ...                        \n",
       "18243                      (Historic)Hydro;(Historic)Hydro\n",
       "18244    (Historic)Economic management;(Historic)Econom...\n",
       "18245    (Historic)Economic management;(Historic)Econom...\n",
       "18246    (Historic)Economic management;(Historic)Econom...\n",
       "18247    (Historic)Economic management;(Historic)Econom...\n",
       "Name: sector, Length: 18248, dtype: object"
      ]
     },
     "execution_count": 41,
     "metadata": {},
     "output_type": "execute_result"
    }
   ],
   "source": [
    "sector['sector']"
   ]
  },
  {
   "cell_type": "code",
   "execution_count": 52,
   "metadata": {},
   "outputs": [],
   "source": [
    "sector['sector'] = sector['sector'].replace('\\(\\D.+\\)','',regex=True).replace(';.+','',regex=True)"
   ]
  },
  {
   "cell_type": "code",
   "execution_count": 54,
   "metadata": {},
   "outputs": [
    {
     "data": {
      "text/plain": [
       "array([nan, 'Social Protection', 'Urban Transport',\n",
       "       'Other Public Administration',\n",
       "       'Workforce Development and Vocational Education',\n",
       "       'Energy Transmission and Distribution', 'Renewable Energy Solar',\n",
       "       'Other Industry', 'Health', 'Water Supply', 'Primary Education',\n",
       "       'Other Water Supply',\n",
       "       'Public Administration - Energy and Extractives',\n",
       "       'Central Government ', 'ICT Services',\n",
       "       'Rural and Inter-Urban Roads', 'Public Administration - Education',\n",
       "       'Sub-National Government', 'Other Education',\n",
       "       'Other Transportation', 'Renewable Energy Hydro',\n",
       "       'Public Administration - Agriculture',\n",
       "       'Public Administration - Transportation', 'Oil and Gas',\n",
       "       'Other Non-bank Financial Institutions', 'Ports/Waterways',\n",
       "       'Public Administration - Financial Sector', 'Mining',\n",
       "       'Public Administration - Social Protection',\n",
       "       'Agricultural Extension', 'Tertiary Education',\n",
       "       'Secondary Education', 'Crops', 'Housing Construction',\n",
       "       'Livestock', 'Public Administration - Industry',\n",
       "       'Other Information and Communications Technologies',\n",
       "       'Renewable Energy Biomass', 'Early Childhood Education',\n",
       "       'Manufacturing', 'Public Administration - Health',\n",
       "       'ICT Infrastructure', 'Other Agriculture', 'Agricultural markets',\n",
       "       'Renewable Energy Wind', 'Forestry', 'Fisheries',\n",
       "       'Banking Institutions', 'Irrigation and Drainage', 'Trade',\n",
       "       'Non-Renewable Energy Generation', 'Adult', 'Railways',\n",
       "       'Other Energy and Extractives', 'Aviation', 'Tourism',\n",
       "       'Waste Management', 'Public Administration - Water', 'Sanitation',\n",
       "       'Insurance and Pension', 'Health Facilities and Construction',\n",
       "       'Capital Markets', 'Renewable Energy Geothermal',\n",
       "       'Law and Justice',\n",
       "       'Public Administration - Information and Communications Technologies',\n",
       "       'Power', 'Roads and highways', 'Renewable energy',\n",
       "       'Micro- and SME finance', 'Agro-industry', 'Media', 'Sewerage',\n",
       "       'Distribution and transmission', 'Research',\n",
       "       'Natural resources management', 'Other agriculture',\n",
       "       'Non-sector specific', 'Postal services', 'Other finance',\n",
       "       'Other public sector management', 'Macro/non-trade',\n",
       "       'Public financial management',\n",
       "       'Energy efficiency in Heat and Power', 'Other environment',\n",
       "       'Pollution control / waste management', 'Other social services',\n",
       "       'Other industry', 'Housing construction', 'Vocational training',\n",
       "       'Telecommunications', 'Petrochemicals and fertilizers',\n",
       "       'Animal production', 'Economic management', 'Housing finance',\n",
       "       'Thermal', 'Telecommunications and informatics', 'Refining',\n",
       "       'Financial adjustment', 'General finance sector',\n",
       "       'Public sector management adjustment', 'Other transportation',\n",
       "       'Urban water supply', 'Urban management', 'Industrial adjustment',\n",
       "       'Agricultural credit', 'Agriculture adjustment',\n",
       "       'Industrial restructuring', 'Business environment',\n",
       "       'Compulsory pension and unemployment insurance',\n",
       "       'Transportation adjustment', 'Highways',\n",
       "       'Mining and other extractive', 'Oil and gas adjustment',\n",
       "       'Small scale enterprise', 'Education adjustment',\n",
       "       'Electric power and other energy adjustment', 'Urban housing',\n",
       "       'Financial sector development', 'Trade policy reform',\n",
       "       'Oil and gas exploration and development', 'Other education',\n",
       "       'Urban development adjustment',\n",
       "       'Other power and energy conversion', 'Targeted health',\n",
       "       'Public enterprise reform', 'Hydro',\n",
       "       'Fertilizer and other chemicals', 'Agro-industry and marketing',\n",
       "       'Perennial crops', 'Flood protection', 'Urban transport',\n",
       "       'Rural roads', 'Other population', 'Institutional Development',\n",
       "       'Agricultural extension', 'Basic health', 'Annual crops',\n",
       "       'Other water supply and sanitation', 'Other urban development',\n",
       "       'Urban environment', 'Pre-investment / portfolio development',\n",
       "       'Oil and gas transportation', 'Rural water supply and sanitation',\n",
       "       'Water supply and sanitation adjustment', 'Other fuels',\n",
       "       'Environmental institutions', 'Other social protection',\n",
       "       'Civil service reform', 'Privatization',\n",
       "       'Pensions and social insurance', 'Social protection adjustment',\n",
       "       'Environment adjustment', 'Population', 'Decentralization',\n",
       "       'HIV/AIDS'], dtype=object)"
      ]
     },
     "execution_count": 54,
     "metadata": {},
     "output_type": "execute_result"
    }
   ],
   "source": [
    "sector['sector'].unique()"
   ]
  },
  {
   "cell_type": "code",
   "execution_count": 73,
   "metadata": {},
   "outputs": [],
   "source": [
    "sector['sector_agg'] = sector['sector'].replace(np.nan,'').apply(lambda s: 'Agriculture' if 'Agricul' in s else s)\n",
    "sector['sector_agg'] = sector['sector_agg'].apply(lambda s: 'Energy' if 'Energy' in s else s)\n",
    "sector['sector_agg'] = sector['sector_agg'].apply(lambda s: 'Economy' if 'Econom' in s else s)\n",
    "sector['sector_agg'] = sector['sector_agg'].apply(lambda s: 'Social' if 'Social' in s else s)\n",
    "sector['sector_agg'] = sector['sector_agg'].apply(lambda s: 'Water' if 'Water' in s else s)\n",
    "sector['sector_agg'] = sector['sector_agg'].apply(lambda s: 'Finace' if 'Finan' in s else s)\n",
    "sector['sector_agg'] = sector['sector_agg'].apply(lambda s: 'Education' if 'Educ' in s else s)\n",
    "sector['sector_agg'] = sector['sector_agg'].apply(lambda s: 'Transport' if 'Transp' in s else s)"
   ]
  },
  {
   "cell_type": "code",
   "execution_count": 75,
   "metadata": {},
   "outputs": [
    {
     "data": {
      "text/plain": [
       "(121,)"
      ]
     },
     "execution_count": 75,
     "metadata": {},
     "output_type": "execute_result"
    }
   ],
   "source": [
    "sector['sector_agg'].unique().shape"
   ]
  },
  {
   "cell_type": "markdown",
   "metadata": {},
   "source": [
    "# Conclusion\n",
    "\n",
    "Pandas makes it relatively easy to create dummy variables; however, oftentimes you'll need to clean the data first."
   ]
  },
  {
   "cell_type": "code",
   "execution_count": null,
   "metadata": {},
   "outputs": [],
   "source": []
  }
 ],
 "metadata": {
  "kernelspec": {
   "display_name": "Python 3.7.13 ('base')",
   "language": "python",
   "name": "python3"
  },
  "language_info": {
   "codemirror_mode": {
    "name": "ipython",
    "version": 3
   },
   "file_extension": ".py",
   "mimetype": "text/x-python",
   "name": "python",
   "nbconvert_exporter": "python",
   "pygments_lexer": "ipython3",
   "version": "3.7.13"
  },
  "orig_nbformat": 4,
  "vscode": {
   "interpreter": {
    "hash": "ad2bdc8ecc057115af97d19610ffacc2b4e99fae6737bb82f5d7fb13d2f2c186"
   }
  }
 },
 "nbformat": 4,
 "nbformat_minor": 2
}
