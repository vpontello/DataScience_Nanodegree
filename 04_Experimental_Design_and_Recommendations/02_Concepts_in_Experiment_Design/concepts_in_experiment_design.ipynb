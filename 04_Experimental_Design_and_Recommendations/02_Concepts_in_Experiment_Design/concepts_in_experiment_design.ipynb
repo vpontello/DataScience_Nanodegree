{
 "cells": [
  {
   "cell_type": "markdown",
   "metadata": {},
   "source": [
    "# Experiments"
   ]
  },
  {
   "cell_type": "markdown",
   "metadata": {},
   "source": [
    "In order to understand what can be infered from the data you should run an EXPERIMENT!\n",
    "\n",
    "> correlation does not imply causation\n",
    "\n",
    "## Lesson outline\n",
    "How do you design experiments that address your goals? We will talk about each of the following throughout this lesson.\n",
    "\n",
    "* What is an experiment?\n",
    "* What types of experiments are there?\n",
    "* How do you measure the outcomes?\n",
    "* What are the common pitfalls to avoid?\n",
    "\n",
    "Throughout this lesson, we will show you how ethics and goals are thoughtful and intentional elements that go into the planning of the experiment. Students will see the role of measurement and metrics and understand how these are distinguished from goals and confounding variables. Students will see how bias and validity must be considered to make the results usable.\n",
    "\n",
    "![what is an experiment](images/01.png)\n",
    "\n",
    "### Learning Objectives\n",
    "By the end of the Concepts in Experiment Design and Statistical Considerations in Testing lesson, you should be able to\n",
    "\n",
    "* Define control and test conditions\n",
    "* Choose control and testing groups\n",
    "* Design SMART experiments: Specific, Measurable, Actionable, Realistic, Timely\n",
    "* Define key metrics\n",
    "\n"
   ]
  },
  {
   "cell_type": "markdown",
   "metadata": {},
   "source": []
  }
 ],
 "metadata": {
  "kernelspec": {
   "display_name": "Python 3.9.12 ('base')",
   "language": "python",
   "name": "python3"
  },
  "language_info": {
   "name": "python",
   "version": "3.9.12"
  },
  "orig_nbformat": 4,
  "vscode": {
   "interpreter": {
    "hash": "c55a5ca6a4c1f1ef62c1036c8fbd5c92f4c8bedcd7e16f2fbeae2f8c4a338b15"
   }
  }
 },
 "nbformat": 4,
 "nbformat_minor": 2
}
