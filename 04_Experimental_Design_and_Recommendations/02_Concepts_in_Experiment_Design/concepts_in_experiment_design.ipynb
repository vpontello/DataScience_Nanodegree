{
 "cells": [
  {
   "cell_type": "markdown",
   "metadata": {},
   "source": [
    "# Experiments"
   ]
  },
  {
   "cell_type": "markdown",
   "metadata": {},
   "source": [
    "In order to understand what can be infered from the data you should run an EXPERIMENT!\n",
    "\n",
    "> correlation does not imply causation\n",
    "\n",
    "## Lesson outline\n",
    "How do you design experiments that address your goals? We will talk about each of the following throughout this lesson.\n",
    "\n",
    "* What is an experiment?\n",
    "* What types of experiments are there?\n",
    "* How do you measure the outcomes?\n",
    "* What are the common pitfalls to avoid?\n",
    "\n",
    "Throughout this lesson, we will show you how ethics and goals are thoughtful and intentional elements that go into the planning of the experiment. Students will see the role of measurement and metrics and understand how these are distinguished from goals and confounding variables. Students will see how bias and validity must be considered to make the results usable.\n",
    "\n",
    "![what is an experiment](images/01.png)\n",
    "\n",
    "### Learning Objectives\n",
    "By the end of the Concepts in Experiment Design and Statistical Considerations in Testing lesson, you should be able to\n",
    "\n",
    "* Define control and test conditions\n",
    "* Choose control and testing groups\n",
    "* Design SMART experiments: Specific, Measurable, Actionable, Realistic, Timely\n",
    "* Define key metrics\n",
    "\n",
    "## What is an Experiment?\n",
    "\n",
    "Let's say that you have an online store and want to add a new feature. The new feature that you want to add is a quick view overlay, where clicking on the product image brings up an overlay summarizing product info without taking users away from the search results. You'd like to test if this new feature leads to more sales.\n",
    "\n",
    "If we run an experiment here, we should be able to say whether or not the overlay caused a change in customers' purchasing habits. So, what makes an experiment an experiment?\n",
    "\n",
    "* First, **we need to perform a comparison between two groups** of users. If we have some people interact with the old website without the overlay, and some people interact with the new website with the overlay, then a difference in purchases made by each group will show us the effect of the overlay.\n",
    "* Secondly, **we need to control for other differences between groups**. The only difference between the two groups should be the feature that we specifically manipulate whether the customer gets the site with the overlay or the site without the overlay. For each customer, we randomly assign them to a site version. By randomly assigning individuals to each page, the distribution of other variables like age or gender should be similar between groups.\n",
    "\n",
    "## Types of Study\n",
    "There are many ways in which data can be collected in order to test or understand the relationship between two variables of interest. These methods can be put into three main bins, based on the amount of control that you hold over the variables in play:\n",
    "\n",
    "* If you have a lot of control over features, then you have an **experiment**.\n",
    "* If you have no control over the features, then you have an **observational study**.\n",
    "* If you have some control, then you have a **quasi-experiment**.\n",
    "\n",
    "While the experiment is the main focus of this course, it's also useful to know about the other types of study so that you can use them in effective ways, especially if an experiment cannot be run.\n",
    "\n",
    "### Experiments\n",
    "In the social and medical sciences, an experiment is defined by comparing outcomes between two or more groups and ensuring equivalence between the compared groups except for the manipulation that we want to test. Our interest in an experiment is to see if a change in one feature has an effect in the value of a second feature, like seeing if changing the layout of a button on a website causes more visitors to click on it. Having multiple groups is necessary in order to compare the outcome for when we apply the manipulation to when we do not (e.g. old vs. new website layout), or to compare differently levels of manipulation (e.g. drug dosages). We also need equivalence between groups so that we can be as sure as possible that the differences in the outcomes were only due to the difference in our manipulated feature.\n",
    "\n",
    "Equivalence between groups is typically carried out through some kind of randomization procedure. A **unit of analysis** is the entity under study, like a page view or a user in a web experiment. If we randomly assign our units of analysis to each group, then, on the whole, we should expect the feature distributions between groups to be about the same. This theoretically isolates the changes in the outcome to the changes in our manipulated feature. Of course, we can always dig deeper afterward to see if certain other features worked in tandem with, or against, our manipulation.\n",
    "\n",
    "### Observational Studies\n",
    "\n",
    "In an experiment, we exert a lot of control on a system in order to narrow down the changes in our system from one source to one output. Observational studies, on the other hand, are defined by a lack of control. Observational studies are also known as naturalistic or correlational studies. In an observational study, no control is exerted on the variables of interest, perhaps due to ethical concerns or a lack of power to enact the manipulation. This often comes up in medical studies. For example, if we want to look at the effects of smoking on health, the potential risks make it unethical to force people into smoking behaviors. Instead, we need to rely on existing data or groups to make our determinations.\n",
    "\n",
    "We typically cannot infer causality in an observational study due to our lack of control over the variables. Any relationship observed between variables may be due to unobserved features, or the direction of causality might be uncertain. (We'll discuss this more later in the lesson.) But simply because an observational study does not imply causation does not mean that it is not useful. An interesting relationship might be the spark needed to perform additional studies or to collect more data. These studies can help strengthen the understanding of the relationship we're interested in by ruling out more and more alternative hypotheses."
   ]
  },
  {
   "cell_type": "markdown",
   "metadata": {},
   "source": [
    "### Quasi-Experiments\n",
    "\n",
    "In between the observational study and the experiment is the quasi-experiment. This is where some, but not all, of the control requirements of a true experiment, are met. For example, rolling out a new website interface to all users to see how much time they spend on it might be considered a quasi-experiment. While the manipulation is controlled by the experimenter, there aren't multiple groups to compare. The experimenter can still use the behavior of the population pre-change and compare that to behaviors post-change, to make a judgment on the effects of the change. However, there is the possibility that there are other effects outside of the manipulation that caused the observed changes in behavior. For the example earlier in this paragraph, it might be that users would have naturally gravitated to higher usage rates, regardless of the website interface.\n",
    "\n",
    "As another example, we might have two different groups upon which to make a comparison of outcomes, but the original groups themselves might not be equivalent. A classic example of this is if a researcher wants to test some new supplemental materials for a high school course. If they select two different schools, one with the new materials and one without, we have a quasi-experiment since the differing qualities of students or teachers at those schools might have an effect on the outcomes. Ideally, we'd like to match the two schools before the test as closely as possible, but we can't call it a true experiment since the assignment of students to school can't be considered random.\n",
    "\n",
    "While a quasi-experiment may not have the same strength of causality inference as a true experiment, the results can still provide a strong amount of evidence for the relationship being investigated. This is especially true if some kind of matching is performed to identify similar units or groups. Another benefit of quasi-experimental designs is that the relaxation of requirements makes the quasi-experiment more flexible and easier to set up.\n",
    "\n",
    "Examples of three scenarios\n",
    "\n",
    "![experiments](images/02.PNG)"
   ]
  },
  {
   "cell_type": "markdown",
   "metadata": {},
   "source": [
    "## Types of Experiment\n",
    "\n",
    "### Between-subjects\n",
    "\n",
    "Most of the time, when you think of an experiment, you think of a **between-subjects** experiment. In a between-subjects experiment, each unit only participates in, or sees, one of the conditions being used in the experiment. The simplest of these has just two groups or conditions to compare. In one group, we have either no manipulation or maintenance of the status quo. This is like providing known drug treatment, or an old version of a website. This is known as the **control group**. The other group includes the manipulation we wish to test, such as a new drug or new website layout. This is known as our **experimental group**. We can compare the outcomes between groups (e.g. recovery time or click-through rate) in order to make a judgment about the effect of our manipulation. (Since we have an experiment, we'll randomly assign each unit to either the control or experimental group.) For web-based experiments, this kind of basic experiment design is called an **A/B test**: the \"A\" group representing the old control, and \"B\" representing the new experimental change.\n",
    "\n",
    "We aren't limited to just two groups. We could have multiple experimental groups to compare, rather than just one control group and one experimental group. This could form an A/B/C test for a web-based experiment, with control group \"A\" and experimental groups \"B\" and \"C\".\n",
    "\n",
    "![04](images/04.PNG)\n",
    "![06](images/06.PNG)\n",
    "\n",
    "### Whithin-subjects\n",
    "\n",
    "If an individual completes all conditions, rather than just one, this is known as a **within-subjects** design. Within-subjects designs are also known as repeated measures designs. By measuring an individual's output in all conditions, we know that the distribution of features in the groups will be equivalent. We can account for individuals' aptitudes or inclinations in our analysis. For example, if an individual rates three different color palettes for a product, we can know if a high rating for one palette is particularly good compared to the others (e.g. 10 vs. 5, 6) or if it's not a major distinction (e.g. 10 vs. 8, 9).\n",
    "\n",
    "Randomization still has a part in the within-subjects design in the order in which individuals complete conditions. This is important to reduce potential bias effects, as will be discussed later in the lesson. One other downside of the within-subjects design is that it's not always possible to pull off a within-subjects design. For example, when a user visits a website and completes their session, we usually can't guarantee when they'll come back. The purpose of their following visit also might not be comparable to their first. It can take a lot more effort in control in order to set up an effective within-subjects design.\n",
    "\n",
    "![05](images/05.PNG)\n",
    "![07](images/07.PNG)\n",
    "\n",
    "### Side Note: Factorial Designs\n",
    "\n",
    "Factorial designs manipulate the value of multiple features of interest. For example, with two independent manipulations \"X\" and \"Y\", we have four conditions: \"control\", \"X only\", \"Y only\", \"X and Y\". Experimental designs where multiple features are manipulated simultaneously are more frequently seen in engineering and physical sciences domains, where the system units tend to be under stricter control. They're less seen in the social and medical realms, where individual differences can impede experiment creation and analysis."
   ]
  },
  {
   "cell_type": "markdown",
   "metadata": {},
   "source": []
  }
 ],
 "metadata": {
  "kernelspec": {
   "display_name": "Python 3.9.12 ('base')",
   "language": "python",
   "name": "python3"
  },
  "language_info": {
   "name": "python",
   "version": "3.9.12"
  },
  "orig_nbformat": 4,
  "vscode": {
   "interpreter": {
    "hash": "c55a5ca6a4c1f1ef62c1036c8fbd5c92f4c8bedcd7e16f2fbeae2f8c4a338b15"
   }
  }
 },
 "nbformat": 4,
 "nbformat_minor": 2
}
