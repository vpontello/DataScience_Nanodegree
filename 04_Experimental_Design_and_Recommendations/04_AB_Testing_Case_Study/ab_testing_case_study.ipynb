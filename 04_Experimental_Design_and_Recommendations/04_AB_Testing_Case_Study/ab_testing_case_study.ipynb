{
 "cells": [
  {
   "cell_type": "markdown",
   "metadata": {},
   "source": [
    "# AB Test Case Study\n",
    "\n",
    "### Applying what you have learned in a real Case Study\n",
    "In this lesson, you will be led through the design process including :\n",
    "\n",
    "* Building a funnel\n",
    "* Deciding on your metrics,\n",
    "* Thinking about the size and duration of your test\n",
    "* Analyzing your collected data with inferential statistics\n",
    "* Drawing conclusions about the experiment\n",
    "\n",
    "### Learning Objectives\n",
    "By the end of this lesson, you will be able to\n",
    "\n",
    "* Describe how A/B testing works and identify its limitations\n",
    "* Recognize and handle bias\n",
    "* Apply multiple comparison techniques\n",
    "* Analyze the results of an experiment\n",
    "\n",
    "## Scenario Description\n",
    "\n",
    "Let's say that you're working for a fictional productivity software company that is looking for ways to increase the number of people who pay for their software. The way that the software is currently set up, users can download and use the software free of charge, for a 7-day trial. After the end of the trial, users are required to pay for a license to continue using the software.\n",
    "\n",
    "One idea that the company wants to try is to change the layout of the homepage to emphasize more prominently and higher up on the page that there is a 7-day trial available for the company's software. The current fear is that some potential users are missing out on using the software because of a lack of awareness of the trial period. If more people download the software and use it in the trial period, the hope is that this entices more people to make a purchase after seeing what the software can do.\n"
   ]
  },
  {
   "cell_type": "code",
   "execution_count": null,
   "metadata": {},
   "outputs": [],
   "source": []
  }
 ],
 "metadata": {
  "language_info": {
   "name": "python"
  },
  "orig_nbformat": 4
 },
 "nbformat": 4,
 "nbformat_minor": 2
}
