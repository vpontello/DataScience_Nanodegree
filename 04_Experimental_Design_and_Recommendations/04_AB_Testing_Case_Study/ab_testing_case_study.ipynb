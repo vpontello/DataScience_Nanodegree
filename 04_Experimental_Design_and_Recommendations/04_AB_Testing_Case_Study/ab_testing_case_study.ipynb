{
 "cells": [
  {
   "cell_type": "markdown",
   "metadata": {},
   "source": [
    "# AB Test Case Study\n",
    "\n",
    "### Applying what you have learned in a real Case Study\n",
    "In this lesson, you will be led through the design process including :\n",
    "\n",
    "* Building a funnel\n",
    "* Deciding on your metrics,\n",
    "* Thinking about the size and duration of your test\n",
    "* Analyzing your collected data with inferential statistics\n",
    "* Drawing conclusions about the experiment\n",
    "\n",
    "### Learning Objectives\n",
    "By the end of this lesson, you will be able to\n",
    "\n",
    "* Describe how A/B testing works and identify its limitations\n",
    "* Recognize and handle bias\n",
    "* Apply multiple comparison techniques\n",
    "* Analyze the results of an experiment\n",
    "\n",
    "## Scenario Description\n",
    "\n",
    "Let's say that you're working for a fictional productivity software company that is looking for ways to increase the number of people who pay for their software. The way that the software is currently set up, users can download and use the software free of charge, for a 7-day trial. After the end of the trial, users are required to pay for a license to continue using the software.\n",
    "\n",
    "One idea that the company wants to try is to change the layout of the homepage to emphasize more prominently and higher up on the page that there is a 7-day trial available for the company's software. The current fear is that some potential users are missing out on using the software because of a lack of awareness of the trial period. If more people download the software and use it in the trial period, the hope is that this entices more people to make a purchase after seeing what the software can do.\n"
   ]
  },
  {
   "cell_type": "markdown",
   "metadata": {},
   "source": [
    "## Building a Funnel\n",
    "Before we do anything else, the first thing we should do is specify the objective or goal of our study:\n",
    "\n",
    "> Revising the structure of the homepage will increase the number of people\n",
    "that download the software and, ultimately, the number of people that purchase\n",
    "a license.\n",
    "\n",
    "Now, we should think about the activities that a user will take on the site that are relevant to measuring our objective. This path or funnel will help us figure out how we will create experimental condition groups and which metrics we'll need to track to measure the experiment's effect. To help you construct the funnel, here's some information about the way the company's website is structured, and how the software induces users to purchase a license.\n",
    "\n",
    "The company's website has five main sections:\n",
    "\n",
    "1. the homepage;\n",
    "1. a section with additional information, gallery, and examples;\n",
    "2. a page for users to download the software;\n",
    "3. a page for users to purchase a license; and\n",
    "4. a support sub-site with documentation and FAQs for the software.\n",
    "\n",
    "For the software itself, the website requires that users create an account in order to download the software program. The program is usable freely for seven days after download. When the trial period is hit, the program will bring up a dialog box that takes the user to the license page. After purchasing a license, the user will receive a unique code associated with their site account. This code can then be used with the program to register it with that user, and the program can be used thereafter without issue.\n",
    "\n",
    "## Building a Funnel Solution\n",
    "\n",
    "> What steps do you expect typical visitors to take from their initial visit to the webpage through purchasing a license for continued use of the program? Are there any 'typical' steps that certain visitors might not take?\n",
    "\n",
    "A straightforward flow might include the following steps:\n",
    "\n",
    "* Visit homepage\n",
    "* Visit download page\n",
    "* Sign up for an account\n",
    "* Download software\n",
    "* After the 7-day trial, the software takes the user to a license-purchase page\n",
    "* Purchase license\n",
    "\n",
    "Note that it is possible for the visitor to drop from the flow after each step, forming a funnel. There might be additional steps that a user might take between visiting the homepage and visiting the download page that isn't accounted for in the above flow. For example, someone might want to check out the additional informational pages before visiting the download page, or even visit the license purchase page to check the license price before even deciding to download. Considering the amount of browsing that a visitor could perform on the page, it might be simplest just to track whether or not a user gets to the download page at some point, without worrying about the many paths that they could have taken to get there.\n",
    "\n",
    "\n",
    "> Consider the webpage as a whole. What kinds of events might occur outside of the expected flow for the experiment that might interfere with measuring the effects of our manipulation?\n",
    "\n",
    "There are a few events in the expected flow that might not correspond with the visitors we want to target. For example, there might be users on the homepage who aren't new users. Users who already have a license might just be visiting the homepage as a way to access the support sub-site. A user who wants to buy a license might also come into the license page through the homepage, rather than directly from the software.\n",
    "\n",
    "When it comes to license purchasing, it's possible that users don't come back after exactly seven days. Some users might come back early and make their purchase during their trial period. Alternatively, a user might end up taking more than seven days to decide to make their purchase, coming back days after the end of the trial. Anticipating scenarios like this can be useful for planning the design, and coming up with metrics that come as close as possible to measuring desired effects.\n",
    "\n",
    "\n"
   ]
  },
  {
   "cell_type": "markdown",
   "metadata": {},
   "source": [
    "## Deciding on Metrics\n",
    "From our user funnel, we should consider two things:\n",
    "\n",
    "Where and how we should split users into experiment groups\n",
    "What metrics we will use to track the success or failure of the experimental manipulation.\n",
    "The choice of unit of diversion (the point at which we divide observations into groups) may affect what metrics we can use, and whether the metrics we record should be considered invariant or evaluation metrics. To start, decide on a unit of diversion and brainstorm some ideas for metrics to capture.\n",
    "\n",
    "To be clear, the overall plan is to test the effect of the new homepage using a true experiment; in particular, we'll be using an A/B testing framework. This means that prospective users should be split into two groups. The control, or 'A' group, will see the old homepage, while the experimental, or 'B' group, will see the new homepage that emphasizes the 7-day trial.\n",
    "\n",
    "### Categories of diversion\n",
    "Three main categories of diversion were presented in the course: event-based diversion, cookie-based diversion, and account-based diversion.\n",
    "\n",
    "* An **event-based** diversion (like a pageview) can provide many observations to draw conclusions from but doesn't quite hit the mark for this case. If the condition changes on each pageview, then a visitor might get a different experience on each homepage visit. Event-based diversion is much better when the changes aren't as easily visible to users, to avoid disruption of experience. In addition, page view-based diversion would let us know how many times the download page was accessed from each condition, but can't go any further in tracking how many actual downloads were generated from each condition.\n",
    "* Diverting based on **account or user ID** can be stable, but it's not the right choice in this case. Since visitors only register after getting to the download page, this is too late to introduce the new homepage to people who should be assigned to the experimental condition.\n",
    "* So this leaves the consideration of **cookie-based** diversion, which feels like the right choice. We can assign a cookie to each visitor upon their first-page hit, which allows them to be separated into the control and experimental groups. Cookies also allow tracking of each visitor hitting each page, recording whether or not they eventually hit the download page and then whether or not they actually register an account and perform the download. That's not to say that the cookie-based diversion is perfect. The usual cookie-based diversion issues apply: we can get some inconsistency in counts if users enter the site via an incognito window, different browsers, or cookies that expire or get deleted before they make a download. This kind of assignment 'dilution' could dampen the true effect of our experimental manipulation. As a simplification, however, we'll assume that this kind of assignment dilution will be small, and ignore its potential effects.\n",
    "\n",
    "> A cookie-based diversion seems best in this case for dividing visitors into experimental groups since we can split visitors on their initial visit and it's fairly reliable for tracking.\n",
    "\n",
    "### Key metrics\n",
    "In terms of metrics, we might want to keep track of the number of cookies that are recorded in different parts of the website. In particular, the number of cookies on the homepage, download page, and account registration page (in order to actually make the download) could prove useful. We can track the number of licenses purchased through the user accounts, each of which can be linked back to a particular condition. Though it hasn't been specified, it's also possible that the software includes usage statistics that we could track.\n",
    "\n",
    "The above metrics are all based on absolute counts. We could instead perform our analysis on ratios of those counts. For example, we could be interested in the proportion of downloads out of all homepage visits. License purchases could be stated as a ratio against the number of registered users (downloads) or the original number of cookies."
   ]
  },
  {
   "cell_type": "markdown",
   "metadata": {},
   "source": [
    "## Selecting Invariant and Evaluation Metrics\n",
    "\n",
    "Below, you will decide for each of the proposed metrics whether or not you would want to use them as an invariant metric or an evaluation metric. Remember\n",
    "\n",
    "* An **invariant metric** is an objective measure that you should expect will not vary between conditions and that indicates equivalence between groups.\n",
    "* **Evaluation metrics**, on the other hand, represent measures where you expect there will be differences between groups, and whose differences should say something meaningful about your experimental manipulation.\n",
    "\n",
    "The one invariant metric that stands out is the number of cookies that hit the homepage. The two evaluation metrics are a bit trickier, but taking a ratio of the number of downloads and licenses to the number of cookies makes the most sense to us.\n",
    "\n",
    "#### Invariant metric\n",
    "There's one invariant metric that really stands out here, and that's the number of cookies that hit the homepage. If we've done things correctly, each visitor should have an equal chance of seeing each homepage, and that means that the number of cookies assigned to each group should be about the same. Since visitors come in without any additional information (e.g. account info) and the change affected by the experimental manipulation comes in right at the start, there aren't other invariant metrics we should worry about.\n",
    "\n",
    "#### Evaluation metrics\n",
    "Selecting evaluation metrics is a trickier proposition. Count-based metrics at other parts of the process seem like natural choices: the number of times the software was downloaded and the number of licenses purchased are exactly what we want to change with the new homepage. The issue is that even though we expect the number of cookies assigned to each group to be about the same, it's much more likely than not they won't be exactly the same. Instead, we should prefer using the download rate (# downloads / # cookies) and purchase rate (# licenses / # cookies) relative to the number of cookies as evaluation metrics. Using these ratios allows us to account for slight imbalances between groups.\n",
    "\n",
    "As for the other proposed metrics, the ratio between the number of licenses and number of downloads is potentially interesting, but not as direct as the other two ratios discussed above. It's possible that the manipulation increases both the number of downloads and the number of licenses, but increases the former to a much higher rate. In this case, the licenses-to-downloads ratio might be worse off for the new homepage compared to the old, even though the new homepage has our desired effects. There's no such inconsistency issue with the ratios that use the number of cookies in the denominator.\n",
    "\n",
    "Product usage statistics like the average time the software was used in the trial period are potentially interesting features but aren't directly related to our experiment. We might not have a strong feeling about what kind of effect the homepage will have on people that actually download the software. Stated differently, product usage isn't a direct target of homepage manipulation. Certainly, these statistics might help us dig deeper into the reasons for observed effects after an experiment is complete. They might even point toward future changes and experiments to conduct. But in terms of experiment success, product usage shouldn't be considered an invariant or evaluation metric.\n"
   ]
  },
  {
   "cell_type": "markdown",
   "metadata": {},
   "source": [
    "## Experiment Sizing\n",
    "Now that we have our main metrics selected: number of cookies as an invariant metric, and the download rate and license purchase rate (relative to the number of cookies) as evaluation metrics, we should take a look at the feasibility of the experiment in terms of the amount of time it will take to run. We can use historical data as a baseline to see what it might take to detect our desired levels of change.\n",
    "\n",
    "Recent history shows that there are about 3250 unique visitors per day, with slightly more visitors on Friday through Monday than the rest of the week. There are about 520 software downloads per day (a .16 rate) and about 65 licenses purchased each day (a .02 rate). In an ideal case, both the download rate and license purchase rate should increase with the new homepage; a statistically significant negative change should be a sign to not deploy the homepage change. However, if only one of our metrics shows a statistically significant positive change we should be happy enough to deploy the new homepage.\n",
    "\n",
    "Since we're willing to deploy the homepage with an increase in only one of our two metrics (download rate, license purchase rate), we need to apply the Bonferroni correction to avoid making too many false positives due to multiple testing."
   ]
  },
  {
   "cell_type": "code",
   "execution_count": 3,
   "metadata": {},
   "outputs": [
    {
     "name": "stdout",
     "output_type": "stream",
     "text": [
      "days: 6.0\n"
     ]
    }
   ],
   "source": [
    "# example of using statsmodels for sample size calculation\n",
    "import numpy as np\n",
    "from statsmodels.stats.power import NormalIndPower\n",
    "from statsmodels.stats.proportion import proportion_effectsize\n",
    "\n",
    "# leave out the \"nobs\" parameter to solve for it\n",
    "users_per_group = NormalIndPower().solve_power(effect_size = proportion_effectsize(.175, .16), \n",
    "                                               alpha = .025, \n",
    "                                               power = 0.8,\n",
    "                                               alternative = 'larger')\n",
    "users_per_day = 3250\n",
    "groups = 2\n",
    "\n",
    "print(f'days: {np.ceil(users_per_group/users_per_day * groups)}')"
   ]
  },
  {
   "cell_type": "markdown",
   "metadata": {},
   "source": [
    "## Validity, Bias, and Ethics Exercise Solution\n",
    "\n",
    "\n",
    "Before getting to the data and its analysis, let's review a few of the conceptual points that go into the creation of an experiment: validity, bias, and ethics.\n",
    "\n",
    "* We probably don't have too much to worry about in terms of **validity**. For conceptual validity, the evaluation metrics are directly aligned with the experimental goals; no abstraction is needed. Internal validity is maintained by performing an experiment with properly handled randomization and controls. We don't really need to answer to external validity since we're drawing from the full site population, and there's no other population we're looking to generalize to.\n",
    "\n",
    "* As for **biases**, we might think of novelty bias as being a potential issue. However, we don't expect users to come back to the homepage regularly. Downloading and license purchasing are actions we expect to only occur once per user, so there's no real 'return rate' to worry about. One possibility, however, is that if more people download the software under the new homepage, the expanded user base is qualitatively different from the people who came to the page under the original homepage. This might cause more homepage hits from people looking for the support pages on the site, causing the number of unique cookies under each condition to differ. If we do see something wrong or out of place in the invariant metric (number of cookies), then this might be an area to explore in further investigations.\n",
    "\n",
    "* Finally, for **ethical** issues, the changes to the homepage should be benign and present no risk to users. Our experiment objectives are also clearly stated. Considering the low risks of the experiment, informed consent is at worst a minor concern; a standard popup to let visitors know that cookies are used to track user experience on the site will likely suffice. The largest ethics principle we should be concerned about is data sensitivity. We shouldn't get any sensitive data out of the cookie assignment and collection, though some information will be collected from the user when they go to download the software. No sensitive data is required for the metrics we've laid out, so what we should do is just aggregate daily visits, downloads, and purchase counts without looking at any individual outcomes."
   ]
  },
  {
   "cell_type": "markdown",
   "metadata": {},
   "source": [
    "## Analyze Data\n",
    "Let's assume that the experiment was given the green light to go ahead, and data was collected for 29 days. As a reminder of the discussion on the experiment sizing, it was found that a three-week period was needed to collect enough visitors to achieve our desired power level. Eight additional days of the collection was added to allow visitors in the last week to complete their trials and come back to make a purchase – if you look at the data linked in the next paragraph, you will see that it takes about eight days before the license purchases reach its steady level.\n",
    "\n",
    "The collected data can be found [here](data/homepage-experiment-data.csv).\n",
    "\n",
    "The data file reports the daily counts for the number of unique cookies, number of downloads, and number of license purchases attributed to each group: the experimental group with the new homepage, or the control group with the old homepage. The number of license purchases only includes purchases by users who joined after the start of the experiment, so there will be some time before the counts reach their steady state. As noted earlier, we'll assume that the potentially muddying effects of visits across multiple days, established user visits, and 'lost' cookie tracking will be ignorable, at least unless we find a reason to doubt our findings."
   ]
  },
  {
   "cell_type": "code",
   "execution_count": 94,
   "metadata": {},
   "outputs": [],
   "source": [
    "import numpy as np\n",
    "import pandas as pd\n",
    "import scipy.stats as stats\n",
    "import seaborn as sns\n",
    "import matplotlib.pyplot as plt"
   ]
  },
  {
   "cell_type": "code",
   "execution_count": 95,
   "metadata": {},
   "outputs": [],
   "source": [
    "df = pd.read_csv('data/homepage-experiment-data.csv')"
   ]
  },
  {
   "cell_type": "code",
   "execution_count": 96,
   "metadata": {},
   "outputs": [
    {
     "data": {
      "text/html": [
       "<div>\n",
       "<style scoped>\n",
       "    .dataframe tbody tr th:only-of-type {\n",
       "        vertical-align: middle;\n",
       "    }\n",
       "\n",
       "    .dataframe tbody tr th {\n",
       "        vertical-align: top;\n",
       "    }\n",
       "\n",
       "    .dataframe thead th {\n",
       "        text-align: right;\n",
       "    }\n",
       "</style>\n",
       "<table border=\"1\" class=\"dataframe\">\n",
       "  <thead>\n",
       "    <tr style=\"text-align: right;\">\n",
       "      <th></th>\n",
       "      <th>Day</th>\n",
       "      <th>Control Cookies</th>\n",
       "      <th>Control Downloads</th>\n",
       "      <th>Control Licenses</th>\n",
       "      <th>Experiment Cookies</th>\n",
       "      <th>Experiment Downloads</th>\n",
       "      <th>Experiment Licenses</th>\n",
       "    </tr>\n",
       "  </thead>\n",
       "  <tbody>\n",
       "    <tr>\n",
       "      <th>24</th>\n",
       "      <td>25</td>\n",
       "      <td>1529</td>\n",
       "      <td>226</td>\n",
       "      <td>34</td>\n",
       "      <td>1609</td>\n",
       "      <td>284</td>\n",
       "      <td>29</td>\n",
       "    </tr>\n",
       "    <tr>\n",
       "      <th>25</th>\n",
       "      <td>26</td>\n",
       "      <td>1612</td>\n",
       "      <td>276</td>\n",
       "      <td>36</td>\n",
       "      <td>1574</td>\n",
       "      <td>295</td>\n",
       "      <td>38</td>\n",
       "    </tr>\n",
       "    <tr>\n",
       "      <th>26</th>\n",
       "      <td>27</td>\n",
       "      <td>1760</td>\n",
       "      <td>291</td>\n",
       "      <td>42</td>\n",
       "      <td>1666</td>\n",
       "      <td>297</td>\n",
       "      <td>28</td>\n",
       "    </tr>\n",
       "    <tr>\n",
       "      <th>27</th>\n",
       "      <td>28</td>\n",
       "      <td>1548</td>\n",
       "      <td>271</td>\n",
       "      <td>38</td>\n",
       "      <td>1587</td>\n",
       "      <td>314</td>\n",
       "      <td>37</td>\n",
       "    </tr>\n",
       "    <tr>\n",
       "      <th>28</th>\n",
       "      <td>29</td>\n",
       "      <td>1781</td>\n",
       "      <td>254</td>\n",
       "      <td>33</td>\n",
       "      <td>1728</td>\n",
       "      <td>290</td>\n",
       "      <td>41</td>\n",
       "    </tr>\n",
       "  </tbody>\n",
       "</table>\n",
       "</div>"
      ],
      "text/plain": [
       "    Day  Control Cookies  Control Downloads  Control Licenses  \\\n",
       "24   25             1529                226                34   \n",
       "25   26             1612                276                36   \n",
       "26   27             1760                291                42   \n",
       "27   28             1548                271                38   \n",
       "28   29             1781                254                33   \n",
       "\n",
       "    Experiment Cookies  Experiment Downloads  Experiment Licenses  \n",
       "24                1609                   284                   29  \n",
       "25                1574                   295                   38  \n",
       "26                1666                   297                   28  \n",
       "27                1587                   314                   37  \n",
       "28                1728                   290                   41  "
      ]
     },
     "execution_count": 96,
     "metadata": {},
     "output_type": "execute_result"
    }
   ],
   "source": [
    "df.tail()"
   ]
  },
  {
   "cell_type": "markdown",
   "metadata": {},
   "source": [
    "### Invariant Metric\n",
    "First, we should check our invariant metric, the number of cookies assigned to each group. If there is a statistically significant difference detected, then we shouldn't move on to the evaluation metrics right away. We'd need to first dig deeper to see if there was an issue with the group assignment procedure, or if there is something about the manipulation that affected the number of cookies observed before we feel secure about analyzing and interpreting the evaluation metrics."
   ]
  },
  {
   "cell_type": "code",
   "execution_count": 97,
   "metadata": {},
   "outputs": [],
   "source": [
    "ctr_mean = df['Control Cookies'].mean()\n",
    "ctr_std = df['Control Cookies'].std()\n",
    "exp_mean = df['Experiment Cookies'].mean()"
   ]
  },
  {
   "cell_type": "markdown",
   "metadata": {},
   "source": [
    "#### T-Test from the stats library"
   ]
  },
  {
   "cell_type": "code",
   "execution_count": 108,
   "metadata": {},
   "outputs": [
    {
     "data": {
      "text/plain": [
       "Ttest_indResult(statistic=-0.5667703149522242, pvalue=0.5731350217922668)"
      ]
     },
     "execution_count": 108,
     "metadata": {},
     "output_type": "execute_result"
    }
   ],
   "source": [
    "stats.ttest_ind(df['Control Cookies'],df['Experiment Cookies'], alternative='two-sided')"
   ]
  },
  {
   "cell_type": "markdown",
   "metadata": {},
   "source": [
    "#### T-Test self-implemented"
   ]
  },
  {
   "cell_type": "code",
   "execution_count": 109,
   "metadata": {},
   "outputs": [
    {
     "data": {
      "text/plain": [
       "0.5663863327525605"
      ]
     },
     "execution_count": 109,
     "metadata": {},
     "output_type": "execute_result"
    }
   ],
   "source": [
    "ctr_data = df['Control Cookies']\n",
    "exp_data = df['Experiment Cookies']\n",
    "s1 = np.std(ctr_data)\n",
    "s2 = np.std(exp_data)\n",
    "n1 = ctr_data.shape[0]\n",
    "n2 = exp_data.shape[0]\n",
    "x1=np.mean(ctr_data)\n",
    "x2=np.mean(exp_data)\n",
    "d=0\n",
    "\n",
    "SE = np.sqrt(s1**2/n1 + s2**2/n2)\n",
    "DF = (s1**2/n1 + s2**2/n2)**2 / (((s1**2/n1)**2/(n1-1)) + ((s2**2/n2)**2/(n2-1)))\n",
    "\n",
    "t = ((x1 - x2) - d)/SE\n",
    "\n",
    "stats.t.sf(abs(t), DF)*2\n"
   ]
  },
  {
   "cell_type": "markdown",
   "metadata": {},
   "source": [
    "#### Bootstrap simulation p-test"
   ]
  },
  {
   "cell_type": "code",
   "execution_count": 111,
   "metadata": {},
   "outputs": [
    {
     "name": "stdout",
     "output_type": "stream",
     "text": [
      "0.42714\n"
     ]
    },
    {
     "data": {
      "image/png": "[encoded data removed]",
      "text/plain": [
       "<Figure size 360x360 with 1 Axes>"
      ]
     },
     "metadata": {
      "needs_background": "light"
     },
     "output_type": "display_data"
    }
   ],
   "source": [
    "iter=100000\n",
    "sample_size=df.shape[0]\n",
    "ctr_var='Control Cookies'\n",
    "exp_var='Experiment Cookies'\n",
    "\n",
    "# crating bootstrap sampling\n",
    "ctr = []\n",
    "exp = []\n",
    "for i in range(iter):\n",
    "    df_sample = df.sample(sample_size, replace=True)\n",
    "    ctr_mean = df_sample[ctr_var].mean()\n",
    "    exp_mean = df_sample[exp_var].mean()\n",
    "    ctr.append(ctr_mean)\n",
    "    exp.append(exp_mean)\n",
    "\n",
    "null_vals = np.random.normal(np.mean(ctr), np.std(ctr), size=100000)   \n",
    "\n",
    "top_limit = np.mean(exp)\n",
    "bottom_limit = 2*np.mean(ctr) - top_limit\n",
    "\n",
    "sns.displot(null_vals)\n",
    "plt.axvline(x=top_limit, color='red')\n",
    "plt.axvline(x=bottom_limit, color='red')\n",
    "\n",
    "p_test = (ctr>top_limit)|(ctr<bottom_limit)\n",
    "\n",
    "print(p_test.mean())\n"
   ]
  },
  {
   "cell_type": "markdown",
   "metadata": {},
   "source": [
    "#### Two sided z-test (for proportions comparison)"
   ]
  },
  {
   "cell_type": "code",
   "execution_count": 144,
   "metadata": {},
   "outputs": [
    {
     "name": "stdout",
     "output_type": "stream",
     "text": [
      "Total number of observation:  94197\n",
      "Total number of control group:  46851\n",
      "Total number of experiment group:  47346\n",
      "z score:  -1.6095646049678511\n",
      "p value:  0.10749294050130412\n"
     ]
    }
   ],
   "source": [
    "n_control = df['Control Cookies'].sum()\n",
    "n_experiment = df['Experiment Cookies'].sum()\n",
    "n_obs = n_control + n_experiment\n",
    "\n",
    "print(\"Total number of observation: \", n_obs)\n",
    "print(\"Total number of control group: \", n_control)\n",
    "print(\"Total number of experiment group: \", n_experiment)\n",
    "\n",
    "# Compute a z-score and p-value\n",
    "p = 0.5\n",
    "sd = np.sqrt(p * (1-p) * n_obs)\n",
    "\n",
    "z = ((n_control + 0.5) - p * n_obs) / sd\n",
    "\n",
    "print(\"z score: \",z)\n",
    "print(\"p value: \", 2 * stats.norm.cdf(z))"
   ]
  },
  {
   "cell_type": "markdown",
   "metadata": {},
   "source": [
    "### Evaluation Metrics\n",
    "Assuming that the invariant metric passed inspection, we can move on to the evaluation metrics: download rate and license purchasing rate. For a refresher, the download rate is the total number of downloads divided by the number of cookies, and the license purchasing rate the number of licenses divided by the number of cookies.\n",
    "\n",
    "One tricky point to consider is that there is a seven or eight-day delay between when most people download the software and when they make a purchase. There's no direct way of attributing cookies all the way through license purchases due to the daily aggregation of results, so the best we can do is to make a justified argument for handling the data. To answer the question below about the license purchasing rate, you should only take the cookies observed through day 21 as the denominator of the ratio as being responsible for all of the license purchases observed. (A more informed model of license purchasing could come up with different handling of the data, such as including part of the day 22 cookies in the denominator.) (Note that we don't need to perform this kind of correction for the download rate, since the link between homepage visits and downloads is much closer.)"
   ]
  },
  {
   "cell_type": "code",
   "execution_count": 140,
   "metadata": {},
   "outputs": [],
   "source": [
    "df['Experiment Licenses_per_Cookies'] = df['Experiment Licenses'] / df['Experiment Cookies']\n",
    "df['Control Licenses_per_Cookies']    = df['Control Licenses'] / df['Control Cookies']\n",
    "\n",
    "df['Experiment Licenses_per_Downloads'] = df['Experiment Licenses'] / df['Experiment Downloads']\n",
    "df['Control Licenses_per_Downloads']    = df['Control Licenses'] / df['Control Downloads']"
   ]
  },
  {
   "cell_type": "markdown",
   "metadata": {},
   "source": [
    "#### T-Test from the stats library"
   ]
  },
  {
   "cell_type": "code",
   "execution_count": 133,
   "metadata": {},
   "outputs": [
    {
     "data": {
      "text/plain": [
       "Ttest_indResult(statistic=-0.16456042063941873, pvalue=0.5650587277568786)"
      ]
     },
     "execution_count": 133,
     "metadata": {},
     "output_type": "execute_result"
    }
   ],
   "source": [
    "stats.ttest_ind(df['Control Licenses_per_Cookies'],df['Experiment Licenses_per_Cookies'], alternative='greater')"
   ]
  },
  {
   "cell_type": "code",
   "execution_count": 141,
   "metadata": {},
   "outputs": [
    {
     "data": {
      "text/plain": [
       "Ttest_indResult(statistic=0.5756379745973179, pvalue=0.283582994395314)"
      ]
     },
     "execution_count": 141,
     "metadata": {},
     "output_type": "execute_result"
    }
   ],
   "source": [
    "stats.ttest_ind(df['Control Licenses_per_Downloads'],df['Experiment Licenses_per_Downloads'], alternative='greater')"
   ]
  },
  {
   "cell_type": "markdown",
   "metadata": {},
   "source": [
    "#### T-Test self-implemented"
   ]
  },
  {
   "cell_type": "code",
   "execution_count": 138,
   "metadata": {},
   "outputs": [
    {
     "data": {
      "text/plain": [
       "0.5661994715832985"
      ]
     },
     "execution_count": 138,
     "metadata": {},
     "output_type": "execute_result"
    }
   ],
   "source": [
    "ctr_data = df['Control Licenses_per_Cookies']\n",
    "exp_data = df['Experiment Licenses_per_Cookies']\n",
    "s1 = np.std(ctr_data)\n",
    "s2 = np.std(exp_data)\n",
    "n1 = ctr_data.shape[0]\n",
    "n2 = exp_data.shape[0]\n",
    "x1=np.mean(ctr_data)\n",
    "x2=np.mean(exp_data)\n",
    "d=0\n",
    "\n",
    "SE = np.sqrt(s1**2/n1 + s2**2/n2)\n",
    "DF = (s1**2/n1 + s2**2/n2)**2 / (((s1**2/n1)**2/(n1-1)) + ((s2**2/n2)**2/(n2-1)))\n",
    "\n",
    "t = ((x1 - x2) - d)/SE\n",
    "\n",
    "stats.t.sf(t, DF)"
   ]
  },
  {
   "cell_type": "code",
   "execution_count": 142,
   "metadata": {},
   "outputs": [
    {
     "data": {
      "text/plain": [
       "0.2801846605488296"
      ]
     },
     "execution_count": 142,
     "metadata": {},
     "output_type": "execute_result"
    }
   ],
   "source": [
    "ctr_data = df['Control Licenses_per_Downloads']\n",
    "exp_data = df['Experiment Licenses_per_Downloads']\n",
    "s1 = np.std(ctr_data)\n",
    "s2 = np.std(exp_data)\n",
    "n1 = ctr_data.shape[0]\n",
    "n2 = exp_data.shape[0]\n",
    "x1=np.mean(ctr_data)\n",
    "x2=np.mean(exp_data)\n",
    "d=0\n",
    "\n",
    "SE = np.sqrt(s1**2/n1 + s2**2/n2)\n",
    "DF = (s1**2/n1 + s2**2/n2)**2 / (((s1**2/n1)**2/(n1-1)) + ((s2**2/n2)**2/(n2-1)))\n",
    "\n",
    "t = ((x1 - x2) - d)/SE\n",
    "\n",
    "stats.t.sf(t, DF)"
   ]
  },
  {
   "cell_type": "markdown",
   "metadata": {},
   "source": [
    "#### Bootstrap simulation p-test"
   ]
  },
  {
   "cell_type": "code",
   "execution_count": 147,
   "metadata": {},
   "outputs": [
    {
     "name": "stdout",
     "output_type": "stream",
     "text": [
      "0.41896\n"
     ]
    },
    {
     "data": {
      "image/png": "[encoded data removed]",
      "text/plain": [
       "<Figure size 360x360 with 1 Axes>"
      ]
     },
     "metadata": {
      "needs_background": "light"
     },
     "output_type": "display_data"
    }
   ],
   "source": [
    "iter=100000\n",
    "sample_size=df.shape[0]\n",
    "ctr_var='Control Licenses_per_Cookies'\n",
    "exp_var='Experiment Licenses_per_Cookies'\n",
    "\n",
    "# crating bootstrap sampling\n",
    "ctr = []\n",
    "exp = []\n",
    "for i in range(iter):\n",
    "    df_sample = df.sample(sample_size, replace=True)\n",
    "    ctr_mean = df_sample[ctr_var].mean()\n",
    "    exp_mean = df_sample[exp_var].mean()\n",
    "    ctr.append(ctr_mean)\n",
    "    exp.append(exp_mean)\n",
    "\n",
    "null_vals = np.random.normal(np.mean(ctr), np.std(ctr), size=100000)   \n",
    "\n",
    "top_limit = np.mean(exp)\n",
    "bottom_limit = 2*np.mean(ctr) - top_limit\n",
    "\n",
    "sns.displot(null_vals)\n",
    "plt.axvline(x=top_limit, color='red')\n",
    "# plt.axvline(x=bottom_limit, color='red')\n",
    "\n",
    "p_test = (ctr>top_limit)\n",
    "\n",
    "print(p_test.mean())"
   ]
  },
  {
   "cell_type": "code",
   "execution_count": 157,
   "metadata": {},
   "outputs": [
    {
     "data": {
      "text/plain": [
       "-0.007694810812666841"
      ]
     },
     "execution_count": 157,
     "metadata": {},
     "output_type": "execute_result"
    }
   ],
   "source": [
    "np.mean(diffs)"
   ]
  },
  {
   "cell_type": "markdown",
   "metadata": {},
   "source": [
    "#### Two sided z-test (for proportions comparison)\n",
    "\n",
    "useful [link](https://stattrek.com/hypothesis-test/difference-in-proportions.aspx)"
   ]
  },
  {
   "cell_type": "code",
   "execution_count": 145,
   "metadata": {},
   "outputs": [
    {
     "name": "stdout",
     "output_type": "stream",
     "text": [
      "Number of observation in Control group:  46851\n",
      "p1 :  0.16123455209067042 \n",
      "\n",
      "Number of observation in Experiment group:  47346\n",
      "p2 :  0.180543234908968 \n",
      "\n",
      "z score:  7.870833726066236\n",
      "p value:  1.7763568394002505e-15\n"
     ]
    }
   ],
   "source": [
    "# number of observation in control group\n",
    "n_control = df['Control Cookies'].sum()\n",
    "print(\"Number of observation in Control group: \", n_control)\n",
    "\n",
    "# number of downloads in control group\n",
    "n_control_downloads = df['Control Downloads'].sum()\n",
    "# proportion of downloads in control group\n",
    "p_control_downloads = n_control_downloads / n_control\n",
    "print('p1 : ', p_control_downloads, \"\\n\")\n",
    "\n",
    "# number of observation in experiment group\n",
    "n_experiment = df['Experiment Cookies'].sum()\n",
    "print(\"Number of observation in Experiment group: \", n_experiment)\n",
    "\n",
    "# number of downloads in experiment group\n",
    "n_experiment_downloads = df['Experiment Downloads'].sum()\n",
    "# proportion of downloads in experiment group\n",
    "p_experiment_downloads = n_experiment_downloads / n_experiment\n",
    "print('p2 : ', p_experiment_downloads, \"\\n\")\n",
    "\n",
    "# p = p1 + p2\n",
    "p_total = (n_control_downloads + n_experiment_downloads) / (n_control + n_experiment)\n",
    "\n",
    "# Compute standard error \n",
    "se_p = np.sqrt(p_total * (1 - p_total) * (1 / n_control + 1 / n_experiment))\n",
    "\n",
    "# compute z score\n",
    "z = (p_experiment_downloads - p_control_downloads) / se_p\n",
    "\n",
    "print('z score: ', z)\n",
    "print('p value: ', 1 - stats.norm.cdf(z))"
   ]
  },
  {
   "cell_type": "code",
   "execution_count": 146,
   "metadata": {},
   "outputs": [
    {
     "name": "stdout",
     "output_type": "stream",
     "text": [
      "Number of observation in Control group:  33758\n",
      "p1 :  0.021032051661828307 \n",
      "\n",
      "Number of observation in Experiment group:  34338\n",
      "p2 :  0.021317490826489604 \n",
      "\n",
      "z score:  0.2586750111658684\n",
      "p value:  0.3979430008399871\n"
     ]
    }
   ],
   "source": [
    "# number of observation in control group (restricted for 21 days)\n",
    "n_control_21 = df.query('Day < 22')['Control Cookies'].sum()\n",
    "print(\"Number of observation in Control group: \", n_control_21)\n",
    "\n",
    "# number of purchases in control group\n",
    "n_control_licenses = df['Control Licenses'].sum()\n",
    "# proportion of purchases in control group\n",
    "p_control_licenses = n_control_licenses / n_control_21 \n",
    "print('p1 : ', p_control_licenses, \"\\n\")\n",
    "\n",
    "# number of observation in experiment group (restricted for 21 days)\n",
    "n_experiment_21 = df.query('Day < 22')['Experiment Cookies'].sum()\n",
    "print(\"Number of observation in Experiment group: \", n_experiment_21)\n",
    "\n",
    "# number of purchases in experiment group\n",
    "n_experiment_licenses = df['Experiment Licenses'].sum()\n",
    "# proportion of purchases in experiment group\n",
    "p_experiment_licenses = n_experiment_licenses / n_experiment_21\n",
    "print('p2 : ', p_experiment_licenses, \"\\n\")\n",
    "\n",
    "# p = p1 + p2\n",
    "p_total = (n_control_licenses + n_experiment_licenses) / (n_control_21 + n_experiment_21)\n",
    "\n",
    "# Compute standard error\n",
    "se_p = np.sqrt(p_total * (1 - p_total) * (1 / n_control_21 + 1 / n_experiment_21))\n",
    "\n",
    "# compute z score\n",
    "z = (p_experiment_licenses - p_control_licenses) / se_p\n",
    "\n",
    "print('z score: ', z)\n",
    "print('p value: ', 1 - stats.norm.cdf(z))"
   ]
  },
  {
   "cell_type": "markdown",
   "metadata": {},
   "source": [
    "## Draw Conclusions\n",
    "### Re: Analyze Data\n",
    "For the test of the invariant metric, the number of cookies, there were a larger number of cookies recorded in the experiment group, 47,346 vs. 46,851. This ends up generating a p-value of 0.107 (z = -1.61), which is within a reasonable range under the null hypothesis. Since we lack sufficient reason to reject the null, we can continue to evaluate the evaluation metrics. (Note that this doesn't mean that there wasn't something actually different about the cookie counts between groups, only that we couldn't detect it if such a difference existed.)\n",
    "\n",
    "For the first evaluation metric, download rate, there was an extremely convincing effect. An absolute increase from 0.1612 to 0.1805 results in a z-score of 7.87, well beyond any standard significance bound. However, the second evaluation metric, license purchasing rate, only shows a small increase from 0.0210 to 0.0213 (following the assumption that only the first 21 days of cookies account for all purchases). This results in a p-value of 0.398 (z = 0.26). \n",
    "\n",
    "Despite the fact that statistical significance wasn't obtained for the number of licenses purchased, the new homepage appeared to have a strong effect on the number of downloads made. Based on our goals, this seems enough to suggest replacing the old homepage with the new homepage. Establishing whether there was a significant increase in the number of license purchases, either through the rate or the increase in the number of homepage visits, will need to wait for further experiments or data collection.\n",
    "\n",
    "One inference we might like to make is that the new homepage attracted new users who would not normally try out the program, but that these new users didn't convert to purchases at the same rate as the existing user base. This is a nice story to tell, but we can't actually say that with the data as given. In order to make this inference, we would need more detailed information about individual visitors that isn't available. However, if the software did have the capability of reporting usage statistics, that might be a way of seeing if certain profiles are more likely to purchase a license. This might then open additional ideas for improving revenue."
   ]
  },
  {
   "cell_type": "markdown",
   "metadata": {},
   "source": []
  }
 ],
 "metadata": {
  "kernelspec": {
   "display_name": "Python 3.9.12 ('base')",
   "language": "python",
   "name": "python3"
  },
  "language_info": {
   "codemirror_mode": {
    "name": "ipython",
    "version": 3
   },
   "file_extension": ".py",
   "mimetype": "text/x-python",
   "name": "python",
   "nbconvert_exporter": "python",
   "pygments_lexer": "ipython3",
   "version": "3.9.12"
  },
  "orig_nbformat": 4,
  "vscode": {
   "interpreter": {
    "hash": "c55a5ca6a4c1f1ef62c1036c8fbd5c92f4c8bedcd7e16f2fbeae2f8c4a338b15"
   }
  }
 },
 "nbformat": 4,
 "nbformat_minor": 2
}
