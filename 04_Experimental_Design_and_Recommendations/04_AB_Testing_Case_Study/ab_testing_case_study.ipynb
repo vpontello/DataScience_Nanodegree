{
 "cells": [
  {
   "cell_type": "markdown",
   "metadata": {},
   "source": [
    "# AB Test Case Study\n",
    "\n",
    "### Applying what you have learned in a real Case Study\n",
    "In this lesson, you will be led through the design process including :\n",
    "\n",
    "* Building a funnel\n",
    "* Deciding on your metrics,\n",
    "* Thinking about the size and duration of your test\n",
    "* Analyzing your collected data with inferential statistics\n",
    "* Drawing conclusions about the experiment\n",
    "\n",
    "### Learning Objectives\n",
    "By the end of this lesson, you will be able to\n",
    "\n",
    "* Describe how A/B testing works and identify its limitations\n",
    "* Recognize and handle bias\n",
    "* Apply multiple comparison techniques\n",
    "* Analyze the results of an experiment\n",
    "\n",
    "## Scenario Description\n",
    "\n",
    "Let's say that you're working for a fictional productivity software company that is looking for ways to increase the number of people who pay for their software. The way that the software is currently set up, users can download and use the software free of charge, for a 7-day trial. After the end of the trial, users are required to pay for a license to continue using the software.\n",
    "\n",
    "One idea that the company wants to try is to change the layout of the homepage to emphasize more prominently and higher up on the page that there is a 7-day trial available for the company's software. The current fear is that some potential users are missing out on using the software because of a lack of awareness of the trial period. If more people download the software and use it in the trial period, the hope is that this entices more people to make a purchase after seeing what the software can do.\n"
   ]
  },
  {
   "cell_type": "markdown",
   "metadata": {},
   "source": [
    "## Building a Funnel\n",
    "Before we do anything else, the first thing we should do is specify the objective or goal of our study:\n",
    "\n",
    "> Revising the structure of the homepage will increase the number of people\n",
    "that download the software and, ultimately, the number of people that purchase\n",
    "a license.\n",
    "\n",
    "Now, we should think about the activities that a user will take on the site that are relevant to measuring our objective. This path or funnel will help us figure out how we will create experimental condition groups and which metrics we'll need to track to measure the experiment's effect. To help you construct the funnel, here's some information about the way the company's website is structured, and how the software induces users to purchase a license.\n",
    "\n",
    "The company's website has five main sections:\n",
    "\n",
    "1. the homepage;\n",
    "1. a section with additional information, gallery, and examples;\n",
    "2. a page for users to download the software;\n",
    "3. a page for users to purchase a license; and\n",
    "4. a support sub-site with documentation and FAQs for the software.\n",
    "\n",
    "For the software itself, the website requires that users create an account in order to download the software program. The program is usable freely for seven days after download. When the trial period is hit, the program will bring up a dialog box that takes the user to the license page. After purchasing a license, the user will receive a unique code associated with their site account. This code can then be used with the program to register it with that user, and the program can be used thereafter without issue.\n",
    "\n",
    "## Building a Funnel Solution\n",
    "\n",
    "> What steps do you expect typical visitors to take from their initial visit to the webpage through purchasing a license for continued use of the program? Are there any 'typical' steps that certain visitors might not take?\n",
    "\n",
    "A straightforward flow might include the following steps:\n",
    "\n",
    "* Visit homepage\n",
    "* Visit download page\n",
    "* Sign up for an account\n",
    "* Download software\n",
    "* After the 7-day trial, the software takes the user to a license-purchase page\n",
    "* Purchase license\n",
    "\n",
    "Note that it is possible for the visitor to drop from the flow after each step, forming a funnel. There might be additional steps that a user might take between visiting the homepage and visiting the download page that isn't accounted for in the above flow. For example, someone might want to check out the additional informational pages before visiting the download page, or even visit the license purchase page to check the license price before even deciding to download. Considering the amount of browsing that a visitor could perform on the page, it might be simplest just to track whether or not a user gets to the download page at some point, without worrying about the many paths that they could have taken to get there.\n",
    "\n",
    "\n",
    "> Consider the webpage as a whole. What kinds of events might occur outside of the expected flow for the experiment that might interfere with measuring the effects of our manipulation?\n",
    "\n",
    "There are a few events in the expected flow that might not correspond with the visitors we want to target. For example, there might be users on the homepage who aren't new users. Users who already have a license might just be visiting the homepage as a way to access the support sub-site. A user who wants to buy a license might also come into the license page through the homepage, rather than directly from the software.\n",
    "\n",
    "When it comes to license purchasing, it's possible that users don't come back after exactly seven days. Some users might come back early and make their purchase during their trial period. Alternatively, a user might end up taking more than seven days to decide to make their purchase, coming back days after the end of the trial. Anticipating scenarios like this can be useful for planning the design, and coming up with metrics that come as close as possible to measuring desired effects.\n",
    "\n",
    "\n"
   ]
  },
  {
   "cell_type": "markdown",
   "metadata": {},
   "source": []
  }
 ],
 "metadata": {
  "language_info": {
   "name": "python"
  },
  "orig_nbformat": 4
 },
 "nbformat": 4,
 "nbformat_minor": 2
}
