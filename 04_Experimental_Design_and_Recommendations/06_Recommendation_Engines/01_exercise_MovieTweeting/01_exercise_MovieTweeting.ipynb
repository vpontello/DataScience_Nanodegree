{
 "cells": [
  {
   "cell_type": "markdown",
   "metadata": {},
   "source": [
    "### Recommendations with MovieTweetings: Getting to Know The Data\n",
    "\n",
    "Throughout this lesson, you will be working with the [MovieTweetings Data](https://github.com/sidooms/MovieTweetings/tree/master/recsyschallenge2014).  To get started, you can read more about this project and the dataset from the [publication here](http://crowdrec2013.noahlab.com.hk/papers/crowdrec2013_Dooms.pdf).\n",
    "\n",
    "**Note:** There are solutions to each of the notebooks available by hitting the orange jupyter logo in the top left of this notebook.  Additionally, you can watch me work through the solutions on the screencasts that follow each workbook. \n",
    "\n",
    "To get started, read in the libraries and the two datasets you will be using throughout the lesson using the code below."
   ]
  },
  {
   "cell_type": "code",
   "execution_count": null,
   "metadata": {},
   "outputs": [],
   "source": [
    "import numpy as np\n",
    "import pandas as pd\n",
    "import matplotlib.pyplot as plt\n",
    "import tests as t\n",
    "\n",
    "%matplotlib inline\n",
    "\n",
    "# Read in the datasets\n",
    "movies = pd.read_csv('original_movies.dat',\n",
    "                     delimiter='::',\n",
    "                     header=None,\n",
    "                     names=['movie_id', 'movie', 'genre'],\n",
    "                     dtype={'movie_id': object}, engine='python')\n",
    "\n",
    "reviews = pd.read_csv('original_ratings.dat',\n",
    "                      delimiter='::',\n",
    "                      header=None,\n",
    "                      names=['user_id', 'movie_id', 'rating', 'timestamp'],\n",
    "                      dtype={'movie_id': object, 'user_id': object, 'timestamp': object},\n",
    "                      engine='python')\n",
    "\n",
    "# Reduce the size reviews dataset\n",
    "reviews = reviews.loc[:100000,:]"
   ]
  },
  {
   "cell_type": "markdown",
   "metadata": {},
   "source": [
    "#### 1. Take a Look At The Data \n",
    "\n",
    "Take a look at the data and use your findings to fill in the dictionary below with the correct responses to show your understanding of the data."
   ]
  },
  {
   "cell_type": "code",
   "execution_count": 1,
   "metadata": {},
   "outputs": [],
   "source": [
    "# Use this cell to find the following information:\n",
    "# number of movies\n",
    "# number of ratings\n",
    "# number of different genres\n",
    "# number of unique users\n",
    "# number of missing ratings\n",
    "# the `average`, `min`, and `max` ratings given"
   ]
  },
  {
   "cell_type": "code",
   "execution_count": null,
   "metadata": {},
   "outputs": [],
   "source": [
    "# You can click `+` button on the navbar to add cells for additional work"
   ]
  },
  {
   "cell_type": "code",
   "execution_count": null,
   "metadata": {},
   "outputs": [],
   "source": [
    "# Use your findings to match each variable to the correct statement in the dictionary\n",
    "a = 8022\n",
    "b = 10\n",
    "c = 7\n",
    "d = 35479\n",
    "e = 15\n",
    "f = 0\n",
    "g = 4\n",
    "h = 100001\n",
    "i = 28\n",
    "\n",
    "# Guide: replace \"ENTER YOUR ANSWER HERE\" with the matching letter above.\n",
    "# For example, 'The number of movies in the dataset': d,\n",
    "\n",
    "dict_sol1 = {\n",
    "'The number of movies in the dataset': \"ENTER YOUR ANSWER HERE\", \n",
    "'The number of ratings in the dataset': \"ENTER YOUR ANSWER HERE\",\n",
    "'The number of different genres': \"ENTER YOUR ANSWER HERE\", \n",
    "'The number of unique users in the dataset': \"ENTER YOUR ANSWER HERE\", \n",
    "'The number missing ratings in the reviews dataset': \"ENTER YOUR ANSWER HERE\", \n",
    "'The average rating given across all ratings': \"ENTER YOUR ANSWER HERE\",\n",
    "'The minimum rating given across all ratings': \"ENTER YOUR ANSWER HERE\",\n",
    "'The maximum rating given across all ratings': \"ENTER YOUR ANSWER HERE\"\n",
    "}\n",
    "\n",
    "# Check your solution\n",
    "t.q1_check(dict_sol1)"
   ]
  },
  {
   "cell_type": "markdown",
   "metadata": {},
   "source": [
    "#### 2. Data Cleaning\n",
    "\n",
    "Next, we need to pull some additional relevant information out of the existing columns. \n",
    "\n",
    "For each of the datasets, there are a couple of cleaning steps we need to take care of:\n",
    "\n",
    "#### Movies\n",
    "* Pull the date from the title and create new column\n",
    "* Dummy the date column with 1's and 0's for each century of a movie (1800's, 1900's, and 2000's)\n",
    "* Dummy column the genre with 1's and 0's for each genre\n",
    "\n",
    "#### Reviews\n",
    "* Create a date out of time stamp\n",
    "\n",
    "You can check your results against the header of my solution by running the cell below with the **show_clean_dataframes** function."
   ]
  },
  {
   "cell_type": "code",
   "execution_count": null,
   "metadata": {},
   "outputs": [],
   "source": [
    "# Cell for work"
   ]
  },
  {
   "cell_type": "code",
   "execution_count": null,
   "metadata": {},
   "outputs": [],
   "source": [
    "# Click `+` button on the nav menu to add more cells for work"
   ]
  },
  {
   "cell_type": "code",
   "execution_count": null,
   "metadata": {},
   "outputs": [],
   "source": [
    "reviews_new, movies_new = t.show_clean_dataframes()"
   ]
  }
 ],
 "metadata": {
  "kernelspec": {
   "display_name": "Python 3.9.12 ('base')",
   "language": "python",
   "name": "python3"
  },
  "language_info": {
   "codemirror_mode": {
    "name": "ipython",
    "version": 3
   },
   "file_extension": ".py",
   "mimetype": "text/x-python",
   "name": "python",
   "nbconvert_exporter": "python",
   "pygments_lexer": "ipython3",
   "version": "3.9.12"
  },
  "orig_nbformat": 4,
  "vscode": {
   "interpreter": {
    "hash": "c55a5ca6a4c1f1ef62c1036c8fbd5c92f4c8bedcd7e16f2fbeae2f8c4a338b15"
   }
  }
 },
 "nbformat": 4,
 "nbformat_minor": 2
}
