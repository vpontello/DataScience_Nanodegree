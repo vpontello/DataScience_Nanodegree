{
 "cells": [
  {
   "cell_type": "markdown",
   "metadata": {},
   "source": [
    "# Recommendation Engines\n",
    "\n",
    "## Types of Recommendation Systems\n",
    "\n",
    "There are three methods that you have now implemented for making recommendations. These are the three most recognized methods in the industry:\n",
    "\n",
    "1. **Knowledge-Based Recommendations**\n",
    "\n",
    "Knowledge-based recommendations frequently are implemented using filters and are extremely common amongst luxury-based goods. Filters that you might see when purchasing items like cars or homes are examples of knowledge-based recommendations. In knowledge-based recommendations, users provide information about the types of recommendations they would like back.\n",
    "\n",
    "2. **Collaborative Filtering Based Recommendations**\n",
    "\n",
    "Collaborative filtering uses the connections between users and items to make recommendations. Even the content-based recommendation you just implemented used some collaborative filtering techniques, as you were not treating items and users independently from one another. In this lesson, you used neighborhood-based collaborative filtering to find users who were alike and then recommend new movies based on these similar users.\n",
    "\n",
    "Even in the content-based recommendation, you were using collaborative filtering. You were finding items that were similar and making recommendations of new items based on the highest ratings of a user. Because you were still using the user ratings of an item, this was an example of a blend between content and collaborative filtering-based techniques.\n",
    "\n",
    "3. **Content-Based Recommendations**\n",
    "\n",
    "In the previous notebook, you created a matrix of similarities between items (movies) based only on the content related to those movies (year and genre). The similarity matrix that was used, was completely created using only the items (movies). There was no information used about the users. For any movie, you would be able to determine the most related additional movies based only on the genre and the year of the movie. This is the premise of how a completely content-based recommendation would be made.\n",
    "\n",
    "Often blended techniques of all three types are used in practice to provide the best recommendation for a particular circumstance.\n",
    "\n"
   ]
  },
  {
   "cell_type": "markdown",
   "metadata": {},
   "source": [
    "### Movie Tweetings\n",
    "We'll be working with the MovieTweetings data, a movie rating dataset collected by Simon Dooms using Twitter. You'll learn standard techniques for creating recommendations as you work with this data. As you build each recommendation, think about the pros and cons and how you might improve them.\n",
    "\n",
    "If you would like additional information about the MovieTweetings data, you can find more information at the links provided here:\n",
    "\n",
    "* [A Github account set up for MovieTweetings](https://github.com/sidooms/MovieTweetings): MovieTweetings is a dataset consisting of ratings on movies contained in well-structured tweets on Twitter.\n",
    "* [A slide deck by Simon Doom about MovieTweetings](https://www.slideshare.net/simondooms/movie-tweetings-a-movie-rating-dataset-collected-from-twitter).Slides about the MovieTweetings dataset presented at the RecSys 2013 conference on October 12 in Hong Kong by Simon Dooms.\n",
    "\n",
    "*Notes: due to the large size of the original datasets relative to the memory, we will use reduced datasets in Jupyter Notebook exercises within the \"Introduction to Recommendation Engines\" and \"Matrix Factorization for Recommendations\" lessons.*"
   ]
  },
  {
   "cell_type": "markdown",
   "metadata": {},
   "source": [
    "## Ways to Recommend: Knowledge Based\n",
    "\n",
    "A knowledge-based recommendation is one in which knowledge about the item or user preferences is used to make a recommendation.\n",
    "\n",
    "Knowledge-based recommendations are pretty common when purchasing luxury items. Take a look at the filters available on Zillow in the image below. This is an example of building in a knowledge-based recommendation, as users can add their own preferences to the items that are provided.\n",
    "\n",
    "![01](images/01.png)\n",
    "\n",
    "Often a rank-based algorithm is provided along with knowledge-based recommendations to bring the most popular items in particular categories to the user's attention.\n",
    "\n",
    "In the next concept, you will get some practice implementing this type of recommendation for the MovieTweetings dataset."
   ]
  },
  {
   "cell_type": "markdown",
   "metadata": {},
   "source": [
    "## Ways to Recommend: Knowledge Based\n",
    "\n",
    "A knowledge-based recommendation is one in which knowledge about the item or user preferences is used to make a recommendation.\n",
    "\n",
    "Knowledge-based recommendations are pretty common when purchasing luxury items. Take a look at the filters available on Zillow in the image below. This is an example of building in a knowledge-based recommendation, as users can add their own preferences to the items that are provided.\n",
    "\n",
    "![01](images/01.png)\n",
    "\n",
    "Often a rank-based algorithm is provided along with knowledge-based recommendations to bring the most popular items in particular categories to the user's attention.\n",
    "\n",
    "In the next concept, you will get some practice implementing this type of recommendation for the MovieTweetings dataset."
   ]
  },
  {
   "cell_type": "markdown",
   "metadata": {},
   "source": [
    "## More Personalized Recommendations\n",
    "\n",
    "In some cases, we need to be able to send recommendations without a user telling us exactly what they want or in a more personalized way than simply the top items. Imagine you want to send an email of recommendations or place recommendations within a web page (the side of a blog or as a banner advertisement); in these cases, it is often useful to implement information that we know about users or items to make these recommendations. This leads to some additional recommendation methods!\n",
    "\n",
    "## Ways to Recommend: Collaborative Filtering\n",
    "Using this strategy, users who have things in common, such as watching the same movies, can be \"cross-referenced\". Technically speaking, this is a method of making recommendations based on the collaboration of user-item interactions.\n",
    "\n",
    "### Collaborative Filtering and Content-Based Recommendations\n",
    "**Collaborative filtering** is a method of making recommendations based only on the interactions between users and items.\n",
    "\n",
    "Alternatively, **content-based recommendations** are when we use information about the users or items to assist in our recommendations.\n",
    "\n",
    "> When a user is inputting her/his information (location input), this is an example of knowledge-based recommending. When we use connections between users and items (connecting Mike and Pradeep as similar), this is an example of collaborative filtering. When we use information about the items or users to recommend new items (items related to robotics), this is an example of content-based recommending.\n",
    "\n",
    "## Measuring Similarity\n",
    "\n",
    "There are two main ways to implement collaborative filtering:\n",
    "\n",
    "1. Model-Based Collaborative Filtering\n",
    "2. Neighborhood Based Collaborative Filtering\n",
    "\n",
    "In this lesson, we will cover Neighborhood Based Collaborative Filtering, which is used to identify items or users that are \"neighbors\" with one another.\n",
    "\n",
    "There are a number of ways we might go about finding an individual's closest neighbors - the metrics we will take a closer look at include:\n",
    "\n",
    "Similarity\n",
    "1. Pearson's correlation coefficient\n",
    "2. Spearman's correlation coefficient\n",
    "3. Kendall's Tau\n",
    "\n",
    "Distance\n",
    "1. Euclidean Distance\n",
    "2. Manhattan Distance\n",
    "3. Cosine Distance\n",
    "\n",
    "![02](images/02.PNG)\n",
    "\n",
    "## Identifying Recommendations\n",
    "\n",
    "Finalizing our neighborhood-based recommendations, we need to use the ratings from our neighbors to influence the ratings we provide to other users.\n",
    "\n",
    "There are a few ways to do this, but a simple method would be to:\n",
    "\n",
    "1. Remove movies our user has already seen.\n",
    "2. Find ratings of the neighbors that are high.\n",
    "3. Recommend movies to each user where both 1 and 2 above hold.\n",
    "\n",
    "Other methods for making recommendations using collaborative filtering are based on a weighting of the neighbors' ratings based on the 'closeness' of the neighbors.\n",
    "\n",
    "You can use each of the following two papers to learn more about this technique:\n",
    "\n",
    "1. [Domino Data Lab Paper](https://blog.dominodatalab.com/recommender-systems-collaborative-filtering/)\n",
    "    1. This online technical post, \"Recommender Systems through Collaborative Filtering\" is a technical deep dive into the collaborative filtering algorithm and how to use it in practice.\n",
    "2. [Semantic Scholar Paper On Weighted Ratings](https://pdfs.semanticscholar.org/3e9e/bcd9503ef7375c7bb334511804d1e45127e9.pdf)\n",
    "    1. This paper, \"Item Weighting Techniques for Collaborative Filtering\", introduces an item filtering approach that is based on item weighting and discards the user-to-user similarity computation of the items with the smallest weights.\n",
    "\n",
    "In the next notebook, you will implement the three-step process above to make recommendations for every user in the dataset. For computational reasons, you will notice that iterating this approach through all users has been done for you. But you will go through the process of implementing for individual pairs of users, which could easily be extended via looping to all users."
   ]
  },
  {
   "cell_type": "markdown",
   "metadata": {},
   "source": []
  }
 ],
 "metadata": {
  "kernelspec": {
   "display_name": "Python 3.9.12 ('base')",
   "language": "python",
   "name": "python3"
  },
  "language_info": {
   "name": "python",
   "version": "3.9.12"
  },
  "orig_nbformat": 4,
  "vscode": {
   "interpreter": {
    "hash": "c55a5ca6a4c1f1ef62c1036c8fbd5c92f4c8bedcd7e16f2fbeae2f8c4a338b15"
   }
  }
 },
 "nbformat": 4,
 "nbformat_minor": 2
}
